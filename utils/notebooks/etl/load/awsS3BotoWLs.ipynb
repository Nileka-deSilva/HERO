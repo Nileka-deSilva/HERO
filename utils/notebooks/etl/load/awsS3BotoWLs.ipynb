{
 "cells": [
  {
   "cell_type": "code",
   "execution_count": null,
   "id": "31e76165",
   "metadata": {},
   "outputs": [],
   "source": [
    "'''\n",
    "    WARNING CONTROL to display or ignore all warnings\n",
    "'''\n",
    "import warnings; warnings.simplefilter('ignore')     #switch betweeb 'default' and 'ignore'\n",
    "import traceback\n",
    "\n",
    "''' Set debug flag to view extended error messages; else set it to False to turn off debugging mode '''\n",
    "debug = True"
   ]
  },
  {
   "cell_type": "code",
   "execution_count": 1,
   "id": "99e9c766",
   "metadata": {},
   "outputs": [],
   "source": [
    "import boto3\n",
    "\n",
    "__bucket_name__ = \n",
    "\n",
    "s3_resource = boto3.resource('s3')\n",
    "_bucket = s3_resource.Bucket(name=__bucket_name__)\n",
    "first_object = s3_resource.Object(\n",
    "    bucket_name=first_bucket_name, key=first_file_name)"
   ]
  },
  {
   "cell_type": "code",
   "execution_count": null,
   "id": "175a976c",
   "metadata": {},
   "outputs": [],
   "source": []
  }
 ],
 "metadata": {
  "kernelspec": {
   "display_name": "Python 3 (ipykernel)",
   "language": "python",
   "name": "python3"
  },
  "language_info": {
   "codemirror_mode": {
    "name": "ipython",
    "version": 3
   },
   "file_extension": ".py",
   "mimetype": "text/x-python",
   "name": "python",
   "nbconvert_exporter": "python",
   "pygments_lexer": "ipython3",
   "version": "3.8.10"
  }
 },
 "nbformat": 4,
 "nbformat_minor": 5
}
