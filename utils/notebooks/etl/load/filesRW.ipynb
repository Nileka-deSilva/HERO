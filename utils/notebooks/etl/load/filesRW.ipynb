{
 "cells": [
  {
   "cell_type": "markdown",
   "id": "e182df41",
   "metadata": {},
   "source": [
    "# FilesRW Tester\n",
    "\n",
    "Test the DataIO controller that serves as wrapper to read and write data from and to a particular file system."
   ]
  },
  {
   "cell_type": "code",
   "execution_count": 2,
   "id": "94df7c2e",
   "metadata": {},
   "outputs": [],
   "source": [
    "'''\n",
    "    WARNING CONTROL to display or ignore all warnings\n",
    "'''\n",
    "import warnings; warnings.simplefilter('ignore')     #switch betweeb 'default' and 'ignore'\n",
    "import traceback\n",
    "\n",
    "''' Set debug flag to view extended error messages; else set it to False to turn off debugging mode '''\n",
    "debug = True\n"
   ]
  },
  {
   "cell_type": "code",
   "execution_count": 86,
   "id": "ca0a12c3",
   "metadata": {},
   "outputs": [
    {
     "name": "stdout",
     "output_type": "stream",
     "text": [
      "All python packages in rezaware loaded successfully!\n",
      "All etl-module load-packages in function-dataio imported successfully!\n",
      "\n",
      "read and write files from and to a particular source class initialization and load complete!\n"
     ]
    }
   ],
   "source": [
    "import os\n",
    "import sys\n",
    "\n",
    "sys.path.insert(1,\"/home/nuwan/workspace/rezaware/\")\n",
    "import rezaware as reza\n",
    "from utils.modules.etl.load import filesRW as rw\n",
    "\n",
    "''' restart initiate classes '''\n",
    "if debug:\n",
    "    import importlib\n",
    "    reza = importlib.reload(reza)\n",
    "    rw = importlib.reload(rw)\n",
    "\n",
    "__desc__ = \"read and write files from and to a particular source\"\n",
    "''' optional - if not specified class will use the default values '''\n",
    "prop_kwargs = {\"WRITE_TO_FILE\":False,   # necessary to emulate the etl dag\n",
    "               \"DATA_STORE\":\"LOCAL\",   # values = aws-s3, local\n",
    "              }\n",
    "# clsSparkWL = spark.SparkWorkLoads(desc=__desc__, **prop_kwargs)\n",
    "clsRW = rw.FileWorkLoads(desc=__desc__, **prop_kwargs)\n",
    "print(\"\\n%s class initialization and load complete!\" % __desc__)"
   ]
  },
  {
   "cell_type": "code",
   "execution_count": 87,
   "id": "f0726aa6",
   "metadata": {},
   "outputs": [
    {
     "name": "stdout",
     "output_type": "stream",
     "text": [
      "mode = aws-s3-bucket\n"
     ]
    }
   ],
   "source": [
    "clsRW.mode = \"AWS-S3-BUCKET\"\n",
    "_mode = clsRW.mode\n",
    "print(\"mode =\",_mode)"
   ]
  },
  {
   "cell_type": "code",
   "execution_count": 88,
   "id": "170c8d29",
   "metadata": {},
   "outputs": [
    {
     "name": "stdout",
     "output_type": "stream",
     "text": [
      "<class 'boto3.resources.collection.s3.Bucket.objectsCollection'>\n",
      "data_root = rezaware-wrangler-source-code\n"
     ]
    }
   ],
   "source": [
    "clsRW.data_root = \"rezaware-wrangler-source-code\"\n",
    "_data_root = clsRW.data_root\n",
    "print(\"data_root =\",_data_root)"
   ]
  },
  {
   "cell_type": "code",
   "execution_count": null,
   "id": "65853056",
   "metadata": {},
   "outputs": [],
   "source": []
  }
 ],
 "metadata": {
  "kernelspec": {
   "display_name": "Python 3 (ipykernel)",
   "language": "python",
   "name": "python3"
  },
  "language_info": {
   "codemirror_mode": {
    "name": "ipython",
    "version": 3
   },
   "file_extension": ".py",
   "mimetype": "text/x-python",
   "name": "python",
   "nbconvert_exporter": "python",
   "pygments_lexer": "ipython3",
   "version": "3.8.10"
  }
 },
 "nbformat": 4,
 "nbformat_minor": 5
}
