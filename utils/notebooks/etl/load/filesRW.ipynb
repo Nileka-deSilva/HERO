{
 "cells": [
  {
   "cell_type": "markdown",
   "id": "e182df41",
   "metadata": {},
   "source": [
    "# FilesRW Tester\n",
    "\n",
    "Test the DataIO controller that serves as wrapper to read and write data from and to a particular file system."
   ]
  },
  {
   "cell_type": "code",
   "execution_count": 1,
   "id": "94df7c2e",
   "metadata": {},
   "outputs": [],
   "source": [
    "'''\n",
    "    WARNING CONTROL to display or ignore all warnings\n",
    "'''\n",
    "import warnings; warnings.simplefilter('ignore')     #switch betweeb 'default' and 'ignore'\n",
    "import traceback\n",
    "\n",
    "''' Set debug flag to view extended error messages; else set it to False to turn off debugging mode '''\n",
    "debug = True\n"
   ]
  },
  {
   "cell_type": "code",
   "execution_count": 42,
   "id": "ca0a12c3",
   "metadata": {},
   "outputs": [
    {
     "name": "stdout",
     "output_type": "stream",
     "text": [
      "All python packages in rezaware loaded successfully!\n",
      "All etl-module load-packages in function-dataio imported successfully!\n",
      "All scraper in ota software packages loaded successfully!\n",
      "\n",
      "read and write files from and to a particular source class initialization and load complete!\n"
     ]
    }
   ],
   "source": [
    "import os\n",
    "import sys\n",
    "\n",
    "sys.path.insert(1,\"/home/nuwan/workspace/rezaware/\")\n",
    "import rezaware as reza\n",
    "from utils.modules.etl.load import filesRW as rw\n",
    "from wrangler.modules.ota.scraper import scraperUtils as otaus\n",
    "\n",
    "''' restart initiate classes '''\n",
    "if debug:\n",
    "    import importlib\n",
    "    reza = importlib.reload(reza)\n",
    "    rw = importlib.reload(rw)\n",
    "    otaus = importlib.reload(otaus)\n",
    "\n",
    "__desc__ = \"read and write files from and to a particular source\"\n",
    "''' optional - if not specified class will use the default values '''\n",
    "prop_kwargs = {\"WRITE_TO_FILE\":False,   # necessary to emulate the etl dag\n",
    "               \"DATA_STORE\":\"LOCAL\",   # values = aws-s3, local\n",
    "              }\n",
    "# clsSparkWL = spark.SparkWorkLoads(desc=__desc__, **prop_kwargs)\n",
    "clsRW = rw.FileWorkLoads(desc=__desc__, **prop_kwargs)\n",
    "print(\"\\n%s class initialization and load complete!\" % __desc__)"
   ]
  },
  {
   "cell_type": "code",
   "execution_count": 43,
   "id": "f0726aa6",
   "metadata": {},
   "outputs": [
    {
     "name": "stdout",
     "output_type": "stream",
     "text": [
      "mode = aws-s3-bucket\n"
     ]
    }
   ],
   "source": [
    "clsRW.mode = \"AWS-S3-BUCKET\"\n",
    "_mode = clsRW.mode\n",
    "print(\"mode =\",_mode)"
   ]
  },
  {
   "cell_type": "code",
   "execution_count": 44,
   "id": "170c8d29",
   "metadata": {},
   "outputs": [
    {
     "name": "stdout",
     "output_type": "stream",
     "text": [
      "data_root = rezaware-wrangler-source-code\n"
     ]
    }
   ],
   "source": [
    "clsRW.data_root = \"rezaware-wrangler-source-code\"\n",
    "_data_root = clsRW.data_root\n",
    "print(\"data_root =\",_data_root)"
   ]
  },
  {
   "cell_type": "code",
   "execution_count": 45,
   "id": "65853056",
   "metadata": {},
   "outputs": [
    {
     "name": "stdout",
     "output_type": "stream",
     "text": [
      "{'booking.com': [{'url': 'https://www.booking.com/searchresults.en-gb.html?ss=Las+Vegas&label=gen173nr-1DCAEoggI46AdIM1gEaIUBiAEBmAEJuAEXyAEM2AED6AEBiAIBqAIDuAK_g7aYBsACAdICJDFiNWFiNzM3LTQ0YmItNDIzOC04NDM0LWRjMDFlNmZhYTUwM9gCBOACAQ&sid=36e124997ccdbec4823b6c98d5931c2e&aid=304142&lang=en-gb&sb=1&src_elem=sb&src=searchresults&dest_id={destinationID}&dest_type=city&checkin={checkIn}&checkout={checkOut}&group_adults=1&no_rooms=1&group_children=0&selected_currency=USD&offset={page}', 'inputs': ['page', 'checkIn', 'checkOut', 'destinationID'], 'locations': 'cityCodesBookingCom.csv', 'outputs': [{'variable': 'content_block', 'tag': 'div', 'code': '.d20f4628d0'}, {'variable': 'property_name', 'tag': 'span', 'code': 'fcab3ed991 a23c043802'}, {'variable': 'room_type', 'tag': 'span', 'code': 'df597226dd'}, {'variable': 'room_rate', 'tag': 'div', 'code': 'fcab3ed991 bd73d13072'}, {'variable': 'review_score', 'tag': 'div', 'code': 'b5cd09854e d10a6220b4'}, {'variable': 'location', 'tag': 'div', 'code': 'a1fbd102d9'}, {'variable': 'Other', 'tag': 'div', 'code': 'd22a7c133b'}]}]}\n"
     ]
    }
   ],
   "source": [
    "# __folder_path__ = \"wrangler/data/ota/scraper/hospitality/bookings/\"\n",
    "__folder_path__ = \"wrangler/data/hospitality/bookings/scraper/\"\n",
    "__file_name__ = \"otaInputURLs.json\"\n",
    "__file_types__ = []\n",
    "folder_content = clsRW.read_json_into_dict(\n",
    "    __folder_path__,\n",
    "    __file_name__,\n",
    "    __file_types__\n",
    ")\n",
    "print(folder_content)"
   ]
  },
  {
   "cell_type": "code",
   "execution_count": null,
   "id": "229f7421",
   "metadata": {},
   "outputs": [],
   "source": []
  }
 ],
 "metadata": {
  "kernelspec": {
   "display_name": "Python 3 (ipykernel)",
   "language": "python",
   "name": "python3"
  },
  "language_info": {
   "codemirror_mode": {
    "name": "ipython",
    "version": 3
   },
   "file_extension": ".py",
   "mimetype": "text/x-python",
   "name": "python",
   "nbconvert_exporter": "python",
   "pygments_lexer": "ipython3",
   "version": "3.8.10"
  }
 },
 "nbformat": 4,
 "nbformat_minor": 5
}
