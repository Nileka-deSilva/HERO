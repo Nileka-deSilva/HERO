{
 "cells": [
  {
   "cell_type": "markdown",
   "id": "149b7738",
   "metadata": {},
   "source": [
    "# Read n Clean MCap with pyspark"
   ]
  },
  {
   "cell_type": "code",
   "execution_count": 1,
   "id": "115dba92",
   "metadata": {},
   "outputs": [],
   "source": [
    "'''\n",
    "    WARNING CONTROL to display or ignore all warnings\n",
    "'''\n",
    "import warnings; warnings.simplefilter('ignore')     #switch betweeb 'default' and 'ignore'\n",
    "import traceback\n",
    "\n",
    "''' Set debug flag to view extended error messages; else set it to False to turn off debugging mode '''\n",
    "debug = True"
   ]
  },
  {
   "cell_type": "code",
   "execution_count": 209,
   "id": "46d5864c",
   "metadata": {},
   "outputs": [
    {
     "name": "stderr",
     "output_type": "stream",
     "text": [
      "INFO:transform:########################################################\n",
      "INFO:transform:sparkCleanNRich transform\n",
      "DEBUG:transform:utils initialization for etl module package transform sparkCleanNRich done.\n",
      "Start workloads: analyze crypto market capitalization time series data.\n",
      "INFO:etp:########################################################\n",
      "INFO:etp:logReturns Class\n",
      "INFO:load:########################################################\n",
      "INFO:load:sparkdbwls load\n",
      "DEBUG:load:utils initialization for etl module package load sparkdbwls done.\n",
      "Start workloads: analyze crypto market capitalization time series data.\n",
      "INFO:transform:########################################################\n",
      "INFO:transform:sparkCleanNRich transform\n",
      "DEBUG:transform:utils initialization for etl module package transform sparkCleanNRich done.\n",
      "Start workloads: analyze crypto market capitalization time series data.\n",
      "INFO:load:########################################################\n",
      "INFO:load:sparkNoSQLwls Class\n",
      "DEBUG:load:utils initialization for etl module package load sparkNoSQLwls done.\n",
      "Start workloads: analyze crypto market capitalization time series data.\n",
      "INFO:timeseries:########################################################\n",
      "INFO:timeseries:RollingStats timeseries\n",
      "DEBUG:timeseries:utils initialization for ml module package timeseries RollingStats done.\n",
      "Start workloads: analyze crypto market capitalization time series data.\n",
      "DEBUG:etp:mining initialization for assets module package etp logReturns done.\n",
      "Start workloads: analyze crypto market capitalization time series data.\n",
      "INFO:timeseries:########################################################\n",
      "INFO:timeseries:RollingStats timeseries\n",
      "DEBUG:timeseries:utils initialization for ml module package timeseries RollingStats done.\n",
      "Start workloads: analyze crypto market capitalization time series data.\n"
     ]
    },
    {
     "name": "stdout",
     "output_type": "stream",
     "text": [
      "All functional APP-libraries in REZAWARE-package of REZAWARE-module imported successfully!\n",
      "All functional LOGRETURNS-libraries in ETP-package of ASSETS-module imported successfully!\n",
      "All functional SPARKDBWLS-libraries in LOAD-package of ETL-module imported successfully!\n",
      "All functional SPARKCLEANNRICH-libraries in TRANSFORM-package of ETL-module imported successfully!\n",
      "All packages in utils ml timeseries RollingStats imported successfully!\n",
      "sparkNoSQLwls Class initialization complete\n",
      "logReturns Class initialization complete\n",
      "\n",
      "Class initialization and load complete!\n"
     ]
    }
   ],
   "source": [
    "import os\n",
    "import sys\n",
    "from datetime import datetime, date, timedelta\n",
    "\n",
    "sys.path.insert(1,\"/home/nuwan/workspace/rezaware/\")\n",
    "import rezaware as reza\n",
    "from utils.modules.etl.load import sparkDBwls as sdb\n",
    "from utils.modules.etl.transform import sparkCleanNRich as scne\n",
    "from mining.modules.assets.etp import logReturns as log\n",
    "from utils.modules.ml.timeseries import rollingstats as stats\n",
    "\n",
    "''' restart initiate classes '''\n",
    "if debug:\n",
    "    import importlib\n",
    "    reza = importlib.reload(reza)\n",
    "    log = importlib.reload(log)\n",
    "    sdb = importlib.reload(sdb)\n",
    "    scne = importlib.reload(scne)\n",
    "    stats= importlib.reload(stats)\n",
    "    \n",
    "__desc__ = \"analyze crypto market capitalization time series data\"\n",
    "# clsSDB = sdb.SQLWorkLoads(desc=__desc__)\n",
    "clsSCNR=scne.Transformer(desc=__desc__)\n",
    "clsROR =log.RatioOfReturns(desc=__desc__)\n",
    "clsStat=stats.RollingStats(desc=__desc__)\n",
    "''' optional - if not specified class will use the default values '''\n",
    "# prop_kwargs = {\"WRITE_TO_TMP\":True,   # necessary to emulate the etl dag\n",
    "#               }\n",
    "print(\"\\nClass initialization and load complete!\")"
   ]
  },
  {
   "cell_type": "markdown",
   "id": "3e0dd26e",
   "metadata": {},
   "source": [
    "## Read data from mcap_past\n",
    "We apply a query to select assets with mcap > 1.0 million. Any missing values are imputed with the mean value."
   ]
  },
  {
   "cell_type": "code",
   "execution_count": 202,
   "id": "76c04b9d",
   "metadata": {},
   "outputs": [
    {
     "name": "stderr",
     "output_type": "stream",
     "text": [
      "DEBUG:load:@setter Spark PARTIONS set to: 2\n",
      "DEBUG:load:@property Database dbType set to: postgresql\n",
      "DEBUG:load:@property Database dbHostIP set to: 127.0.0.1\n",
      "DEBUG:load:@property Database Port set to: 5432\n",
      "DEBUG:load:@property Database dbName set to: tip\n",
      "DEBUG:load:@property Database dbConnURL set to: jdbc:postgresql://127.0.0.1:5432/tip\n",
      "DEBUG:load:@property Database dbUser set to: farmraider\n",
      "DEBUG:load:@property Database dbPswd set to: spirittribe\n",
      "DEBUG:load:@property Spark homeDir set to: /opt/spark/\n",
      "DEBUG:load:@property Spark appName set to: utils etl load sparkdbwls\n",
      "DEBUG:load:@property Spark config set to: spark.jars\n",
      "DEBUG:load:@property Spark jarDir set to: /opt/spark/jars/postgresql-42.5.0.jar\n",
      "DEBUG:load:@property Spark master set to: local[1]\n",
      "DEBUG:load:function <@property session> importing SparkSession library from spark dir: /opt/spark/\n"
     ]
    },
    {
     "name": "stdout",
     "output_type": "stream",
     "text": [
      "Wait a moment, retrieving data ...\n"
     ]
    },
    {
     "name": "stderr",
     "output_type": "stream",
     "text": [
      "DEBUG:load:Non-type spark session set with homeDir: /opt/spark/ appName: utils etl load sparkdbwls conf: spark.jars jarDir: /opt/spark/jars/postgresql-42.5.0.jar master: local[1]\n",
      "DEBUG:load:@property Spark rwFormat set to: jdbc\n",
      "DEBUG:load:loaded 190825 rows into pyspark dataframe                            \n",
      "DEBUG:etp:function <read_n_clean_mcap> loaded 190825 rows                       \n",
      "DEBUG:transform:Pivot columns: ['cofix', 'beldex', 'dxsale_network', 'fydcoin', 'bitscreener', 'lixir_protocol', 'auction', 'dough', 'onooks', 'raydium', 'zclassic', 'balancer', 'algorand', 'etna_network', 'liquidus', 'coin', 'yield_yak', 'derivadao', 'mdex', 'utrust', 'ryo', 'cook', 'steem_dollars', 'mask_network', 'sail', 'moonlana', 'catapult', 'seedify_fund', 'secret_finance', 'dego_finance', 'mixmarvel', 'alchemix', 'enq_enecuum', 'yield_guild_games', 'rio_defi', 'deeponion', 'denarius', 'iteration_syndicate', 'add_xyz_new', 'badger_dao', 'sense', 'konomi_network', 'cnns', 'gny', 'unidex', 'carvertical', 'blackpool_token', 'unlimitedip', 'orion_money', 'bitgear', 'atromg8', 'kattana', 'olympus', 'super_zero', 'piedao_defi_large_cap', 'arcticcoin', 'leo_token', 'iris_network', 'gyro', 'fx_coin', 'openalexa_protocol', 'gamyfi_token', 'unix', 'dash_diamond', 'vethor_token', 'bsc_station', 'polkarare', 'spiderdao', 'shibavax', 'rage_fan', 'realfevr', 'paid_network', 'everlens', 'kawaii_islands', 'rari_governance_token', 'stakeborg_dao', 'tomb_shares', 'tezos', 'scream', 'fedoracoin', 'brokoli', 'kalmar', 'rhythm', 'nabox', 'skull', 'bittoken', 'unifty', 'safemars', 'mirror_protocol', 'berry_data', 'defi_warrior', 'icon', 'kalao', 'bitto_exchange', 'siren', 'electronicgulden', 'arweave', 'sushi', 'exrt_network', 'unit_protocol_duck', 'klay_token', 'dfx_finance', 'lambda', 'lunr_token', 'eurocoinpay', 'kleros', 'katalyo', 'maidsafecoin', 'dash', 'lido_staked_sol', 'pinkslip_finance', 'hi_dollar', 'premia', 'my_defi_pet', 'telos', 'digg', 'geeq', 'blockchain_monster_hunt', 'audius', 'lithium_finance', 'pundi_x', 'coin_capsule', 'oraichain_token', 'tokpie', 'refinable', 'oolongswap', 'robotina', 'raven_protocol', 'julien', 'bytom', 'flits', 'primecoin', 'band_protocol', 'sparkpoint', 'benchmark_protocol', 'divergence_protocol', 'equalizer', 'crypto_com_chain', 'fuse_network_token', 'unifarm', 'persistence', 'monetaryunit', 'rupiah_token', 'hedera_hashgraph', 'stp_network', 'crypto_fight_club', 'nkn', 'pacoca', 'seen', 'swissborg', 'pibble', 'davinci_token', 'sai', 'cream_eth2', 'amon', 'blocsport_one', 'herocoin', 'solanium', 'crypterium', 'relay_token', 'bedrock', 'nord_finance', 'gatechain_token', 'holy_trinity', 'piedao_balanced_crypto_pie', 'cashcow', 'hiblocks', 'biswap', 'synthetify_token', 'solchicks_token', 'orca', 'freedom_coin', 'sarcophagus', 'insurace', 'kyber_network', 'golff', 'safe_deal', 'bankless_dao', 'origintrail', 'bitcoin_scrypt', 'samoyedcoin', 'maps', 'royale', 'internxt', 'probit_exchange', 'fintrux', 'gmx', 'bnsd_finance', 'euler_tools', 'cardstack', 'spectrum_token', 'trisolaris', 'dose_token', 'ampleforth_governance_token', 'webcoin', 'relevant', 'gochain', 'givingtoservices_svs', 'xrhodium', 'certik', 'wrapped_bitcoin', 'koinos', 'ecomi', 'bscpad', 'dogey_inu', 'vfox', 'plant_vs_undead_token', 'mass', 'bitcoin_gold', 'dogebonk', 'must', 'yield_protocol', 'morphie', 'oxbull_tech', 'digitalnote', 'defi_for_you', 'clover_finance', 'feisty_doge_nft', 'apy_vision', 'kyber_network_crystal', 'ledgerscore', 'alpaca_finance', 'ureeqa', 'oogi', 'nft_stars', 'perth_mint_gold_token', 'komodo', 'instadapp', 'olyverse', 'nodeseeds', 'ultra', 'covesting', 'sunny_aggregator', 'ooki', 'platon_network', 'yetiswap', 'angle_protocol', 'cargox', 'monetha', 'clintex_cti', 'ethergem', 'blockchainspace', 'zodium', 'matrix_ai_network', 'sint_truidense_voetbalvereniging_fan_token', 'signata', 'cloakcoin', 'mobiecoin', 'b20', 'trias_token', 'anrkey_x', 'grid', 'dinox', 'tomochain', 'cave', 'bitdegree', 'billionhappiness', 'turtlecoin', 'polytrade', 'adbank', 'bytz', 'cotrader', 'circuits_of_value', 'btu_protocol', 'blocto_token', 'unitrade', 'zenfuse', 'ethpad', 'sin_city', 'shardus', 'etherrock_72', 'media_network', 'game_fantasy_token', 'lokr', 'waultswap', 'onx_finance', 'swag_finance', 'only1', 'matryx', 'sentinel_group', 'kawakami', 'oasis_network', 'dark_magic', 'giveth', 'occamfi', 'hot_cross', 'nxt', 'kuma_inu', 'the_corgi_of_polkabridge', 'non_fungible_yearn', 'dydx', 'rook', 'infinitecoin', 'ark', 'potcoin', 'zoracles', 'advertise_coin', 'memetic', 'snowball_token', 'sentivate', 'coin98', 'mettalex', 'lido_dao', 'tomb', 'auto', 'sipher', 'night_life_crypto', 'shar_pei', 'waykichain', 'hopr', 'paypolitan_token', 'siaprime_coin', 'slam_token', 'cardstarter', 'gas', 'buttcoin_2', 'enigma', 'cardence', 'xido_finance', 'mossland', 'xend_finance', 'rae_token', 'kommunitas', 'enjincoin', 'merculet', 'cryptokek', 'qi_dao', 'jenny_metaverse_dao_token', 'loom_network', 'idavoll_network', 'bzx_protocol', 'crodex', 'omisego', 'sifchain', 'my_master_war', 'hodl_finance', 'kylin_network', 'permission_coin', 'barnbridge', 'infinity_pad', 'adamant_coin', 'gm', 'adshares', 'wanchain', 'constitutiondao', 'chainx', 'gton_capital', 'lua_token', 'blox', 'argo', 'fancy_games', 'cpchain', 'duckdaodime', 'aidos_kuneen', 'falcon_token', 'chronobank', 'hanu_yokia', 'kin', 'superlauncher_dao', 'everex', 'dragonchain', 'one_ledger', 'prcy_coin', 'daps_token', 'meta', 'fiat_dao_token', 'hord', 'hara_token', 'milkshakeswap', 'yam_2', 'atlantis_loans', 'celo', 'gridzone', 'litecoin_cash', 'orion_protocol', 'vidya', 'cryptozoon', 'og_fan_token', 'chainswap', 'centaurify', 'dynamix', 'atari', 'bakerytoken', 'coin_of_the_champions', 'e_money_eur', 'apyswap', 'electra_protocol', 'boringdao_old_', 'celestial', 'euphoria_2', 'genesis_pool', 'unistake', 'dextf', 'nest', 'bitcore', 'butterfly_protocol_2', 'tempus', 'feg_token', 'boringdao', 'vidulum', 'kava', 'voxies', 'rocket_pool', 'pawtocol', 'railgun', 'victoria_vr', 'qredo', 'cratos', 'pancake_hunny', 'definer', 'helmet_insure', 'pangolin', 'oneswap_dao_token', 'catbread', 'dexsport', 'singularitydao', 'hybrix', 'bns_token_old', 'blackhat_coin', 'skale', 'micropets', 'polkaparty', 'kira_network', 'raptoreum', 'paccoin', 'hackenai', 'yfdai_finance', 'monsta_infinite', 'verus_coin', 'xels', 'abcc_token', 'convergence', 'dexe', 'dmarket', 'convex_finance', 'ninneko', 'makiswap', 'totemfi', 'dora_factory', 'rendoge', 'bridge_mutual', 'mango_markets', 'loopring', 'rmrk', 'bismuth', 'particl', 'dfsocial_gaming_2', 'contentos', 'mina_protocol', 'freicoin', 'moeda_loyalty_points', 'bitcoinpos', 'tether_eurt', 'lunar', 'rootkit', 'landshare', 'htmlcoin', 'medicalchain', 'viberate', 'golden_ball', 'dia_data', 'shopping_io', 'genaro_network', 'gleec_coin', 'ethernity_chain', 'wheat_token', 'aelf', 'yaxis', 'ankr', 'yflink', 'zmine', 'bluzelle', 'mch_coin', 'injective_protocol', 'veritaseum', 'numeraire', 'phoenixcoin', 'singularitynet', 'tradestars', 'dovu', 'media_eye', 'b_cube_ai', 'moar', 'mim', 'bogged_finance', 'santiment_network_token', 'populous', 'holyheld_2', 'decentral_games', 'united_emirate_decentralized_coin', 'power_index_pool_token', 'fio_protocol', 'fabric', 'compound_ether', 'dev_protocol', 'kaka_nft_world', 'morpheus_labs', 'illuvium', 'nem', 'opulous', 'handshake', 'investin', 'daex', 'arianee', 'genesis_vision', 'rainbowtoken', 'apy_finance', 'mint_club', 'minds', '1inch', 'trueflip', 'blockasset', '1art', 'vesper_finance', 'subme', 'neos_credits', 'civilization', 'deepbrain_chain', 'umi_digital', 'value_liquidity', 'beach_token', 'finance_vote', 'lit', 'kujira', 'unicly_fewocious_collection', 'nix_bridge_token', 'hoo_token', 'counterparty', 'stratis', 'aluna', 'roobee', 'indorse', 'indexed_finance', 'vabble', 'metaverse_exchange', 'steem', 'gather', 'obortech', 'kine_protocol', 'impermax', 'kusama', 'bitcoin_pro', 'gulden', 'dingocoin', 'dentacoin', 'raze_network', 'crusaders_of_crypto', 'dock', 'dextools', 'edenchain', 'lendefi', 'ixicash', 'bnktothefuture', 'cyberfi', 'polka_city', 'hoge_finance', 'sx_network', 'defipulse_index', 'idena', 'link', 'cindicator', 'silent_notary', 'operon_origins', 'ovr', 'iron_bank_euro', 'stratos', 'k21', 'adamant_messenger', 'blank', 'float_protocol', 'auctus', 'nemesis_dao', 'bscex', 'acryptosi', 'e_radix', 'gsenetwork', 'kineko', 'hegic', 'unfederalreserve', 'gxchain', 'safe_haven', 'aurory', 'idexo_token', 'decred', 'decubate', 'upbots', 'mimo_parallel_governance_token', 'osmosis', 'polychain_monsters', 'microtick', 'coinmerge_bsc', 'xmax', 'tenset', 'the_abyss', 'auroracoin', 'smartcredit_token', 'maza', 'btse_token', 'solanax', 'dacxi', 'gro_dao_token', 'fantohm', 'aladdin_dao', 'exzocoin', 'revest_finance', 'lunes', 'wozx', 'orchid_protocol', 'theta_fuel', 'pivx', 'nifty_league', 'yfii_finance', 'charli3', 'bird_money', 'matic_network', 'raiden_network', 'lockchain', 'seth2', 'hashcoin', 'polylauncher', 'apollo', 'piedao_defi_small_cap', 'dforce_token', 'dodo', 'avaxlauncher', 'etherland', 'covalent', 'reverse', 'cocos_bcx', 'thorchain_erc20', 'sport_and_leisure', 'polkastarter', 'mobifi', 'orbs', 'tripio', 'harvest_finance', 'fortressdao', 'beta_finance', 'exmo_coin', 'cropperfinance', 'uniqly', 'tendieswap', 'e_money', 'tastenft', 'akropolis', 'unizen', 'api3', 'bios', 'wax', 'ally_direct', 'adaboy', 'arc_governance', 'zelaapayae', 'alchemist', 'musk_gold', 'epik_prime', 'jackpot', 'marginswap', 'xdefi', 'concentrated_voting_power', 'bitspawn', 'spherium', 'ionchain_token', 'xtoken', 'ethichub', 'oxbitcoin', 'v_systems', 'ethereum_meta', 'mainframe', 'lto_network', 'gains_farm', 'razor_network', 'ardana', 'ydragon', 'bytecoin', 'herofi', 'bridge', 'aion', 'roge', 'switcheo', 'snowswap', 'crowns', 'lyra', 'ampleforth', 'mars', 'axion', 'crystl_finance', 'syscoin', 'soldex', 'nil_dao', 'quantum_resistant_ledger', 'fsw_token', 'blockspace_token', 'banana', 'sylo', '88mph', 'chonk', 'chia', 'yel_finance', 'bata', 'cub_finance', 'rocketx', 'bittube', 'draken', 'meter', 'keytango', 'wrapped_nxm', 'skrumble_network', 'quadrant_protocol', 'coin_artist', 'new_order', 'xcad_network', 'compound_usd_coin', 'social_good_project', 'zyx', 'proton', 'kuswap', 'vecrv_dao_yvault', 'openocean', 'tosdis', 'vent_finance', 'nftx', 'everid', 'suncontract', 'hollygold', 'crypto_phoenix', 'robonomics_network', 'nftfy', 'star_atlas_dao', 'hakka_finance', 'swftcoin', 'tower', 'veil', 'megacryptopolis', 'bondappetit_gov_token', 'rai_finance', 'citadel_one', 'nucleus_vision', 'bonfida', 'dos_network', 'clucoin', 'leverj_gluon', 'livepeer', 'blizz_finance', 'marsx', 'blockchain_certified_data_token', 'playcent', 'allbridge', 'earthcoin', 'bigshortbets', 'xdce_crowd_sale', 'iot_chain', 'rocki', 'potent_coin', 'tarot', 'graphlinq_protocol', 'minter_network', 'neutrino_system_base_token', 'cope', 'nxm', 'drops_ownership_power', 'solve_care', 'metawars', 'pha', 'perpetual_protocol', 'bitcoin_diamond', 'request_network', 'bitcoin_cash_sv', 'riverboat', 'fsn', 'aldrin', 'o3_swap', 'strips_finance', 'cryptonovae', 'minidoge', 'pulsepad', 'bezoge_earth', 'metis_token', 'keyfi', 'aircoins', 'parsiq', 'wings', 'museum_of_crypto_art', 'ebox', 'pnetwork', 'cudos', 'decentraland', 'ethereum_name_service', 'vires_finance', 'burency', '8pay', 'freeway', 'cdai', 'numbers_protocol', 'block_commerce_protocol', 'sakura', 'kondux', 'bitmart_token', 'data', 'belt', 'blockster', 'zencash', 'era_swap_token', 'beholder', 'gnosis', 'utu_coin', 'porta', 'yieldwatch', 'blockport', 'koromaru', 'blockstack', 'bread', 'meta_doge', 'signum', 'bitwin24', 'safemoon_inu', 'hempcoin_thc', 'eqifi', 'moonienft', 'centaur', 'metaverse_index', 'videocoin', 'epik_protocol', 'ares_protocol', 'crypto_carbon_energy', 'kccpad', 'quai_dao', 'babb', 'bezant', 'dopex_rebate_token', 'bepay', 'hydra', 'jupiter', 'omni_real_estate_token', 'skyrim_finance', 'reef', 'insights_network', 'octofi', 'grimtoken', 'gelato', 'complifi', 'orakuru', 'sienna', 'cornichon', 'sentinel_protocol', 'chronicle', 'box_token', 'yield_optimization_platform', 'ravencoin', 'metadium', 'pluton', 'dogeville', 'acryptos', 'doge_dash', 'polkamarkets', 'diamond', 'polkadomain', 'vvs_finance', 'paint', 'vempire_ddao', 'neurochain', 'hotbit_token', 'lossless', 'gifto', 'fetch_ai', 'suterusu', 'dusk_network', 'dify_finance', 'arcblock', 'peachfolio', 'latoken', 'karbo', 'zenon', 'jasmycoin', 'thought', 'ftx_token', 'sak3', 'shirtum', 'agave_token', 'zilliqa', 'moon_nation_game', 'alien_worlds', 'polydoge', 'petrachor', 'givly_coin', 'vader_protocol', 'txa', 'polkabridge', 'just', 'rally_2', 'launchpool', 'shyft_network_2', 'shakita_inu', 'poa_network', 'unlend_finance', 'aavegotchi', 'lbry_credits', 'ripio_credit_network', 'unibright', 'argon', 'tadpole_finance', 'keep_network', 'elysia', 'tidal_finance', 'apeswap_finance', 'anchor_protocol', 'piedao_defi', 'otcbtc_token', 'ghost_by_mcafee', 'force_protocol', 'enreachdao', 'prometeus', 'moonstarter', 'yvault_lp_ycurve', 'allianceblock', 'polkadex', 'zipmex_token', 'wiva', 'nexo', 'sonm', 'cashbet_coin', 'launchzone', 'keep3rv1', 'coti', 'wannaswap', 'evedo', 'robot', 'decentral_games_old', 'aleph', 'nftlaunch', 'potentiam', 'xfinite_entertainment_token', 'bountymarketcap', 'thales', 'woofy', 'strong', 'waterfall_governance_token', 'klever', 'universe_xyz', 'cashaa', 'kittycoin', 'naga', 'digix_gold', 'crd_network', 'dfohub', 'aergo', 'xfund', 'zano', 'asia_coin', 'neurotoken', 'fuel_token', 'iostoken', 'tanks', 'audiocoin', 'mochi_market', 'spore', 'wall_street_games', 'dhedge_dao', 'exchangecoin', 'manifold_finance', 'tribeone', 'velaspad', 'april', 'axpire', 'utopia', 'celer_network', '0chain', 'ibuffer_token', 'union_protocol_governance_token', 'wolfsafepoorpeople', 'daostack', 'plex', 'energi', 'measurable_data_token', 'pikachu', 'oec_token', 'bomb', 'wagerr', 'bifrost', 'openswap', 'swop', 'cutcoin', 'polkafoundry', 'million', 'airight', 'dav', 'green_climate_world', 'lunachow', 'bifi', 'swipe', 'qao', 'aga_token', 'manchester_city_fan_token', 'blocknet', 'lattice_token', 'metagamehub_dao', 'coinmetro', 'quant_network', 'revolution_populi', 'fluffy_coin', 'momento', 'decentral_games_governance', 'genesis_worlds', 'yee', 'beefy_finance', 'avalanche_2', 'cap', 'covercompared', 'overlord', 'ideaology', 'bitorbit', 'pchain', 'ucash', 'mute', 'sentinel', 'blackdragon_token', 'mahadao', 'nft_protocol', 'luffy_inu', 'morpheus_network', 'ultiledger', 'defi_yield_protocol', 'decentraweb', 'pleasure_coin', 'open_governance_token', 'kadena', 'fc_barcelona_fan_token', 'forefront', 'freerossdao', 'nearpad', 'mysterium', 'decentr', 'delta_theta', 'cryptopay', 'owndata', 'chimaera', '1world', 'storj', 'smart_mfg', 'balpha', 'playermon', 'exrnchain', 'polkawar', 'edgeless', 'autonio', 'wazirx', 'rome', 'phore', 'integral', 'amoveo', 'axial_token', 'decentral_games_ice', 'qash', 'tap', 'immutable_x', 'carbon', 'dlp_duck_token', 'lys_capital', 'msol', 'republic_protocol', 'ledgis', 'iota', 'dinoswap', 'peony_coin', 'linkeye', 'ferrum_network', 'concierge_io', 'linear', 'metal', 'ice_token', 'metabrands', 'dope_wars_paper', 'sirin_labs_token', 'bepro_network', 'purefi', 'kittenfinance', 'aichain', 'nerve_finance', 'troy', 'reward_hunters_token', 'symbiosis_finance', 'libra_credit', 'avalaunch', 'havven', 'kingdom_game_4_0', 'gameswap_org', 'huobi_btc', 'flixxo', 'ethereans', 'boson_protocol', 'augur', 'storm', 'plair', 'trust_wallet_token', 'muse_2', 'revv', 'tornado_cash', 'powertrade_fuel', 'power_ledger', 'bibox_token', 'biconomy_exchange_token', 'openanx', 'oxygen', 'domraider', 'swapz_app', 'binamon', 'spell_token', 'lcx', 'penguin_finance', 'cheems', 'fractal', 'kick_io', 'guildfi', 'king_shiba', 'smooth_love_potion', 'lepricon', 'apollox_2', 'acent', 'platoncoin', 'chain_guardians', 'nucypher', 'dent', 'dmm_governance', 'rarible', 'ardor', 'friends_with_benefits_pro', 'snowblossom', 'golden_doge', 'invest_like_stakeborg_index', 'funfair', 'verso', 'adax', 'ether_1', 'position_token', 'polkally', 'notional_finance', 'daohaus', 'cake_monster', 'stream_protocol', 'total_crypto_market_cap_token', 'prosper', 'doki_doki_finance', 'throne', 'theta_token', 'ignis', 'kryll', 'zilswap', 'veed', 'spindle', 'geodb', 'curecoin', 'kambria', 'auruscoin', 'noia_network', 'pixl_coin_2', 'odyssey', 'sator', 'cumrocket', 'get_token', 'degenerator', 'kampay', 'euno', 'omni', 'faraland', 'elrond_erd_2', 'cardwallet', 'starname', 'defiville_island', 'token_pocket', 'compound_0x', 'peanut', 'yuan_chain_coin', 'superrare', 'socean_staked_sol', 'ac_milan_fan_token', 'bright_union', 'babylon_finance', 'koda_finance', 'hathor', 'byteball', 'axis_defi', 'ionomy', 'knit_finance', 'phoenixdao', 'smart_valor', 'somee_social', 'definity', 'swingby', 'privapp_network', 'cryptocart', 'unilayer', 'vulcan_forged', 'gains', 'kick', 'kurobi', 'minersdefi', 'eco_value_coin', 'sphere', 'civic', 'proximax', 'marketmove', 'netbox_coin', 'unicly_mystic_axies_collection', 'bancor', 'evereth', 'ridotto', 'arpa', 'klima_dao', 'the_three_kingdoms', 'rizon', 'alpaca', 'unicrypt_2', 'zuki_moba', 'dogegf', 'xdai_stake', 'inari', 'flare_token', 'aimedis_2', 'bitcoinz', 'einsteinium', 'neumark', 'chainlink', 'spartan_protocol_token', 'racex', 'resfinex_token', 'databroker_dao', 'gg_token', 'pop_chest_token', 'hector_dao', 'mt_pelerin_shares', 'kromatika', 'bao_finance', 'nftrade', 'skycoin', 'dprating', 'metagods', 'sumokoin', 'yearn_lazy_ape', 'kilt_protocol', 'nextexchange', 'armor', 'cryptomeda', 'zeptagram', 'moonriver', 'wepower', 'media_licensing_token', 'escoin_token', 'tranquil_finance', 'groestlcoin', 'yin_finance', 'curve_dao_token', 'shadows', 'cvnx', 'basic_attention_token', 'gamee', 'bnpl_pay', 'bitball', 'divi', 'emercoin', 'asd', 'time_new_bank', 'filda', 'hedget', 'ocean_protocol', 'impossible_finance', 'eosforce', 'genomesdao', 'spiritswap', 'melon', 'realm', 'falconx', 'unmarshal', 'helium', 'tribe_2', 'shroom_finance', 'idia', 'dvision_network', 'ubiq', 'feathercoin', 'myriadcoin', 'ioi_token', 'masq', 'wonderland', 'ubeswap', 'alpha_finance', 'quantstamp', 'reserve_rights_token', 'sandclock', 'iexec_rlc', 'ramp', 'polis', 'sake_token', 'linda', 'nolimitcoin', 'dexlab', 'vibe', 'kan', 'biconomy', 'aioz_network', 'formation_fi', 'darwinia_network_native_token', 'swerve_dao', 'carry', 'six_network', 'naos_finance', 'ethermon', 'ariva', 'ethereum_classic', 'standard_protocol', 'streamr_xdata', 'newdex_token', 'moonscape', 'cryptex_finance', 'doex', 'colligo', 'blox_token', 'mogul_productions', 'compound_uniswap', 'invictus', 'bitcoin_plus', 'nyzo', 'oduwa_coin', 'zkspace', 'likecoin', 'presearch', 'amber', 'kiloample', 'corgicoin', 'nebulas', 'conflux_token', 'wanswap', 'legend_of_fantasy_war', 'metaverse_nft_index', 'defit', 'swarm', 'polinate', 'velhalla', 'rhinofi', 'huobi_token', 'appcoins', 'furucombo', 'elon_doge_token', 'electroneum', 'handle_fi', 'coinspaid', 'crust_network', 'pegaxy_stone', 'saito', 'lympo', 'jigstack', 'verox', 'quark', 'mars4', 'gyen', 'new_bitshares', 'multivac', 'blind_boxes', 'csp_dao_network', 'props', 'rainbow_token', 'vectorspace', 'gridcoin_research', 'true_pnl', 'litentry', 'dogsofelon', 'haven', 'mork', 'port_finance', 'rigoblock', 'insure', 'crown', 'frakt_token', 'crabada', 'jur', 'my_neighbor_alice', 'xio', 'saber', 'boba_network', 'metaverse_miner', 'ternio', 'cypherium', 'okcash', 'aurora_dao', 'structure_finance', 'indahash', 'pirate_chain', '1_up', 'chromaway', 'lith_token', 'metavpad', 'gravity_finance', 'pawthereum', 'avaxtars', 'stakewise', 'neblio', 'cache_gold', 'mobox', 'playdapp', 'b_protocol', 'dfyn_network', 'hyve', 'vite', 'bloom', 'cybermiles', 'napoleon_x', 'joe', 'aave', 'centric_cash', 'apenft', 'convex_crv', 'shadow_token', 'sideshift_token', 'poolz_finance', 'howdoo', 'pallapay', 'firestarter', 'avinoc', 'xwin_finance', 'infinito', 'humaniq', 'xyo_network', '42_coin', 'baby_doge_coin', 'ion', 'fantomstarter', 'qlink', 'splinterlands', 'stafi', 'gaia_everworld', 'unifi_protocol_dao', 'unslashed_finance', 'block_ape_scissors', 'merge', 'solfarm', 'elastos', 'chainium', 'peercoin', 'nuls', 'alchemy_pay', 'oh_finance', 'gem_exchange_and_trading', 'flex_coin', 'the_husl', 'digibyte', 'adora_token', 'phoenix_global', 'finxflo', 'adventure_gold', 'labs_group', 'dappradar', 'tokocrypto', 'jarvis_reward_token', 'clearpool', 'treasure_under_sea', 'fairgame', 'kucoin_shares', 'pontoon', 'beam', 'nft_index', 'machix', 'public_mint', 'as_roma_fan_token', 'verasity', 'cvault_finance', 'coreto', 'bitcoin', 'gamercoin', 'route', 'dopex', 'epic_cash', 'banano', 'automata', 'leonicorn_swap', 'shopnext', 'bankless_bed_index', 'paint_swap', 'metahash', 'swash', 'iqeon', 'paribus', 'kulupu', 'spaceswap_milk2', 'tetu', 'radar', 'tigercash', 'opendao', 'smoothy', 'eden', 'adex', 'ycash', 'cortex', 'paraswap', 'bscstarter', 'pinknode', 'okb', 'synchrocoin', 'ecash', 'phuture', 'poodle', 'solend', 'airswap', 'modefi', 'crosswallet', 'unicly_cryptopunks_collection', 'ribbon_finance', 'monavale', 'staked_ether', 'vipstarcoin', 'cube_intelligence', 'defactor', 'basketdao_defi_index', 'nimiq_2', 'guild_of_guardians', 'suku', 'data_economy_index', 'infinitypad', 'venus', 'julswap', 'compound_governance_token', 'golem', 'inverse_finance', 'strikecoin', 'aventus', 'alpha_quark_token', 'shih_tzu', 'urus_token', 'pendle', 'essentia', 'nftb', 'unisocks', 'cream_2', 'baanx', 'hedpay', 'bitcoin_2', 'mithril', 'verge', 'xaurum', 'coinfirm_amlt', 'pumapay', 'maple', 'credits', 'deepspace', 'cartesi', 'compound_wrapped_btc', 'pillar', 'nervos_network', 'viperpit', 'gas_dao', 'pbtc35a', 'wpp_token', 'tabank', 'global_coin_research', 'binancecoin', 'plasma_finance', 'qanplatform', 'project_oasis', 'dero', 'ghospers_game', 'beethoven_x', 'celsius_degree_token', 'babydoge_coin_eth', 'nftlootbox', 'piedao_dough_v2', 'defidollar_dao', 'algovest', 'catecoin', 'snetwork', 'wasabix', 'ethlend', 'kardiachain', 'lympo_market_token', 'connect_financial', 'governor_dao', 'ulord', 'scifi_index', 'oiler', 'darwinia_commitment_token', 'ara_token', 'pussy_financial', 'pickle_finance', 'digicol_token', 'liq_protocol', 'antimatter', 'suqa', 'rentible', 'birake', 'polker', 'palgold', 'everipedia', 'everrise', 'mcdex', 'pax_gold', 'effect_network', 'digitalbits', 'arcona', 'score_token', 'maker', 'thorchain', 'uncl', 'wirex', 'serum', 'moonedge', 'ispolink', 'oceanex', 'medibloc', 'gunstar_metaverse', 'archer_dao_governance_token', 'woo_network', 'defi_kingdoms', 'ojamu', 'origin_protocol', 'happyfans', 'anji', 'mist', 'bundles', 'kleekai', 'apwine', 'tiki_token', 'onston', 'liquity', 'altura', 'don_key', 'edgeware', 'utopia_genesis_foundation', 'pundi_x_2', 'delta_exchange_token', 'medishares', 'merit_circle', 'dehive', 'b21', 'dafi_protocol', 'arcane_token', 'bitkub_coin', 'kava_lend', 'conceal', 'zoid_pay', 'bloxmove_erc20', 'starlink', 'simple_token', 'zombie_inu', 'bcpay_fintech', 'digitex_futures_exchange', 'axie_infinity', 'ichi_farm', 'secret', 'math', 'waltonchain', 'reddcoin', 'yearn_finance', 'versoview', 'goldcoin', 'pooltogether', 'benqi', 'wabi', 'sentre', 'charg_coin', 'pancakeswap_token', 'inmediate', 'tronpad', 'dynamo_coin', 'robonomics_web_services', 'spheroid_universe', 'nft_platform_index', 'renbtc', 'artery', 'cover_protocol', 'hermez_network_token', 'bitshares', 'telcoin', 'legolas_exchange', 'avme', 'oddz', 'metafabric', 'flypme', 'arcs', 'mx_token', 'hive', 'safemoon', 'strike']\n"
     ]
    },
    {
     "name": "stderr",
     "output_type": "stream",
     "text": [
      "DEBUG:transform:Transposing 190825 rows groupby MCAP_DATE to pivot with distinct values in ASSET_NAME and AVG aggregation on column(s): mcap_value\n",
      "WARNING:transform:Invalid strategy avg, reverting to default strategy = mean\n",
      "[Stage 3432:>                                                       (0 + 1) / 1]\r"
     ]
    },
    {
     "name": "stdout",
     "output_type": "stream",
     "text": [
      "23/01/26 23:21:58 WARN DAGScheduler: Broadcasting large task binary with size 3.3 MiB\n"
     ]
    },
    {
     "name": "stderr",
     "output_type": "stream",
     "text": [
      "\r",
      "[Stage 3435:>                                                       (0 + 1) / 1]\r"
     ]
    },
    {
     "name": "stdout",
     "output_type": "stream",
     "text": [
      "23/01/26 23:22:16 WARN DAGScheduler: Broadcasting large task binary with size 6.3 MiB\n"
     ]
    },
    {
     "name": "stderr",
     "output_type": "stream",
     "text": [
      "DEBUG:etp:function <impute_wrapper> ran an impute on all 1679 asset tickers     \n",
      "DEBUG:transform:NULL count completed for 1679 columns                           \n",
      "[Stage 3446:>                                                       (0 + 1) / 1]\r"
     ]
    },
    {
     "name": "stdout",
     "output_type": "stream",
     "text": [
      "23/01/26 23:25:09 WARN DAGScheduler: Broadcasting large task binary with size 3.2 MiB\n"
     ]
    },
    {
     "name": "stderr",
     "output_type": "stream",
     "text": [
      "[Stage 3456:>                                                       (0 + 1) / 1]\r"
     ]
    },
    {
     "name": "stdout",
     "output_type": "stream",
     "text": [
      "23/01/26 23:26:28 WARN DAGScheduler: Broadcasting large task binary with size 3.2 MiB\n"
     ]
    },
    {
     "name": "stderr",
     "output_type": "stream",
     "text": [
      "DEBUG:etp:After unpivot, dataframe with rows 8395 columns 3                     \n",
      "[Stage 3466:>                                                       (0 + 1) / 1]\r"
     ]
    },
    {
     "name": "stdout",
     "output_type": "stream",
     "text": [
      "23/01/26 23:27:45 WARN DAGScheduler: Broadcasting large task binary with size 3.2 MiB\n"
     ]
    },
    {
     "name": "stderr",
     "output_type": "stream",
     "text": [
      "\r",
      "[Stage 3469:>                                                       (0 + 1) / 1]\r"
     ]
    },
    {
     "name": "stdout",
     "output_type": "stream",
     "text": [
      "Loaded 8395 rows and 3 columns\n"
     ]
    },
    {
     "name": "stderr",
     "output_type": "stream",
     "text": [
      "\r",
      "                                                                                \r"
     ]
    }
   ],
   "source": [
    "_from_date = '2022-01-01'\n",
    "_to_date = '2022-01-05'\n",
    "# _query = \"select * from warehouse.mcap_past \"+\\\n",
    "#         f\"where mcap_date >= '{_from_date}' and \"+\\\n",
    "#         f\"mcap_date <= '{_to_date}'\"\n",
    "_query = \"select * from warehouse.mcap_past \"+\\\n",
    "        f\"where mcap_date between '{_from_date}' and '{_to_date}' \"+\\\n",
    "        f\"and mcap_value > 1000000\"\n",
    "_kwargs = {\n",
    "    \"TABLENAME\":'warehouse.mcap_past',\n",
    "    \"COLUMN\":'mcap_date',\n",
    "    \"FROMDATETIME\":_from_date,\n",
    "    \"TODATETIME\":_to_date,\n",
    "    \"PARTITIONS\":2,\n",
    "    \"AGGREGATE\":'avg',\n",
    "    \"PIVCOLUMNS\":['cofix','paypolitan-token','raven-protocol',\n",
    "               'nft-index','beldex','mt-pelerin-shares']\n",
    "}\n",
    "\n",
    "# print(clsSpark.dbSchema)\n",
    "mcap_sdf = clsROR.read_n_clean_mcap(query=_query,**_kwargs)\n",
    "# mcap_sdf = clsROR.read_n_clean_mcap(**_kwargs)\n",
    "\n",
    "print(\"Loaded %d rows and %d columns\" % (mcap_sdf.count(),len(mcap_sdf.columns)))"
   ]
  },
  {
   "cell_type": "markdown",
   "id": "5b53a90a",
   "metadata": {},
   "source": [
    "## Compute LogROR for all assets"
   ]
  },
  {
   "cell_type": "code",
   "execution_count": 203,
   "id": "4d7e14d7",
   "metadata": {},
   "outputs": [
    {
     "name": "stderr",
     "output_type": "stream",
     "text": [
      "[Stage 3476:>                                                       (0 + 1) / 1]\r"
     ]
    },
    {
     "name": "stdout",
     "output_type": "stream",
     "text": [
      "23/01/26 23:29:16 WARN DAGScheduler: Broadcasting large task binary with size 3.2 MiB\n"
     ]
    },
    {
     "name": "stderr",
     "output_type": "stream",
     "text": [
      "[Stage 3486:>                                                       (0 + 1) / 1]\r"
     ]
    },
    {
     "name": "stdout",
     "output_type": "stream",
     "text": [
      "23/01/26 23:30:51 WARN DAGScheduler: Broadcasting large task binary with size 3.2 MiB\n"
     ]
    },
    {
     "name": "stderr",
     "output_type": "stream",
     "text": [
      "[Stage 3496:>                                                       (0 + 1) / 1]\r"
     ]
    },
    {
     "name": "stdout",
     "output_type": "stream",
     "text": [
      "23/01/26 23:32:08 WARN DAGScheduler: Broadcasting large task binary with size 3.2 MiB\n"
     ]
    },
    {
     "name": "stderr",
     "output_type": "stream",
     "text": [
      "                                                                                \r"
     ]
    },
    {
     "name": "stdout",
     "output_type": "stream",
     "text": [
      "23/01/26 23:32:15 WARN DAGScheduler: Broadcasting large task binary with size 3.2 MiB\n"
     ]
    },
    {
     "name": "stderr",
     "output_type": "stream",
     "text": [
      "\r",
      "[Stage 3502:>                                                       (0 + 1) / 1]\r"
     ]
    },
    {
     "name": "stdout",
     "output_type": "stream",
     "text": [
      "23/01/26 23:32:19 WARN DAGScheduler: Broadcasting large task binary with size 4.5 MiB\n"
     ]
    },
    {
     "name": "stderr",
     "output_type": "stream",
     "text": [
      "\r",
      "[Stage 3506:>                                                       (0 + 1) / 1]\r"
     ]
    },
    {
     "name": "stdout",
     "output_type": "stream",
     "text": [
      "23/01/26 23:32:20 WARN DAGScheduler: Broadcasting large task binary with size 4.5 MiB\n"
     ]
    },
    {
     "name": "stderr",
     "output_type": "stream",
     "text": [
      "\r",
      "[Stage 3511:>                                                       (0 + 1) / 1]\r"
     ]
    },
    {
     "name": "stdout",
     "output_type": "stream",
     "text": [
      "+----------+----------+--------------------+--------------------+--------------------+--------------------+\n",
      "| mcap_date|asset_name|          mcap_value| mcap_value_prev_val|           mcap_diff|             log_ror|\n",
      "+----------+----------+--------------------+--------------------+--------------------+--------------------+\n",
      "|2022-01-02|  switcheo|25959201.75722492...|11336695.15087185...|14622506.60635306...|-0.35980487434341657|\n",
      "|2022-01-02| primecoin|4869520.968668153...|2382648.070384798...|2486872.898283354...| -0.3104265594101802|\n",
      "|2022-01-02| cypherium|11824476.85075602...|6272519.311846281...|5551957.538909744...| -0.2753399906925486|\n",
      "+----------+----------+--------------------+--------------------+--------------------+--------------------+\n",
      "only showing top 3 rows\n",
      "\n"
     ]
    },
    {
     "name": "stderr",
     "output_type": "stream",
     "text": [
      "\r",
      "                                                                                \r"
     ]
    }
   ],
   "source": [
    "kwargs={\n",
    "    \"PREVALCOLNAME\":'mcap_prev_val',\n",
    "    \"DIFFCOLNAME\":'mcap_diff',\n",
    "    \"LOGCOLNAME\":'log_ror'\n",
    "}\n",
    "_mcap_log_ror, _log_col = clsROR.get_log_ror(\n",
    "    data=mcap_sdf,\n",
    "    num_col_name=\"mcap_value\",\n",
    "    part_column ='asset_name',\n",
    "    **kwargs,\n",
    ")\n",
    "\n",
    "_mcap_log_ror.filter(_mcap_log_ror.log_ror.isNotNull()).show(n=3)"
   ]
  },
  {
   "cell_type": "markdown",
   "id": "6a2f6f24",
   "metadata": {},
   "source": [
    "## Weighted Portfolio"
   ]
  },
  {
   "cell_type": "code",
   "execution_count": 204,
   "id": "a39609d5",
   "metadata": {},
   "outputs": [
    {
     "name": "stderr",
     "output_type": "stream",
     "text": [
      "[Stage 3514:>                                                       (0 + 1) / 1]\r"
     ]
    },
    {
     "name": "stdout",
     "output_type": "stream",
     "text": [
      "23/01/26 23:49:22 WARN DAGScheduler: Broadcasting large task binary with size 3.2 MiB\n"
     ]
    },
    {
     "name": "stderr",
     "output_type": "stream",
     "text": [
      "                                                                                \r"
     ]
    },
    {
     "name": "stdout",
     "output_type": "stream",
     "text": [
      "23/01/26 23:49:26 WARN DAGScheduler: Broadcasting large task binary with size 3.2 MiB\n"
     ]
    },
    {
     "name": "stderr",
     "output_type": "stream",
     "text": [
      "\r",
      "[Stage 3520:>                                                       (0 + 1) / 1]\r"
     ]
    },
    {
     "name": "stdout",
     "output_type": "stream",
     "text": [
      "23/01/26 23:49:30 WARN DAGScheduler: Broadcasting large task binary with size 4.5 MiB\n"
     ]
    },
    {
     "name": "stderr",
     "output_type": "stream",
     "text": [
      "[Stage 3532:>                                                       (0 + 1) / 1]\r"
     ]
    },
    {
     "name": "stdout",
     "output_type": "stream",
     "text": [
      "23/01/26 23:50:47 WARN DAGScheduler: Broadcasting large task binary with size 3.2 MiB\n"
     ]
    },
    {
     "name": "stderr",
     "output_type": "stream",
     "text": [
      "                                                                                \r"
     ]
    },
    {
     "name": "stdout",
     "output_type": "stream",
     "text": [
      "23/01/26 23:50:52 WARN DAGScheduler: Broadcasting large task binary with size 3.2 MiB\n"
     ]
    },
    {
     "name": "stderr",
     "output_type": "stream",
     "text": [
      "\r",
      "[Stage 3538:>                                                       (0 + 1) / 1]\r"
     ]
    },
    {
     "name": "stdout",
     "output_type": "stream",
     "text": [
      "23/01/26 23:50:57 WARN DAGScheduler: Broadcasting large task binary with size 4.5 MiB\n"
     ]
    },
    {
     "name": "stderr",
     "output_type": "stream",
     "text": [
      "\r",
      "[Stage 3542:>                                                       (0 + 1) / 1]\r"
     ]
    },
    {
     "name": "stdout",
     "output_type": "stream",
     "text": [
      "23/01/26 23:50:59 WARN DAGScheduler: Broadcasting large task binary with size 4.5 MiB\n"
     ]
    },
    {
     "name": "stderr",
     "output_type": "stream",
     "text": [
      "[Stage 3556:>                                                       (0 + 1) / 1]\r"
     ]
    },
    {
     "name": "stdout",
     "output_type": "stream",
     "text": [
      "23/01/26 23:52:14 WARN DAGScheduler: Broadcasting large task binary with size 3.2 MiB\n"
     ]
    },
    {
     "name": "stderr",
     "output_type": "stream",
     "text": [
      "                                                                                \r"
     ]
    },
    {
     "name": "stdout",
     "output_type": "stream",
     "text": [
      "23/01/26 23:52:18 WARN DAGScheduler: Broadcasting large task binary with size 3.2 MiB\n"
     ]
    },
    {
     "name": "stderr",
     "output_type": "stream",
     "text": [
      "\r",
      "[Stage 3562:>                                                       (0 + 1) / 1]\r"
     ]
    },
    {
     "name": "stdout",
     "output_type": "stream",
     "text": [
      "23/01/26 23:52:23 WARN DAGScheduler: Broadcasting large task binary with size 4.5 MiB\n"
     ]
    },
    {
     "name": "stderr",
     "output_type": "stream",
     "text": [
      "\r",
      "[Stage 3566:>                                                       (0 + 1) / 1]\r"
     ]
    },
    {
     "name": "stdout",
     "output_type": "stream",
     "text": [
      "23/01/26 23:52:25 WARN DAGScheduler: Broadcasting large task binary with size 4.5 MiB\n"
     ]
    },
    {
     "name": "stderr",
     "output_type": "stream",
     "text": [
      "[Stage 3580:>                                                       (0 + 1) / 1]\r"
     ]
    },
    {
     "name": "stdout",
     "output_type": "stream",
     "text": [
      "23/01/26 23:53:38 WARN DAGScheduler: Broadcasting large task binary with size 3.2 MiB\n"
     ]
    },
    {
     "name": "stderr",
     "output_type": "stream",
     "text": [
      "                                                                                \r"
     ]
    },
    {
     "name": "stdout",
     "output_type": "stream",
     "text": [
      "23/01/26 23:53:42 WARN DAGScheduler: Broadcasting large task binary with size 3.2 MiB\n"
     ]
    },
    {
     "name": "stderr",
     "output_type": "stream",
     "text": [
      "\r",
      "[Stage 3586:>                                                       (0 + 1) / 1]\r"
     ]
    },
    {
     "name": "stdout",
     "output_type": "stream",
     "text": [
      "23/01/26 23:53:46 WARN DAGScheduler: Broadcasting large task binary with size 4.5 MiB\n"
     ]
    },
    {
     "name": "stderr",
     "output_type": "stream",
     "text": [
      "DEBUG:etp:Retrieved a valid dataframe with 6716 of 8395 rows from orignal dataframe\n",
      "[Stage 3598:>                                                       (0 + 1) / 1]\r"
     ]
    },
    {
     "name": "stdout",
     "output_type": "stream",
     "text": [
      "23/01/26 23:54:59 WARN DAGScheduler: Broadcasting large task binary with size 3.2 MiB\n"
     ]
    },
    {
     "name": "stderr",
     "output_type": "stream",
     "text": [
      "                                                                                \r"
     ]
    },
    {
     "name": "stdout",
     "output_type": "stream",
     "text": [
      "23/01/26 23:55:03 WARN DAGScheduler: Broadcasting large task binary with size 3.2 MiB\n"
     ]
    },
    {
     "name": "stderr",
     "output_type": "stream",
     "text": [
      "\r",
      "[Stage 3604:>                                                       (0 + 1) / 1]\r"
     ]
    },
    {
     "name": "stdout",
     "output_type": "stream",
     "text": [
      "23/01/26 23:55:08 WARN DAGScheduler: Broadcasting large task binary with size 4.5 MiB\n"
     ]
    },
    {
     "name": "stderr",
     "output_type": "stream",
     "text": [
      "\r",
      "[Stage 3608:>                                                       (0 + 1) / 1]\r"
     ]
    },
    {
     "name": "stdout",
     "output_type": "stream",
     "text": [
      "23/01/26 23:55:11 WARN DAGScheduler: Broadcasting large task binary with size 4.5 MiB\n"
     ]
    },
    {
     "name": "stderr",
     "output_type": "stream",
     "text": [
      "\r",
      "[Stage 3613:>                                                       (0 + 1) / 1]\r",
      "\r",
      "                                                                                \r"
     ]
    },
    {
     "name": "stdout",
     "output_type": "stream",
     "text": [
      "23/01/26 23:55:11 WARN DAGScheduler: Broadcasting large task binary with size 4.5 MiB\n"
     ]
    },
    {
     "name": "stderr",
     "output_type": "stream",
     "text": [
      "\r",
      "[Stage 3618:>                                                       (0 + 1) / 1]\r"
     ]
    },
    {
     "name": "stdout",
     "output_type": "stream",
     "text": [
      "23/01/26 23:55:14 WARN DAGScheduler: Broadcasting large task binary with size 4.5 MiB\n"
     ]
    },
    {
     "name": "stderr",
     "output_type": "stream",
     "text": [
      "[Stage 3627:>                                                       (0 + 1) / 1]\r"
     ]
    },
    {
     "name": "stdout",
     "output_type": "stream",
     "text": [
      "23/01/26 23:56:25 WARN DAGScheduler: Broadcasting large task binary with size 3.2 MiB\n"
     ]
    },
    {
     "name": "stderr",
     "output_type": "stream",
     "text": [
      "                                                                                \r"
     ]
    },
    {
     "name": "stdout",
     "output_type": "stream",
     "text": [
      "23/01/26 23:56:29 WARN DAGScheduler: Broadcasting large task binary with size 3.2 MiB\n"
     ]
    },
    {
     "name": "stderr",
     "output_type": "stream",
     "text": [
      "\r",
      "[Stage 3633:>                                                       (0 + 1) / 1]\r"
     ]
    },
    {
     "name": "stdout",
     "output_type": "stream",
     "text": [
      "23/01/26 23:56:33 WARN DAGScheduler: Broadcasting large task binary with size 4.5 MiB\n",
      "23/01/26 23:56:34 WARN DAGScheduler: Broadcasting large task binary with size 4.5 MiB\n"
     ]
    },
    {
     "name": "stderr",
     "output_type": "stream",
     "text": [
      "[Stage 3651:>                                                       (0 + 1) / 1]\r"
     ]
    },
    {
     "name": "stdout",
     "output_type": "stream",
     "text": [
      "23/01/26 23:57:47 WARN DAGScheduler: Broadcasting large task binary with size 3.2 MiB\n"
     ]
    },
    {
     "name": "stderr",
     "output_type": "stream",
     "text": [
      "                                                                                \r"
     ]
    },
    {
     "name": "stdout",
     "output_type": "stream",
     "text": [
      "23/01/26 23:57:50 WARN DAGScheduler: Broadcasting large task binary with size 3.2 MiB\n"
     ]
    },
    {
     "name": "stderr",
     "output_type": "stream",
     "text": [
      "\r",
      "[Stage 3657:>                                                       (0 + 1) / 1]\r"
     ]
    },
    {
     "name": "stdout",
     "output_type": "stream",
     "text": [
      "23/01/26 23:57:55 WARN DAGScheduler: Broadcasting large task binary with size 4.5 MiB\n"
     ]
    },
    {
     "name": "stderr",
     "output_type": "stream",
     "text": [
      "\r",
      "[Stage 3661:>                                                       (0 + 1) / 1]\r"
     ]
    },
    {
     "name": "stdout",
     "output_type": "stream",
     "text": [
      "23/01/26 23:57:56 WARN DAGScheduler: Broadcasting large task binary with size 4.5 MiB\n"
     ]
    },
    {
     "name": "stderr",
     "output_type": "stream",
     "text": [
      "[Stage 3675:>                                                       (0 + 1) / 1]\r"
     ]
    },
    {
     "name": "stdout",
     "output_type": "stream",
     "text": [
      "23/01/26 23:59:08 WARN DAGScheduler: Broadcasting large task binary with size 3.2 MiB\n"
     ]
    },
    {
     "name": "stderr",
     "output_type": "stream",
     "text": [
      "                                                                                \r"
     ]
    },
    {
     "name": "stdout",
     "output_type": "stream",
     "text": [
      "23/01/26 23:59:11 WARN DAGScheduler: Broadcasting large task binary with size 3.2 MiB\n"
     ]
    },
    {
     "name": "stderr",
     "output_type": "stream",
     "text": [
      "\r",
      "[Stage 3681:>                                                       (0 + 1) / 1]\r"
     ]
    },
    {
     "name": "stdout",
     "output_type": "stream",
     "text": [
      "23/01/26 23:59:16 WARN DAGScheduler: Broadcasting large task binary with size 4.5 MiB\n"
     ]
    },
    {
     "name": "stderr",
     "output_type": "stream",
     "text": [
      "\r",
      "[Stage 3685:>                                                       (0 + 1) / 1]\r"
     ]
    },
    {
     "name": "stdout",
     "output_type": "stream",
     "text": [
      "23/01/26 23:59:17 WARN DAGScheduler: Broadcasting large task binary with size 4.5 MiB\n"
     ]
    },
    {
     "name": "stderr",
     "output_type": "stream",
     "text": [
      "[Stage 3699:>                                                       (0 + 1) / 1]\r"
     ]
    },
    {
     "name": "stdout",
     "output_type": "stream",
     "text": [
      "23/01/27 00:00:30 WARN DAGScheduler: Broadcasting large task binary with size 3.2 MiB\n"
     ]
    },
    {
     "name": "stderr",
     "output_type": "stream",
     "text": [
      "                                                                                \r"
     ]
    },
    {
     "name": "stdout",
     "output_type": "stream",
     "text": [
      "23/01/27 00:00:34 WARN DAGScheduler: Broadcasting large task binary with size 3.2 MiB\n"
     ]
    },
    {
     "name": "stderr",
     "output_type": "stream",
     "text": [
      "\r",
      "[Stage 3705:>                                                       (0 + 1) / 1]\r"
     ]
    },
    {
     "name": "stdout",
     "output_type": "stream",
     "text": [
      "23/01/27 00:00:39 WARN DAGScheduler: Broadcasting large task binary with size 4.5 MiB\n"
     ]
    },
    {
     "name": "stderr",
     "output_type": "stream",
     "text": [
      "\r",
      "[Stage 3709:>                                                       (0 + 1) / 1]\r"
     ]
    },
    {
     "name": "stdout",
     "output_type": "stream",
     "text": [
      "23/01/27 00:00:40 WARN DAGScheduler: Broadcasting large task binary with size 4.5 MiB\n"
     ]
    },
    {
     "name": "stderr",
     "output_type": "stream",
     "text": [
      "DEBUG:etp:Proceeding with data for [datetime.date(2022, 1, 2), datetime.date(2022, 1, 3), datetime.date(2022, 1, 4), datetime.date(2022, 1, 5)] dates\n",
      "[Stage 3723:>                                                       (0 + 1) / 1]\r"
     ]
    },
    {
     "name": "stdout",
     "output_type": "stream",
     "text": [
      "23/01/27 00:01:55 WARN DAGScheduler: Broadcasting large task binary with size 3.2 MiB\n"
     ]
    },
    {
     "name": "stderr",
     "output_type": "stream",
     "text": [
      "                                                                                \r"
     ]
    },
    {
     "name": "stdout",
     "output_type": "stream",
     "text": [
      "23/01/27 00:01:58 WARN DAGScheduler: Broadcasting large task binary with size 3.2 MiB\n"
     ]
    },
    {
     "name": "stderr",
     "output_type": "stream",
     "text": [
      "\r",
      "[Stage 3729:>                                                       (0 + 1) / 1]\r"
     ]
    },
    {
     "name": "stdout",
     "output_type": "stream",
     "text": [
      "23/01/27 00:02:03 WARN DAGScheduler: Broadcasting large task binary with size 4.5 MiB\n"
     ]
    },
    {
     "name": "stderr",
     "output_type": "stream",
     "text": [
      "\r",
      "[Stage 3733:>                                                       (0 + 1) / 1]\r"
     ]
    },
    {
     "name": "stdout",
     "output_type": "stream",
     "text": [
      "23/01/27 00:02:05 WARN DAGScheduler: Broadcasting large task binary with size 4.5 MiB\n"
     ]
    },
    {
     "name": "stderr",
     "output_type": "stream",
     "text": [
      "\r",
      "[Stage 3738:>                                                       (0 + 1) / 1]\r",
      "\r",
      "                                                                                \r"
     ]
    },
    {
     "name": "stdout",
     "output_type": "stream",
     "text": [
      "23/01/27 00:02:05 WARN DAGScheduler: Broadcasting large task binary with size 4.5 MiB\n"
     ]
    },
    {
     "name": "stderr",
     "output_type": "stream",
     "text": [
      "\r",
      "[Stage 3743:>                                                       (0 + 1) / 1]\r"
     ]
    },
    {
     "name": "stdout",
     "output_type": "stream",
     "text": [
      "23/01/27 00:02:07 WARN DAGScheduler: Broadcasting large task binary with size 4.5 MiB\n"
     ]
    },
    {
     "name": "stderr",
     "output_type": "stream",
     "text": [
      "DEBUG:etp:Retrieved 1679 asset data rows for 2022-01-02                         \n",
      "DEBUG:etp:3 rows for 3 topN retrieved assets: ['eco_value_coin' 'defit' 'bata'] \n",
      "DEBUG:etp:Generated random weights with dimensions 2\n",
      "DEBUG:etp:[[0.2455405  0.66494154 0.08951796]\n",
      " [0.77045533 0.22529512 0.00424955]\n",
      " [0.46083621 0.46490044 0.07426335]\n",
      " [0.7347999  0.21780459 0.04739551]\n",
      " [0.08588294 0.08394898 0.83016808]]\n",
      "DEBUG:etp:Multiplied array generated weighted returns with 2 dimensions\n",
      "DEBUG:etp:[[0.08713239 0.17175906 0.02106942]\n",
      " [0.27340343 0.05819531 0.0010002 ]\n",
      " [0.16353213 0.12008704 0.01747902]\n",
      " [0.26075075 0.05626045 0.01115526]\n",
      " [0.03047638 0.02168461 0.19539276]]\n",
      "DEBUG:etp:Sum of each randomized weighted portfolio with 1 dimensions [0.27996087 0.33259893 0.30109818 0.32816647 0.24755375]\n",
      "DEBUG:etp:Maximum weighted row index 1\n",
      "[Stage 3752:>                                                       (0 + 1) / 1]\r"
     ]
    },
    {
     "name": "stdout",
     "output_type": "stream",
     "text": [
      "23/01/27 00:03:23 WARN DAGScheduler: Broadcasting large task binary with size 3.2 MiB\n"
     ]
    },
    {
     "name": "stderr",
     "output_type": "stream",
     "text": [
      "                                                                                \r"
     ]
    },
    {
     "name": "stdout",
     "output_type": "stream",
     "text": [
      "23/01/27 00:03:26 WARN DAGScheduler: Broadcasting large task binary with size 3.2 MiB\n"
     ]
    },
    {
     "name": "stderr",
     "output_type": "stream",
     "text": [
      "\r",
      "[Stage 3758:>                                                       (0 + 1) / 1]\r"
     ]
    },
    {
     "name": "stdout",
     "output_type": "stream",
     "text": [
      "23/01/27 00:03:30 WARN DAGScheduler: Broadcasting large task binary with size 4.5 MiB\n"
     ]
    },
    {
     "name": "stderr",
     "output_type": "stream",
     "text": [
      "\r",
      "[Stage 3762:>                                                       (0 + 1) / 1]\r"
     ]
    },
    {
     "name": "stdout",
     "output_type": "stream",
     "text": [
      "23/01/27 00:03:33 WARN DAGScheduler: Broadcasting large task binary with size 4.5 MiB\n"
     ]
    },
    {
     "name": "stderr",
     "output_type": "stream",
     "text": [
      "\r",
      "[Stage 3767:>                                                       (0 + 1) / 1]\r",
      "\r",
      "                                                                                \r"
     ]
    },
    {
     "name": "stdout",
     "output_type": "stream",
     "text": [
      "23/01/27 00:03:33 WARN DAGScheduler: Broadcasting large task binary with size 4.5 MiB\n",
      "23/01/27 00:03:35 WARN DAGScheduler: Broadcasting large task binary with size 4.5 MiB\n"
     ]
    },
    {
     "name": "stderr",
     "output_type": "stream",
     "text": [
      "DEBUG:etp:Retrieved 1679 asset data rows for 2022-01-03                         \n",
      "DEBUG:etp:3 rows for 3 topN retrieved assets: ['bitcoinpos' 'cypherium' 'merge'] \n",
      "DEBUG:etp:Generated random weights with dimensions 2\n",
      "DEBUG:etp:[[0.20151767 0.67979804 0.11868429]\n",
      " [0.0023878  0.38619926 0.61141294]\n",
      " [0.28757203 0.40095235 0.31147562]\n",
      " [0.05957886 0.07831058 0.86211056]\n",
      " [0.27693719 0.57578193 0.14728087]]\n",
      "DEBUG:etp:Multiplied array generated weighted returns with 2 dimensions\n",
      "DEBUG:etp:[[0.10811883 0.19743827 0.02780693]\n",
      " [0.00128111 0.11216642 0.14324992]\n",
      " [0.15428896 0.11645126 0.07297663]\n",
      " [0.03196542 0.02274426 0.20198668]\n",
      " [0.14858313 0.16722818 0.03450691]]\n",
      "DEBUG:etp:Sum of each randomized weighted portfolio with 1 dimensions [0.33336402 0.25669745 0.34371685 0.25669636 0.35031822]\n",
      "DEBUG:etp:Maximum weighted row index 4\n",
      "[Stage 3781:>                                                       (0 + 1) / 1]\r"
     ]
    },
    {
     "name": "stdout",
     "output_type": "stream",
     "text": [
      "23/01/27 00:04:47 WARN DAGScheduler: Broadcasting large task binary with size 3.2 MiB\n"
     ]
    },
    {
     "name": "stderr",
     "output_type": "stream",
     "text": [
      "                                                                                \r"
     ]
    },
    {
     "name": "stdout",
     "output_type": "stream",
     "text": [
      "23/01/27 00:04:50 WARN DAGScheduler: Broadcasting large task binary with size 3.2 MiB\n"
     ]
    },
    {
     "name": "stderr",
     "output_type": "stream",
     "text": [
      "\r",
      "[Stage 3787:>                                                       (0 + 1) / 1]\r"
     ]
    },
    {
     "name": "stdout",
     "output_type": "stream",
     "text": [
      "23/01/27 00:04:55 WARN DAGScheduler: Broadcasting large task binary with size 4.5 MiB\n"
     ]
    },
    {
     "name": "stderr",
     "output_type": "stream",
     "text": [
      "\r",
      "[Stage 3791:>                                                       (0 + 1) / 1]\r"
     ]
    },
    {
     "name": "stdout",
     "output_type": "stream",
     "text": [
      "23/01/27 00:04:57 WARN DAGScheduler: Broadcasting large task binary with size 4.5 MiB\n"
     ]
    },
    {
     "name": "stderr",
     "output_type": "stream",
     "text": [
      "\r",
      "[Stage 3796:>                                                       (0 + 1) / 1]\r",
      "\r",
      "                                                                                \r"
     ]
    },
    {
     "name": "stdout",
     "output_type": "stream",
     "text": [
      "23/01/27 00:04:58 WARN DAGScheduler: Broadcasting large task binary with size 4.5 MiB\n"
     ]
    },
    {
     "name": "stderr",
     "output_type": "stream",
     "text": [
      "\r",
      "[Stage 3801:>                                                       (0 + 1) / 1]\r"
     ]
    },
    {
     "name": "stdout",
     "output_type": "stream",
     "text": [
      "23/01/27 00:05:00 WARN DAGScheduler: Broadcasting large task binary with size 4.5 MiB\n"
     ]
    },
    {
     "name": "stderr",
     "output_type": "stream",
     "text": [
      "DEBUG:etp:Retrieved 1679 asset data rows for 2022-01-04                         \n",
      "DEBUG:etp:3 rows for 3 topN retrieved assets: ['primecoin' 'freicoin' 'the_corgi_of_polkabridge'] \n",
      "DEBUG:etp:Generated random weights with dimensions 2\n",
      "DEBUG:etp:[[0.35942933 0.61637532 0.02419535]\n",
      " [0.10149592 0.33758528 0.56091881]\n",
      " [0.21404052 0.45931416 0.32664532]\n",
      " [0.53524858 0.26246625 0.20228517]\n",
      " [0.40847781 0.57028678 0.02123541]]\n",
      "DEBUG:etp:Multiplied array generated weighted returns with 2 dimensions\n",
      "DEBUG:etp:[[0.06019566 0.0783117  0.00306519]\n",
      " [0.0169981  0.04289087 0.07106012]\n",
      " [0.03584658 0.05835677 0.04138113]\n",
      " [0.08964111 0.03334685 0.02562654]\n",
      " [0.06841009 0.07245606 0.00269021]]\n",
      "DEBUG:etp:Sum of each randomized weighted portfolio with 1 dimensions [0.14157255 0.13094909 0.13558448 0.1486145  0.14355636]\n",
      "DEBUG:etp:Maximum weighted row index 3\n",
      "[Stage 3810:>                                                       (0 + 1) / 1]\r"
     ]
    },
    {
     "name": "stdout",
     "output_type": "stream",
     "text": [
      "23/01/27 00:06:12 WARN DAGScheduler: Broadcasting large task binary with size 3.2 MiB\n"
     ]
    },
    {
     "name": "stderr",
     "output_type": "stream",
     "text": [
      "                                                                                \r"
     ]
    },
    {
     "name": "stdout",
     "output_type": "stream",
     "text": [
      "23/01/27 00:06:16 WARN DAGScheduler: Broadcasting large task binary with size 3.2 MiB\n"
     ]
    },
    {
     "name": "stderr",
     "output_type": "stream",
     "text": [
      "\r",
      "[Stage 3816:>                                                       (0 + 1) / 1]\r"
     ]
    },
    {
     "name": "stdout",
     "output_type": "stream",
     "text": [
      "23/01/27 00:06:20 WARN DAGScheduler: Broadcasting large task binary with size 4.5 MiB\n"
     ]
    },
    {
     "name": "stderr",
     "output_type": "stream",
     "text": [
      "\r",
      "[Stage 3820:>                                                       (0 + 1) / 1]\r"
     ]
    },
    {
     "name": "stdout",
     "output_type": "stream",
     "text": [
      "23/01/27 00:06:22 WARN DAGScheduler: Broadcasting large task binary with size 4.5 MiB\n"
     ]
    },
    {
     "name": "stderr",
     "output_type": "stream",
     "text": [
      "\r",
      "                                                                                \r"
     ]
    },
    {
     "name": "stdout",
     "output_type": "stream",
     "text": [
      "23/01/27 00:06:22 WARN DAGScheduler: Broadcasting large task binary with size 4.5 MiB\n"
     ]
    },
    {
     "name": "stderr",
     "output_type": "stream",
     "text": [
      "\r",
      "[Stage 3830:>                                                       (0 + 1) / 1]\r"
     ]
    },
    {
     "name": "stdout",
     "output_type": "stream",
     "text": [
      "23/01/27 00:06:24 WARN DAGScheduler: Broadcasting large task binary with size 4.5 MiB\n"
     ]
    },
    {
     "name": "stderr",
     "output_type": "stream",
     "text": [
      "DEBUG:etp:Retrieved 1679 asset data rows for 2022-01-05                         \n",
      "DEBUG:etp:3 rows for 3 topN retrieved assets: ['switcheo' 'cypherium' 'bata'] \n",
      "DEBUG:etp:Generated random weights with dimensions 2\n",
      "DEBUG:etp:[[0.07823604 0.0363523  0.88541167]\n",
      " [0.03241786 0.55106731 0.41651483]\n",
      " [0.49546224 0.14343015 0.36110761]\n",
      " [0.48265701 0.06727906 0.45006393]\n",
      " [0.23179664 0.4741772  0.29402616]]\n",
      "DEBUG:etp:Multiplied array generated weighted returns with 2 dimensions\n",
      "DEBUG:etp:[[0.06965087 0.0105107  0.19963038]\n",
      " [0.02886051 0.15933249 0.09391   ]\n",
      " [0.44109308 0.04147058 0.08141755]\n",
      " [0.42969302 0.01945269 0.10147419]\n",
      " [0.20636062 0.13710092 0.06629295]]\n",
      "DEBUG:etp:Sum of each randomized weighted portfolio with 1 dimensions [0.27979194 0.282103   0.56398121 0.5506199  0.40975449]\n",
      "DEBUG:etp:Maximum weighted row index 2\n",
      "INFO:etp:Completed maximized weights for 4 portfolio(s)\n"
     ]
    },
    {
     "data": {
      "text/plain": [
       "[{'mcap_date': datetime.date(2022, 1, 2),\n",
       "  'asset_name': ['eco_value_coin', 'defit', 'bata'],\n",
       "  'log_ror': [0.3548595414839115, 0.25830700717589633, 0.23536530334128117],\n",
       "  'weights': [0.7704553297762768, 0.22529511751785014, 0.004249552705873011],\n",
       "  'mcap_value': [Decimal('6236804.35301152300000000000'),\n",
       "   Decimal('1000748.52084980000000000000'),\n",
       "   Decimal('2048489.12741518840000000000')]},\n",
       " {'mcap_date': datetime.date(2022, 1, 3),\n",
       "  'asset_name': ['bitcoinpos', 'cypherium', 'merge'],\n",
       "  'log_ror': [0.536522839064536, 0.29043664872179714, 0.2342932451898627],\n",
       "  'weights': [0.27693719094463143, 0.5757819347894347, 0.14728087426593373],\n",
       "  'mcap_value': [Decimal('7820145.33051354000000000000'),\n",
       "   Decimal('6058222.00732905600000000000'),\n",
       "   Decimal('1557677.11527762590000000000')]},\n",
       " {'mcap_date': datetime.date(2022, 1, 4),\n",
       "  'asset_name': ['primecoin', 'freicoin', 'the_corgi_of_polkabridge'],\n",
       "  'log_ror': [0.16747566087979177, 0.12705196679285938, 0.1266852098744721],\n",
       "  'weights': [0.5352485801987441, 0.2624662456667546, 0.20228517413450128],\n",
       "  'mcap_value': [Decimal('3666988.72502600100000000000'),\n",
       "   Decimal('1167534.46693452820000000000'),\n",
       "   Decimal('1030406.95441261400000000000')]},\n",
       " {'mcap_date': datetime.date(2022, 1, 5),\n",
       "  'asset_name': ['switcheo', 'cypherium', 'bata'],\n",
       "  'log_ror': [0.8902657740973933, 0.28913435527896963, 0.22546616811774503],\n",
       "  'weights': [0.495462240679835, 0.1434301509909681, 0.36110760832919697],\n",
       "  'mcap_value': [Decimal('3705401.08286339000000000000'),\n",
       "   Decimal('5307841.87359533550000000000'),\n",
       "   Decimal('1365014.43365447340000000000')]}]"
      ]
     },
     "execution_count": 204,
     "metadata": {},
     "output_type": "execute_result"
    }
   ],
   "source": [
    "_cols={\n",
    "    \"NAMECOLUMN\":'asset_name',\n",
    "    \"DATECOLUMN\":'mcap_date',\n",
    "    \"RORCOLUMN\" :'log_ror',\n",
    "    \"MCAPCOLUMN\":'mcap_value',\n",
    "    \"WEIGHTCOLUMN\":'weights',\n",
    "}\n",
    "_l_exp_wts,_cols_dict=clsROR.get_weighted_mpt(\n",
    "    data=_mcap_log_ror,\n",
    "    cols_dict=_cols,\n",
    "#     date_col='mcap_date',\n",
    "#     val_col='log_ror',\n",
    "#     name_col='asset_name',\n",
    "    topN=3,\n",
    "    size=5,\n",
    "    **_kwargs,\n",
    ")\n",
    "# print(\"Dates: %s\" % str(_wr_dates))\n",
    "# print(\"Data : row=%d columns=%d\" % (_wr_data.count(),len(_wr_data.columns)))\n",
    "_l_exp_wts"
   ]
  },
  {
   "cell_type": "markdown",
   "id": "e97eaaeb",
   "metadata": {},
   "source": [
    "## Write MPT to MongoDB\n",
    "\n",
    "* Collection name = \"mpt.\"+date(YYYY-MM-DD)\n",
    "* document structure: \\_id, date, asset, mcap.value, mcap.weight, mcap.ror"
   ]
  },
  {
   "cell_type": "code",
   "execution_count": 206,
   "id": "91329cc2",
   "metadata": {},
   "outputs": [
    {
     "name": "stdout",
     "output_type": "stream",
     "text": [
      "\n",
      " [{'date': '2022-01-04T00:00:00', 'asset': 'primecoin', 'mcap.weight': 0.5352485801987441, 'mcap.ror': 0.16747566087979177, 'mcap.value': 3666988.725026001, '_id': ObjectId('63d2a5ac429b0bf378f27909')}, {'date': '2022-01-04T00:00:00', 'asset': 'freicoin', 'mcap.weight': 0.2624662456667546, 'mcap.ror': 0.12705196679285938, 'mcap.value': 1167534.4669345282, '_id': ObjectId('63d2a5ac429b0bf378f2790a')}, {'date': '2022-01-04T00:00:00', 'asset': 'the_corgi_of_polkabridge', 'mcap.weight': 0.20228517413450128, 'mcap.ror': 0.1266852098744721, 'mcap.value': 1030406.954412614, '_id': ObjectId('63d2a5ac429b0bf378f2790b')}]\n",
      "\n",
      " [{'date': '2022-01-03T00:00:00', 'asset': 'bitcoinpos', 'mcap.weight': 0.27693719094463143, 'mcap.ror': 0.536522839064536, 'mcap.value': 7820145.33051354, '_id': ObjectId('63d2a5ac429b0bf378f27906')}, {'date': '2022-01-03T00:00:00', 'asset': 'cypherium', 'mcap.weight': 0.5757819347894347, 'mcap.ror': 0.29043664872179714, 'mcap.value': 6058222.007329056, '_id': ObjectId('63d2a5ac429b0bf378f27907')}, {'date': '2022-01-03T00:00:00', 'asset': 'merge', 'mcap.weight': 0.14728087426593373, 'mcap.ror': 0.2342932451898627, 'mcap.value': 1557677.1152776259, '_id': ObjectId('63d2a5ac429b0bf378f27908')}]\n",
      "\n",
      " [{'date': '2022-01-05T00:00:00', 'asset': 'switcheo', 'mcap.weight': 0.495462240679835, 'mcap.ror': 0.8902657740973933, 'mcap.value': 3705401.08286339, '_id': ObjectId('63d2a5ac429b0bf378f2790c')}, {'date': '2022-01-05T00:00:00', 'asset': 'cypherium', 'mcap.weight': 0.1434301509909681, 'mcap.ror': 0.28913435527896963, 'mcap.value': 5307841.8735953355, '_id': ObjectId('63d2a5ac429b0bf378f2790d')}, {'date': '2022-01-05T00:00:00', 'asset': 'bata', 'mcap.weight': 0.36110760832919697, 'mcap.ror': 0.22546616811774503, 'mcap.value': 1365014.4336544734, '_id': ObjectId('63d2a5ac429b0bf378f2790e')}]\n",
      "\n",
      " [{'date': '2022-01-02T00:00:00', 'asset': 'eco_value_coin', 'mcap.weight': 0.7704553297762768, 'mcap.ror': 0.3548595414839115, 'mcap.value': 6236804.353011523, '_id': ObjectId('63d2a5ac429b0bf378f27903')}, {'date': '2022-01-02T00:00:00', 'asset': 'defit', 'mcap.weight': 0.22529511751785014, 'mcap.ror': 0.25830700717589633, 'mcap.value': 1000748.5208498, '_id': ObjectId('63d2a5ac429b0bf378f27904')}, {'date': '2022-01-02T00:00:00', 'asset': 'bata', 'mcap.weight': 0.004249552705873011, 'mcap.ror': 0.23536530334128117, 'mcap.value': 2048489.1274151884, '_id': ObjectId('63d2a5ac429b0bf378f27905')}]\n"
     ]
    }
   ],
   "source": [
    "_uniq_dates = set([x['date'] for x in mpt_list_])\n",
    "for _date in _uniq_dates:\n",
    "    _mpt_for_date = list(filter(lambda d: d['date'] == _date, mpt_list_))\n",
    "    print(\"\\n\",_mpt_for_date)"
   ]
  },
  {
   "cell_type": "code",
   "execution_count": 210,
   "id": "ccad5a43",
   "metadata": {},
   "outputs": [
    {
     "name": "stderr",
     "output_type": "stream",
     "text": [
      "DEBUG:etp:Created database collection ready dict list with 12 documents\n",
      "DEBUG:load:MongoClient(host=['127.0.0.1:27017'], document_class=dict, tz_aware=False, connect=True, authsource='tip-daily-mpt', authmechanism='SCRAM-SHA-256')\n",
      "DEBUG:load:Writing document to mongodb\n",
      "INFO:load:Total 3 documents, successful insert count = 0 & modify count = 3\n",
      "DEBUG:etp:3 documents written to mpt.2022-01-04 collection\n",
      "DEBUG:load:Writing document to mongodb\n",
      "INFO:load:Created a new collection Collection(Database(MongoClient(host=['127.0.0.1:27017'], document_class=dict, tz_aware=False, connect=True, authsource='tip-daily-mpt', authmechanism='SCRAM-SHA-256'), 'tip-daily-mpt'), 'mpt.2022-01-03')\n",
      "INFO:load:Inserted 3 documents\n",
      "DEBUG:etp:3 documents written to mpt.2022-01-03 collection\n",
      "DEBUG:load:Writing document to mongodb\n",
      "INFO:load:Created a new collection Collection(Database(MongoClient(host=['127.0.0.1:27017'], document_class=dict, tz_aware=False, connect=True, authsource='tip-daily-mpt', authmechanism='SCRAM-SHA-256'), 'tip-daily-mpt'), 'mpt.2022-01-05')\n",
      "INFO:load:Inserted 3 documents\n",
      "DEBUG:etp:3 documents written to mpt.2022-01-05 collection\n",
      "DEBUG:load:Writing document to mongodb\n",
      "INFO:load:Created a new collection Collection(Database(MongoClient(host=['127.0.0.1:27017'], document_class=dict, tz_aware=False, connect=True, authsource='tip-daily-mpt', authmechanism='SCRAM-SHA-256'), 'tip-daily-mpt'), 'mpt.2022-01-02')\n",
      "INFO:load:Inserted 3 documents\n",
      "DEBUG:etp:3 documents written to mpt.2022-01-02 collection\n",
      "INFO:etp:Wrote 4 mpt documents successfully to mongodb tip-daily-mpt\n"
     ]
    },
    {
     "name": "stdout",
     "output_type": "stream",
     "text": [
      "Total 3 documents, successful insert count = 0 & modify count = 3\n",
      "[[{'date': '2022-01-04T00:00:00', 'asset': 'primecoin', 'mcap.weight': 0.5352485801987441, 'mcap.ror': 0.16747566087979177, 'mcap.value': 3666988.725026001}, {'date': '2022-01-04T00:00:00', 'asset': 'freicoin', 'mcap.weight': 0.2624662456667546, 'mcap.ror': 0.12705196679285938, 'mcap.value': 1167534.4669345282}, {'date': '2022-01-04T00:00:00', 'asset': 'the_corgi_of_polkabridge', 'mcap.weight': 0.20228517413450128, 'mcap.ror': 0.1266852098744721, 'mcap.value': 1030406.954412614}], [{'date': '2022-01-03T00:00:00', 'asset': 'bitcoinpos', 'mcap.weight': 0.27693719094463143, 'mcap.ror': 0.536522839064536, 'mcap.value': 7820145.33051354, '_id': ObjectId('63d346a3429b0bf378f27914')}, {'date': '2022-01-03T00:00:00', 'asset': 'cypherium', 'mcap.weight': 0.5757819347894347, 'mcap.ror': 0.29043664872179714, 'mcap.value': 6058222.007329056, '_id': ObjectId('63d346a3429b0bf378f27915')}, {'date': '2022-01-03T00:00:00', 'asset': 'merge', 'mcap.weight': 0.14728087426593373, 'mcap.ror': 0.2342932451898627, 'mcap.value': 1557677.1152776259, '_id': ObjectId('63d346a3429b0bf378f27916')}], [{'date': '2022-01-05T00:00:00', 'asset': 'switcheo', 'mcap.weight': 0.495462240679835, 'mcap.ror': 0.8902657740973933, 'mcap.value': 3705401.08286339, '_id': ObjectId('63d346a3429b0bf378f27917')}, {'date': '2022-01-05T00:00:00', 'asset': 'cypherium', 'mcap.weight': 0.1434301509909681, 'mcap.ror': 0.28913435527896963, 'mcap.value': 5307841.8735953355, '_id': ObjectId('63d346a3429b0bf378f27918')}, {'date': '2022-01-05T00:00:00', 'asset': 'bata', 'mcap.weight': 0.36110760832919697, 'mcap.ror': 0.22546616811774503, 'mcap.value': 1365014.4336544734, '_id': ObjectId('63d346a3429b0bf378f27919')}], [{'date': '2022-01-02T00:00:00', 'asset': 'eco_value_coin', 'mcap.weight': 0.7704553297762768, 'mcap.ror': 0.3548595414839115, 'mcap.value': 6236804.353011523, '_id': ObjectId('63d346a3429b0bf378f2791a')}, {'date': '2022-01-02T00:00:00', 'asset': 'defit', 'mcap.weight': 0.22529511751785014, 'mcap.ror': 0.25830700717589633, 'mcap.value': 1000748.5208498, '_id': ObjectId('63d346a3429b0bf378f2791b')}, {'date': '2022-01-02T00:00:00', 'asset': 'bata', 'mcap.weight': 0.004249552705873011, 'mcap.ror': 0.23536530334128117, 'mcap.value': 2048489.1274151884, '_id': ObjectId('63d346a3429b0bf378f2791c')}]]\n"
     ]
    }
   ],
   "source": [
    "_kwargs = {\n",
    "    \"DESTINDBNAME\":'tip-daily-mpt',\n",
    "    \"COLLPREFIX\" : 'mpt.for'\n",
    "}\n",
    "mpt_list_ = clsROR.write_mpt_to_db(\n",
    "    mpt_data=_l_exp_wts,\n",
    "    cols_dict=_cols_dict,\n",
    "    **kwargs,\n",
    ")\n",
    "print(mpt_list_)"
   ]
  },
  {
   "cell_type": "markdown",
   "id": "123b582b",
   "metadata": {},
   "source": [
    "## SMA"
   ]
  },
  {
   "cell_type": "code",
   "execution_count": 62,
   "id": "fb7109da",
   "metadata": {},
   "outputs": [],
   "source": [
    "kwargs={\n",
    "    \"DATETIMEATTR\":'mcap_date',\n",
    "    \"WINLENGTH\":7,\n",
    "    \"WINUNIT\":'DAY',\n",
    "}\n",
    "_sma_sdf=clsStat.simple_moving_stats(\n",
    "    column='diff',   # column name to apply the rolling computation\n",
    "    stat_op=\"mean\", # stat operation sum, mean or standard deviation\n",
    "    data=_mcap_log_ror,   # data set\n",
    "    **kwargs,    # \n",
    ")\n"
   ]
  },
  {
   "cell_type": "code",
   "execution_count": 63,
   "id": "6b0e50f7",
   "metadata": {},
   "outputs": [
    {
     "name": "stdout",
     "output_type": "stream",
     "text": [
      "23/01/18 16:08:49 WARN WindowExec: No Partition Defined for Window operation! Moving all data to a single partition, this can cause serious performance degradation.\n",
      "23/01/18 16:08:49 WARN WindowExec: No Partition Defined for Window operation! Moving all data to a single partition, this can cause serious performance degradation.\n",
      "23/01/18 16:08:49 WARN WindowExec: No Partition Defined for Window operation! Moving all data to a single partition, this can cause serious performance degradation.\n"
     ]
    },
    {
     "name": "stderr",
     "output_type": "stream",
     "text": [
      "\r",
      "[Stage 289:>                                                        (0 + 1) / 1]\r"
     ]
    },
    {
     "name": "stdout",
     "output_type": "stream",
     "text": [
      "23/01/18 16:09:19 WARN WindowExec: No Partition Defined for Window operation! Moving all data to a single partition, this can cause serious performance degradation.\n",
      "23/01/18 16:09:19 WARN WindowExec: No Partition Defined for Window operation! Moving all data to a single partition, this can cause serious performance degradation.\n"
     ]
    },
    {
     "name": "stderr",
     "output_type": "stream",
     "text": [
      "\r",
      "[Stage 291:>                                                        (0 + 1) / 1]\r"
     ]
    },
    {
     "name": "stdout",
     "output_type": "stream",
     "text": [
      "23/01/18 16:09:21 WARN WindowExec: No Partition Defined for Window operation! Moving all data to a single partition, this can cause serious performance degradation.\n",
      "23/01/18 16:09:21 WARN WindowExec: No Partition Defined for Window operation! Moving all data to a single partition, this can cause serious performance degradation.\n",
      "23/01/18 16:09:22 WARN DAGScheduler: Broadcasting large task binary with size 3.3 MiB\n"
     ]
    },
    {
     "name": "stderr",
     "output_type": "stream",
     "text": [
      "\r",
      "[Stage 294:>                                                        (0 + 1) / 1]\r"
     ]
    },
    {
     "name": "stdout",
     "output_type": "stream",
     "text": [
      "23/01/18 16:09:27 WARN WindowExec: No Partition Defined for Window operation! Moving all data to a single partition, this can cause serious performance degradation.\n",
      "23/01/18 16:09:27 WARN WindowExec: No Partition Defined for Window operation! Moving all data to a single partition, this can cause serious performance degradation.\n",
      "23/01/18 16:09:29 WARN DAGScheduler: Broadcasting large task binary with size 4.7 MiB\n"
     ]
    },
    {
     "name": "stderr",
     "output_type": "stream",
     "text": [
      "\r",
      "[Stage 298:>                                                        (0 + 1) / 1]\r"
     ]
    },
    {
     "name": "stdout",
     "output_type": "stream",
     "text": [
      "23/01/18 16:09:30 WARN WindowExec: No Partition Defined for Window operation! Moving all data to a single partition, this can cause serious performance degradation.\n",
      "23/01/18 16:09:30 WARN WindowExec: No Partition Defined for Window operation! Moving all data to a single partition, this can cause serious performance degradation.\n",
      "23/01/18 16:09:32 WARN DAGScheduler: Broadcasting large task binary with size 4.7 MiB\n"
     ]
    },
    {
     "name": "stderr",
     "output_type": "stream",
     "text": [
      "\r",
      "[Stage 303:>                                                        (0 + 1) / 1]\r"
     ]
    },
    {
     "name": "stdout",
     "output_type": "stream",
     "text": [
      "+-------------------+------------------+--------------------+------------------+--------------------+--------------------+\n",
      "|          mcap_date|        asset_name|          mcap_value|         mcap_diff|                diff|   rolling_mean_diff|\n",
      "+-------------------+------------------+--------------------+------------------+--------------------+--------------------+\n",
      "|2022-01-01 00:00:00|            0chain|18581739.78078547...| 7.290301186807742|-930233.240037870...|66178035.76083997...|\n",
      "|2022-01-01 00:00:00|              1_up|6580366.707037671...|   6.8616358287375|-691331.205561129...|66178035.76083997...|\n",
      "|2022-01-01 00:00:00|              1art|20450189.55773175...| 7.363364636916094|-2636658.08537944...|66178035.76083997...|\n",
      "|2022-01-01 00:00:00|             1inch|1025227565.328557...| 8.979442079049766|71461032.82505580...|66178035.76083997...|\n",
      "|2022-01-01 00:00:00|            1world|2254182.045747336...| 6.312876221139709|198877.3184413719...|66178035.76083997...|\n",
      "|2022-01-01 00:00:00|              2key|1106885.446348409...| 6.044102677253574|               0E-20|66178035.76083997...|\n",
      "|2022-01-01 00:00:00|           42_coin|3832104.567015460...|6.5441736578130625|331253.3195671700...|66178035.76083997...|\n",
      "|2022-01-01 00:00:00|             88mph|10824218.47269857...| 7.093835175095548|-1587593.13668197...|66178035.76083997...|\n",
      "|2022-01-01 00:00:00|              8pay|3610012.139665701...| 6.605679991693943|-423468.639156704...|66178035.76083997...|\n",
      "|2022-01-01 00:00:00|              aave|3476942672.293371...| 9.464220656447015|564746300.6006827...|66178035.76083997...|\n",
      "|2022-01-01 00:00:00|        aavegotchi|156473485.9974581...| 8.143642900396662|17272311.24812794...|66178035.76083997...|\n",
      "|2022-01-01 00:00:00|        abcc_token|2046882.170612630...| 6.296353324263376|68303.49426347810...|66178035.76083997...|\n",
      "|2022-01-01 00:00:00|ac_milan_fan_token|10194427.84189629...| 6.985947949187111|512809.7045598960...|66178035.76083997...|\n",
      "|2022-01-01 00:00:00|             acent|7743380.066421100...| 6.707254863284722|2647081.498949518...|66178035.76083997...|\n",
      "|2022-01-01 00:00:00|          acryptos|13564545.38850261...| 7.053549835466283|2252273.481894585...|66178035.76083997...|\n",
      "|2022-01-01 00:00:00|         acryptosi|4076581.141450484...|  6.53056094902732|683760.1298536055...|66178035.76083997...|\n",
      "|2022-01-01 00:00:00|            adaboy|1780421.066847682...| 6.058849793278639|635304.2483060820...|66178035.76083997...|\n",
      "|2022-01-01 00:00:00|      adamant_coin|1444722.780595567...| 6.455594505421806|-1410200.91634160...|66178035.76083997...|\n",
      "|2022-01-01 00:00:00| adamant_messenger|2307406.573969466...| 6.268898664519726|450035.5564469726...|66178035.76083997...|\n",
      "|2022-01-01 00:00:00|              adax|40643051.97006576...|7.4184522237585275|14433944.97632884...|66178035.76083997...|\n",
      "+-------------------+------------------+--------------------+------------------+--------------------+--------------------+\n",
      "only showing top 20 rows\n",
      "\n"
     ]
    },
    {
     "name": "stderr",
     "output_type": "stream",
     "text": [
      "\r",
      "                                                                                \r"
     ]
    }
   ],
   "source": [
    "_sma_sdf.show()"
   ]
  },
  {
   "cell_type": "code",
   "execution_count": null,
   "id": "8fb99563",
   "metadata": {},
   "outputs": [],
   "source": []
  }
 ],
 "metadata": {
  "kernelspec": {
   "display_name": "Python 3 (ipykernel)",
   "language": "python",
   "name": "python3"
  },
  "language_info": {
   "codemirror_mode": {
    "name": "ipython",
    "version": 3
   },
   "file_extension": ".py",
   "mimetype": "text/x-python",
   "name": "python",
   "nbconvert_exporter": "python",
   "pygments_lexer": "ipython3",
   "version": "3.8.10"
  }
 },
 "nbformat": 4,
 "nbformat_minor": 5
}
