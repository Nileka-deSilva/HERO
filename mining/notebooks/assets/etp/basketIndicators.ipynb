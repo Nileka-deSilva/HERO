{
 "cells": [
  {
   "cell_type": "markdown",
   "id": "dff18268",
   "metadata": {},
   "source": [
    "# MCap Performance Index"
   ]
  },
  {
   "cell_type": "code",
   "execution_count": 150,
   "id": "3c41af45",
   "metadata": {},
   "outputs": [],
   "source": [
    "'''\n",
    "    WARNING CONTROL to display or ignore all warnings\n",
    "'''\n",
    "import warnings; warnings.simplefilter('ignore')     #switch betweeb 'default' and 'ignore'\n",
    "import traceback\n",
    "\n",
    "''' Set debug flag to view extended error messages; else set it to False to turn off debugging mode '''\n",
    "debug = True"
   ]
  },
  {
   "cell_type": "code",
   "execution_count": 262,
   "id": "c724eba0",
   "metadata": {},
   "outputs": [
    {
     "name": "stdout",
     "output_type": "stream",
     "text": [
      "All functional APP-libraries in REZAWARE-package of REZAWARE-module imported successfully!\n",
      "All functional PERFORMINDEX-libraries in ETP-package of ASSETS-module imported successfully!\n",
      "All packages in utils ml timeseries RollingStats imported successfully!\n",
      "All functional SPARKNOSQLWLS-libraries in LOAD-package of ETL-module imported successfully!\n",
      "All functional EXECSESSION-libraries in SPARK-package of LIB-module imported successfully!\n",
      "sparkNoSQLwls Class initialization complete\n",
      "execSession Class initialization complete\n",
      "sparkNoSQLwls Class initialization complete\n",
      "dailyTopN Class initialization complete\n",
      "performIndex Class initialization complete\n",
      "execSession Class initialization complete\n",
      "sparkNoSQLwls Class initialization complete\n",
      "\n",
      "Class initialization and load complete!\n"
     ]
    }
   ],
   "source": [
    "import os\n",
    "import sys\n",
    "from datetime import datetime, date, timedelta\n",
    "\n",
    "sys.path.insert(1,\"/home/nuwan/workspace/rezaware/\")\n",
    "import rezaware as reza\n",
    "from mining.modules.assets.etp import performIndex as indx\n",
    "from utils.modules.ml.timeseries import rollingstats as stats\n",
    "from utils.modules.etl.load import sparkNoSQLwls as nosql\n",
    "from utils.modules.lib.spark import execSession as spark\n",
    "\n",
    "''' restart initiate classes '''\n",
    "if debug:\n",
    "    import importlib\n",
    "    reza = importlib.reload(reza)\n",
    "    indx = importlib.reload(indx)\n",
    "    stats= importlib.reload(stats)\n",
    "    nosql= importlib.reload(nosql)\n",
    "    spark= importlib.reload(spark)\n",
    "    \n",
    "__desc__ = \"analyze crypto market capitalization time series data\"\n",
    "clsIndx =indx.Portfolio(desc=__desc__)\n",
    "clsStat=stats.RollingStats(desc=__desc__)\n",
    "clsNoSQL=nosql.NoSQLWorkLoads(desc=__desc__)\n",
    "print(\"\\nClass initialization and load complete!\")"
   ]
  },
  {
   "cell_type": "markdown",
   "id": "d2e6e42d",
   "metadata": {},
   "source": [
    "## Read Portfolio"
   ]
  },
  {
   "cell_type": "code",
   "execution_count": 152,
   "id": "ea8d9b0b",
   "metadata": {},
   "outputs": [
    {
     "data": {
      "text/plain": [
       "[{'_id': ObjectId('63d4bb80badb4157b3025cb3'),\n",
       "  'date': '2022-01-10T00:00:00',\n",
       "  'asset': 'charg_coin',\n",
       "  'mcap.weight': 0.4453207926976063,\n",
       "  'mcap.ror': 0.6574680456259401,\n",
       "  'mcap.value': 1148729.3496556643},\n",
       " {'_id': ObjectId('63d4bb80badb4157b3025cb4'),\n",
       "  'date': '2022-01-10T00:00:00',\n",
       "  'asset': 'matryx',\n",
       "  'mcap.weight': 0.34821271988748376,\n",
       "  'mcap.ror': 0.2861116369010913,\n",
       "  'mcap.value': 2246173.234597205},\n",
       " {'_id': ObjectId('63d4bb80badb4157b3025cb5'),\n",
       "  'date': '2022-01-10T00:00:00',\n",
       "  'asset': 'bitcoinpos',\n",
       "  'mcap.weight': 0.20646648741490986,\n",
       "  'mcap.ror': 0.20342319564693787,\n",
       "  'mcap.value': 14522857.416871611}]"
      ]
     },
     "execution_count": 152,
     "metadata": {},
     "output_type": "execute_result"
    }
   ],
   "source": [
    "_db_coll=[\"mpt.top3.2022-01-10\",\"mpt.top3.2022-01-09\"]\n",
    "_coll_dt=date(2022,1,10)\n",
    "_mpt_port = clsIndx.get_portfolio(\n",
    "    db_name=\"tip-daily-mpt\",\n",
    "    db_coll=[],#_db_coll,\n",
    "    coll_date=_coll_dt,\n",
    ")\n",
    "_mpt_port"
   ]
  },
  {
   "cell_type": "code",
   "execution_count": 257,
   "id": "11fdfe1b",
   "metadata": {},
   "outputs": [
    {
     "name": "stderr",
     "output_type": "stream",
     "text": [
      "                                                                                \r"
     ]
    },
    {
     "name": "stdout",
     "output_type": "stream",
     "text": [
      "+----------+----------+--------------------+--------------------+--------------------+--------------------+\n",
      "| mcap_date|asset_name|          mcap_value| mcap_value_prev_val|           mcap_diff|             log_ror|\n",
      "+----------+----------+--------------------+--------------------+--------------------+--------------------+\n",
      "|2021-12-27|    matryx|90564566.46846270...|                null|               0E-15|                null|\n",
      "|2021-12-27|charg_coin|5165891.154802010...|                null|               0E-15|                null|\n",
      "|2021-12-27|bitcoinpos|356969638.9413422...|                null|               0E-15|                null|\n",
      "|2021-12-28|charg_coin|9159213.308334240...|5165891.154802010...|3993322.153532230...| -0.2487131958281502|\n",
      "|2021-12-28|bitcoinpos|356969638.9413422...|356969638.9413422...|               0E-15|                 0.0|\n",
      "|2021-12-28|    matryx|90564566.46846270...|90564566.46846270...|               0E-15|                 0.0|\n",
      "|2021-12-29|bitcoinpos|356969638.9413422...|356969638.9413422...|               0E-15|                 0.0|\n",
      "|2021-12-29|    matryx|90564566.46846270...|90564566.46846270...|               0E-15|                 0.0|\n",
      "|2021-12-29|charg_coin|7650002.431022230...|9159213.308334240...|-1509210.87731201...| 0.07819645334688553|\n",
      "|2021-12-30|bitcoinpos|356969638.9413422...|356969638.9413422...|               0E-15|                 0.0|\n",
      "|2021-12-30|    matryx|90564566.46846270...|90564566.46846270...|               0E-15|                 0.0|\n",
      "|2021-12-30|charg_coin|5492884.730708290...|7650002.431022230...|-2157117.70031394...|  0.1438610057802389|\n",
      "|2022-01-01|charg_coin|107377688.8321108...|5492884.730708290...|101884804.1014025...|   -1.29111191099808|\n",
      "|2022-01-01|bitcoinpos|882395776.0686971...|356969638.9413422...|525426137.1273548...| -0.3930320886120946|\n",
      "|2022-01-01|    matryx|102394410.5892690...|90564566.46846270...|11829844.12080630...|-0.05331787521872595|\n",
      "|2022-01-02|    matryx|87350265.41435866...|102394410.5892690...|-15044145.1749103...| 0.06901209078750543|\n",
      "|2022-01-02|charg_coin|86695399.81828123...|107377688.8321108...|-20682289.0138295...| 0.09291810204538865|\n",
      "|2022-01-02|bitcoinpos|356969638.9413422...|882395776.0686971...|-525426137.127354...| 0.39303212736071513|\n",
      "|2022-01-03|charg_coin|71775397.53167415...|86695399.81828123...|-14920002.2866070...| 0.08202055433500906|\n",
      "|2022-01-03|    matryx|20475182.95895680...|87350265.41435866...|-66875082.4554018...|  0.6300364267965319|\n",
      "+----------+----------+--------------------+--------------------+--------------------+--------------------+\n",
      "only showing top 20 rows\n",
      "\n"
     ]
    }
   ],
   "source": [
    "clsIndx.data.show()"
   ]
  },
  {
   "cell_type": "code",
   "execution_count": 256,
   "id": "e8e607c2",
   "metadata": {},
   "outputs": [
    {
     "name": "stdout",
     "output_type": "stream",
     "text": [
      "Wait a moment, retrieving data ...\n"
     ]
    },
    {
     "name": "stderr",
     "output_type": "stream",
     "text": [
      "                                                                                \r"
     ]
    },
    {
     "name": "stdout",
     "output_type": "stream",
     "text": [
      "[Error]function <@data.setter> name '__s_fn_id__' is not defined\n",
      "Traceback (most recent call last):\n",
      "  File \"/home/nuwan/workspace/rezaware/utils/modules/ml/timeseries/rollingstats.py\", line 170, in session\n",
      "    clsSpark.session={}\n",
      "NameError: name 'clsSpark' is not defined\n",
      "\n",
      "During handling of the above exception, another exception occurred:\n",
      "\n",
      "Traceback (most recent call last):\n",
      "  File \"/home/nuwan/workspace/rezaware/utils/modules/ml/timeseries/rollingstats.py\", line 251, in data\n",
      "    self._data = self.session.createDataFrame(data)\n",
      "  File \"/home/nuwan/workspace/rezaware/utils/modules/ml/timeseries/rollingstats.py\", line 179, in session\n",
      "    logger.error(\"%s %s \\n\",__s_fn_id__, err)\n",
      "NameError: name '__s_fn_id__' is not defined\n",
      "\n",
      "[Error]function <simple_moving_stats> name '__s_fn_id__' is not defined\n",
      "Traceback (most recent call last):\n",
      "  File \"/home/nuwan/workspace/rezaware/utils/modules/ml/timeseries/rollingstats.py\", line 221, in data\n",
      "    raise ValueError(\"Data is of NoneType; cannot be used in any %s computations\"\n",
      "ValueError: Data is of NoneType; cannot be used in any RollingStats computations\n",
      "\n",
      "During handling of the above exception, another exception occurred:\n",
      "\n",
      "Traceback (most recent call last):\n",
      "  File \"/home/nuwan/workspace/rezaware/utils/modules/ml/timeseries/rollingstats.py\", line 590, in simple_moving_stats\n",
      "    if self.data is None:\n",
      "  File \"/home/nuwan/workspace/rezaware/utils/modules/ml/timeseries/rollingstats.py\", line 225, in data\n",
      "    logger.error(\"%s %s \\n\",__s_fn_id__, err)\n",
      "NameError: name '__s_fn_id__' is not defined\n",
      "\n",
      "[Error]function <roll_stat_wrapper> local variable '_roll_col_name' referenced before assignment\n",
      "Traceback (most recent call last):\n",
      "  File \"/home/nuwan/workspace/rezaware/utils/modules/ml/timeseries/rollingstats.py\", line 535, in calc_roll_stat\n",
      "    _roll_col_name = func(\n",
      "  File \"/home/nuwan/workspace/rezaware/utils/modules/ml/timeseries/rollingstats.py\", line 638, in simple_moving_stats\n",
      "    return _roll_col_name\n",
      "UnboundLocalError: local variable '_roll_col_name' referenced before assignment\n",
      "\n",
      "[Error]function <index_wrapper> name '_pos_dm_df_sms' is not defined\n"
     ]
    },
    {
     "ename": "TypeError",
     "evalue": "%d format: a number is required, not NoneType",
     "output_type": "error",
     "traceback": [
      "\u001b[0;31m---------------------------------------------------------------------------\u001b[0m",
      "\u001b[0;31mTypeError\u001b[0m                                 Traceback (most recent call last)",
      "Input \u001b[0;32mIn [256]\u001b[0m, in \u001b[0;36m<cell line: 13>\u001b[0;34m()\u001b[0m\n\u001b[1;32m      2\u001b[0m _kwargs\u001b[38;5;241m=\u001b[39m{\n\u001b[1;32m      3\u001b[0m     \u001b[38;5;124m\"\u001b[39m\u001b[38;5;124mLOGCOLNAME\u001b[39m\u001b[38;5;124m\"\u001b[39m :\u001b[38;5;124m'\u001b[39m\u001b[38;5;124mlog_ror\u001b[39m\u001b[38;5;124m'\u001b[39m,\n\u001b[1;32m      4\u001b[0m     \u001b[38;5;124m\"\u001b[39m\u001b[38;5;124mPREVALCOLNAME\u001b[39m\u001b[38;5;124m\"\u001b[39m:\u001b[38;5;124m'\u001b[39m\u001b[38;5;124mmcap_prev_val\u001b[39m\u001b[38;5;124m'\u001b[39m,\n\u001b[1;32m      5\u001b[0m     \u001b[38;5;124m\"\u001b[39m\u001b[38;5;124mDIFFCOLNAME\u001b[39m\u001b[38;5;124m\"\u001b[39m:\u001b[38;5;124m'\u001b[39m\u001b[38;5;124mmcap_diff\u001b[39m\u001b[38;5;124m'\u001b[39m,\n\u001b[1;32m      6\u001b[0m }\n\u001b[1;32m      7\u001b[0m _rsi \u001b[38;5;241m=\u001b[39m clsIndx\u001b[38;5;241m.\u001b[39mget_index(\n\u001b[1;32m      8\u001b[0m     portfolio\u001b[38;5;241m=\u001b[39m_mpt_port,\n\u001b[1;32m      9\u001b[0m     date\u001b[38;5;241m=\u001b[39m_coll_dt,\n\u001b[1;32m     10\u001b[0m     index_type\u001b[38;5;241m=\u001b[39m__idx_type__,\n\u001b[1;32m     11\u001b[0m     \u001b[38;5;241m*\u001b[39m\u001b[38;5;241m*\u001b[39m_kwargs,\n\u001b[1;32m     12\u001b[0m )\n\u001b[0;32m---> 13\u001b[0m \u001b[38;5;28mprint\u001b[39m(\u001b[38;5;124;43m\"\u001b[39;49m\u001b[38;5;124;43mCompleted index computation for \u001b[39;49m\u001b[38;5;132;43;01m%s\u001b[39;49;00m\u001b[38;5;124;43m = \u001b[39;49m\u001b[38;5;132;43;01m%d\u001b[39;49;00m\u001b[38;5;124;43m\"\u001b[39;49m\u001b[43m \u001b[49m\u001b[38;5;241;43m%\u001b[39;49m\u001b[43m \u001b[49m\u001b[43m(\u001b[49m\u001b[43m__idx_type__\u001b[49m\u001b[38;5;241;43m.\u001b[39;49m\u001b[43mupper\u001b[49m\u001b[43m(\u001b[49m\u001b[43m)\u001b[49m\u001b[43m,\u001b[49m\u001b[43m_rsi\u001b[49m\u001b[43m)\u001b[49m)\n",
      "\u001b[0;31mTypeError\u001b[0m: %d format: a number is required, not NoneType"
     ]
    }
   ],
   "source": [
    "__idx_type__='adx'\n",
    "_kwargs={\n",
    "    \"LOGCOLNAME\" :'log_ror',\n",
    "    \"PREVALCOLNAME\":'mcap_prev_val',\n",
    "    \"DIFFCOLNAME\":'mcap_diff',\n",
    "}\n",
    "_rsi = clsIndx.get_index(\n",
    "    portfolio=_mpt_port,\n",
    "    date=_coll_dt,\n",
    "    index_type=__idx_type__,\n",
    "    **_kwargs,\n",
    ")\n",
    "print(\"Completed index computation for %s = %d\" % (__idx_type__.upper(),_rsi))"
   ]
  },
  {
   "cell_type": "markdown",
   "id": "263f89fe",
   "metadata": {},
   "source": [
    "# SMA"
   ]
  },
  {
   "cell_type": "code",
   "execution_count": 260,
   "id": "0b09c0f2",
   "metadata": {},
   "outputs": [],
   "source": [
    "_mcap_log_ror=clsIndx.data.na.drop(subset=['log_ror'])"
   ]
  },
  {
   "cell_type": "code",
   "execution_count": 264,
   "id": "173f7330",
   "metadata": {},
   "outputs": [],
   "source": [
    "kwargs={\n",
    "    \"DATETIMEATTR\":'mcap_date',\n",
    "    \"WINLENGTH\":7,\n",
    "    \"WINUNIT\":'DAY',\n",
    "}\n",
    "_sma_sdf=clsStat.simple_moving_stats(\n",
    "    column='log_ror',   # column name to apply the rolling computation\n",
    "    stat_op=\"avg\", # stat operation sum, mean or standard deviation\n",
    "    data=_mcap_log_ror,   # data set\n",
    "    **kwargs,    # \n",
    ")\n"
   ]
  },
  {
   "cell_type": "code",
   "execution_count": 266,
   "id": "469ac705",
   "metadata": {},
   "outputs": [
    {
     "name": "stdout",
     "output_type": "stream",
     "text": [
      "23/02/01 16:09:25 WARN WindowExec: No Partition Defined for Window operation! Moving all data to a single partition, this can cause serious performance degradation.\n",
      "23/02/01 16:09:25 WARN WindowExec: No Partition Defined for Window operation! Moving all data to a single partition, this can cause serious performance degradation.\n",
      "23/02/01 16:09:25 WARN WindowExec: No Partition Defined for Window operation! Moving all data to a single partition, this can cause serious performance degradation.\n"
     ]
    },
    {
     "name": "stderr",
     "output_type": "stream",
     "text": [
      "\r",
      "[Stage 3624:>                                                       (0 + 1) / 1]\r"
     ]
    },
    {
     "name": "stdout",
     "output_type": "stream",
     "text": [
      "23/02/01 16:09:52 WARN WindowExec: No Partition Defined for Window operation! Moving all data to a single partition, this can cause serious performance degradation.\n",
      "23/02/01 16:09:52 WARN WindowExec: No Partition Defined for Window operation! Moving all data to a single partition, this can cause serious performance degradation.\n",
      "23/02/01 16:09:52 WARN WindowExec: No Partition Defined for Window operation! Moving all data to a single partition, this can cause serious performance degradation.\n",
      "23/02/01 16:09:52 WARN WindowExec: No Partition Defined for Window operation! Moving all data to a single partition, this can cause serious performance degradation.\n"
     ]
    },
    {
     "name": "stderr",
     "output_type": "stream",
     "text": [
      "\r",
      "                                                                                \r"
     ]
    },
    {
     "name": "stdout",
     "output_type": "stream",
     "text": [
      "23/02/01 16:09:53 WARN WindowExec: No Partition Defined for Window operation! Moving all data to a single partition, this can cause serious performance degradation.\n",
      "23/02/01 16:09:53 WARN WindowExec: No Partition Defined for Window operation! Moving all data to a single partition, this can cause serious performance degradation.\n",
      "23/02/01 16:09:53 WARN WindowExec: No Partition Defined for Window operation! Moving all data to a single partition, this can cause serious performance degradation.\n",
      "23/02/01 16:09:53 WARN WindowExec: No Partition Defined for Window operation! Moving all data to a single partition, this can cause serious performance degradation.\n",
      "23/02/01 16:09:53 WARN WindowExec: No Partition Defined for Window operation! Moving all data to a single partition, this can cause serious performance degradation.\n",
      "23/02/01 16:09:53 WARN WindowExec: No Partition Defined for Window operation! Moving all data to a single partition, this can cause serious performance degradation.\n",
      "23/02/01 16:09:54 WARN WindowExec: No Partition Defined for Window operation! Moving all data to a single partition, this can cause serious performance degradation.\n",
      "23/02/01 16:09:54 WARN WindowExec: No Partition Defined for Window operation! Moving all data to a single partition, this can cause serious performance degradation.\n",
      "+--------------------+--------------------+\n",
      "|             log_ror| rolling_avg_log_ror|\n",
      "+--------------------+--------------------+\n",
      "| -0.2487131958281502|-0.08290439860938341|\n",
      "|                 0.0|-0.08290439860938341|\n",
      "|                 0.0|-0.08290439860938341|\n",
      "|                 0.0|-0.02841945708021078|\n",
      "|                 0.0|-0.02841945708021078|\n",
      "| 0.07819645334688553|-0.02841945708021078|\n",
      "|                 0.0|-0.00296174852233...|\n",
      "|                 0.0|-0.00296174852233...|\n",
      "|  0.1438610057802389|-0.00296174852233...|\n",
      "|   -1.29111191099808| -0.1470098009608272|\n",
      "| -0.3930320886120946| -0.1470098009608272|\n",
      "|-0.05331787521872595| -0.1470098009608272|\n",
      "| 0.06901209078750543|-0.08061035275575448|\n",
      "| 0.09291810204538865|-0.08061035275575448|\n",
      "| 0.39303212736071513|-0.08061035275575448|\n",
      "| 0.08202055433500906| 0.06457323026583855|\n",
      "|  0.6300364267965319| 0.06457323026583855|\n",
      "|  1.6594164549898702| 0.06457323026583855|\n",
      "| -1.7626070847382742|-0.08138057753398922|\n",
      "| -0.7212189707881447|-0.08138057753398922|\n",
      "+--------------------+--------------------+\n",
      "only showing top 20 rows\n",
      "\n"
     ]
    }
   ],
   "source": [
    "_sma_sdf.select([\"log_ror\",\"rolling_avg_log_ror\"]).show()"
   ]
  },
  {
   "cell_type": "code",
   "execution_count": null,
   "id": "ee312d0e",
   "metadata": {},
   "outputs": [],
   "source": []
  }
 ],
 "metadata": {
  "kernelspec": {
   "display_name": "Python 3 (ipykernel)",
   "language": "python",
   "name": "python3"
  },
  "language_info": {
   "codemirror_mode": {
    "name": "ipython",
    "version": 3
   },
   "file_extension": ".py",
   "mimetype": "text/x-python",
   "name": "python",
   "nbconvert_exporter": "python",
   "pygments_lexer": "ipython3",
   "version": "3.8.10"
  }
 },
 "nbformat": 4,
 "nbformat_minor": 5
}
