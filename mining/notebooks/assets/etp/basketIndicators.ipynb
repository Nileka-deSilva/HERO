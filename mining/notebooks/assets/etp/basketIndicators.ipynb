{
 "cells": [
  {
   "cell_type": "markdown",
   "id": "dff18268",
   "metadata": {},
   "source": [
    "# MCap Performance Index"
   ]
  },
  {
   "cell_type": "code",
   "execution_count": 1,
   "id": "3c41af45",
   "metadata": {},
   "outputs": [],
   "source": [
    "'''\n",
    "    WARNING CONTROL to display or ignore all warnings\n",
    "'''\n",
    "import warnings; warnings.simplefilter('ignore')     #switch betweeb 'default' and 'ignore'\n",
    "import traceback\n",
    "\n",
    "''' Set debug flag to view extended error messages; else set it to False to turn off debugging mode '''\n",
    "debug = True"
   ]
  },
  {
   "cell_type": "code",
   "execution_count": 381,
   "id": "c724eba0",
   "metadata": {},
   "outputs": [
    {
     "name": "stderr",
     "output_type": "stream",
     "text": [
      "INFO:etp:########################################################\n",
      "INFO:etp:performIndex Class\n",
      "INFO:transform:########################################################\n",
      "INFO:transform:sparkCleanNRich transform\n",
      "DEBUG:transform:utils initialization for etl module package transform sparkCleanNRich done.\n",
      "Start workloads: analyze crypto market capitalization time series data.\n",
      "INFO:load:########################################################\n",
      "INFO:load:sparkNoSQLwls Class\n",
      "DEBUG:load:utils initialization for etl module package load sparkNoSQLwls done.\n",
      "Start workloads: analyze crypto market capitalization time series data.\n",
      "INFO:timeseries:########################################################\n",
      "INFO:timeseries:RollingStats timeseries\n",
      "INFO:spark:########################################################\n",
      "INFO:spark:execSession spark\n",
      "INFO:spark:Connection complete! ready to load data.\n",
      "DEBUG:spark:utils initialization for lib module package spark execSession done.\n",
      "Start workloads: analyze crypto market capitalization time series data.\n",
      "DEBUG:timeseries:utils initialization for ml module package timeseries RollingStats done.\n",
      "Start workloads: analyze crypto market capitalization time series data.\n",
      "INFO:etp:########################################################\n",
      "INFO:etp:dailyTopN Class\n",
      "INFO:load:########################################################\n",
      "INFO:load:sparkdbwls load\n",
      "DEBUG:load:utils initialization for etl module package load sparkdbwls done.\n",
      "Start workloads: analyze crypto market capitalization time series data.\n",
      "INFO:transform:########################################################\n",
      "INFO:transform:sparkCleanNRich transform\n",
      "DEBUG:transform:utils initialization for etl module package transform sparkCleanNRich done.\n",
      "Start workloads: analyze crypto market capitalization time series data.\n",
      "INFO:load:########################################################\n",
      "INFO:load:sparkNoSQLwls Class\n",
      "DEBUG:load:utils initialization for etl module package load sparkNoSQLwls done.\n",
      "Start workloads: analyze crypto market capitalization time series data.\n",
      "DEBUG:etp:mining initialization for assets module package etp dailyTopN done.\n",
      "Start workloads: analyze crypto market capitalization time series data.\n",
      "DEBUG:etp:mining initialization for assets module package etp performIndex done.\n",
      "Start workloads: analyze crypto market capitalization time series data.\n",
      "INFO:timeseries:########################################################\n",
      "INFO:timeseries:RollingStats timeseries\n",
      "INFO:spark:########################################################\n",
      "INFO:spark:execSession spark\n",
      "INFO:spark:Connection complete! ready to load data.\n",
      "DEBUG:spark:utils initialization for lib module package spark execSession done.\n",
      "Start workloads: analyze crypto market capitalization time series data.\n",
      "DEBUG:timeseries:utils initialization for ml module package timeseries RollingStats done.\n",
      "Start workloads: analyze crypto market capitalization time series data.\n",
      "INFO:load:########################################################\n"
     ]
    },
    {
     "name": "stdout",
     "output_type": "stream",
     "text": [
      "All functional APP-libraries in REZAWARE-package of REZAWARE-module imported successfully!\n",
      "All functional PERFORMINDEX-libraries in ETP-package of ASSETS-module imported successfully!\n",
      "All packages in utils ml timeseries RollingStats imported successfully!\n",
      "All functional SPARKNOSQLWLS-libraries in LOAD-package of ETL-module imported successfully!\n",
      "All functional EXECSESSION-libraries in SPARK-package of LIB-module imported successfully!\n",
      "sparkNoSQLwls Class initialization complete\n",
      "execSession Class initialization complete\n",
      "sparkNoSQLwls Class initialization complete\n",
      "dailyTopN Class initialization complete\n",
      "performIndex Class initialization complete\n",
      "execSession Class initialization complete\n"
     ]
    },
    {
     "name": "stderr",
     "output_type": "stream",
     "text": [
      "INFO:load:sparkNoSQLwls Class\n",
      "DEBUG:load:utils initialization for etl module package load sparkNoSQLwls done.\n",
      "Start workloads: analyze crypto market capitalization time series data.\n"
     ]
    },
    {
     "name": "stdout",
     "output_type": "stream",
     "text": [
      "sparkNoSQLwls Class initialization complete\n",
      "\n",
      "Class initialization and load complete!\n"
     ]
    }
   ],
   "source": [
    "import os\n",
    "import sys\n",
    "from datetime import datetime, date, timedelta\n",
    "\n",
    "sys.path.insert(1,\"/home/nuwan/workspace/rezaware/\")\n",
    "import rezaware as reza\n",
    "from mining.modules.assets.etp import performIndex as indx\n",
    "from utils.modules.ml.timeseries import rollingstats as stats\n",
    "from utils.modules.etl.load import sparkNoSQLwls as nosql\n",
    "from utils.modules.lib.spark import execSession as spark\n",
    "\n",
    "''' restart initiate classes '''\n",
    "if debug:\n",
    "    import importlib\n",
    "    reza = importlib.reload(reza)\n",
    "    indx = importlib.reload(indx)\n",
    "    stats= importlib.reload(stats)\n",
    "    nosql= importlib.reload(nosql)\n",
    "    spark= importlib.reload(spark)\n",
    "    \n",
    "__desc__ = \"analyze crypto market capitalization time series data\"\n",
    "clsIndx =indx.Portfolio(desc=__desc__)\n",
    "clsStat=stats.RollingStats(desc=__desc__)\n",
    "clsNoSQL=nosql.NoSQLWorkLoads(desc=__desc__)\n",
    "print(\"\\nClass initialization and load complete!\")"
   ]
  },
  {
   "cell_type": "markdown",
   "id": "d2e6e42d",
   "metadata": {},
   "source": [
    "## Read Portfolio"
   ]
  },
  {
   "cell_type": "code",
   "execution_count": 3,
   "id": "ea8d9b0b",
   "metadata": {},
   "outputs": [
    {
     "data": {
      "text/plain": [
       "[{'_id': ObjectId('63d4bb80badb4157b3025cb3'),\n",
       "  'date': '2022-01-10T00:00:00',\n",
       "  'asset': 'charg_coin',\n",
       "  'mcap.weight': 0.4453207926976063,\n",
       "  'mcap.ror': 0.6574680456259401,\n",
       "  'mcap.value': 1148729.3496556643},\n",
       " {'_id': ObjectId('63d4bb80badb4157b3025cb4'),\n",
       "  'date': '2022-01-10T00:00:00',\n",
       "  'asset': 'matryx',\n",
       "  'mcap.weight': 0.34821271988748376,\n",
       "  'mcap.ror': 0.2861116369010913,\n",
       "  'mcap.value': 2246173.234597205},\n",
       " {'_id': ObjectId('63d4bb80badb4157b3025cb5'),\n",
       "  'date': '2022-01-10T00:00:00',\n",
       "  'asset': 'bitcoinpos',\n",
       "  'mcap.weight': 0.20646648741490986,\n",
       "  'mcap.ror': 0.20342319564693787,\n",
       "  'mcap.value': 14522857.416871611}]"
      ]
     },
     "execution_count": 3,
     "metadata": {},
     "output_type": "execute_result"
    }
   ],
   "source": [
    "_db_coll=[\"mpt.top3.2022-01-10\",\"mpt.top3.2022-01-09\"]\n",
    "_coll_dt=date(2022,1,10)\n",
    "_mpt_port = clsIndx.get_portfolio(\n",
    "    db_name=\"tip-daily-mpt\",\n",
    "    db_coll=[],#_db_coll,\n",
    "    coll_date=_coll_dt,\n",
    ")\n",
    "_mpt_port"
   ]
  },
  {
   "cell_type": "code",
   "execution_count": 382,
   "id": "e8e607c2",
   "metadata": {},
   "outputs": [
    {
     "name": "stderr",
     "output_type": "stream",
     "text": [
      "DEBUG:etp:Portfolio class property set with <class 'list'> of length 3\n",
      "DEBUG:load:@property Database dbType set to: postgresql\n",
      "DEBUG:load:@property Database dbHostIP set to: 127.0.0.1\n",
      "DEBUG:load:@property Database Port set to: 5432\n",
      "DEBUG:load:@property Database dbName set to: tip\n",
      "DEBUG:load:@property Database dbConnURL set to: jdbc:postgresql://127.0.0.1:5432/tip\n",
      "DEBUG:load:@property Spark PARTITIONS set to: 2\n",
      "DEBUG:load:@property Database dbUser set to: farmraider\n",
      "DEBUG:load:@property Database dbPswd set to: spirittribe\n",
      "DEBUG:load:@property Database dbDriver set to: org.postgresql.Driver\n",
      "DEBUG:load:@property Spark homeDir set to: /opt/spark/\n",
      "DEBUG:load:@property Spark appName set to: utils etl load sparkdbwls\n",
      "DEBUG:load:@property Spark config set to: spark.jars\n",
      "DEBUG:load:@property Spark jarDir set to: /opt/spark/jars/postgresql-42.5.0.jar\n",
      "DEBUG:load:@property Spark master set to: local[1]\n",
      "DEBUG:load:function <@property session> importing SparkSession library from spark dir: /opt/spark/\n",
      "DEBUG:load:Non-type spark session set with homeDir: /opt/spark/ appName: utils etl load sparkdbwls conf: spark.jars jarDir: /opt/spark/jars/postgresql-42.5.0.jar master: local[1]\n",
      "DEBUG:load:@property Spark rwFormat set to: jdbc\n"
     ]
    },
    {
     "name": "stdout",
     "output_type": "stream",
     "text": [
      "Wait a moment, retrieving data ...\n"
     ]
    },
    {
     "name": "stderr",
     "output_type": "stream",
     "text": [
      "DEBUG:load:loaded 345 rows into pyspark dataframe                               \n",
      "DEBUG:etp:function <read_n_clean_mcap> loaded 345 rows                          \n",
      "DEBUG:transform:Pivot columns: ['matryx', 'bitcoinpos', 'charg_coin']           \n",
      "DEBUG:transform:Transposing 345 rows groupby MCAP_DATE to pivot with distinct values in ASSET_NAME and SUM aggregation on column(s): mcap_value\n",
      "DEBUG:etp:function <impute_wrapper> ran an impute on all 3 asset tickers        \n",
      "DEBUG:transform:NULL count completed for 3 columns                              \n",
      "DEBUG:etp:After unpivot, dataframe with rows 24 columns 3                       \n",
      "DEBUG:etp:function <get_index> loaded 24 rows and 3 columns for ADX computation \n",
      "DEBUG:etp:computed ROR for column: mcap_value added log_ror column with 24 rows \n",
      "DEBUG:timeseries:Class property data is a pyspark DataFrame                     \n",
      "DEBUG:timeseries:Class property data is a pyspark DataFrame                     \n",
      "DEBUG:timeseries:Class property data is a pyspark DataFrame                     \n",
      "DEBUG:timeseries:Cast column mcap_date to timestamp\n",
      "DEBUG:timeseries:WindowSpec set to <pyspark.sql.window.WindowSpec object at 0x7fe69f73df70> \n",
      "DEBUG:timeseries:Class property windowSpec set with {'LENGTH': 7, 'UNIT': 'DAY'}\n",
      "DEBUG:timeseries:Simple Moving Stats results will be written to column sm_sum_+DM\n",
      "DEBUG:timeseries:Class property data is a pyspark DataFrame\n",
      "DEBUG:timeseries:Class property data is a pyspark DataFrame                     \n",
      "DEBUG:timeseries:Class property data is a pyspark DataFrame                     \n",
      "DEBUG:timeseries:Cast column mcap_date to timestamp\n",
      "DEBUG:timeseries:WindowSpec set to <pyspark.sql.window.WindowSpec object at 0x7fe69f72ba30> \n",
      "DEBUG:timeseries:Class property windowSpec set with {'LENGTH': 7, 'UNIT': 'DAY'}\n",
      "DEBUG:timeseries:Simple Moving Stats results will be written to column sm_avg_+DM\n",
      "DEBUG:timeseries:Class property data is a pyspark DataFrame\n",
      "DEBUG:timeseries:Class property data is a pyspark DataFrame                     \n",
      "DEBUG:timeseries:Class property data is a pyspark DataFrame                     \n",
      "DEBUG:timeseries:Cast column mcap_date to timestamp\n",
      "DEBUG:timeseries:WindowSpec set to <pyspark.sql.window.WindowSpec object at 0x7fe69f645610> \n",
      "DEBUG:timeseries:Class property windowSpec set with {'LENGTH': 7, 'UNIT': 'DAY'}\n",
      "DEBUG:timeseries:Simple Moving Stats results will be written to column sm_sum_-DM\n",
      "DEBUG:timeseries:Class property data is a pyspark DataFrame\n",
      "DEBUG:timeseries:Class property data is a pyspark DataFrame                     \n",
      "DEBUG:timeseries:Class property data is a pyspark DataFrame                     \n",
      "DEBUG:timeseries:Cast column mcap_date to timestamp\n",
      "DEBUG:timeseries:WindowSpec set to <pyspark.sql.window.WindowSpec object at 0x7fe69f64c4c0> \n",
      "DEBUG:timeseries:Class property windowSpec set with {'LENGTH': 7, 'UNIT': 'DAY'}\n",
      "DEBUG:timeseries:Simple Moving Stats results will be written to column sm_avg_-DM\n",
      "INFO:etp:function <index_wrapper> computed index value for ADX = 0.4203         \n"
     ]
    },
    {
     "name": "stdout",
     "output_type": "stream",
     "text": [
      "<class 'pyspark.sql.dataframe.DataFrame'> 0.4203415087858535\n"
     ]
    },
    {
     "ename": "TypeError",
     "evalue": "cannot unpack non-iterable float object",
     "output_type": "error",
     "traceback": [
      "\u001b[0;31m---------------------------------------------------------------------------\u001b[0m",
      "\u001b[0;31mTypeError\u001b[0m                                 Traceback (most recent call last)",
      "Input \u001b[0;32mIn [382]\u001b[0m, in \u001b[0;36m<cell line: 11>\u001b[0;34m()\u001b[0m\n\u001b[1;32m      1\u001b[0m __idx_type__\u001b[38;5;241m=\u001b[39m\u001b[38;5;124m'\u001b[39m\u001b[38;5;124madx\u001b[39m\u001b[38;5;124m'\u001b[39m\n\u001b[1;32m      2\u001b[0m _kwargs\u001b[38;5;241m=\u001b[39m{\n\u001b[1;32m      3\u001b[0m     \u001b[38;5;124m\"\u001b[39m\u001b[38;5;124mLOGCOLNAME\u001b[39m\u001b[38;5;124m\"\u001b[39m :\u001b[38;5;124m'\u001b[39m\u001b[38;5;124mlog_ror\u001b[39m\u001b[38;5;124m'\u001b[39m,\n\u001b[1;32m      4\u001b[0m     \u001b[38;5;124m\"\u001b[39m\u001b[38;5;124mPARTCOLNAME\u001b[39m\u001b[38;5;124m\"\u001b[39m:\u001b[38;5;124m\"\u001b[39m\u001b[38;5;124masset_name\u001b[39m\u001b[38;5;124m\"\u001b[39m,\n\u001b[0;32m   (...)\u001b[0m\n\u001b[1;32m      9\u001b[0m     \u001b[38;5;124m\"\u001b[39m\u001b[38;5;124mWINUNIT\u001b[39m\u001b[38;5;124m\"\u001b[39m:\u001b[38;5;124m'\u001b[39m\u001b[38;5;124mDAY\u001b[39m\u001b[38;5;124m'\u001b[39m,\n\u001b[1;32m     10\u001b[0m }\n\u001b[0;32m---> 11\u001b[0m _idx, _idx_sdf \u001b[38;5;241m=\u001b[39m clsIndx\u001b[38;5;241m.\u001b[39mget_index(\n\u001b[1;32m     12\u001b[0m     portfolio\u001b[38;5;241m=\u001b[39m_mpt_port,\n\u001b[1;32m     13\u001b[0m     date\u001b[38;5;241m=\u001b[39m_coll_dt,\n\u001b[1;32m     14\u001b[0m     index_type\u001b[38;5;241m=\u001b[39m__idx_type__,\n\u001b[1;32m     15\u001b[0m     \u001b[38;5;241m*\u001b[39m\u001b[38;5;241m*\u001b[39m_kwargs,\n\u001b[1;32m     16\u001b[0m )\n\u001b[1;32m     18\u001b[0m \u001b[38;5;28mprint\u001b[39m(\u001b[38;5;124m\"\u001b[39m\u001b[38;5;124mCompleted index computation for \u001b[39m\u001b[38;5;132;01m%s\u001b[39;00m\u001b[38;5;124m = \u001b[39m\u001b[38;5;132;01m%0.4f\u001b[39;00m\u001b[38;5;124m\"\u001b[39m\n\u001b[1;32m     19\u001b[0m       \u001b[38;5;241m%\u001b[39m (__idx_type__\u001b[38;5;241m.\u001b[39mupper(),_idx))\n",
      "\u001b[0;31mTypeError\u001b[0m: cannot unpack non-iterable float object"
     ]
    }
   ],
   "source": [
    "__idx_type__='adx'\n",
    "_kwargs={\n",
    "    \"LOGCOLNAME\" :'log_ror',\n",
    "    \"PARTCOLNAME\":\"asset_name\",\n",
    "    \"VALCOLNAME\" :\"mcap_value\",\n",
    "    \"PREVALCOLNAME\":'mcap_prev_val',\n",
    "    \"DIFFCOLNAME\":'mcap_diff',\n",
    "    \"WINLENGTH\":7,\n",
    "    \"WINUNIT\":'DAY',\n",
    "}\n",
    "_idx = clsIndx.get_index(\n",
    "    portfolio=_mpt_port,\n",
    "    date=_coll_dt,\n",
    "    index_type=__idx_type__,\n",
    "    **_kwargs,\n",
    ")\n",
    "\n",
    "print(\"Completed index computation for %s = %0.4f\"\n",
    "      % (__idx_type__.upper(),_idx))"
   ]
  },
  {
   "cell_type": "code",
   "execution_count": 359,
   "id": "b5158252",
   "metadata": {},
   "outputs": [
    {
     "name": "stderr",
     "output_type": "stream",
     "text": [
      "                                                                                \r"
     ]
    },
    {
     "name": "stdout",
     "output_type": "stream",
     "text": [
      "+-------------------+--------+--------+-------------------+--------------------+--------------------+\n",
      "|          mcap_date|     +DI|     -DI|             weight|        weighted_+DI|        weighted_-DI|\n",
      "+-------------------+--------+--------+-------------------+--------------------+--------------------+\n",
      "|2022-01-03 00:00:00|    null|    null|0.34821271988748376|                null|                null|\n",
      "|2022-01-04 00:00:00|    null|1.000000|0.34821271988748376|                null| 0.34821271988748376|\n",
      "|2022-01-05 00:00:00|0.500000|0.200000|0.34821271988748376| 0.17410635994374188| 0.06964254397749675|\n",
      "|2022-01-06 00:00:00|0.192437|0.333333|0.34821271988748376| 0.06700901117698771| 0.11607079055825462|\n",
      "|2022-01-07 00:00:00|0.159888|0.250000|0.34821271988748376|0.055675035357370006| 0.08705317997187094|\n",
      "|2022-01-08 00:00:00|0.200000|0.199030|0.34821271988748376| 0.06964254397749675|  0.0693047776392059|\n",
      "|2022-01-09 00:00:00|0.166667|0.165758|0.34821271988748376|0.058035569385487255|0.057719044023109525|\n",
      "|2022-01-10 00:00:00|0.134465|0.142857|0.34821271988748376|0.046822423379670505| 0.04974462452496627|\n",
      "+-------------------+--------+--------+-------------------+--------------------+--------------------+\n",
      "\n"
     ]
    }
   ],
   "source": [
    "clsIndx.data.select(\n",
    "    F.col('mcap_date'),\n",
    "#     F.col('asset_name'),\n",
    "    F.col('+DI'),\n",
    "    F.col('-DI'),\n",
    "    F.col('weight'),\n",
    "    F.col('weighted_+DI'),\n",
    "    F.col('weighted_-DI'),\n",
    ").filter(F.col(\"asset_name\")=='matryx').show()"
   ]
  },
  {
   "cell_type": "code",
   "execution_count": 357,
   "id": "844420e7",
   "metadata": {},
   "outputs": [
    {
     "name": "stdout",
     "output_type": "stream",
     "text": [
      "root\n",
      " |-- mcap_date: timestamp (nullable = true)\n",
      " |-- asset_name: string (nullable = true)\n",
      " |-- mcap_value: decimal(38,16) (nullable = true)\n",
      " |-- mcap_value_prev_val: decimal(38,16) (nullable = true)\n",
      " |-- mcap_diff: decimal(38,15) (nullable = true)\n",
      " |-- log_ror: double (nullable = true)\n",
      " |-- +DM: decimal(38,18) (nullable = true)\n",
      " |-- -DM: decimal(38,18) (nullable = true)\n",
      " |-- sm_sum_+DM: decimal(38,18) (nullable = true)\n",
      " |-- sm_avg_+DM: decimal(38,22) (nullable = true)\n",
      " |-- sm_sum_-DM: decimal(38,18) (nullable = true)\n",
      " |-- sm_avg_-DM: decimal(38,22) (nullable = true)\n",
      " |-- shift_+DM: decimal(38,18) (nullable = true)\n",
      " |-- shift_-DM: decimal(38,18) (nullable = true)\n",
      " |-- smooth_+DM: decimal(38,16) (nullable = true)\n",
      " |-- smooth_-DM: decimal(38,16) (nullable = true)\n",
      " |-- +DI: decimal(38,6) (nullable = true)\n",
      " |-- -DI: decimal(38,6) (nullable = true)\n",
      " |-- weight: double (nullable = true)\n",
      " |-- weighted_+DI: double (nullable = true)\n",
      " |-- weighted_-DI: double (nullable = true)\n",
      "\n"
     ]
    }
   ],
   "source": [
    "clsIndx.data.printSchema()"
   ]
  },
  {
   "cell_type": "code",
   "execution_count": 283,
   "id": "f865db90",
   "metadata": {},
   "outputs": [
    {
     "name": "stderr",
     "output_type": "stream",
     "text": [
      "                                                                                \r"
     ]
    },
    {
     "data": {
      "application/vnd.plotly.v1+json": {
       "config": {
        "plotlyServerURL": "https://plot.ly"
       },
       "data": [
        {
         "customdata": [
          [
           "charg_coin"
          ],
          [
           "charg_coin"
          ],
          [
           "charg_coin"
          ],
          [
           "charg_coin"
          ],
          [
           "charg_coin"
          ],
          [
           "charg_coin"
          ],
          [
           "charg_coin"
          ],
          [
           "charg_coin"
          ]
         ],
         "hovertemplate": "variable=smooth+DM<br>mcap_date=%{x|%B %d, %Y}<br>value=%{y}<br>asset_name=%{customdata[0]}<extra></extra>",
         "legendgroup": "smooth+DM",
         "line": {
          "color": "#636efa",
          "dash": "solid"
         },
         "marker": {
          "symbol": "circle"
         },
         "mode": "lines",
         "name": "smooth+DM",
         "orientation": "v",
         "showlegend": true,
         "type": "scatter",
         "x": [
          "2022-01-03T00:00:00",
          "2022-01-04T00:00:00",
          "2022-01-05T00:00:00",
          "2022-01-06T00:00:00",
          "2022-01-07T00:00:00",
          "2022-01-08T00:00:00",
          "2022-01-09T00:00:00",
          "2022-01-10T00:00:00"
         ],
         "xaxis": "x",
         "y": [
          0,
          0,
          0,
          0.160422875437818,
          0.3850149010507632,
          0.1782476393753533,
          0.183340429071792,
          1.173838828757186
         ],
         "yaxis": "y"
        },
        {
         "customdata": [
          [
           "charg_coin"
          ],
          [
           "charg_coin"
          ],
          [
           "charg_coin"
          ],
          [
           "charg_coin"
          ],
          [
           "charg_coin"
          ],
          [
           "charg_coin"
          ],
          [
           "charg_coin"
          ],
          [
           "charg_coin"
          ]
         ],
         "hovertemplate": "variable=smooth-DM<br>mcap_date=%{x|%B %d, %Y}<br>value=%{y}<br>asset_name=%{customdata[0]}<extra></extra>",
         "legendgroup": "smooth-DM",
         "line": {
          "color": "#EF553B",
          "dash": "solid"
         },
         "marker": {
          "symbol": "circle"
         },
         "mode": "lines",
         "name": "smooth-DM",
         "orientation": "v",
         "showlegend": true,
         "type": "scatter",
         "x": [
          "2022-01-03T00:00:00",
          "2022-01-04T00:00:00",
          "2022-01-05T00:00:00",
          "2022-01-06T00:00:00",
          "2022-01-07T00:00:00",
          "2022-01-08T00:00:00",
          "2022-01-09T00:00:00",
          "2022-01-10T00:00:00"
         ],
         "xaxis": "x",
         "y": [
          0,
          0.1937421087362244,
          0.6480642927621507,
          0.2965384801630186,
          0.3126960903476423,
          0.3257250941121274,
          0.3350315253724739,
          0.3420113488177337
         ],
         "yaxis": "y"
        }
       ],
       "layout": {
        "legend": {
         "title": {
          "text": "variable"
         },
         "tracegroupgap": 0
        },
        "template": {
         "data": {
          "bar": [
           {
            "error_x": {
             "color": "#2a3f5f"
            },
            "error_y": {
             "color": "#2a3f5f"
            },
            "marker": {
             "line": {
              "color": "#E5ECF6",
              "width": 0.5
             },
             "pattern": {
              "fillmode": "overlay",
              "size": 10,
              "solidity": 0.2
             }
            },
            "type": "bar"
           }
          ],
          "barpolar": [
           {
            "marker": {
             "line": {
              "color": "#E5ECF6",
              "width": 0.5
             },
             "pattern": {
              "fillmode": "overlay",
              "size": 10,
              "solidity": 0.2
             }
            },
            "type": "barpolar"
           }
          ],
          "carpet": [
           {
            "aaxis": {
             "endlinecolor": "#2a3f5f",
             "gridcolor": "white",
             "linecolor": "white",
             "minorgridcolor": "white",
             "startlinecolor": "#2a3f5f"
            },
            "baxis": {
             "endlinecolor": "#2a3f5f",
             "gridcolor": "white",
             "linecolor": "white",
             "minorgridcolor": "white",
             "startlinecolor": "#2a3f5f"
            },
            "type": "carpet"
           }
          ],
          "choropleth": [
           {
            "colorbar": {
             "outlinewidth": 0,
             "ticks": ""
            },
            "type": "choropleth"
           }
          ],
          "contour": [
           {
            "colorbar": {
             "outlinewidth": 0,
             "ticks": ""
            },
            "colorscale": [
             [
              0,
              "#0d0887"
             ],
             [
              0.1111111111111111,
              "#46039f"
             ],
             [
              0.2222222222222222,
              "#7201a8"
             ],
             [
              0.3333333333333333,
              "#9c179e"
             ],
             [
              0.4444444444444444,
              "#bd3786"
             ],
             [
              0.5555555555555556,
              "#d8576b"
             ],
             [
              0.6666666666666666,
              "#ed7953"
             ],
             [
              0.7777777777777778,
              "#fb9f3a"
             ],
             [
              0.8888888888888888,
              "#fdca26"
             ],
             [
              1,
              "#f0f921"
             ]
            ],
            "type": "contour"
           }
          ],
          "contourcarpet": [
           {
            "colorbar": {
             "outlinewidth": 0,
             "ticks": ""
            },
            "type": "contourcarpet"
           }
          ],
          "heatmap": [
           {
            "colorbar": {
             "outlinewidth": 0,
             "ticks": ""
            },
            "colorscale": [
             [
              0,
              "#0d0887"
             ],
             [
              0.1111111111111111,
              "#46039f"
             ],
             [
              0.2222222222222222,
              "#7201a8"
             ],
             [
              0.3333333333333333,
              "#9c179e"
             ],
             [
              0.4444444444444444,
              "#bd3786"
             ],
             [
              0.5555555555555556,
              "#d8576b"
             ],
             [
              0.6666666666666666,
              "#ed7953"
             ],
             [
              0.7777777777777778,
              "#fb9f3a"
             ],
             [
              0.8888888888888888,
              "#fdca26"
             ],
             [
              1,
              "#f0f921"
             ]
            ],
            "type": "heatmap"
           }
          ],
          "heatmapgl": [
           {
            "colorbar": {
             "outlinewidth": 0,
             "ticks": ""
            },
            "colorscale": [
             [
              0,
              "#0d0887"
             ],
             [
              0.1111111111111111,
              "#46039f"
             ],
             [
              0.2222222222222222,
              "#7201a8"
             ],
             [
              0.3333333333333333,
              "#9c179e"
             ],
             [
              0.4444444444444444,
              "#bd3786"
             ],
             [
              0.5555555555555556,
              "#d8576b"
             ],
             [
              0.6666666666666666,
              "#ed7953"
             ],
             [
              0.7777777777777778,
              "#fb9f3a"
             ],
             [
              0.8888888888888888,
              "#fdca26"
             ],
             [
              1,
              "#f0f921"
             ]
            ],
            "type": "heatmapgl"
           }
          ],
          "histogram": [
           {
            "marker": {
             "pattern": {
              "fillmode": "overlay",
              "size": 10,
              "solidity": 0.2
             }
            },
            "type": "histogram"
           }
          ],
          "histogram2d": [
           {
            "colorbar": {
             "outlinewidth": 0,
             "ticks": ""
            },
            "colorscale": [
             [
              0,
              "#0d0887"
             ],
             [
              0.1111111111111111,
              "#46039f"
             ],
             [
              0.2222222222222222,
              "#7201a8"
             ],
             [
              0.3333333333333333,
              "#9c179e"
             ],
             [
              0.4444444444444444,
              "#bd3786"
             ],
             [
              0.5555555555555556,
              "#d8576b"
             ],
             [
              0.6666666666666666,
              "#ed7953"
             ],
             [
              0.7777777777777778,
              "#fb9f3a"
             ],
             [
              0.8888888888888888,
              "#fdca26"
             ],
             [
              1,
              "#f0f921"
             ]
            ],
            "type": "histogram2d"
           }
          ],
          "histogram2dcontour": [
           {
            "colorbar": {
             "outlinewidth": 0,
             "ticks": ""
            },
            "colorscale": [
             [
              0,
              "#0d0887"
             ],
             [
              0.1111111111111111,
              "#46039f"
             ],
             [
              0.2222222222222222,
              "#7201a8"
             ],
             [
              0.3333333333333333,
              "#9c179e"
             ],
             [
              0.4444444444444444,
              "#bd3786"
             ],
             [
              0.5555555555555556,
              "#d8576b"
             ],
             [
              0.6666666666666666,
              "#ed7953"
             ],
             [
              0.7777777777777778,
              "#fb9f3a"
             ],
             [
              0.8888888888888888,
              "#fdca26"
             ],
             [
              1,
              "#f0f921"
             ]
            ],
            "type": "histogram2dcontour"
           }
          ],
          "mesh3d": [
           {
            "colorbar": {
             "outlinewidth": 0,
             "ticks": ""
            },
            "type": "mesh3d"
           }
          ],
          "parcoords": [
           {
            "line": {
             "colorbar": {
              "outlinewidth": 0,
              "ticks": ""
             }
            },
            "type": "parcoords"
           }
          ],
          "pie": [
           {
            "automargin": true,
            "type": "pie"
           }
          ],
          "scatter": [
           {
            "fillpattern": {
             "fillmode": "overlay",
             "size": 10,
             "solidity": 0.2
            },
            "type": "scatter"
           }
          ],
          "scatter3d": [
           {
            "line": {
             "colorbar": {
              "outlinewidth": 0,
              "ticks": ""
             }
            },
            "marker": {
             "colorbar": {
              "outlinewidth": 0,
              "ticks": ""
             }
            },
            "type": "scatter3d"
           }
          ],
          "scattercarpet": [
           {
            "marker": {
             "colorbar": {
              "outlinewidth": 0,
              "ticks": ""
             }
            },
            "type": "scattercarpet"
           }
          ],
          "scattergeo": [
           {
            "marker": {
             "colorbar": {
              "outlinewidth": 0,
              "ticks": ""
             }
            },
            "type": "scattergeo"
           }
          ],
          "scattergl": [
           {
            "marker": {
             "colorbar": {
              "outlinewidth": 0,
              "ticks": ""
             }
            },
            "type": "scattergl"
           }
          ],
          "scattermapbox": [
           {
            "marker": {
             "colorbar": {
              "outlinewidth": 0,
              "ticks": ""
             }
            },
            "type": "scattermapbox"
           }
          ],
          "scatterpolar": [
           {
            "marker": {
             "colorbar": {
              "outlinewidth": 0,
              "ticks": ""
             }
            },
            "type": "scatterpolar"
           }
          ],
          "scatterpolargl": [
           {
            "marker": {
             "colorbar": {
              "outlinewidth": 0,
              "ticks": ""
             }
            },
            "type": "scatterpolargl"
           }
          ],
          "scatterternary": [
           {
            "marker": {
             "colorbar": {
              "outlinewidth": 0,
              "ticks": ""
             }
            },
            "type": "scatterternary"
           }
          ],
          "surface": [
           {
            "colorbar": {
             "outlinewidth": 0,
             "ticks": ""
            },
            "colorscale": [
             [
              0,
              "#0d0887"
             ],
             [
              0.1111111111111111,
              "#46039f"
             ],
             [
              0.2222222222222222,
              "#7201a8"
             ],
             [
              0.3333333333333333,
              "#9c179e"
             ],
             [
              0.4444444444444444,
              "#bd3786"
             ],
             [
              0.5555555555555556,
              "#d8576b"
             ],
             [
              0.6666666666666666,
              "#ed7953"
             ],
             [
              0.7777777777777778,
              "#fb9f3a"
             ],
             [
              0.8888888888888888,
              "#fdca26"
             ],
             [
              1,
              "#f0f921"
             ]
            ],
            "type": "surface"
           }
          ],
          "table": [
           {
            "cells": {
             "fill": {
              "color": "#EBF0F8"
             },
             "line": {
              "color": "white"
             }
            },
            "header": {
             "fill": {
              "color": "#C8D4E3"
             },
             "line": {
              "color": "white"
             }
            },
            "type": "table"
           }
          ]
         },
         "layout": {
          "annotationdefaults": {
           "arrowcolor": "#2a3f5f",
           "arrowhead": 0,
           "arrowwidth": 1
          },
          "autotypenumbers": "strict",
          "coloraxis": {
           "colorbar": {
            "outlinewidth": 0,
            "ticks": ""
           }
          },
          "colorscale": {
           "diverging": [
            [
             0,
             "#8e0152"
            ],
            [
             0.1,
             "#c51b7d"
            ],
            [
             0.2,
             "#de77ae"
            ],
            [
             0.3,
             "#f1b6da"
            ],
            [
             0.4,
             "#fde0ef"
            ],
            [
             0.5,
             "#f7f7f7"
            ],
            [
             0.6,
             "#e6f5d0"
            ],
            [
             0.7,
             "#b8e186"
            ],
            [
             0.8,
             "#7fbc41"
            ],
            [
             0.9,
             "#4d9221"
            ],
            [
             1,
             "#276419"
            ]
           ],
           "sequential": [
            [
             0,
             "#0d0887"
            ],
            [
             0.1111111111111111,
             "#46039f"
            ],
            [
             0.2222222222222222,
             "#7201a8"
            ],
            [
             0.3333333333333333,
             "#9c179e"
            ],
            [
             0.4444444444444444,
             "#bd3786"
            ],
            [
             0.5555555555555556,
             "#d8576b"
            ],
            [
             0.6666666666666666,
             "#ed7953"
            ],
            [
             0.7777777777777778,
             "#fb9f3a"
            ],
            [
             0.8888888888888888,
             "#fdca26"
            ],
            [
             1,
             "#f0f921"
            ]
           ],
           "sequentialminus": [
            [
             0,
             "#0d0887"
            ],
            [
             0.1111111111111111,
             "#46039f"
            ],
            [
             0.2222222222222222,
             "#7201a8"
            ],
            [
             0.3333333333333333,
             "#9c179e"
            ],
            [
             0.4444444444444444,
             "#bd3786"
            ],
            [
             0.5555555555555556,
             "#d8576b"
            ],
            [
             0.6666666666666666,
             "#ed7953"
            ],
            [
             0.7777777777777778,
             "#fb9f3a"
            ],
            [
             0.8888888888888888,
             "#fdca26"
            ],
            [
             1,
             "#f0f921"
            ]
           ]
          },
          "colorway": [
           "#636efa",
           "#EF553B",
           "#00cc96",
           "#ab63fa",
           "#FFA15A",
           "#19d3f3",
           "#FF6692",
           "#B6E880",
           "#FF97FF",
           "#FECB52"
          ],
          "font": {
           "color": "#2a3f5f"
          },
          "geo": {
           "bgcolor": "white",
           "lakecolor": "white",
           "landcolor": "#E5ECF6",
           "showlakes": true,
           "showland": true,
           "subunitcolor": "white"
          },
          "hoverlabel": {
           "align": "left"
          },
          "hovermode": "closest",
          "mapbox": {
           "style": "light"
          },
          "paper_bgcolor": "white",
          "plot_bgcolor": "#E5ECF6",
          "polar": {
           "angularaxis": {
            "gridcolor": "white",
            "linecolor": "white",
            "ticks": ""
           },
           "bgcolor": "#E5ECF6",
           "radialaxis": {
            "gridcolor": "white",
            "linecolor": "white",
            "ticks": ""
           }
          },
          "scene": {
           "xaxis": {
            "backgroundcolor": "#E5ECF6",
            "gridcolor": "white",
            "gridwidth": 2,
            "linecolor": "white",
            "showbackground": true,
            "ticks": "",
            "zerolinecolor": "white"
           },
           "yaxis": {
            "backgroundcolor": "#E5ECF6",
            "gridcolor": "white",
            "gridwidth": 2,
            "linecolor": "white",
            "showbackground": true,
            "ticks": "",
            "zerolinecolor": "white"
           },
           "zaxis": {
            "backgroundcolor": "#E5ECF6",
            "gridcolor": "white",
            "gridwidth": 2,
            "linecolor": "white",
            "showbackground": true,
            "ticks": "",
            "zerolinecolor": "white"
           }
          },
          "shapedefaults": {
           "line": {
            "color": "#2a3f5f"
           }
          },
          "ternary": {
           "aaxis": {
            "gridcolor": "white",
            "linecolor": "white",
            "ticks": ""
           },
           "baxis": {
            "gridcolor": "white",
            "linecolor": "white",
            "ticks": ""
           },
           "bgcolor": "#E5ECF6",
           "caxis": {
            "gridcolor": "white",
            "linecolor": "white",
            "ticks": ""
           }
          },
          "title": {
           "x": 0.05
          },
          "xaxis": {
           "automargin": true,
           "gridcolor": "white",
           "linecolor": "white",
           "ticks": "",
           "title": {
            "standoff": 15
           },
           "zerolinecolor": "white",
           "zerolinewidth": 2
          },
          "yaxis": {
           "automargin": true,
           "gridcolor": "white",
           "linecolor": "white",
           "ticks": "",
           "title": {
            "standoff": 15
           },
           "zerolinecolor": "white",
           "zerolinewidth": 2
          }
         }
        },
        "title": {
         "text": "Weighted ETP Logarithmic Returns from 2022-01-03 00:00:00 to 2022-01-10 00:00:00"
        },
        "xaxis": {
         "anchor": "y",
         "domain": [
          0,
          1
         ],
         "dtick": "M1",
         "tickformat": "%b\n%Y",
         "title": {
          "text": "mcap_date"
         }
        },
        "yaxis": {
         "anchor": "x",
         "domain": [
          0,
          1
         ],
         "title": {
          "text": "value"
         }
        }
       }
      },
      "text/html": [
       "<div>                            <div id=\"8d110e51-2fcd-4d5a-aee9-118242fda07e\" class=\"plotly-graph-div\" style=\"height:525px; width:100%;\"></div>            <script type=\"text/javascript\">                require([\"plotly\"], function(Plotly) {                    window.PLOTLYENV=window.PLOTLYENV || {};                                    if (document.getElementById(\"8d110e51-2fcd-4d5a-aee9-118242fda07e\")) {                    Plotly.newPlot(                        \"8d110e51-2fcd-4d5a-aee9-118242fda07e\",                        [{\"customdata\":[[\"charg_coin\"],[\"charg_coin\"],[\"charg_coin\"],[\"charg_coin\"],[\"charg_coin\"],[\"charg_coin\"],[\"charg_coin\"],[\"charg_coin\"]],\"hovertemplate\":\"variable=smooth+DM<br>mcap_date=%{x|%B %d, %Y}<br>value=%{y}<br>asset_name=%{customdata[0]}<extra></extra>\",\"legendgroup\":\"smooth+DM\",\"line\":{\"color\":\"#636efa\",\"dash\":\"solid\"},\"marker\":{\"symbol\":\"circle\"},\"mode\":\"lines\",\"name\":\"smooth+DM\",\"orientation\":\"v\",\"showlegend\":true,\"x\":[\"2022-01-03T00:00:00\",\"2022-01-04T00:00:00\",\"2022-01-05T00:00:00\",\"2022-01-06T00:00:00\",\"2022-01-07T00:00:00\",\"2022-01-08T00:00:00\",\"2022-01-09T00:00:00\",\"2022-01-10T00:00:00\"],\"xaxis\":\"x\",\"y\":[0.0,0.0,0.0,0.160422875437818,0.3850149010507632,0.1782476393753533,0.183340429071792,1.173838828757186],\"yaxis\":\"y\",\"type\":\"scatter\"},{\"customdata\":[[\"charg_coin\"],[\"charg_coin\"],[\"charg_coin\"],[\"charg_coin\"],[\"charg_coin\"],[\"charg_coin\"],[\"charg_coin\"],[\"charg_coin\"]],\"hovertemplate\":\"variable=smooth-DM<br>mcap_date=%{x|%B %d, %Y}<br>value=%{y}<br>asset_name=%{customdata[0]}<extra></extra>\",\"legendgroup\":\"smooth-DM\",\"line\":{\"color\":\"#EF553B\",\"dash\":\"solid\"},\"marker\":{\"symbol\":\"circle\"},\"mode\":\"lines\",\"name\":\"smooth-DM\",\"orientation\":\"v\",\"showlegend\":true,\"x\":[\"2022-01-03T00:00:00\",\"2022-01-04T00:00:00\",\"2022-01-05T00:00:00\",\"2022-01-06T00:00:00\",\"2022-01-07T00:00:00\",\"2022-01-08T00:00:00\",\"2022-01-09T00:00:00\",\"2022-01-10T00:00:00\"],\"xaxis\":\"x\",\"y\":[0.0,0.1937421087362244,0.6480642927621507,0.2965384801630186,0.3126960903476423,0.3257250941121274,0.3350315253724739,0.3420113488177337],\"yaxis\":\"y\",\"type\":\"scatter\"}],                        {\"template\":{\"data\":{\"histogram2dcontour\":[{\"type\":\"histogram2dcontour\",\"colorbar\":{\"outlinewidth\":0,\"ticks\":\"\"},\"colorscale\":[[0.0,\"#0d0887\"],[0.1111111111111111,\"#46039f\"],[0.2222222222222222,\"#7201a8\"],[0.3333333333333333,\"#9c179e\"],[0.4444444444444444,\"#bd3786\"],[0.5555555555555556,\"#d8576b\"],[0.6666666666666666,\"#ed7953\"],[0.7777777777777778,\"#fb9f3a\"],[0.8888888888888888,\"#fdca26\"],[1.0,\"#f0f921\"]]}],\"choropleth\":[{\"type\":\"choropleth\",\"colorbar\":{\"outlinewidth\":0,\"ticks\":\"\"}}],\"histogram2d\":[{\"type\":\"histogram2d\",\"colorbar\":{\"outlinewidth\":0,\"ticks\":\"\"},\"colorscale\":[[0.0,\"#0d0887\"],[0.1111111111111111,\"#46039f\"],[0.2222222222222222,\"#7201a8\"],[0.3333333333333333,\"#9c179e\"],[0.4444444444444444,\"#bd3786\"],[0.5555555555555556,\"#d8576b\"],[0.6666666666666666,\"#ed7953\"],[0.7777777777777778,\"#fb9f3a\"],[0.8888888888888888,\"#fdca26\"],[1.0,\"#f0f921\"]]}],\"heatmap\":[{\"type\":\"heatmap\",\"colorbar\":{\"outlinewidth\":0,\"ticks\":\"\"},\"colorscale\":[[0.0,\"#0d0887\"],[0.1111111111111111,\"#46039f\"],[0.2222222222222222,\"#7201a8\"],[0.3333333333333333,\"#9c179e\"],[0.4444444444444444,\"#bd3786\"],[0.5555555555555556,\"#d8576b\"],[0.6666666666666666,\"#ed7953\"],[0.7777777777777778,\"#fb9f3a\"],[0.8888888888888888,\"#fdca26\"],[1.0,\"#f0f921\"]]}],\"heatmapgl\":[{\"type\":\"heatmapgl\",\"colorbar\":{\"outlinewidth\":0,\"ticks\":\"\"},\"colorscale\":[[0.0,\"#0d0887\"],[0.1111111111111111,\"#46039f\"],[0.2222222222222222,\"#7201a8\"],[0.3333333333333333,\"#9c179e\"],[0.4444444444444444,\"#bd3786\"],[0.5555555555555556,\"#d8576b\"],[0.6666666666666666,\"#ed7953\"],[0.7777777777777778,\"#fb9f3a\"],[0.8888888888888888,\"#fdca26\"],[1.0,\"#f0f921\"]]}],\"contourcarpet\":[{\"type\":\"contourcarpet\",\"colorbar\":{\"outlinewidth\":0,\"ticks\":\"\"}}],\"contour\":[{\"type\":\"contour\",\"colorbar\":{\"outlinewidth\":0,\"ticks\":\"\"},\"colorscale\":[[0.0,\"#0d0887\"],[0.1111111111111111,\"#46039f\"],[0.2222222222222222,\"#7201a8\"],[0.3333333333333333,\"#9c179e\"],[0.4444444444444444,\"#bd3786\"],[0.5555555555555556,\"#d8576b\"],[0.6666666666666666,\"#ed7953\"],[0.7777777777777778,\"#fb9f3a\"],[0.8888888888888888,\"#fdca26\"],[1.0,\"#f0f921\"]]}],\"surface\":[{\"type\":\"surface\",\"colorbar\":{\"outlinewidth\":0,\"ticks\":\"\"},\"colorscale\":[[0.0,\"#0d0887\"],[0.1111111111111111,\"#46039f\"],[0.2222222222222222,\"#7201a8\"],[0.3333333333333333,\"#9c179e\"],[0.4444444444444444,\"#bd3786\"],[0.5555555555555556,\"#d8576b\"],[0.6666666666666666,\"#ed7953\"],[0.7777777777777778,\"#fb9f3a\"],[0.8888888888888888,\"#fdca26\"],[1.0,\"#f0f921\"]]}],\"mesh3d\":[{\"type\":\"mesh3d\",\"colorbar\":{\"outlinewidth\":0,\"ticks\":\"\"}}],\"scatter\":[{\"fillpattern\":{\"fillmode\":\"overlay\",\"size\":10,\"solidity\":0.2},\"type\":\"scatter\"}],\"parcoords\":[{\"type\":\"parcoords\",\"line\":{\"colorbar\":{\"outlinewidth\":0,\"ticks\":\"\"}}}],\"scatterpolargl\":[{\"type\":\"scatterpolargl\",\"marker\":{\"colorbar\":{\"outlinewidth\":0,\"ticks\":\"\"}}}],\"bar\":[{\"error_x\":{\"color\":\"#2a3f5f\"},\"error_y\":{\"color\":\"#2a3f5f\"},\"marker\":{\"line\":{\"color\":\"#E5ECF6\",\"width\":0.5},\"pattern\":{\"fillmode\":\"overlay\",\"size\":10,\"solidity\":0.2}},\"type\":\"bar\"}],\"scattergeo\":[{\"type\":\"scattergeo\",\"marker\":{\"colorbar\":{\"outlinewidth\":0,\"ticks\":\"\"}}}],\"scatterpolar\":[{\"type\":\"scatterpolar\",\"marker\":{\"colorbar\":{\"outlinewidth\":0,\"ticks\":\"\"}}}],\"histogram\":[{\"marker\":{\"pattern\":{\"fillmode\":\"overlay\",\"size\":10,\"solidity\":0.2}},\"type\":\"histogram\"}],\"scattergl\":[{\"type\":\"scattergl\",\"marker\":{\"colorbar\":{\"outlinewidth\":0,\"ticks\":\"\"}}}],\"scatter3d\":[{\"type\":\"scatter3d\",\"line\":{\"colorbar\":{\"outlinewidth\":0,\"ticks\":\"\"}},\"marker\":{\"colorbar\":{\"outlinewidth\":0,\"ticks\":\"\"}}}],\"scattermapbox\":[{\"type\":\"scattermapbox\",\"marker\":{\"colorbar\":{\"outlinewidth\":0,\"ticks\":\"\"}}}],\"scatterternary\":[{\"type\":\"scatterternary\",\"marker\":{\"colorbar\":{\"outlinewidth\":0,\"ticks\":\"\"}}}],\"scattercarpet\":[{\"type\":\"scattercarpet\",\"marker\":{\"colorbar\":{\"outlinewidth\":0,\"ticks\":\"\"}}}],\"carpet\":[{\"aaxis\":{\"endlinecolor\":\"#2a3f5f\",\"gridcolor\":\"white\",\"linecolor\":\"white\",\"minorgridcolor\":\"white\",\"startlinecolor\":\"#2a3f5f\"},\"baxis\":{\"endlinecolor\":\"#2a3f5f\",\"gridcolor\":\"white\",\"linecolor\":\"white\",\"minorgridcolor\":\"white\",\"startlinecolor\":\"#2a3f5f\"},\"type\":\"carpet\"}],\"table\":[{\"cells\":{\"fill\":{\"color\":\"#EBF0F8\"},\"line\":{\"color\":\"white\"}},\"header\":{\"fill\":{\"color\":\"#C8D4E3\"},\"line\":{\"color\":\"white\"}},\"type\":\"table\"}],\"barpolar\":[{\"marker\":{\"line\":{\"color\":\"#E5ECF6\",\"width\":0.5},\"pattern\":{\"fillmode\":\"overlay\",\"size\":10,\"solidity\":0.2}},\"type\":\"barpolar\"}],\"pie\":[{\"automargin\":true,\"type\":\"pie\"}]},\"layout\":{\"autotypenumbers\":\"strict\",\"colorway\":[\"#636efa\",\"#EF553B\",\"#00cc96\",\"#ab63fa\",\"#FFA15A\",\"#19d3f3\",\"#FF6692\",\"#B6E880\",\"#FF97FF\",\"#FECB52\"],\"font\":{\"color\":\"#2a3f5f\"},\"hovermode\":\"closest\",\"hoverlabel\":{\"align\":\"left\"},\"paper_bgcolor\":\"white\",\"plot_bgcolor\":\"#E5ECF6\",\"polar\":{\"bgcolor\":\"#E5ECF6\",\"angularaxis\":{\"gridcolor\":\"white\",\"linecolor\":\"white\",\"ticks\":\"\"},\"radialaxis\":{\"gridcolor\":\"white\",\"linecolor\":\"white\",\"ticks\":\"\"}},\"ternary\":{\"bgcolor\":\"#E5ECF6\",\"aaxis\":{\"gridcolor\":\"white\",\"linecolor\":\"white\",\"ticks\":\"\"},\"baxis\":{\"gridcolor\":\"white\",\"linecolor\":\"white\",\"ticks\":\"\"},\"caxis\":{\"gridcolor\":\"white\",\"linecolor\":\"white\",\"ticks\":\"\"}},\"coloraxis\":{\"colorbar\":{\"outlinewidth\":0,\"ticks\":\"\"}},\"colorscale\":{\"sequential\":[[0.0,\"#0d0887\"],[0.1111111111111111,\"#46039f\"],[0.2222222222222222,\"#7201a8\"],[0.3333333333333333,\"#9c179e\"],[0.4444444444444444,\"#bd3786\"],[0.5555555555555556,\"#d8576b\"],[0.6666666666666666,\"#ed7953\"],[0.7777777777777778,\"#fb9f3a\"],[0.8888888888888888,\"#fdca26\"],[1.0,\"#f0f921\"]],\"sequentialminus\":[[0.0,\"#0d0887\"],[0.1111111111111111,\"#46039f\"],[0.2222222222222222,\"#7201a8\"],[0.3333333333333333,\"#9c179e\"],[0.4444444444444444,\"#bd3786\"],[0.5555555555555556,\"#d8576b\"],[0.6666666666666666,\"#ed7953\"],[0.7777777777777778,\"#fb9f3a\"],[0.8888888888888888,\"#fdca26\"],[1.0,\"#f0f921\"]],\"diverging\":[[0,\"#8e0152\"],[0.1,\"#c51b7d\"],[0.2,\"#de77ae\"],[0.3,\"#f1b6da\"],[0.4,\"#fde0ef\"],[0.5,\"#f7f7f7\"],[0.6,\"#e6f5d0\"],[0.7,\"#b8e186\"],[0.8,\"#7fbc41\"],[0.9,\"#4d9221\"],[1,\"#276419\"]]},\"xaxis\":{\"gridcolor\":\"white\",\"linecolor\":\"white\",\"ticks\":\"\",\"title\":{\"standoff\":15},\"zerolinecolor\":\"white\",\"automargin\":true,\"zerolinewidth\":2},\"yaxis\":{\"gridcolor\":\"white\",\"linecolor\":\"white\",\"ticks\":\"\",\"title\":{\"standoff\":15},\"zerolinecolor\":\"white\",\"automargin\":true,\"zerolinewidth\":2},\"scene\":{\"xaxis\":{\"backgroundcolor\":\"#E5ECF6\",\"gridcolor\":\"white\",\"linecolor\":\"white\",\"showbackground\":true,\"ticks\":\"\",\"zerolinecolor\":\"white\",\"gridwidth\":2},\"yaxis\":{\"backgroundcolor\":\"#E5ECF6\",\"gridcolor\":\"white\",\"linecolor\":\"white\",\"showbackground\":true,\"ticks\":\"\",\"zerolinecolor\":\"white\",\"gridwidth\":2},\"zaxis\":{\"backgroundcolor\":\"#E5ECF6\",\"gridcolor\":\"white\",\"linecolor\":\"white\",\"showbackground\":true,\"ticks\":\"\",\"zerolinecolor\":\"white\",\"gridwidth\":2}},\"shapedefaults\":{\"line\":{\"color\":\"#2a3f5f\"}},\"annotationdefaults\":{\"arrowcolor\":\"#2a3f5f\",\"arrowhead\":0,\"arrowwidth\":1},\"geo\":{\"bgcolor\":\"white\",\"landcolor\":\"#E5ECF6\",\"subunitcolor\":\"white\",\"showland\":true,\"showlakes\":true,\"lakecolor\":\"white\"},\"title\":{\"x\":0.05},\"mapbox\":{\"style\":\"light\"}}},\"xaxis\":{\"anchor\":\"y\",\"domain\":[0.0,1.0],\"title\":{\"text\":\"mcap_date\"},\"dtick\":\"M1\",\"tickformat\":\"%b\\n%Y\"},\"yaxis\":{\"anchor\":\"x\",\"domain\":[0.0,1.0],\"title\":{\"text\":\"value\"}},\"legend\":{\"title\":{\"text\":\"variable\"},\"tracegroupgap\":0},\"title\":{\"text\":\"Weighted ETP Logarithmic Returns from 2022-01-03 00:00:00 to 2022-01-10 00:00:00\"}},                        {\"responsive\": true}                    ).then(function(){\n",
       "                            \n",
       "var gd = document.getElementById('8d110e51-2fcd-4d5a-aee9-118242fda07e');\n",
       "var x = new MutationObserver(function (mutations, observer) {{\n",
       "        var display = window.getComputedStyle(gd).display;\n",
       "        if (!display || display === 'none') {{\n",
       "            console.log([gd, 'removed!']);\n",
       "            Plotly.purge(gd);\n",
       "            observer.disconnect();\n",
       "        }}\n",
       "}});\n",
       "\n",
       "// Listen for the removal of the full notebook cells\n",
       "var notebookContainer = gd.closest('#notebook-container');\n",
       "if (notebookContainer) {{\n",
       "    x.observe(notebookContainer, {childList: true});\n",
       "}}\n",
       "\n",
       "// Listen for the clearing of the current output cell\n",
       "var outputEl = gd.closest('.output');\n",
       "if (outputEl) {{\n",
       "    x.observe(outputEl, {childList: true});\n",
       "}}\n",
       "\n",
       "                        })                };                });            </script>        </div>"
      ]
     },
     "metadata": {},
     "output_type": "display_data"
    }
   ],
   "source": [
    "import plotly.express as px\n",
    "\n",
    "\n",
    "adx_df = clsIndx.data.filter(F.col(\"asset_name\")==\"charg_coin\").toPandas()\n",
    "_min_date = adx_df[\"mcap_date\"].min()\n",
    "_max_date = adx_df[\"mcap_date\"].max()\n",
    "_title = \"Weighted ETP Logarithmic Returns from \"+str(_min_date)+\" to \"+str(_max_date)\n",
    "fig = px.line(adx_df, x=\"mcap_date\", y=['smooth+DM','smooth-DM'],\n",
    "#               color='red',\n",
    "              hover_data={\"mcap_date\": \"|%B %d, %Y\", \"asset_name\": True,},\n",
    "              title=_title,)\n",
    "fig.update_xaxes(\n",
    "    dtick=\"M1\",\n",
    "    tickformat=\"%b\\n%Y\")\n",
    "fig.show()\n"
   ]
  },
  {
   "cell_type": "markdown",
   "id": "263f89fe",
   "metadata": {},
   "source": [
    "# SMA"
   ]
  },
  {
   "cell_type": "code",
   "execution_count": 260,
   "id": "0b09c0f2",
   "metadata": {},
   "outputs": [],
   "source": [
    "_mcap_log_ror=clsIndx.data.na.drop(subset=['log_ror'])"
   ]
  },
  {
   "cell_type": "code",
   "execution_count": 264,
   "id": "173f7330",
   "metadata": {},
   "outputs": [],
   "source": [
    "kwargs={\n",
    "    \"DATETIMEATTR\":'mcap_date',\n",
    "    \"WINLENGTH\":7,\n",
    "    \"WINUNIT\":'DAY',\n",
    "}\n",
    "_sma_sdf=clsStat.simple_moving_stats(\n",
    "    column='log_ror',   # column name to apply the rolling computation\n",
    "    stat_op=\"avg\", # stat operation sum, mean or standard deviation\n",
    "    data=_mcap_log_ror,   # data set\n",
    "    **kwargs,    # \n",
    ")\n"
   ]
  },
  {
   "cell_type": "code",
   "execution_count": 266,
   "id": "469ac705",
   "metadata": {},
   "outputs": [
    {
     "name": "stdout",
     "output_type": "stream",
     "text": [
      "23/02/01 16:09:25 WARN WindowExec: No Partition Defined for Window operation! Moving all data to a single partition, this can cause serious performance degradation.\n",
      "23/02/01 16:09:25 WARN WindowExec: No Partition Defined for Window operation! Moving all data to a single partition, this can cause serious performance degradation.\n",
      "23/02/01 16:09:25 WARN WindowExec: No Partition Defined for Window operation! Moving all data to a single partition, this can cause serious performance degradation.\n"
     ]
    },
    {
     "name": "stderr",
     "output_type": "stream",
     "text": [
      "\r",
      "[Stage 3624:>                                                       (0 + 1) / 1]\r"
     ]
    },
    {
     "name": "stdout",
     "output_type": "stream",
     "text": [
      "23/02/01 16:09:52 WARN WindowExec: No Partition Defined for Window operation! Moving all data to a single partition, this can cause serious performance degradation.\n",
      "23/02/01 16:09:52 WARN WindowExec: No Partition Defined for Window operation! Moving all data to a single partition, this can cause serious performance degradation.\n",
      "23/02/01 16:09:52 WARN WindowExec: No Partition Defined for Window operation! Moving all data to a single partition, this can cause serious performance degradation.\n",
      "23/02/01 16:09:52 WARN WindowExec: No Partition Defined for Window operation! Moving all data to a single partition, this can cause serious performance degradation.\n"
     ]
    },
    {
     "name": "stderr",
     "output_type": "stream",
     "text": [
      "\r",
      "                                                                                \r"
     ]
    },
    {
     "name": "stdout",
     "output_type": "stream",
     "text": [
      "23/02/01 16:09:53 WARN WindowExec: No Partition Defined for Window operation! Moving all data to a single partition, this can cause serious performance degradation.\n",
      "23/02/01 16:09:53 WARN WindowExec: No Partition Defined for Window operation! Moving all data to a single partition, this can cause serious performance degradation.\n",
      "23/02/01 16:09:53 WARN WindowExec: No Partition Defined for Window operation! Moving all data to a single partition, this can cause serious performance degradation.\n",
      "23/02/01 16:09:53 WARN WindowExec: No Partition Defined for Window operation! Moving all data to a single partition, this can cause serious performance degradation.\n",
      "23/02/01 16:09:53 WARN WindowExec: No Partition Defined for Window operation! Moving all data to a single partition, this can cause serious performance degradation.\n",
      "23/02/01 16:09:53 WARN WindowExec: No Partition Defined for Window operation! Moving all data to a single partition, this can cause serious performance degradation.\n",
      "23/02/01 16:09:54 WARN WindowExec: No Partition Defined for Window operation! Moving all data to a single partition, this can cause serious performance degradation.\n",
      "23/02/01 16:09:54 WARN WindowExec: No Partition Defined for Window operation! Moving all data to a single partition, this can cause serious performance degradation.\n",
      "+--------------------+--------------------+\n",
      "|             log_ror| rolling_avg_log_ror|\n",
      "+--------------------+--------------------+\n",
      "| -0.2487131958281502|-0.08290439860938341|\n",
      "|                 0.0|-0.08290439860938341|\n",
      "|                 0.0|-0.08290439860938341|\n",
      "|                 0.0|-0.02841945708021078|\n",
      "|                 0.0|-0.02841945708021078|\n",
      "| 0.07819645334688553|-0.02841945708021078|\n",
      "|                 0.0|-0.00296174852233...|\n",
      "|                 0.0|-0.00296174852233...|\n",
      "|  0.1438610057802389|-0.00296174852233...|\n",
      "|   -1.29111191099808| -0.1470098009608272|\n",
      "| -0.3930320886120946| -0.1470098009608272|\n",
      "|-0.05331787521872595| -0.1470098009608272|\n",
      "| 0.06901209078750543|-0.08061035275575448|\n",
      "| 0.09291810204538865|-0.08061035275575448|\n",
      "| 0.39303212736071513|-0.08061035275575448|\n",
      "| 0.08202055433500906| 0.06457323026583855|\n",
      "|  0.6300364267965319| 0.06457323026583855|\n",
      "|  1.6594164549898702| 0.06457323026583855|\n",
      "| -1.7626070847382742|-0.08138057753398922|\n",
      "| -0.7212189707881447|-0.08138057753398922|\n",
      "+--------------------+--------------------+\n",
      "only showing top 20 rows\n",
      "\n"
     ]
    }
   ],
   "source": [
    "_sma_sdf.select([\"log_ror\",\"rolling_avg_log_ror\"]).show()"
   ]
  },
  {
   "cell_type": "code",
   "execution_count": null,
   "id": "ee312d0e",
   "metadata": {},
   "outputs": [],
   "source": []
  }
 ],
 "metadata": {
  "kernelspec": {
   "display_name": "Python 3 (ipykernel)",
   "language": "python",
   "name": "python3"
  },
  "language_info": {
   "codemirror_mode": {
    "name": "ipython",
    "version": 3
   },
   "file_extension": ".py",
   "mimetype": "text/x-python",
   "name": "python",
   "nbconvert_exporter": "python",
   "pygments_lexer": "ipython3",
   "version": "3.8.10"
  }
 },
 "nbformat": 4,
 "nbformat_minor": 5
}
