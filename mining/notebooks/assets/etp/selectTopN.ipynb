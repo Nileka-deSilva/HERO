{
 "cells": [
  {
   "cell_type": "markdown",
   "id": "91de3ea5",
   "metadata": {},
   "source": [
    "# Select top-N assets with good indicators\n",
    "The objective is to calculate the standard indicators for a top N number of assets. Then use the indicators to decide on a potentially significant set of assets to consider for the portfolio. Thereafter, apply the MPT monte carlo algorithm to construct a weigted portfolio. "
   ]
  },
  {
   "cell_type": "code",
   "execution_count": 1,
   "id": "a3215d5d",
   "metadata": {},
   "outputs": [],
   "source": [
    "'''\n",
    "    WARNING CONTROL to display or ignore all warnings\n",
    "'''\n",
    "import warnings; warnings.simplefilter('ignore') #switch betweeb 'default' and 'ignore'\n",
    "import traceback\n",
    "\n",
    "''' Set debug flag to view extended error messages; \n",
    "    else set it to False to turn off debugging mode '''\n",
    "debug = True"
   ]
  },
  {
   "cell_type": "markdown",
   "id": "5d2e5085",
   "metadata": {},
   "source": [
    "## Initialize the classes"
   ]
  },
  {
   "cell_type": "code",
   "execution_count": 147,
   "id": "f67d1a6e",
   "metadata": {},
   "outputs": [
    {
     "name": "stdout",
     "output_type": "stream",
     "text": [
      "All functional DAILYTOPN-libraries in ETP-package of ASSETS-module imported successfully!\n",
      "All functional PERFORMINDEX-libraries in ETP-package of ASSETS-module imported successfully!\n",
      "All packages in utils ml timeseries RollingStats imported successfully!\n",
      "sparkNoSQLwls Class initialization complete\n",
      "sparkNoSQLwls Class initialization complete\n",
      "execSession Class initialization complete\n",
      "performIndex Class initialization complete\n",
      "execSession Class initialization complete\n",
      "dailyTopN Class initialization complete\n",
      "sparkNoSQLwls Class initialization complete\n",
      "execSession Class initialization complete\n",
      "performIndex Class initialization complete\n",
      "execSession Class initialization complete\n",
      "\n",
      "Class initialization and load complete!\n"
     ]
    }
   ],
   "source": [
    "import os\n",
    "import sys\n",
    "from datetime import datetime, date, timedelta\n",
    "from pyspark.sql import functions as F\n",
    "\n",
    "sys.path.insert(1,\"/home/nuwan/workspace/rezaware/\")\n",
    "from mining.modules.assets.etp import dailyTopN as topN\n",
    "from mining.modules.assets.etp import performIndex as idx\n",
    "from utils.modules.ml.timeseries import rollingstats as stat\n",
    "\n",
    "''' restart initiate classes '''\n",
    "if debug:\n",
    "    import importlib\n",
    "    topN = importlib.reload(topN)\n",
    "    idx = importlib.reload(idx)\n",
    "    stat = importlib.reload(stat)\n",
    "\n",
    "__desc__ = \"analyze crypto market capitalization time series data\"\n",
    "clsTopN = topN.WeightedPortfolio(desc=__desc__)\n",
    "clsIdx = idx.Portfolio(desc=__desc__)\n",
    "clsStat = stat.RollingStats(desc=__desc__)\n",
    "print(\"\\nClass initialization and load complete!\")"
   ]
  },
  {
   "cell_type": "markdown",
   "id": "3a7b9078",
   "metadata": {},
   "source": [
    "## Select topN assets\n",
    "\n",
    "### Read top N mcap assets from tip sql db\n",
    "\n",
    "Set the following parameters to select the mcap data from the database\n",
    "* ```_num_assets``` (integer) limits the number of asset count\n",
    "* ```_mcap_val_lb```(decimal) limits the asset selection by mcap_value\n",
    "* ```_date``` (datetime) selects assets with values for that day\n",
    "* ```_table```(string) by default is 'warehouse.mcap_past' where mcap daily data is stored\n",
    "\n",
    "Extends the ```utils/etl/load/sparkDBwls``` package to read the data from database table\n",
    "\n",
    "\n",
    "### Construct a dict with selected assets\n",
    "The dictionary serves as an input to the ```mining/modules/assets/etp/performIndex``` package to compuiting the index values.\n",
    "\n",
    "[Common metrics for assessing asset strength](https://cointelegraph.com/learn/the-most-common-crypto-metrics-a-beginners-guide)"
   ]
  },
  {
   "cell_type": "code",
   "execution_count": 148,
   "id": "1f5808c6",
   "metadata": {
    "scrolled": true
   },
   "outputs": [
    {
     "data": {
      "text/html": [
       "<div>\n",
       "<style scoped>\n",
       "    .dataframe tbody tr th:only-of-type {\n",
       "        vertical-align: middle;\n",
       "    }\n",
       "\n",
       "    .dataframe tbody tr th {\n",
       "        vertical-align: top;\n",
       "    }\n",
       "\n",
       "    .dataframe thead th {\n",
       "        text-align: right;\n",
       "    }\n",
       "</style>\n",
       "<table border=\"1\" class=\"dataframe\">\n",
       "  <thead>\n",
       "    <tr style=\"text-align: right;\">\n",
       "      <th></th>\n",
       "      <th>mcap_past_pk</th>\n",
       "      <th>uuid</th>\n",
       "      <th>asset_name</th>\n",
       "      <th>mcap_date</th>\n",
       "      <th>mcap_value</th>\n",
       "      <th>price_date</th>\n",
       "      <th>price_value</th>\n",
       "      <th>MFI</th>\n",
       "      <th>ADX</th>\n",
       "      <th>RSI</th>\n",
       "    </tr>\n",
       "  </thead>\n",
       "  <tbody>\n",
       "    <tr>\n",
       "      <th>1</th>\n",
       "      <td>44837</td>\n",
       "      <td>64536d2d4a6e0a5e3a66f36b</td>\n",
       "      <td>bnb</td>\n",
       "      <td>2023-03-28</td>\n",
       "      <td>4.976230e+10</td>\n",
       "      <td>2023-03-28</td>\n",
       "      <td>315.159231</td>\n",
       "      <td>60.365588</td>\n",
       "      <td>14.272083</td>\n",
       "      <td>51.479892</td>\n",
       "    </tr>\n",
       "    <tr>\n",
       "      <th>3</th>\n",
       "      <td>13583</td>\n",
       "      <td>6453c36f4a6e0a5e3a7d1cf1</td>\n",
       "      <td>shiba_inu</td>\n",
       "      <td>2023-03-28</td>\n",
       "      <td>6.146102e+09</td>\n",
       "      <td>2023-03-28</td>\n",
       "      <td>0.000010</td>\n",
       "      <td>54.380103</td>\n",
       "      <td>11.922092</td>\n",
       "      <td>36.719054</td>\n",
       "    </tr>\n",
       "    <tr>\n",
       "      <th>2</th>\n",
       "      <td>46173</td>\n",
       "      <td>6453824d4a6e0a5e3a6c6bdd</td>\n",
       "      <td>dogecoin</td>\n",
       "      <td>2023-03-28</td>\n",
       "      <td>1.015058e+10</td>\n",
       "      <td>2023-03-28</td>\n",
       "      <td>0.073229</td>\n",
       "      <td>54.115075</td>\n",
       "      <td>10.889207</td>\n",
       "      <td>40.550997</td>\n",
       "    </tr>\n",
       "    <tr>\n",
       "      <th>0</th>\n",
       "      <td>25717</td>\n",
       "      <td>645387394a6e0a5e3a6dbad8</td>\n",
       "      <td>ethereum</td>\n",
       "      <td>2023-03-28</td>\n",
       "      <td>2.103219e+11</td>\n",
       "      <td>2023-03-28</td>\n",
       "      <td>1748.638230</td>\n",
       "      <td>53.760582</td>\n",
       "      <td>16.009911</td>\n",
       "      <td>52.641604</td>\n",
       "    </tr>\n",
       "    <tr>\n",
       "      <th>4</th>\n",
       "      <td>24741</td>\n",
       "      <td>64536da74a6e0a5e3a670f67</td>\n",
       "      <td>bitcoin</td>\n",
       "      <td>2023-03-28</td>\n",
       "      <td>5.262506e+11</td>\n",
       "      <td>2023-03-28</td>\n",
       "      <td>27224.459302</td>\n",
       "      <td>40.133419</td>\n",
       "      <td>14.301318</td>\n",
       "      <td>58.423716</td>\n",
       "    </tr>\n",
       "  </tbody>\n",
       "</table>\n",
       "</div>"
      ],
      "text/plain": [
       "   mcap_past_pk                      uuid asset_name  mcap_date    mcap_value   \n",
       "1         44837  64536d2d4a6e0a5e3a66f36b        bnb 2023-03-28  4.976230e+10  \\\n",
       "3         13583  6453c36f4a6e0a5e3a7d1cf1  shiba_inu 2023-03-28  6.146102e+09   \n",
       "2         46173  6453824d4a6e0a5e3a6c6bdd   dogecoin 2023-03-28  1.015058e+10   \n",
       "0         25717  645387394a6e0a5e3a6dbad8   ethereum 2023-03-28  2.103219e+11   \n",
       "4         24741  64536da74a6e0a5e3a670f67    bitcoin 2023-03-28  5.262506e+11   \n",
       "\n",
       "  price_date   price_value        MFI        ADX        RSI  \n",
       "1 2023-03-28    315.159231  60.365588  14.272083  51.479892  \n",
       "3 2023-03-28      0.000010  54.380103  11.922092  36.719054  \n",
       "2 2023-03-28      0.073229  54.115075  10.889207  40.550997  \n",
       "0 2023-03-28   1748.638230  53.760582  16.009911  52.641604  \n",
       "4 2023-03-28  27224.459302  40.133419  14.301318  58.423716  "
      ]
     },
     "execution_count": 148,
     "metadata": {},
     "output_type": "execute_result"
    }
   ],
   "source": [
    "_num_assets=5\n",
    "_mcap_val_lb=10000000.0\n",
    "_date=date(2023,3,28)\n",
    "_table='warehouse.mcap_past'\n",
    "# _idx_types=['adx']\n",
    "# _idx_types=['adx','rsi','mfi','macd']\n",
    "_idx_types = {\n",
    "    \"MFI\":{\"DATEATTR\":'mcap_date',\"VALUEATTR\":'mcap_simp_ror',\n",
    "           \"WINLENGTH\":14,\"WINUNIT\":'DAY',\"LBOUND\":50.0},\n",
    "    \"ADX\": {\"DATEATTR\":'mcap_date',\"VALUEATTR\":'mcap_simp_ror',\n",
    "            \"WINLENGTH\":14,\"WINUNIT\":'DAY',\"LBOUND\":50.0},\n",
    "    \"RSI\":{\"DATEATTR\":'price_date',\"VALUEATTR\":'mcap_simp_ror',\n",
    "           \"WINLENGTH\":14,\"WINUNIT\":'DAY',\"LBOUND\":50.0},\n",
    "#     \"MACD\":{\"DATEATTR\":'price_date',\"VALUEATTR\":'price_log_ror',\n",
    "#             \"WINLENGTH\":20,\"WINUNIT\":'DAY',\"LBOUND\":50.0},\n",
    "}\n",
    "kwargs={\n",
    "    \"TABLENAME\" :_table,\n",
    "    \"ASSETCOUNT\":_num_assets,\n",
    "    \"INDEXTYPELIST\":_idx_types,\n",
    "    \"STANDARDIZE\" :'minmax',\n",
    "    \"COLPREFIX\" :'scaled',\n",
    "#     \"WINLENGTH\" :20,\n",
    "#     \"WINUNIT\" :'DAY',\n",
    "    \"PCALOWERBOUND\":0.7,\n",
    "}\n",
    "\n",
    "_portfolio=clsTopN.select_top_assets(\n",
    "    mcap_date=_date,\n",
    "    mcap_value_lb=_mcap_val_lb,\n",
    "    indicators=_idx_types,\n",
    "    **kwargs,\n",
    ")\n",
    "\n",
    "sort_list = [x for x in _idx_types.keys()]\n",
    "_portfolio[:_num_assets].sort_values(sort_list,ascending=False)"
   ]
  },
  {
   "cell_type": "markdown",
   "id": "da235836",
   "metadata": {},
   "source": [
    "## Write portfolio to mongodb"
   ]
  },
  {
   "cell_type": "code",
   "execution_count": 146,
   "id": "e5a0ad35",
   "metadata": {},
   "outputs": [
    {
     "name": "stdout",
     "output_type": "stream",
     "text": [
      "2023-03-28 00:00:00\n",
      "2023-03-28\n"
     ]
    }
   ],
   "source": [
    "d = _portfolio['mcap_date'][0]\n",
    "print(d)\n",
    "d = str(d).replace(\" \",\"T\").split(\"T\")[0]\n",
    "print(d)"
   ]
  },
  {
   "cell_type": "code",
   "execution_count": 149,
   "id": "ea3d2871",
   "metadata": {
    "scrolled": true
   },
   "outputs": [
    {
     "data": {
      "text/plain": [
       "[{'mcap.db.fk': 25717,\n",
       "  'uuid': '645387394a6e0a5e3a6dbad8',\n",
       "  'asset.name': 'ethereum',\n",
       "  'asset.mcap.date': Timestamp('2023-03-28 00:00:00'),\n",
       "  'asset.mcap.value': 210321902058.243,\n",
       "  'asset.price.date': Timestamp('2023-03-28 00:00:00'),\n",
       "  'asset.price.value': 1748.63823000541,\n",
       "  'index.mfi': 53.760582468694764,\n",
       "  'index.adx': 16.00991055867257,\n",
       "  'index.rsi': 52.641604399410255,\n",
       "  'audit.mod.by': 'NUWAN',\n",
       "  'audit.mod.dt': '2023-06-07T19:03:48',\n",
       "  'audit.mod.proc': 'dailyTopN-dailyTopN function <write_asset_picks_to_db>',\n",
       "  '_id': ObjectId('648064142e45a8d31d9925f2')}]"
      ]
     },
     "execution_count": 149,
     "metadata": {},
     "output_type": "execute_result"
    }
   ],
   "source": [
    "kwargs={\n",
    "    \"DESTINDBNAME\":'tip-portfolio',\n",
    "    \"COLLPREFIX\" : 'cherry_picked',\n",
    "    \"UIDSLIST\" : ['uuid'],\n",
    "    \"DATECOLLIST\":['asset.mcap.date','asset.price.date']\n",
    "}\n",
    "_saved_port = clsTopN.write_asset_picks_to_db(\n",
    "    portfolio_data=_portfolio,\n",
    "    cols_dict={},\n",
    "    **kwargs,\n",
    ")\n",
    "_saved_port[:1]"
   ]
  },
  {
   "cell_type": "code",
   "execution_count": 20,
   "id": "4c8766bc",
   "metadata": {},
   "outputs": [
    {
     "data": {
      "text/plain": [
       "[{'mcap_past_pk': 25717,\n",
       "  'uuid': '645387394a6e0a5e3a6dbad8',\n",
       "  'asset_name': 'ethereum',\n",
       "  'mcap_date': datetime.date(2023, 3, 28),\n",
       "  'mcap_value': 210321902058.243,\n",
       "  'price_date': '2023-03-28T00:00:00',\n",
       "  'price_value': 1748.63823000541,\n",
       "  'MFI': 53.760582468694764,\n",
       "  'ADX': 16.00991055867257,\n",
       "  'RSI': 52.641604399410255},\n",
       " {'mcap_past_pk': 44837,\n",
       "  'uuid': '64536d2d4a6e0a5e3a66f36b',\n",
       "  'asset_name': 'bnb',\n",
       "  'mcap_date': datetime.date(2023, 3, 28),\n",
       "  'mcap_value': 49762298122.6283,\n",
       "  'price_date': '2023-03-28T00:00:00',\n",
       "  'price_value': 315.159230724368,\n",
       "  'MFI': 60.36558781796708,\n",
       "  'ADX': 14.272083409995986,\n",
       "  'RSI': 51.47989206817888},\n",
       " {'mcap_past_pk': 46173,\n",
       "  'uuid': '6453824d4a6e0a5e3a6c6bdd',\n",
       "  'asset_name': 'dogecoin',\n",
       "  'mcap_date': datetime.date(2023, 3, 28),\n",
       "  'mcap_value': 10150577357.4086,\n",
       "  'price_date': '2023-03-28T00:00:00',\n",
       "  'price_value': 0.0732292029779081,\n",
       "  'MFI': 54.1150748038993,\n",
       "  'ADX': 10.889206526621413,\n",
       "  'RSI': 40.55099707412268},\n",
       " {'mcap_past_pk': 13583,\n",
       "  'uuid': '6453c36f4a6e0a5e3a7d1cf1',\n",
       "  'asset_name': 'shiba_inu',\n",
       "  'mcap_date': datetime.date(2023, 3, 28),\n",
       "  'mcap_value': 6146102185.66329,\n",
       "  'price_date': '2023-03-28T00:00:00',\n",
       "  'price_value': 1.0433748009e-05,\n",
       "  'MFI': 54.380103155710756,\n",
       "  'ADX': 11.922092139630163,\n",
       "  'RSI': 36.719053602202585},\n",
       " {'mcap_past_pk': 24741,\n",
       "  'uuid': '64536da74a6e0a5e3a670f67',\n",
       "  'asset_name': 'bitcoin',\n",
       "  'mcap_date': datetime.date(2023, 3, 28),\n",
       "  'mcap_value': 526250649565.526,\n",
       "  'price_date': '2023-03-28T00:00:00',\n",
       "  'price_value': 27224.4593017224,\n",
       "  'MFI': 40.13341866316726,\n",
       "  'ADX': 14.30131823882645,\n",
       "  'RSI': 58.423715684779374}]"
      ]
     },
     "execution_count": 20,
     "metadata": {},
     "output_type": "execute_result"
    }
   ],
   "source": [
    "_saved_port"
   ]
  },
  {
   "cell_type": "code",
   "execution_count": 22,
   "id": "1e997459",
   "metadata": {
    "scrolled": false
   },
   "outputs": [
    {
     "name": "stderr",
     "output_type": "stream",
     "text": [
      "\r",
      "[Stage 2179:>                                                       (0 + 1) / 1]\r"
     ]
    },
    {
     "name": "stdout",
     "output_type": "stream",
     "text": [
      "+------------+--------------------+-----------+----------------+------------+----------------+--------+-------------------+--------------------+------------------+------------------+-------------------+--------------------+---------+------------------+------------------+-------------------+--------------------+-------------+--------------------+----------+--------------------+--------------------+-----------+--------------------+-------------+-------------------+\n",
      "|mcap_past_pk|                uuid|data_source|      asset_name|asset_symbol|    alt_asset_id|currency|         price_date|         price_value|     price_log_ror|    price_simp_ror|          mcap_date|          mcap_value|mcap_rank|      mcap_log_ror|     mcap_simp_ror|        volume_date|         volume_size|volume_change|          created_dt|created_by|        created_proc|         modified_dt|modified_by|       modified_proc|deactivate_dt|               ewma|\n",
      "+------------+--------------------+-----------+----------------+------------+----------------+--------+-------------------+--------------------+------------------+------------------+-------------------+--------------------+---------+------------------+------------------+-------------------+--------------------+-------------+--------------------+----------+--------------------+--------------------+-----------+--------------------+-------------+-------------------+\n",
      "|       19246|6453612a4a6e0a5e3...|  coingecko|            aave|        aave|            aave|     usd|2023-03-17 00:00:00| 79.1143024411403000|0.0642993110213311|0.0435900000000000|2023-03-17 00:00:00|1132873969.138780...|     null|0.0662159697886361|0.0448600000000000|2023-03-17 00:00:00|68145256.21925920...|         null|2023-05-05 07:26:...|farmraider|wrangler_assets_e...|2023-05-17 11:10:...| farmraider|utils_etl_loader_...|         null| 1.13287396913878E9|\n",
      "|       21033|645363e84a6e0a5e3...|  coingecko|        algorand|        algo|        algorand|     usd|2023-03-17 00:00:00|  0.2208438394401490|0.0732238417791985|0.0494880000000000|2023-03-17 00:00:00|1576289387.965130...|     null|0.0783516019629865|0.0528600000000000|2023-03-17 00:00:00|83004932.03418140...|         null|2023-05-05 07:27:...|farmraider|wrangler_assets_e...|2023-05-17 11:10:...| farmraider|utils_etl_loader_...|         null| 1.57628938796513E9|\n",
      "|       41932|645365ad4a6e0a5e3...|  coingecko|         apecoin|         ape|         apecoin|     usd|2023-03-17 00:00:00|  4.4005263915717200|0.0253080902294218|0.0173890000000000|2023-03-17 00:00:00|1614861336.897530...|     null|0.0116544982951713|0.0080460000000000|2023-03-17 00:00:00|198046642.6250620...|         null|2023-05-05 07:35:...|farmraider|wrangler_assets_e...|2023-05-17 11:10:...| farmraider|utils_etl_loader_...|         null| 1.61486133689753E9|\n",
      "|       46782|6453664a4a6e0a5e3...|  coingecko|           aptos|         apt|           aptos|     usd|2023-03-17 00:00:00| 13.3889581067032000|0.1042668719481074|0.0697230000000000|2023-03-17 00:00:00|2375458439.666070...|     null|0.0812141702545130|0.0547390000000000|2023-03-17 00:00:00|553990053.2525110...|         null|2023-05-05 07:37:...|farmraider|wrangler_assets_e...|2023-05-17 11:10:...| farmraider|utils_etl_loader_...|         null| 2.37545843966607E9|\n",
      "|       24730|64536da74a6e0a5e3...|  coingecko|         bitcoin|         btc|         bitcoin|     usd|2023-03-17 00:00:00|27084.76471501020...|0.1089017662767988|0.0727060000000000|2023-03-17 00:00:00|521236460993.9160...|     null|0.1036963637622624|0.0693550000000000|2023-03-17 00:00:00|68404751401.00560...|         null|2023-05-05 07:28:...|farmraider|wrangler_assets_e...|2023-05-17 11:10:...| farmraider|utils_etl_loader_...|         null|5.21236460993916E11|\n",
      "|       40223|64536dbf4a6e0a5e3...|  coingecko|    bitcoin_cash|         bch|    bitcoin-cash|     usd|2023-03-17 00:00:00|133.6499879001890000|0.0738024136704273|0.0498700000000000|2023-03-17 00:00:00|2587759563.388290...|     null|0.0756243583274167|0.0510680000000000|2023-03-17 00:00:00|323424784.3305040...|         null|2023-05-05 07:35:...|farmraider|wrangler_assets_e...|2023-05-17 11:10:...| farmraider|utils_etl_loader_...|         null| 2.58775956338829E9|\n",
      "|       44826|64536d2d4a6e0a5e3...|  coingecko|             bnb|         bnb|     binancecoin|     usd|2023-03-17 00:00:00|338.0233718254880000|0.0478342958592371|0.0326130000000000|2023-03-17 00:00:00|53349400581.86300...|     null|0.0458133826878681|0.0312570000000000|2023-03-17 00:00:00|2312455175.949910...|         null|2023-05-05 07:36:...|farmraider|wrangler_assets_e...|2023-05-17 11:10:...| farmraider|utils_etl_loader_...|         null| 5.3349400581863E10|\n",
      "|       14701|6453755a4a6e0a5e3...|  coingecko|       chainlink|        link|       chainlink|     usd|2023-03-17 00:00:00|  7.1754520418994500|0.1034492972794708|0.0691950000000000|2023-03-17 00:00:00|3532552502.332080...|     null|0.1047150659994716|0.0700110000000000|2023-03-17 00:00:00|367334765.6031890...|         null|2023-05-05 07:24:...|farmraider|wrangler_assets_e...|2023-05-17 11:10:...| farmraider|utils_etl_loader_...|         null| 3.53255250233208E9|\n",
      "|       36159|64537b694a6e0a5e3...|  coingecko|          cronos|         cro|crypto-com-chain|     usd|2023-03-17 00:00:00|  0.0743830109432759|0.0736598487762777|0.0497760000000000|2023-03-17 00:00:00|1877092691.939830...|     null|0.0717901227979827|0.0485430000000000|2023-03-17 00:00:00|27201854.43356270...|         null|2023-05-05 07:33:...|farmraider|wrangler_assets_e...|2023-05-17 11:10:...| farmraider|utils_etl_loader_...|         null| 1.87709269193983E9|\n",
      "|       29244|64537e2c4a6e0a5e3...|  coingecko|    decentraland|        mana|    decentraland|     usd|2023-03-17 00:00:00|  0.6201355149714720|0.1197678425472073|0.0796640000000000|2023-03-17 00:00:00|1128982977.228600...|     null|0.1154727783514422|0.0769200000000000|2023-03-17 00:00:00|115993554.9223880...|         null|2023-05-05 07:30:...|farmraider|wrangler_assets_e...|2023-05-17 11:10:...| farmraider|utils_etl_loader_...|         null|  1.1289829772286E9|\n",
      "|       46162|6453824d4a6e0a5e3...|  coingecko|        dogecoin|        doge|        dogecoin|     usd|2023-03-17 00:00:00|  0.0762350341066093|0.0936088510876691|0.0628250000000000|2023-03-17 00:00:00|10540816121.76610...|     null|0.0905811214641345|0.0608560000000000|2023-03-17 00:00:00|591425139.4897490...|         null|2023-05-05 07:37:...|farmraider|wrangler_assets_e...|2023-05-17 11:10:...| farmraider|utils_etl_loader_...|         null|1.05408161217661E10|\n",
      "|       25706|645387394a6e0a5e3...|  coingecko|        ethereum|         eth|        ethereum|     usd|2023-03-17 00:00:00|1767.601438288060...|0.0809236676935432|0.0545480000000000|2023-03-17 00:00:00|212480699580.9630...|     null|0.0773496586988203|0.0522030000000000|2023-03-17 00:00:00|31828468750.60770...|         null|2023-05-05 07:29:...|farmraider|wrangler_assets_e...|2023-05-17 11:10:...| farmraider|utils_etl_loader_...|         null|2.12480699580963E11|\n",
      "|       35619|6453874d4a6e0a5e3...|  coingecko|ethereum_classic|         etc|ethereum-classic|     usd|2023-03-17 00:00:00| 19.9858973755594000|0.0684685784501514|0.0463500000000000|2023-03-17 00:00:00|2791735599.058240...|     null|0.0655268173872125|0.0444030000000000|2023-03-17 00:00:00|194974017.0568900...|         null|2023-05-05 07:33:...|farmraider|wrangler_assets_e...|2023-05-17 11:10:...| farmraider|utils_etl_loader_...|         null| 2.79173559905824E9|\n",
      "|       40934|645389534a6e0a5e3...|  coingecko|          fantom|         ftm|          fantom|     usd|2023-03-17 00:00:00|  0.4724835217271570|0.1923734650345813|0.1248350000000000|2023-03-17 00:00:00|1312023286.440220...|     null|0.1922105809759749|0.1247360000000000|2023-03-17 00:00:00|442320652.3952460...|         null|2023-05-05 07:35:...|farmraider|wrangler_assets_e...|2023-05-17 11:10:...| farmraider|utils_etl_loader_...|         null| 1.31202328644022E9|\n",
      "|       30187|645393064a6e0a5e3...|  coingecko|          hedera|        hbar|hedera-hashgraph|     usd|2023-03-17 00:00:00|  0.0645621397002200|0.0670204832143623|0.0453920000000000|2023-03-17 00:00:00|1813146439.069340...|     null|0.0569358358655545|0.0386960000000000|2023-03-17 00:00:00|55965749.14611990...|         null|2023-05-05 07:31:...|farmraider|wrangler_assets_e...|2023-05-17 11:10:...| farmraider|utils_etl_loader_...|         null| 1.81314643906934E9|\n",
      "|       25252|64539f5e4a6e0a5e3...|  coingecko|        lido_dao|         ldo|        lido-dao|     usd|2023-03-17 00:00:00|  2.5694952058536100|0.0455408246642818|0.0310740000000000|2023-03-17 00:00:00|2188718422.386150...|     null|0.0123469784218693|0.0085210000000000|2023-03-17 00:00:00|294721083.0437330...|         null|2023-05-05 07:29:...|farmraider|wrangler_assets_e...|2023-05-17 11:10:...| farmraider|utils_etl_loader_...|         null| 2.18871842238615E9|\n",
      "|       13886|6453ab444a6e0a5e3...|  coingecko|   near_protocol|        near|            near|     usd|2023-03-17 00:00:00|  2.1066017463481900|0.0859902015036514|0.0578620000000000|2023-03-17 00:00:00|1823058168.860070...|     null|0.0843364457233237|0.0567820000000000|2023-03-17 00:00:00|138304052.5746030...|         null|2023-05-05 07:24:...|farmraider|wrangler_assets_e...|2023-05-17 11:10:...| farmraider|utils_etl_loader_...|         null| 1.82305816886007E9|\n",
      "|        3306|6453af904a6e0a5e3...|  coingecko|             okb|         okb|             okb|     usd|2023-03-17 00:00:00| 50.6015623761784000|0.0808500098611942|0.0544990000000000|2023-03-17 00:00:00|3027641277.011780...|     null|0.0699784447988609|0.0473480000000000|2023-03-17 00:00:00|62569271.85844330...|         null|2023-05-05 07:19:...|farmraider|wrangler_assets_e...|2023-05-17 11:10:...| farmraider|utils_etl_loader_...|         null| 3.02764127701178E9|\n",
      "|       13572|6453c36f4a6e0a5e3...|  coingecko|       shiba_inu|        shib|       shiba-inu|     usd|2023-03-17 00:00:00|  0.0000111182309508|0.0707369068231843|0.0478490000000000|2023-03-17 00:00:00|6530596814.793240...|     null|0.0575223618106257|0.0390870000000000|2023-03-17 00:00:00|374569226.0059200...|         null|2023-05-05 07:24:...|farmraider|wrangler_assets_e...|2023-05-17 11:10:...| farmraider|utils_etl_loader_...|         null| 6.53059681479324E9|\n",
      "|       18377|6453cb274a6e0a5e3...|  coingecko|         stellar|         xlm|         stellar|     usd|2023-03-17 00:00:00|  0.0871255555500968|0.0273508335789380|0.0187800000000000|2023-03-17 00:00:00|2303960267.860810...|     null|0.0265890386983030|0.0182610000000000|2023-03-17 00:00:00|75557387.02133200...|         null|2023-05-05 07:26:...|farmraider|wrangler_assets_e...|2023-05-17 11:10:...| farmraider|utils_etl_loader_...|         null| 2.30396026786081E9|\n",
      "+------------+--------------------+-----------+----------------+------------+----------------+--------+-------------------+--------------------+------------------+------------------+-------------------+--------------------+---------+------------------+------------------+-------------------+--------------------+-------------+--------------------+----------+--------------------+--------------------+-----------+--------------------+-------------+-------------------+\n",
      "only showing top 20 rows\n",
      "\n"
     ]
    },
    {
     "name": "stderr",
     "output_type": "stream",
     "text": [
      "\r",
      "                                                                                \r"
     ]
    }
   ],
   "source": [
    "''' DEPRECATED already moved to utils/ml/timeriese/rollingstats package'''\n",
    "from pyspark.sql import functions as F\n",
    "from pyspark.sql.functions import pandas_udf\n",
    "# from pyspark.sql.functions import PandasUDFType\n",
    "from pyspark.sql.types import DoubleType, StructField\n",
    "\n",
    "def exp_ma(df, group_col='asset_name', sort_col='mcap_date',**kwargs):\n",
    "    schema = (df.select('*')\n",
    "        .schema.add(StructField('ewma', DoubleType())))\n",
    "\n",
    "    @pandas_udf(schema, F.PandasUDFType.GROUPED_MAP)\n",
    "    def ema(pdf):\n",
    "        pdf['ewma'] = pdf['mcap_value'].ewm(span=5, min_periods=1).mean()\n",
    "        return pdf\n",
    "\n",
    "    return df.groupby('asset_name').apply(ema)\n",
    "\n",
    "# df = spark.createDataFrame(\n",
    "#     [(\"a\", 1, 1), (\"a\", 2, 3), (\"a\", 3, 3), (\"b\", 1, 10), (\"b\", 8, 3), (\"b\", 9, 0)], \n",
    "#     (\"name\", \"date\", \"count\")\n",
    "# )\n",
    "\n",
    "exp_ma(clsTopN.data).show()"
   ]
  }
 ],
 "metadata": {
  "kernelspec": {
   "display_name": "Python 3 (ipykernel)",
   "language": "python",
   "name": "python3"
  },
  "language_info": {
   "codemirror_mode": {
    "name": "ipython",
    "version": 3
   },
   "file_extension": ".py",
   "mimetype": "text/x-python",
   "name": "python",
   "nbconvert_exporter": "python",
   "pygments_lexer": "ipython3",
   "version": "3.8.16"
  }
 },
 "nbformat": 4,
 "nbformat_minor": 5
}
