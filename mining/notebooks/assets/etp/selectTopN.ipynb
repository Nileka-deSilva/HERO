{
 "cells": [
  {
   "cell_type": "markdown",
   "id": "91de3ea5",
   "metadata": {},
   "source": [
    "# Select top-N assets with good indicators\n",
    "The objective is to calculate the standard indicators for a top N number of assets. Then use the indicators to decide on a potentially significant set of assets to consider for the portfolio. Thereafter, apply the MPT monte carlo algorithm to construct a weigted portfolio. "
   ]
  },
  {
   "cell_type": "code",
   "execution_count": 1,
   "id": "a3215d5d",
   "metadata": {},
   "outputs": [],
   "source": [
    "'''\n",
    "    WARNING CONTROL to display or ignore all warnings\n",
    "'''\n",
    "import warnings; warnings.simplefilter('ignore') #switch betweeb 'default' and 'ignore'\n",
    "import traceback\n",
    "\n",
    "''' Set debug flag to view extended error messages; \n",
    "    else set it to False to turn off debugging mode '''\n",
    "debug = True"
   ]
  },
  {
   "cell_type": "markdown",
   "id": "5d2e5085",
   "metadata": {},
   "source": [
    "## Initialize the classes"
   ]
  },
  {
   "cell_type": "code",
   "execution_count": 2,
   "id": "f67d1a6e",
   "metadata": {},
   "outputs": [
    {
     "name": "stdout",
     "output_type": "stream",
     "text": [
      "All functional DAILYTOPN-libraries in ETP-package of ASSETS-module imported successfully!\n",
      "All functional SPARKCLEANNRICH-libraries in TRANSFORM-package of ETL-module imported successfully!\n",
      "All functional DAILYTOPN-libraries in ETP-package of ASSETS-module imported successfully!\n",
      "All functional APP-libraries in REZAWARE-package of REZAWARE-module imported successfully!\n",
      "All functional SPARKDBWLS-libraries in LOAD-package of ETL-module imported successfully!\n",
      "All functional SPARKNOSQLWLS-libraries in LOAD-package of ETL-module imported successfully!\n",
      "sparkNoSQLwls Class initialization complete\n",
      "All functional PERFORMINDEX-libraries in ETP-package of ASSETS-module imported successfully!\n",
      "sparkNoSQLwls Class initialization complete\n",
      "All packages in utils ml timeseries RollingStats imported successfully!\n",
      "All functional EXECSESSION-libraries in SPARK-package of LIB-module imported successfully!\n",
      "execSession Class initialization complete\n",
      "performIndex Class initialization complete\n",
      "All packages in utils ml dimreduc FeatureEngineer imported successfully!\n",
      "execSession Class initialization complete\n",
      "dailyTopN Class initialization complete\n",
      "\n",
      "Class initialization and load complete!\n"
     ]
    }
   ],
   "source": [
    "import os\n",
    "import sys\n",
    "from datetime import datetime, date, timedelta\n",
    "from pyspark.sql import functions as F\n",
    "\n",
    "sys.path.insert(1,\"/home/nuwan/workspace/rezaware/\")\n",
    "# import rezaware as reza\n",
    "from mining.modules.assets.etp import dailyTopN as topN\n",
    "from utils.modules.etl.transform import sparkCleanNRich as cnr\n",
    "\n",
    "''' restart initiate classes '''\n",
    "if debug:\n",
    "    import importlib\n",
    "#     reza = importlib.reload(reza)\n",
    "    topN = importlib.reload(topN)\n",
    "\n",
    "__desc__ = \"analyze crypto market capitalization time series data\"\n",
    "clsTopN = topN.WeightedPortfolio(desc=__desc__)\n",
    "clsCNR = cnr.Transformer(desc=__desc__)\n",
    "print(\"\\nClass initialization and load complete!\")"
   ]
  },
  {
   "cell_type": "markdown",
   "id": "3a7b9078",
   "metadata": {},
   "source": [
    "## Select topN assets\n",
    "\n",
    "### Read top N mcap assets from tip sql db\n",
    "\n",
    "Set the following parameters to select the mcap data from the database\n",
    "* ```_num_assets``` (integer) limits the number of asset count\n",
    "* ```_mcap_val_lb```(decimal) limits the asset selection by mcap_value\n",
    "* ```_date``` (datetime) selects assets with values for that day\n",
    "* ```_table```(string) by default is 'warehouse.mcap_past' where mcap daily data is stored\n",
    "\n",
    "Extends the ```utils/etl/load/sparkDBwls``` package to read the data from database table\n",
    "\n",
    "\n",
    "### Construct a dict with selected assets\n",
    "The dictionary serves as an input to the ```mining/modules/assets/etp/performIndex``` package to compuiting the index values."
   ]
  },
  {
   "cell_type": "code",
   "execution_count": 3,
   "id": "4d79f4dd",
   "metadata": {},
   "outputs": [
    {
     "name": "stdout",
     "output_type": "stream",
     "text": [
      "23/03/29 23:18:55 WARN Utils: Your hostname, FarmRaiderTester resolves to a loopback address: 127.0.1.1; using 192.168.124.15 instead (on interface enp2s0)\n",
      "23/03/29 23:18:55 WARN Utils: Set SPARK_LOCAL_IP if you need to bind to another address\n",
      "23/03/29 23:18:56 WARN NativeCodeLoader: Unable to load native-hadoop library for your platform... using builtin-java classes where applicable\n",
      "23/03/29 23:18:56 WARN FileSystem: Cannot load filesystem: java.util.ServiceConfigurationError: org.apache.hadoop.fs.FileSystem: com.google.cloud.hadoop.fs.gcs.GoogleHadoopFileSystem Unable to get public no-arg constructor\n",
      "23/03/29 23:18:56 WARN FileSystem: java.lang.NoClassDefFoundError: com/google/api/client/auth/oauth2/Credential\n",
      "23/03/29 23:18:56 WARN FileSystem: java.lang.ClassNotFoundException: com.google.api.client.auth.oauth2.Credential\n"
     ]
    },
    {
     "name": "stderr",
     "output_type": "stream",
     "text": [
      "Setting default log level to \"WARN\".\n",
      "To adjust logging level use sc.setLogLevel(newLevel). For SparkR, use setLogLevel(newLevel).\n",
      "                                                                                \r"
     ]
    },
    {
     "name": "stdout",
     "output_type": "stream",
     "text": [
      "23/03/29 23:20:52 WARN SparkSession: Using an existing Spark session; only runtime SQL configurations will take effect.\n"
     ]
    },
    {
     "name": "stderr",
     "output_type": "stream",
     "text": [
      "                                                                                \r"
     ]
    },
    {
     "name": "stdout",
     "output_type": "stream",
     "text": [
      "23/03/29 23:21:06 WARN LAPACK: Failed to load implementation from: com.github.fommil.netlib.NativeSystemLAPACK\n",
      "23/03/29 23:21:06 WARN LAPACK: Failed to load implementation from: com.github.fommil.netlib.NativeRefLAPACK\n",
      "[Error]function <indicators_wrapper> name 'clsCNR' is not defined\n"
     ]
    }
   ],
   "source": [
    "_num_assets=3\n",
    "_mcap_val_lb=10000.0\n",
    "_date=datetime.strftime(date(2022,1,30),'%Y-%m-%dT00:00:00')\n",
    "_table='warehouse.mcap_past'\n",
    "kwargs={\n",
    "    \"TABLENAME\":_table,\n",
    "    \"ASSETCOUNT\":_num_assets,\n",
    "    \"STANDARDIZE\":'minmax',\n",
    "    \"COLPREFIX\":'sc',\n",
    "    \"WINLENGTH\":7,\n",
    "    \"WINUNIT\":'DAY',\n",
    "}\n",
    "\n",
    "# _data,_port=clsTopN.select_top_assets(\n",
    "_features=clsTopN.select_top_assets(\n",
    "    mcap_date=date(2022,1,30),\n",
    "    mcap_value_lb=_mcap_val_lb,\n",
    "    **kwargs,\n",
    ")"
   ]
  },
  {
   "cell_type": "code",
   "execution_count": 6,
   "id": "929c2786",
   "metadata": {},
   "outputs": [
    {
     "name": "stdout",
     "output_type": "stream",
     "text": [
      "23/03/29 23:22:50 WARN WindowExec: No Partition Defined for Window operation! Moving all data to a single partition, this can cause serious performance degradation.\n",
      "23/03/29 23:22:50 WARN WindowExec: No Partition Defined for Window operation! Moving all data to a single partition, this can cause serious performance degradation.\n",
      "23/03/29 23:22:50 WARN WindowExec: No Partition Defined for Window operation! Moving all data to a single partition, this can cause serious performance degradation.\n",
      "23/03/29 23:22:50 WARN WindowExec: No Partition Defined for Window operation! Moving all data to a single partition, this can cause serious performance degradation.\n",
      "23/03/29 23:22:51 WARN WindowExec: No Partition Defined for Window operation! Moving all data to a single partition, this can cause serious performance degradation.\n",
      "23/03/29 23:22:51 WARN WindowExec: No Partition Defined for Window operation! Moving all data to a single partition, this can cause serious performance degradation.\n",
      "23/03/29 23:22:51 WARN WindowExec: No Partition Defined for Window operation! Moving all data to a single partition, this can cause serious performance degradation.\n",
      "23/03/29 23:22:51 WARN WindowExec: No Partition Defined for Window operation! Moving all data to a single partition, this can cause serious performance degradation.\n"
     ]
    },
    {
     "name": "stderr",
     "output_type": "stream",
     "text": [
      "\r",
      "[Stage 528:>                                                        (0 + 1) / 1]\r"
     ]
    },
    {
     "name": "stdout",
     "output_type": "stream",
     "text": [
      "23/03/29 23:22:55 WARN WindowExec: No Partition Defined for Window operation! Moving all data to a single partition, this can cause serious performance degradation.\n",
      "23/03/29 23:22:55 WARN WindowExec: No Partition Defined for Window operation! Moving all data to a single partition, this can cause serious performance degradation.\n",
      "23/03/29 23:22:55 WARN WindowExec: No Partition Defined for Window operation! Moving all data to a single partition, this can cause serious performance degradation.\n",
      "23/03/29 23:22:55 WARN WindowExec: No Partition Defined for Window operation! Moving all data to a single partition, this can cause serious performance degradation.\n",
      "+------------+--------------------+-----------+----------+------------+-------------------+--------------------+---------+--------------------+----------+--------------------+--------------------+-----------+--------------------+-------------+------------------+-------------------+--------------------+-------------------+\n",
      "|mcap_past_pk|                uuid|data_source|asset_name|asset_symbol|          mcap_date|          mcap_value|mcap_rank|          created_dt|created_by|        created_proc|         modified_dt|modified_by|       modified_proc|deactivate_dt|           log_ror|           simp_ror|              PCA[0]|             PCA[1]|\n",
      "+------------+--------------------+-----------+----------+------------+-------------------+--------------------+---------+--------------------+----------+--------------------+--------------------+-----------+--------------------+-------------+------------------+-------------------+--------------------+-------------------+\n",
      "|       19539|6397027b7cc473c58...|  coingecko|       btc|         btc|2022-01-30 00:00:00|729084397823.3950...|     null|2023-02-14 12:07:...|farmraider|wrangler_assets_e...|2023-02-21 14:45:...| farmraider|utils_etl_load_sp...|         null|0.6966161566986901| 0.0069020000000000|  0.1209894681026018| 1.0027931327257549|\n",
      "|      171411|639701bc7cc473c58...|  coingecko|       bnb|         bnb|2022-01-30 00:00:00|65455197964.94470...|     null|2023-02-14 12:48:...|farmraider|wrangler_assets_e...|2023-02-21 14:45:...| farmraider|utils_etl_load_sp...|         null|0.6841715195617568|-0.0181960000000000|-0.12433786115520346|-0.6664411712349658|\n",
      "|       17909|6396fac57cc473c58...|  coingecko|      avax|        avax|2022-01-30 00:00:00|17939687507.80460...|     null|2023-02-14 12:06:...|farmraider|wrangler_assets_e...|2023-02-21 14:45:...| farmraider|utils_etl_load_sp...|         null|0.7082244452084980| 0.0294870000000000| -1.4983101305585362| 0.3733906146374675|\n",
      "+------------+--------------------+-----------+----------+------------+-------------------+--------------------+---------+--------------------+----------+--------------------+--------------------+-----------+--------------------+-------------+------------------+-------------------+--------------------+-------------------+\n",
      "\n"
     ]
    },
    {
     "name": "stderr",
     "output_type": "stream",
     "text": [
      "\r",
      "                                                                                \r"
     ]
    }
   ],
   "source": [
    "clsTopN.index.show()"
   ]
  },
  {
   "cell_type": "code",
   "execution_count": 22,
   "id": "c7df367b",
   "metadata": {},
   "outputs": [
    {
     "name": "stdout",
     "output_type": "stream",
     "text": [
      "23/03/29 22:57:39 WARN WindowExec: No Partition Defined for Window operation! Moving all data to a single partition, this can cause serious performance degradation.\n",
      "23/03/29 22:57:39 WARN WindowExec: No Partition Defined for Window operation! Moving all data to a single partition, this can cause serious performance degradation.\n",
      "23/03/29 22:57:39 WARN WindowExec: No Partition Defined for Window operation! Moving all data to a single partition, this can cause serious performance degradation.\n",
      "23/03/29 22:57:39 WARN WindowExec: No Partition Defined for Window operation! Moving all data to a single partition, this can cause serious performance degradation.\n",
      "23/03/29 22:57:40 WARN WindowExec: No Partition Defined for Window operation! Moving all data to a single partition, this can cause serious performance degradation.\n",
      "23/03/29 22:57:40 WARN WindowExec: No Partition Defined for Window operation! Moving all data to a single partition, this can cause serious performance degradation.\n",
      "23/03/29 22:57:40 WARN WindowExec: No Partition Defined for Window operation! Moving all data to a single partition, this can cause serious performance degradation.\n",
      "23/03/29 22:57:40 WARN WindowExec: No Partition Defined for Window operation! Moving all data to a single partition, this can cause serious performance degradation.\n"
     ]
    },
    {
     "name": "stderr",
     "output_type": "stream",
     "text": [
      "\r",
      "[Stage 18830:>                                                      (0 + 1) / 1]\r"
     ]
    },
    {
     "name": "stdout",
     "output_type": "stream",
     "text": [
      "23/03/29 22:57:45 WARN WindowExec: No Partition Defined for Window operation! Moving all data to a single partition, this can cause serious performance degradation.\n",
      "23/03/29 22:57:45 WARN WindowExec: No Partition Defined for Window operation! Moving all data to a single partition, this can cause serious performance degradation.\n",
      "23/03/29 22:57:45 WARN WindowExec: No Partition Defined for Window operation! Moving all data to a single partition, this can cause serious performance degradation.\n",
      "23/03/29 22:57:45 WARN WindowExec: No Partition Defined for Window operation! Moving all data to a single partition, this can cause serious performance degradation.\n"
     ]
    },
    {
     "name": "stderr",
     "output_type": "stream",
     "text": [
      "\r",
      "                                                                                \r"
     ]
    },
    {
     "name": "stdout",
     "output_type": "stream",
     "text": [
      "23/03/29 22:57:45 WARN WindowExec: No Partition Defined for Window operation! Moving all data to a single partition, this can cause serious performance degradation.\n",
      "23/03/29 22:57:45 WARN WindowExec: No Partition Defined for Window operation! Moving all data to a single partition, this can cause serious performance degradation.\n",
      "23/03/29 22:57:45 WARN WindowExec: No Partition Defined for Window operation! Moving all data to a single partition, this can cause serious performance degradation.\n",
      "23/03/29 22:57:45 WARN WindowExec: No Partition Defined for Window operation! Moving all data to a single partition, this can cause serious performance degradation.\n",
      "23/03/29 22:57:46 WARN WindowExec: No Partition Defined for Window operation! Moving all data to a single partition, this can cause serious performance degradation.\n",
      "23/03/29 22:57:46 WARN WindowExec: No Partition Defined for Window operation! Moving all data to a single partition, this can cause serious performance degradation.\n",
      "23/03/29 22:57:46 WARN WindowExec: No Partition Defined for Window operation! Moving all data to a single partition, this can cause serious performance degradation.\n",
      "23/03/29 22:57:46 WARN WindowExec: No Partition Defined for Window operation! Moving all data to a single partition, this can cause serious performance degradation.\n",
      "23/03/29 22:57:46 WARN WindowExec: No Partition Defined for Window operation! Moving all data to a single partition, this can cause serious performance degradation.\n",
      "23/03/29 22:57:46 WARN WindowExec: No Partition Defined for Window operation! Moving all data to a single partition, this can cause serious performance degradation.\n",
      "23/03/29 22:57:46 WARN WindowExec: No Partition Defined for Window operation! Moving all data to a single partition, this can cause serious performance degradation.\n",
      "23/03/29 22:57:46 WARN WindowExec: No Partition Defined for Window operation! Moving all data to a single partition, this can cause serious performance degradation.\n",
      "23/03/29 22:57:47 WARN WindowExec: No Partition Defined for Window operation! Moving all data to a single partition, this can cause serious performance degradation.\n",
      "23/03/29 22:57:47 WARN WindowExec: No Partition Defined for Window operation! Moving all data to a single partition, this can cause serious performance degradation.\n",
      "23/03/29 22:57:47 WARN WindowExec: No Partition Defined for Window operation! Moving all data to a single partition, this can cause serious performance degradation.\n",
      "23/03/29 22:57:47 WARN WindowExec: No Partition Defined for Window operation! Moving all data to a single partition, this can cause serious performance degradation.\n",
      "23/03/29 22:57:47 WARN WindowExec: No Partition Defined for Window operation! Moving all data to a single partition, this can cause serious performance degradation.\n",
      "23/03/29 22:57:47 WARN WindowExec: No Partition Defined for Window operation! Moving all data to a single partition, this can cause serious performance degradation.\n",
      "23/03/29 22:57:47 WARN WindowExec: No Partition Defined for Window operation! Moving all data to a single partition, this can cause serious performance degradation.\n",
      "23/03/29 22:57:47 WARN WindowExec: No Partition Defined for Window operation! Moving all data to a single partition, this can cause serious performance degradation.\n",
      "23/03/29 22:57:47 WARN WindowExec: No Partition Defined for Window operation! Moving all data to a single partition, this can cause serious performance degradation.\n",
      "23/03/29 22:57:47 WARN WindowExec: No Partition Defined for Window operation! Moving all data to a single partition, this can cause serious performance degradation.\n",
      "23/03/29 22:57:47 WARN WindowExec: No Partition Defined for Window operation! Moving all data to a single partition, this can cause serious performance degradation.\n",
      "23/03/29 22:57:47 WARN WindowExec: No Partition Defined for Window operation! Moving all data to a single partition, this can cause serious performance degradation.\n",
      "+------------+--------------------+-----------+----------+------------+-------------------+--------------------+---------+--------------------+----------+--------------------+--------------------+-----------+--------------------+-------------+------------------+-------------------+--------------------+--------------------+---------+---------+\n",
      "|mcap_past_pk|                uuid|data_source|asset_name|asset_symbol|          mcap_date|          mcap_value|mcap_rank|          created_dt|created_by|        created_proc|         modified_dt|modified_by|       modified_proc|deactivate_dt|           log_ror|           simp_ror|              PCA[0]|              PCA[1]|sc_PCA[1]|sc_PCA[0]|\n",
      "+------------+--------------------+-----------+----------+------------+-------------------+--------------------+---------+--------------------+----------+--------------------+--------------------+-----------+--------------------+-------------+------------------+-------------------+--------------------+--------------------+---------+---------+\n",
      "|       19539|6397027b7cc473c58...|  coingecko|       btc|         btc|2022-01-30 00:00:00|729084397823.3950...|     null|2023-02-14 12:07:...|farmraider|wrangler_assets_e...|2023-02-21 14:45:...| farmraider|utils_etl_load_sp...|         null|0.6966161566986901| 0.0069020000000000| -0.3733038629140114|  0.2887943650505176|   0.5098|   0.4833|\n",
      "|      171411|639701bc7cc473c58...|  coingecko|       bnb|         bnb|2022-01-30 00:00:00|65455197964.94470...|     null|2023-02-14 12:48:...|farmraider|wrangler_assets_e...|2023-02-21 14:45:...| farmraider|utils_etl_load_sp...|         null|0.6841715195617568|-0.0181960000000000|-0.08545070784196483| 0.03766696995702046|   0.2511|   0.6334|\n",
      "|       17909|6396fac57cc473c58...|  coingecko|      avax|        avax|2022-01-30 00:00:00|17939687507.80460...|     null|2023-02-14 12:06:...|farmraider|wrangler_assets_e...|2023-02-21 14:45:...| farmraider|utils_etl_load_sp...|         null|0.7082244452084980| 0.0294870000000000| -0.5068679279934611|0.061931975480509854|   0.2761|   0.4136|\n",
      "|       53846|63976ea07cc473c58...|  coingecko|     matic|       matic|2022-01-30 00:00:00|11810531669.97780...|     null|2023-02-14 12:16:...|farmraider|wrangler_assets_e...|2023-02-21 14:45:...| farmraider|utils_etl_load_sp...|         null|0.6874328850271657|-0.0115280000000000| -0.3690445585340661|-0.01005379729084925|   0.2019|   0.4855|\n",
      "|      141502|63972b3c7cc473c58...|  coingecko|       cro|         cro|2022-01-30 00:00:00|11107619070.03570...|     null|2023-02-14 12:40:...|farmraider|wrangler_assets_e...|2023-02-21 14:45:...| farmraider|utils_etl_load_sp...|         null|0.6948327591738064| 0.0033630000000000| -0.7152427888293114|  0.2907805718262729|   0.5118|   0.3049|\n",
      "|         383|6397be217cc473c58...|  coingecko|      wbtc|        wbtc|2022-01-30 00:00:00|10430656517.24410...|     null|2023-02-14 12:01:...|farmraider|wrangler_assets_e...|2023-02-21 14:45:...| farmraider|utils_etl_load_sp...|         null|0.6966271185459807| 0.0069230000000000| -0.5670314337662766| 0.38638151358640543|   0.6103|   0.3822|\n",
      "|      207111|639727ff7cc473c58...|  coingecko|      atom|        atom|2022-01-30 00:00:00|8389777529.990150...|     null|2023-02-14 12:58:...|farmraider|wrangler_assets_e...|2023-02-21 14:45:...| farmraider|utils_etl_load_sp...|         null|0.6768480687796110|-0.0334140000000000| 0.12584284409640834|  0.1986912449882272|   0.4169|   0.7437|\n",
      "|      157744|639721077cc473c58...|  coingecko|      link|        link|2022-01-30 00:00:00|8269471484.650070...|     null|2023-02-14 12:45:...|farmraider|wrangler_assets_e...|2023-02-21 14:45:...| farmraider|utils_etl_load_sp...|         null|0.7249360186939123| 0.0606790000000000| -0.3481334716390099|-0.02412687675437708|   0.1874|   0.4964|\n",
      "|      194925|639779e27cc473c58...|  coingecko|      near|        near|2022-01-30 00:00:00|7008399516.072110...|     null|2023-02-14 12:54:...|farmraider|wrangler_assets_e...|2023-02-21 14:45:...| farmraider|utils_etl_load_sp...|         null|0.6866133817089483|-0.0131970000000000|-0.15635424346320356|-0.10263904663025096|   0.1065|   0.5965|\n",
      "|      178522|6396f1587cc473c58...|  coingecko|      algo|        algo|2022-01-30 00:00:00|6451854880.504450...|     null|2023-02-14 12:50:...|farmraider|wrangler_assets_e...|2023-02-21 14:45:...| farmraider|utils_etl_load_sp...|         null|0.6829458232022605|-0.0207200000000000|-0.17125796918931321|-0.20604549147628443|      0.0|   0.5887|\n",
      "|      130788|639749247cc473c58...|  coingecko|       ftt|         ftt|2022-01-30 00:00:00|5780846634.442400...|     null|2023-02-14 12:37:...|farmraider|wrangler_assets_e...|2023-02-21 14:45:...| farmraider|utils_etl_load_sp...|         null|0.6977212037482458| 0.0090860000000000| -0.5636584563054302|-0.16164311998265743|   0.0457|    0.384|\n",
      "|       81772|639780ca7cc473c58...|  coingecko|       okb|         okb|2022-01-30 00:00:00|5720359372.158010...|     null|2023-02-14 12:24:...|farmraider|wrangler_assets_e...|2023-02-21 14:45:...| farmraider|utils_etl_load_sp...|         null|0.7034692244974619| 0.0203290000000000|-0.24304850786372945|   0.158004983543657|    0.375|   0.5512|\n",
      "|      211396|6397a7787cc473c58...|  coingecko|       xlm|         xlm|2022-01-30 00:00:00|5111318263.969250...|     null|2023-02-14 12:59:...|farmraider|wrangler_assets_e...|2023-02-21 14:45:...| farmraider|utils_etl_load_sp...|         null|0.6965668268988221| 0.0068040000000000|-0.20140027960381413| 0.03917352217601748|   0.2526|    0.573|\n",
      "|      144965|6397a62e7cc473c58...|  coingecko|     steth|       steth|2022-01-30 00:00:00|4695905682.203960...|     null|2023-02-14 12:41:...|farmraider|wrangler_assets_e...|2023-02-21 14:45:...| farmraider|utils_etl_load_sp...|         null|0.6982546153810066| 0.0101370000000000|-0.39264092885427704| 0.19042856600237565|   0.4084|   0.4732|\n",
      "|       19806|63973ca77cc473c58...|  coingecko|       omi|         omi|2022-01-30 00:00:00|4342451402.228160...|     null|2023-02-14 12:07:...|farmraider|wrangler_assets_e...|2023-02-21 14:45:...| farmraider|utils_etl_load_sp...|         null|0.6865796615415420|-0.0132650000000000| -1.2996199516959215|  0.4030728239223144|   0.6275|      0.0|\n",
      "|       92281|639754af7cc473c58...|  coingecko|      hbar|        hbar|2022-01-30 00:00:00|4326843279.936680...|     null|2023-02-14 12:27:...|farmraider|wrangler_assets_e...|2023-02-21 14:45:...| farmraider|utils_etl_load_sp...|         null|0.7092827984703851| 0.0315080000000000|-0.35205483774345625|0.018807253559435848|   0.2316|   0.4944|\n",
      "|      210416|63975c457cc473c58...|  coingecko|       icp|         icp|2022-01-30 00:00:00|4137947601.114380...|     null|2023-02-14 12:59:...|farmraider|wrangler_assets_e...|2023-02-21 14:45:...| farmraider|utils_etl_load_sp...|         null|0.6828508548574620|-0.0209150000000000|-0.03991063908856...|-0.19908162130039025|   0.0072|   0.6572|\n",
      "|      166628|6396fb7c7cc473c58...|  coingecko|       axs|         axs|2022-01-30 00:00:00|3978971996.727290...|     null|2023-02-14 12:47:...|farmraider|wrangler_assets_e...|2023-02-21 14:45:...| farmraider|utils_etl_load_sp...|         null|0.7508560262178359| 0.1061950000000000| -0.2795782490787692|-0.01167621830834...|   0.2002|   0.5322|\n",
      "|       69567|639731217cc473c58...|  coingecko|      mana|        mana|2022-01-30 00:00:00|3879594500.872140...|     null|2023-02-14 12:20:...|farmraider|wrangler_assets_e...|2023-02-21 14:45:...| farmraider|utils_etl_load_sp...|         null|0.7204612322233253| 0.0524750000000000| -0.8572268200992097|  0.1308987788712087|   0.3471|   0.2308|\n",
      "|      202737|6397b7a57cc473c58...|  coingecko|       vet|         vet|2022-01-30 00:00:00|3696690654.400280...|     null|2023-02-14 12:57:...|farmraider|wrangler_assets_e...|2023-02-21 14:45:...| farmraider|utils_etl_load_sp...|         null|0.6912659120835720|-0.0037730000000000|-0.14040630343589874|-0.10559753775677876|   0.1035|   0.6048|\n",
      "+------------+--------------------+-----------+----------+------------+-------------------+--------------------+---------+--------------------+----------+--------------------+--------------------+-----------+--------------------+-------------+------------------+-------------------+--------------------+--------------------+---------+---------+\n",
      "only showing top 20 rows\n",
      "\n"
     ]
    }
   ],
   "source": [
    "_data=clsCNR.scale(\n",
    "    data=_features,\n",
    "    col_list=['PCA[0]','PCA[1]'],\n",
    "    col_prefix=kwargs['COLPREFIX'],\n",
    "    scale_method=kwargs['STANDARDIZE'],\n",
    ")\n",
    "_data.show()"
   ]
  },
  {
   "cell_type": "code",
   "execution_count": 31,
   "id": "81b1be52",
   "metadata": {},
   "outputs": [
    {
     "name": "stdout",
     "output_type": "stream",
     "text": [
      "23/03/29 23:08:38 WARN WindowExec: No Partition Defined for Window operation! Moving all data to a single partition, this can cause serious performance degradation.\n",
      "23/03/29 23:08:38 WARN WindowExec: No Partition Defined for Window operation! Moving all data to a single partition, this can cause serious performance degradation.\n",
      "23/03/29 23:08:38 WARN WindowExec: No Partition Defined for Window operation! Moving all data to a single partition, this can cause serious performance degradation.\n",
      "23/03/29 23:08:38 WARN WindowExec: No Partition Defined for Window operation! Moving all data to a single partition, this can cause serious performance degradation.\n",
      "23/03/29 23:08:39 WARN WindowExec: No Partition Defined for Window operation! Moving all data to a single partition, this can cause serious performance degradation.\n",
      "23/03/29 23:08:39 WARN WindowExec: No Partition Defined for Window operation! Moving all data to a single partition, this can cause serious performance degradation.\n",
      "23/03/29 23:08:39 WARN WindowExec: No Partition Defined for Window operation! Moving all data to a single partition, this can cause serious performance degradation.\n",
      "23/03/29 23:08:39 WARN WindowExec: No Partition Defined for Window operation! Moving all data to a single partition, this can cause serious performance degradation.\n",
      "23/03/29 23:08:39 WARN WindowExec: No Partition Defined for Window operation! Moving all data to a single partition, this can cause serious performance degradation.\n",
      "23/03/29 23:08:39 WARN WindowExec: No Partition Defined for Window operation! Moving all data to a single partition, this can cause serious performance degradation.\n",
      "23/03/29 23:08:39 WARN WindowExec: No Partition Defined for Window operation! Moving all data to a single partition, this can cause serious performance degradation.\n",
      "23/03/29 23:08:39 WARN WindowExec: No Partition Defined for Window operation! Moving all data to a single partition, this can cause serious performance degradation.\n",
      "+----------+-------------------+-------------------+-------------------+\n",
      "|asset_name|          mcap_date|           1-PCA[0]|           1-PCA[1]|\n",
      "+----------+-------------------+-------------------+-------------------+\n",
      "|       omi|2022-01-30 00:00:00|                1.0|0.37250000000000005|\n",
      "|      mana|2022-01-30 00:00:00|             0.7692|             0.6529|\n",
      "|       cro|2022-01-30 00:00:00|             0.6951|0.48819999999999997|\n",
      "|      wbtc|2022-01-30 00:00:00|             0.6178|0.38970000000000005|\n",
      "|       ftt|2022-01-30 00:00:00|              0.616|             0.9543|\n",
      "|      avax|2022-01-30 00:00:00|             0.5864|             0.7239|\n",
      "|     steth|2022-01-30 00:00:00| 0.5267999999999999|             0.5916|\n",
      "|       btc|2022-01-30 00:00:00| 0.5166999999999999|0.49019999999999997|\n",
      "|     matic|2022-01-30 00:00:00|             0.5145|             0.7981|\n",
      "|      hbar|2022-01-30 00:00:00|             0.5056|             0.7684|\n",
      "|      link|2022-01-30 00:00:00|             0.5036|             0.8126|\n",
      "|       axs|2022-01-30 00:00:00|             0.4678| 0.7998000000000001|\n",
      "|       okb|2022-01-30 00:00:00|             0.4488|              0.625|\n",
      "|       xlm|2022-01-30 00:00:00|0.42700000000000005| 0.7474000000000001|\n",
      "|       etc|2022-01-30 00:00:00|             0.4203|             0.7805|\n",
      "|      algo|2022-01-30 00:00:00|             0.4113|                1.0|\n",
      "|      near|2022-01-30 00:00:00|0.40349999999999997|             0.8935|\n",
      "|       vet|2022-01-30 00:00:00|             0.3952|             0.8965|\n",
      "|      ceth|2022-01-30 00:00:00|0.37439999999999996|             0.8772|\n",
      "|       bnb|2022-01-30 00:00:00|0.36660000000000004|             0.7489|\n",
      "|       icp|2022-01-30 00:00:00|             0.3428|             0.9928|\n",
      "|      atom|2022-01-30 00:00:00|             0.2563|             0.5831|\n",
      "|       leo|2022-01-30 00:00:00|                0.0|                0.0|\n",
      "+----------+-------------------+-------------------+-------------------+\n",
      "\n"
     ]
    }
   ],
   "source": [
    "from pyspark.sql import functions as F\n",
    "\n",
    "_data = _data.withColumn(\"1-PCA[0]\",1-F.col('sc_PCA[0]'))\\\n",
    "            .withColumn(\"1-PCA[1]\",1-F.col('sc_PCA[1]'))\n",
    "_data.select(F.col('asset_name'),F.col('mcap_date'),\n",
    "             F.col('1-PCA[0]'),F.col('1-PCA[1]'))\\\n",
    "                .sort(['1-PCA[0]','1-PCA[1]','asset_name'],ascending = False)\\\n",
    "                .show(n=30)"
   ]
  },
  {
   "cell_type": "code",
   "execution_count": 30,
   "id": "a3050a77",
   "metadata": {},
   "outputs": [
    {
     "name": "stdout",
     "output_type": "stream",
     "text": [
      "23/03/29 23:08:32 WARN WindowExec: No Partition Defined for Window operation! Moving all data to a single partition, this can cause serious performance degradation.\n",
      "23/03/29 23:08:32 WARN WindowExec: No Partition Defined for Window operation! Moving all data to a single partition, this can cause serious performance degradation.\n",
      "23/03/29 23:08:32 WARN WindowExec: No Partition Defined for Window operation! Moving all data to a single partition, this can cause serious performance degradation.\n",
      "23/03/29 23:08:32 WARN WindowExec: No Partition Defined for Window operation! Moving all data to a single partition, this can cause serious performance degradation.\n",
      "23/03/29 23:08:33 WARN WindowExec: No Partition Defined for Window operation! Moving all data to a single partition, this can cause serious performance degradation.\n",
      "23/03/29 23:08:33 WARN WindowExec: No Partition Defined for Window operation! Moving all data to a single partition, this can cause serious performance degradation.\n",
      "23/03/29 23:08:33 WARN WindowExec: No Partition Defined for Window operation! Moving all data to a single partition, this can cause serious performance degradation.\n",
      "23/03/29 23:08:33 WARN WindowExec: No Partition Defined for Window operation! Moving all data to a single partition, this can cause serious performance degradation.\n",
      "23/03/29 23:08:33 WARN WindowExec: No Partition Defined for Window operation! Moving all data to a single partition, this can cause serious performance degradation.\n",
      "23/03/29 23:08:33 WARN WindowExec: No Partition Defined for Window operation! Moving all data to a single partition, this can cause serious performance degradation.\n",
      "23/03/29 23:08:33 WARN WindowExec: No Partition Defined for Window operation! Moving all data to a single partition, this can cause serious performance degradation.\n",
      "23/03/29 23:08:33 WARN WindowExec: No Partition Defined for Window operation! Moving all data to a single partition, this can cause serious performance degradation.\n",
      "+----------+-------------------+---------+---------+\n",
      "|asset_name|          mcap_date|sc_PCA[0]|sc_PCA[1]|\n",
      "+----------+-------------------+---------+---------+\n",
      "|       leo|2022-01-30 00:00:00|      1.0|      1.0|\n",
      "|      atom|2022-01-30 00:00:00|   0.7437|   0.4169|\n",
      "|       icp|2022-01-30 00:00:00|   0.6572|   0.0072|\n",
      "|       bnb|2022-01-30 00:00:00|   0.6334|   0.2511|\n",
      "|      ceth|2022-01-30 00:00:00|   0.6256|   0.1228|\n",
      "|       vet|2022-01-30 00:00:00|   0.6048|   0.1035|\n",
      "|      near|2022-01-30 00:00:00|   0.5965|   0.1065|\n",
      "|      algo|2022-01-30 00:00:00|   0.5887|      0.0|\n",
      "|       etc|2022-01-30 00:00:00|   0.5797|   0.2195|\n",
      "|       xlm|2022-01-30 00:00:00|    0.573|   0.2526|\n",
      "|       okb|2022-01-30 00:00:00|   0.5512|    0.375|\n",
      "|       axs|2022-01-30 00:00:00|   0.5322|   0.2002|\n",
      "|      link|2022-01-30 00:00:00|   0.4964|   0.1874|\n",
      "|      hbar|2022-01-30 00:00:00|   0.4944|   0.2316|\n",
      "|     matic|2022-01-30 00:00:00|   0.4855|   0.2019|\n",
      "|       btc|2022-01-30 00:00:00|   0.4833|   0.5098|\n",
      "|     steth|2022-01-30 00:00:00|   0.4732|   0.4084|\n",
      "|      avax|2022-01-30 00:00:00|   0.4136|   0.2761|\n",
      "|       ftt|2022-01-30 00:00:00|    0.384|   0.0457|\n",
      "|      wbtc|2022-01-30 00:00:00|   0.3822|   0.6103|\n",
      "|       cro|2022-01-30 00:00:00|   0.3049|   0.5118|\n",
      "|      mana|2022-01-30 00:00:00|   0.2308|   0.3471|\n",
      "|       omi|2022-01-30 00:00:00|      0.0|   0.6275|\n",
      "+----------+-------------------+---------+---------+\n",
      "\n"
     ]
    }
   ],
   "source": [
    "_data.select(F.col('asset_name'),F.col('mcap_date'),\n",
    "             F.col('sc_PCA[0]'),F.col('sc_PCA[1]'))\\\n",
    "                .sort(['sc_PCA[0]','sc_PCA[1]','asset_name'],ascending = False)\\\n",
    "                .show(n=30)"
   ]
  },
  {
   "cell_type": "code",
   "execution_count": 226,
   "id": "518c74b7",
   "metadata": {},
   "outputs": [
    {
     "name": "stdout",
     "output_type": "stream",
     "text": [
      "23/03/29 09:44:31 WARN SparkSession: Using an existing Spark session; only runtime SQL configurations will take effect.\n"
     ]
    },
    {
     "name": "stderr",
     "output_type": "stream",
     "text": [
      "                                                                                \r"
     ]
    },
    {
     "name": "stdout",
     "output_type": "stream",
     "text": [
      "selected 23 assets \n",
      "\n",
      "-RECORD 0-----------------------------\n",
      " mcap_past_pk  | 19539                \n",
      " uuid          | 6397027b7cc473c58... \n",
      " data_source   | coingecko            \n",
      " asset_name    | btc                  \n",
      " asset_symbol  | btc                  \n",
      " mcap_date     | 2022-01-30 00:00:00  \n",
      " mcap_value    | 729084397823.3950... \n",
      " mcap_rank     | null                 \n",
      " created_dt    | 2023-02-14 12:07:... \n",
      " created_by    | farmraider           \n",
      " created_proc  | wrangler_assets_e... \n",
      " modified_dt   | 2023-02-21 14:45:... \n",
      " modified_by   | farmraider           \n",
      " modified_proc | utils_etl_load_sp... \n",
      " deactivate_dt | null                 \n",
      " log_ror       | 0.6966161566986901   \n",
      " simp_ror      | 0.0069020000000000   \n",
      "only showing top 1 row\n",
      "\n"
     ]
    }
   ],
   "source": [
    "'''DEPRECATED moved to dailyTopN class '''\n",
    "_num_assets=23\n",
    "_mcap_val_lb=10000.0\n",
    "_date=datetime.strftime(date(2022,1,30),'%Y-%m-%dT00:00:00')\n",
    "_table='warehouse.mcap_past'\n",
    "kwargs={}\n",
    "\n",
    "_query =f\"select * from {_table} wmp where wmp.mcap_date = '{_date}' \" +\\\n",
    "        f\"and wmp.mcap_value > {_mcap_val_lb} \" +\\\n",
    "        f\"order by wmp.mcap_value DESC limit {_num_assets} \"\n",
    "\n",
    "_data = clsSDB.read_data_from_table(select=_query, **kwargs)\n",
    "print(\"selected %d assets \\n\" % _data.count())\n",
    "_data.show(n=1,vertical=True)"
   ]
  },
  {
   "cell_type": "code",
   "execution_count": 227,
   "id": "87832e3d",
   "metadata": {},
   "outputs": [
    {
     "data": {
      "text/plain": [
       "[{'date': '2022-01-30T00:00:00',\n",
       "  'asset': 'btc',\n",
       "  'mcap.weight': 1.0,\n",
       "  'mcap.value': 729084397823.395},\n",
       " {'date': '2022-01-30T00:00:00',\n",
       "  'asset': 'bnb',\n",
       "  'mcap.weight': 1.0,\n",
       "  'mcap.value': 65455197964.9447},\n",
       " {'date': '2022-01-30T00:00:00',\n",
       "  'asset': 'avax',\n",
       "  'mcap.weight': 1.0,\n",
       "  'mcap.value': 17939687507.8046}]"
      ]
     },
     "execution_count": 227,
     "metadata": {},
     "output_type": "execute_result"
    }
   ],
   "source": [
    "''' DEPRECATED moved to dailyTopN class '''\n",
    "from pyspark.sql import functions as F\n",
    "_assets=_data.select(F.col('mcap_date'),\n",
    "                     F.col('asset_name'),\n",
    "                     F.col('mcap_value'))\\\n",
    "                .distinct()\n",
    "_portf=[]\n",
    "for _asset in _assets.collect():\n",
    "    _asset_dict={}\n",
    "    _asset_dict={\"date\" : datetime.strftime(_asset[0],'%Y-%m-%dT00:00:00'),\n",
    "                 \"asset\": _asset[1],\n",
    "                 'mcap.weight': 1.0,\n",
    "                 'mcap.value' : float(_asset[2]),\n",
    "                }\n",
    "    _portf.append(_asset_dict)\n",
    "_portf=sorted(_portf, key=lambda d: d['mcap.value'], reverse=True)\n",
    "_portf[:3]"
   ]
  },
  {
   "cell_type": "markdown",
   "id": "c9066d3a",
   "metadata": {},
   "source": [
    "## Dimensionality reduction techniques\n",
    "Review and select one\n",
    "* Principal Component Analysis (PCA) - [sampling adequacy](https://statistics.laerd.com/spss-tutorials/principal-components-analysis-pca-using-spss-statistics.php)\n",
    "* Generalized discriminant analysis (GDA)\n",
    "* Missing Values Ratio.\n",
    "* Low Variance Filter.\n",
    "* [Feature selection](https://machinelearningmastery.com/feature-selection-with-real-and-categorical-data/) - unsupervised selection removing the target variable but dimensionality reduction is a replacement for unsupervised correlation based feature seelction.\n",
    "* Feature extraction - not into finding isoltated signals in the data\n",
    "* Non-negative matrix factorization (NMF) - we can normalize the data, which might be faster?\n",
    "* Linear discriminant analysis (LDA) - it's a supervised technique\n"
   ]
  },
  {
   "cell_type": "code",
   "execution_count": 228,
   "id": "44fc9d7e",
   "metadata": {},
   "outputs": [
    {
     "name": "stderr",
     "output_type": "stream",
     "text": [
      "                                                                                \r"
     ]
    },
    {
     "data": {
      "text/html": [
       "<div>\n",
       "<style scoped>\n",
       "    .dataframe tbody tr th:only-of-type {\n",
       "        vertical-align: middle;\n",
       "    }\n",
       "\n",
       "    .dataframe tbody tr th {\n",
       "        vertical-align: top;\n",
       "    }\n",
       "\n",
       "    .dataframe thead th {\n",
       "        text-align: right;\n",
       "    }\n",
       "</style>\n",
       "<table border=\"1\" class=\"dataframe\">\n",
       "  <thead>\n",
       "    <tr style=\"text-align: right;\">\n",
       "      <th></th>\n",
       "      <th>asset</th>\n",
       "      <th>adx</th>\n",
       "      <th>sharp</th>\n",
       "      <th>rsi</th>\n",
       "      <th>mfi</th>\n",
       "      <th>beta</th>\n",
       "    </tr>\n",
       "  </thead>\n",
       "  <tbody>\n",
       "    <tr>\n",
       "      <th>0</th>\n",
       "      <td>btc</td>\n",
       "      <td>0.088397</td>\n",
       "      <td>36.016989</td>\n",
       "      <td>0.451438</td>\n",
       "      <td>0.451438</td>\n",
       "      <td>0.551231</td>\n",
       "    </tr>\n",
       "    <tr>\n",
       "      <th>0</th>\n",
       "      <td>bnb</td>\n",
       "      <td>0.320226</td>\n",
       "      <td>34.996164</td>\n",
       "      <td>0.292148</td>\n",
       "      <td>0.292148</td>\n",
       "      <td>0.580202</td>\n",
       "    </tr>\n",
       "    <tr>\n",
       "      <th>0</th>\n",
       "      <td>avax</td>\n",
       "      <td>0.386210</td>\n",
       "      <td>20.929375</td>\n",
       "      <td>0.468284</td>\n",
       "      <td>0.468284</td>\n",
       "      <td>-0.250196</td>\n",
       "    </tr>\n",
       "    <tr>\n",
       "      <th>0</th>\n",
       "      <td>matic</td>\n",
       "      <td>0.301415</td>\n",
       "      <td>18.348667</td>\n",
       "      <td>0.387615</td>\n",
       "      <td>0.387615</td>\n",
       "      <td>0.484944</td>\n",
       "    </tr>\n",
       "    <tr>\n",
       "      <th>0</th>\n",
       "      <td>cro</td>\n",
       "      <td>0.197762</td>\n",
       "      <td>23.021920</td>\n",
       "      <td>0.595720</td>\n",
       "      <td>0.595720</td>\n",
       "      <td>0.781872</td>\n",
       "    </tr>\n",
       "    <tr>\n",
       "      <th>0</th>\n",
       "      <td>wbtc</td>\n",
       "      <td>0.113276</td>\n",
       "      <td>50.618996</td>\n",
       "      <td>0.546493</td>\n",
       "      <td>0.546493</td>\n",
       "      <td>0.586002</td>\n",
       "    </tr>\n",
       "    <tr>\n",
       "      <th>0</th>\n",
       "      <td>atom</td>\n",
       "      <td>-0.333558</td>\n",
       "      <td>24.312151</td>\n",
       "      <td>0.203504</td>\n",
       "      <td>0.203504</td>\n",
       "      <td>0.546666</td>\n",
       "    </tr>\n",
       "    <tr>\n",
       "      <th>0</th>\n",
       "      <td>link</td>\n",
       "      <td>0.330922</td>\n",
       "      <td>18.270787</td>\n",
       "      <td>0.378757</td>\n",
       "      <td>0.378757</td>\n",
       "      <td>0.603306</td>\n",
       "    </tr>\n",
       "    <tr>\n",
       "      <th>0</th>\n",
       "      <td>near</td>\n",
       "      <td>0.176632</td>\n",
       "      <td>16.412486</td>\n",
       "      <td>0.268540</td>\n",
       "      <td>0.268540</td>\n",
       "      <td>0.558153</td>\n",
       "    </tr>\n",
       "    <tr>\n",
       "      <th>0</th>\n",
       "      <td>algo</td>\n",
       "      <td>0.443716</td>\n",
       "      <td>20.747471</td>\n",
       "      <td>0.266804</td>\n",
       "      <td>0.266804</td>\n",
       "      <td>0.105803</td>\n",
       "    </tr>\n",
       "    <tr>\n",
       "      <th>0</th>\n",
       "      <td>ftt</td>\n",
       "      <td>0.587494</td>\n",
       "      <td>19.899312</td>\n",
       "      <td>0.439081</td>\n",
       "      <td>0.439081</td>\n",
       "      <td>0.996492</td>\n",
       "    </tr>\n",
       "    <tr>\n",
       "      <th>0</th>\n",
       "      <td>okb</td>\n",
       "      <td>0.142040</td>\n",
       "      <td>27.404627</td>\n",
       "      <td>0.373400</td>\n",
       "      <td>0.373400</td>\n",
       "      <td>-0.306445</td>\n",
       "    </tr>\n",
       "    <tr>\n",
       "      <th>0</th>\n",
       "      <td>xlm</td>\n",
       "      <td>0.267886</td>\n",
       "      <td>25.959830</td>\n",
       "      <td>0.334531</td>\n",
       "      <td>0.334531</td>\n",
       "      <td>0.405029</td>\n",
       "    </tr>\n",
       "    <tr>\n",
       "      <th>0</th>\n",
       "      <td>steth</td>\n",
       "      <td>0.139755</td>\n",
       "      <td>23.060439</td>\n",
       "      <td>0.440376</td>\n",
       "      <td>0.440376</td>\n",
       "      <td>0.012271</td>\n",
       "    </tr>\n",
       "    <tr>\n",
       "      <th>0</th>\n",
       "      <td>omi</td>\n",
       "      <td>0.270209</td>\n",
       "      <td>4.174439</td>\n",
       "      <td>0.862863</td>\n",
       "      <td>0.862863</td>\n",
       "      <td>0.084212</td>\n",
       "    </tr>\n",
       "    <tr>\n",
       "      <th>0</th>\n",
       "      <td>hbar</td>\n",
       "      <td>0.249295</td>\n",
       "      <td>26.966966</td>\n",
       "      <td>0.379693</td>\n",
       "      <td>0.379693</td>\n",
       "      <td>0.586165</td>\n",
       "    </tr>\n",
       "    <tr>\n",
       "      <th>0</th>\n",
       "      <td>icp</td>\n",
       "      <td>0.436691</td>\n",
       "      <td>24.053754</td>\n",
       "      <td>0.218734</td>\n",
       "      <td>0.218734</td>\n",
       "      <td>0.281275</td>\n",
       "    </tr>\n",
       "    <tr>\n",
       "      <th>0</th>\n",
       "      <td>axs</td>\n",
       "      <td>0.164783</td>\n",
       "      <td>14.143089</td>\n",
       "      <td>0.342609</td>\n",
       "      <td>0.342609</td>\n",
       "      <td>-0.001597</td>\n",
       "    </tr>\n",
       "    <tr>\n",
       "      <th>0</th>\n",
       "      <td>mana</td>\n",
       "      <td>0.412523</td>\n",
       "      <td>13.545362</td>\n",
       "      <td>0.624663</td>\n",
       "      <td>0.624663</td>\n",
       "      <td>0.247036</td>\n",
       "    </tr>\n",
       "    <tr>\n",
       "      <th>0</th>\n",
       "      <td>vet</td>\n",
       "      <td>0.367656</td>\n",
       "      <td>20.866483</td>\n",
       "      <td>0.279802</td>\n",
       "      <td>0.279802</td>\n",
       "      <td>0.795263</td>\n",
       "    </tr>\n",
       "    <tr>\n",
       "      <th>0</th>\n",
       "      <td>etc</td>\n",
       "      <td>0.254842</td>\n",
       "      <td>23.093109</td>\n",
       "      <td>0.319923</td>\n",
       "      <td>0.319923</td>\n",
       "      <td>-0.073649</td>\n",
       "    </tr>\n",
       "    <tr>\n",
       "      <th>0</th>\n",
       "      <td>leo</td>\n",
       "      <td>-0.008683</td>\n",
       "      <td>98.526915</td>\n",
       "      <td>0.197462</td>\n",
       "      <td>0.197462</td>\n",
       "      <td>-2.090041</td>\n",
       "    </tr>\n",
       "    <tr>\n",
       "      <th>0</th>\n",
       "      <td>ceth</td>\n",
       "      <td>0.318974</td>\n",
       "      <td>26.406852</td>\n",
       "      <td>0.262573</td>\n",
       "      <td>0.262573</td>\n",
       "      <td>0.580601</td>\n",
       "    </tr>\n",
       "  </tbody>\n",
       "</table>\n",
       "</div>"
      ],
      "text/plain": [
       "   asset       adx      sharp       rsi       mfi      beta\n",
       "0    btc  0.088397  36.016989  0.451438  0.451438  0.551231\n",
       "0    bnb  0.320226  34.996164  0.292148  0.292148  0.580202\n",
       "0   avax  0.386210  20.929375  0.468284  0.468284 -0.250196\n",
       "0  matic  0.301415  18.348667  0.387615  0.387615  0.484944\n",
       "0    cro  0.197762  23.021920  0.595720  0.595720  0.781872\n",
       "0   wbtc  0.113276  50.618996  0.546493  0.546493  0.586002\n",
       "0   atom -0.333558  24.312151  0.203504  0.203504  0.546666\n",
       "0   link  0.330922  18.270787  0.378757  0.378757  0.603306\n",
       "0   near  0.176632  16.412486  0.268540  0.268540  0.558153\n",
       "0   algo  0.443716  20.747471  0.266804  0.266804  0.105803\n",
       "0    ftt  0.587494  19.899312  0.439081  0.439081  0.996492\n",
       "0    okb  0.142040  27.404627  0.373400  0.373400 -0.306445\n",
       "0    xlm  0.267886  25.959830  0.334531  0.334531  0.405029\n",
       "0  steth  0.139755  23.060439  0.440376  0.440376  0.012271\n",
       "0    omi  0.270209   4.174439  0.862863  0.862863  0.084212\n",
       "0   hbar  0.249295  26.966966  0.379693  0.379693  0.586165\n",
       "0    icp  0.436691  24.053754  0.218734  0.218734  0.281275\n",
       "0    axs  0.164783  14.143089  0.342609  0.342609 -0.001597\n",
       "0   mana  0.412523  13.545362  0.624663  0.624663  0.247036\n",
       "0    vet  0.367656  20.866483  0.279802  0.279802  0.795263\n",
       "0    etc  0.254842  23.093109  0.319923  0.319923 -0.073649\n",
       "0    leo -0.008683  98.526915  0.197462  0.197462 -2.090041\n",
       "0   ceth  0.318974  26.406852  0.262573  0.262573  0.580601"
      ]
     },
     "execution_count": 228,
     "metadata": {},
     "output_type": "execute_result"
    }
   ],
   "source": [
    "''' DEPRECATED moved to dailyTopN class '''\n",
    "import pandas as pd\n",
    "\n",
    "__idx_type__=['adx','sharp','rsi','mfi','beta']\n",
    "_coll_dt=date(2022,1,30)\n",
    "__val_col__=\"simp_ror\"\n",
    "__name_col__='asset_name'\n",
    "__date_col__='mcap_date'\n",
    "__rf_assets__=['btc']\n",
    "__rf_val_col__=\"log_ror\"\n",
    "__rf_name_col__='asset_name'\n",
    "__rf_date_col__='mcap_date'\n",
    "_kwargs={\n",
    "    \"WINLENGTH\":7,\n",
    "    \"WINUNIT\":'DAY',\n",
    "}\n",
    "_res_df=pd.DataFrame()\n",
    "# _results=[]\n",
    "__idx_dict={}\n",
    "for asset_portf in _portf:\n",
    "    _idx_dict = clsIndx.get_index(\n",
    "        portfolio=[asset_portf],\n",
    "        asset_eval_date=_coll_dt,\n",
    "        asset_name_col=__name_col__,\n",
    "        asset_val_col =__val_col__,\n",
    "        asset_date_col=__date_col__,\n",
    "        index_type=__idx_type__,\n",
    "        risk_free_assets=__rf_assets__,\n",
    "        risk_free_name_col=__rf_name_col__,\n",
    "        risk_free_val_col=__rf_val_col__,\n",
    "        risk_free_date_col=__rf_date_col__,\n",
    "        **_kwargs,\n",
    "    )\n",
    "    _idx_dict['asset']=asset_portf['asset']\n",
    "    _res_df=pd.concat([_res_df,pd.DataFrame([_idx_dict])])\n",
    "_res_df.insert(0, 'asset', _res_df.pop('asset'))\n",
    "_res_df"
   ]
  },
  {
   "cell_type": "code",
   "execution_count": 240,
   "id": "80e79508",
   "metadata": {},
   "outputs": [
    {
     "name": "stdout",
     "output_type": "stream",
     "text": [
      "All packages in utils ml dimreduc FeatureEngineer imported successfully!\n",
      "execSession Class initialization complete\n",
      "\n",
      "Class initialization and load complete!\n"
     ]
    }
   ],
   "source": [
    "''' DEPRACATED moved to dailyTopN '''\n",
    "from utils.modules.ml.dimreduc import pca\n",
    "\n",
    "if debug:\n",
    "    import importlib\n",
    "    pca = importlib.reload(pca)\n",
    "    \n",
    "__desc__ = \"process rolling stats for asset marketcap prices\"\n",
    "\n",
    "clsPCA = pca.FeatureEngineer(desc=__desc__)\n",
    "print(\"\\nClass initialization and load complete!\")"
   ]
  },
  {
   "cell_type": "code",
   "execution_count": null,
   "id": "e6e7cc28",
   "metadata": {},
   "outputs": [],
   "source": [
    "''' DEPRACATED moved to dailyTopN '''\n",
    "from pyspark.sql import functions as F\n",
    "from pyspark.sql import Window\n",
    "\n",
    "\n",
    "kwargs={\n",
    "    \"STANDARDIZE\":'minmax',\n",
    "    \"COLPREFIX\":'sc'\n",
    "}\n",
    "_factors = clsPCA.get_features(\n",
    "    data=_res_df,\n",
    "#     part_col='asset'\n",
    "    feature_cols=None,\n",
    "    **kwargs,\n",
    ")"
   ]
  },
  {
   "cell_type": "code",
   "execution_count": 246,
   "id": "a6a153ac",
   "metadata": {},
   "outputs": [
    {
     "name": "stdout",
     "output_type": "stream",
     "text": [
      "23/03/29 11:35:03 WARN WindowExec: No Partition Defined for Window operation! Moving all data to a single partition, this can cause serious performance degradation.\n",
      "23/03/29 11:35:03 WARN WindowExec: No Partition Defined for Window operation! Moving all data to a single partition, this can cause serious performance degradation.\n",
      "23/03/29 11:35:03 WARN WindowExec: No Partition Defined for Window operation! Moving all data to a single partition, this can cause serious performance degradation.\n",
      "23/03/29 11:35:03 WARN WindowExec: No Partition Defined for Window operation! Moving all data to a single partition, this can cause serious performance degradation.\n"
     ]
    },
    {
     "name": "stderr",
     "output_type": "stream",
     "text": [
      "\r",
      "[Stage 5552:>                                                       (0 + 1) / 1]\r",
      "\r",
      "[Stage 5552:>               (0 + 1) / 1][Stage 5553:>               (0 + 0) / 1]\r"
     ]
    },
    {
     "name": "stdout",
     "output_type": "stream",
     "text": [
      "23/03/29 11:35:06 WARN WindowExec: No Partition Defined for Window operation! Moving all data to a single partition, this can cause serious performance degradation.\n",
      "23/03/29 11:35:06 WARN WindowExec: No Partition Defined for Window operation! Moving all data to a single partition, this can cause serious performance degradation.\n",
      "23/03/29 11:35:06 WARN WindowExec: No Partition Defined for Window operation! Moving all data to a single partition, this can cause serious performance degradation.\n",
      "23/03/29 11:35:06 WARN WindowExec: No Partition Defined for Window operation! Moving all data to a single partition, this can cause serious performance degradation.\n",
      "23/03/29 11:35:06 WARN WindowExec: No Partition Defined for Window operation! Moving all data to a single partition, this can cause serious performance degradation.\n",
      "23/03/29 11:35:06 WARN WindowExec: No Partition Defined for Window operation! Moving all data to a single partition, this can cause serious performance degradation.\n",
      "23/03/29 11:35:06 WARN WindowExec: No Partition Defined for Window operation! Moving all data to a single partition, this can cause serious performance degradation.\n",
      "23/03/29 11:35:06 WARN WindowExec: No Partition Defined for Window operation! Moving all data to a single partition, this can cause serious performance degradation.\n"
     ]
    },
    {
     "name": "stderr",
     "output_type": "stream",
     "text": [
      "\r",
      "[Stage 5553:>                                                       (0 + 1) / 1]\r"
     ]
    },
    {
     "name": "stdout",
     "output_type": "stream",
     "text": [
      "+-----+--------------------+--------------------+--------------------+\n",
      "|asset|        pca_features|              PCA[0]|              PCA[1]|\n",
      "+-----+--------------------+--------------------+--------------------+\n",
      "|  omi|[-1.5677300544611...| -1.5677300544611132|-0.07578867701870723|\n",
      "| mana|[-1.1311689740290...| -1.1311689740290607| -0.3530275650262598|\n",
      "|  cro|[-1.0353417852346...| -1.0353417852346398| -0.3337858256380067|\n",
      "|  ftt|[-0.8576907710713...| -0.8576907710713784| -0.7258957622740481|\n",
      "| wbtc|[-0.8124210730179...| -0.8124210730179725|-0.15771287388039856|\n",
      "| avax|[-0.7654069361909...| -0.7654069361909335| -0.3538531612282307|\n",
      "|  btc|[-0.6745011206326...| -0.6745011206326196|-0.30633683887131724|\n",
      "|steth|[-0.6682474900436...| -0.6682474900436824| -0.3038743570869582|\n",
      "|matic|[-0.6592571953428...| -0.6592571953428192| -0.5478265317171319|\n",
      "| link|[-0.6588664138525...| -0.6588664138525273| -0.5937059850642774|\n",
      "| hbar|[-0.6103415684669...| -0.6103415684669369| -0.5052446153843762|\n",
      "|  axs|[-0.5188003760432...| -0.5188003760432582| -0.4530898630694317|\n",
      "|  xlm|[-0.5186677772986...| -0.5186677772986652| -0.5270442028652604|\n",
      "|  okb|[-0.5024359717838...| -0.5024359717838471| -0.2838770998422589|\n",
      "|  vet|[-0.4863182212551...|-0.48631822125514756| -0.7294297734786521|\n",
      "|  etc|[-0.4605697268360...| -0.4605697268360586|-0.45634164306888375|\n",
      "|  bnb|[-0.4332996814421...| -0.4332996814421276|  -0.578999332465313|\n",
      "| algo|[-0.4263055891865...|-0.42630558918657957|   -0.64369475587995|\n",
      "| near|[-0.4173427776108...|-0.41734277761087624| -0.6268103114159759|\n",
      "| ceth|[-0.4067854632821...| -0.4067854632821877| -0.6518264739115571|\n",
      "+-----+--------------------+--------------------+--------------------+\n",
      "only showing top 20 rows\n",
      "\n"
     ]
    },
    {
     "name": "stderr",
     "output_type": "stream",
     "text": [
      "\r",
      "                                                                                \r"
     ]
    }
   ],
   "source": [
    "'''DEPRECATED moved to dailyTopN class '''\n",
    "_pca = _factors.withColumn(\"row_idx\",\n",
    "                                F.row_number()\\\n",
    "                                .over(Window.orderBy(F.monotonically_increasing_id())))\n",
    "_data = clsPCA.data.withColumn(\"row_idx\",\n",
    "                               F.row_number()\\\n",
    "                               .over(Window.orderBy(F.monotonically_increasing_id())))\n",
    "\n",
    "# _pca = _pca.join(_data.select(F.col('asset')),\n",
    "#                            _pca.row_idx == _data.row_idx)\n",
    "_data = _data.join(_pca, _pca.row_idx == _data.row_idx).drop('row_idx')\n",
    "_pca=_pca.drop('row_idx')\n",
    "_data.select(F.col('asset'),F.col('pca_features'),F.col('PCA[0]'),F.col('PCA[1]'))\\\n",
    "                .sort(['PCA[0]','PCA[1]','asset'])\\\n",
    "                .show()"
   ]
  }
 ],
 "metadata": {
  "kernelspec": {
   "display_name": "Python 3 (ipykernel)",
   "language": "python",
   "name": "python3"
  },
  "language_info": {
   "codemirror_mode": {
    "name": "ipython",
    "version": 3
   },
   "file_extension": ".py",
   "mimetype": "text/x-python",
   "name": "python",
   "nbconvert_exporter": "python",
   "pygments_lexer": "ipython3",
   "version": "3.8.10"
  }
 },
 "nbformat": 4,
 "nbformat_minor": 5
}
