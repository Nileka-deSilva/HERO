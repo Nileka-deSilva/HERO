{
 "cells": [
  {
   "cell_type": "markdown",
   "id": "19cfbb9e",
   "metadata": {},
   "source": [
    "# OTA Room Price Analysis\n",
    "\n",
    "### Execute the cell below once to turn off debugging"
   ]
  },
  {
   "cell_type": "code",
   "execution_count": 1,
   "id": "7d3c3a9a",
   "metadata": {},
   "outputs": [],
   "source": [
    "'''\n",
    "    WARNING CONTROL to display or ignore all warnings\n",
    "'''\n",
    "import warnings; warnings.simplefilter('ignore')     #switch betweeb 'default' and 'ignore'\n",
    "import traceback\n",
    "\n",
    "''' Set debug flag to view extended error messages; else set it to False to turn off debugging mode '''\n",
    "debug = True"
   ]
  },
  {
   "cell_type": "markdown",
   "id": "4617351c",
   "metadata": {},
   "source": [
    "## Initialize OTA Scraper Class\n",
    "Required to extract the data from the Wrangler"
   ]
  },
  {
   "cell_type": "code",
   "execution_count": 10,
   "id": "c1cf9c5a",
   "metadata": {},
   "outputs": [
    {
     "name": "stdout",
     "output_type": "stream",
     "text": [
      "All packages in OTAWebScraper loaded successfully!\n",
      "All packages in DataClensing loaded successfully!\n",
      "All packages in OTAWebScraper loaded successfully!\n",
      "Initialing OTAWebScraper class for  booking_search_data\n",
      "Initialing DataEnrichment class for  booking_search_data\n",
      "Initialing DataEnrichment class for  booking_search_data\n"
     ]
    }
   ],
   "source": [
    "import sys\n",
    "sys.path.insert(1, '../../lib/wrangler')\n",
    "import otaWebScraper as otaws\n",
    "import clean as clean\n",
    "import enrich as enrich\n",
    "import datetime\n",
    "\n",
    "dataDirPath=\"../../data/hospitality/bookings/scraper/\"\n",
    "\n",
    "if debug:\n",
    "    import importlib\n",
    "    otaws = importlib.reload(otaws)\n",
    "    clean = importlib.reload(clean)\n",
    "    enrich = importlib.reload(enrich)\n",
    "\n",
    "_dataName = \"booking_search_data\"\n",
    "\n",
    "clsScraper = otaws.OTAWebScraper(name=_dataName)\n",
    "clsCleaner = clean.DataClensing(name=_dataName)\n",
    "clsEnrich = enrich.DataEnrichment(name=_dataName)"
   ]
  },
  {
   "cell_type": "markdown",
   "id": "cdff1d26",
   "metadata": {},
   "source": [
    "## Load the data"
   ]
  },
  {
   "cell_type": "code",
   "execution_count": 11,
   "id": "73538ab0",
   "metadata": {},
   "outputs": [],
   "source": [
    "#../../data/hospitality/bookings/scraper/rates/2022-9-7-9-0/\n",
    "#dirPath = _current_search_data_dir\n",
    "dirPath = dataDirPath+\"rates/2022-9-7-9-0/\"\n",
    "removed_files = clsScraper.remove_empty_files(dirPath)\n",
    "if len(removed_files) > 0:\n",
    "    print(\"%d files removed\" %len(removed_files))\n",
    "kwargs = {\"columns\" : [\"search_datetime\",\n",
    "                       \"checkin_date\",\n",
    "                       \"propery_name\",\n",
    "                       \"room_type\",\n",
    "                       \"room_rate\",\n",
    "                       \"review_score\",\n",
    "                       \"destination_id\",\n",
    "                       \"location\",\n",
    "                       \"other\"]}\n",
    "\n",
    "rates_df = clsScraper.read_folder_csv_to_df(dirPath, **kwargs)\n",
    "dtype_dict = {\"search_datetime\": \"datetime64[ns]\",\n",
    "              \"checkin_date\": \"datetime64[D]\",\n",
    "              \"propery_name\": \"string\",\n",
    "              \"room_type\": \"string\",\n",
    "              \"room_rate\": \"string\",\n",
    "              \"review_score\": \"float64\",\n",
    "              \"destination_id\": \"string\",\n",
    "              \"location\": \"string\",\n",
    "              \"other\" : \"string\"\n",
    "             }\n",
    "''' set the desired data types '''\n",
    "rates_df = rates_df.astype(dtype_dict)\n",
    "#rates_df.info()"
   ]
  },
  {
   "cell_type": "code",
   "execution_count": 5,
   "id": "70ab2af8",
   "metadata": {},
   "outputs": [],
   "source": [
    "''' drop duplicate rows '''\n",
    "import pandas as pd\n",
    "\n",
    "#print(rates_df.shape)\n",
    "\n",
    "_distinct_df = pd.DataFrame()\n",
    "_distinct_df = clsCleaner.drop_duplicates(rates_df)\n",
    "#print(_distinct_df.shape)\n",
    "''' round search datetime to nearest 30 min'''\n",
    "_distinct_df['search_datetime']=_distinct_df['search_datetime'].dt.round('30min')"
   ]
  },
  {
   "cell_type": "markdown",
   "id": "770064c2",
   "metadata": {},
   "source": [
    "## Augment with datetime columns"
   ]
  },
  {
   "cell_type": "code",
   "execution_count": 6,
   "id": "a8eeafc1",
   "metadata": {},
   "outputs": [
    {
     "name": "stdout",
     "output_type": "stream",
     "text": [
      "Columns to augment to dataframe:\n",
      " {'DateTime': ['YYYY', 'DD', 'MM', 'MMM', 'DOW', 'MMM-DD', 'HH-mm']}\n",
      "\n",
      "Enrichment Complete!\n",
      "(2258, 16)\n",
      "<class 'pandas.core.frame.DataFrame'>\n",
      "Int64Index: 2258 entries, 0 to 2257\n",
      "Data columns (total 16 columns):\n",
      " #   Column           Non-Null Count  Dtype         \n",
      "---  ------           --------------  -----         \n",
      " 0   search_datetime  2258 non-null   datetime64[ns]\n",
      " 1   checkin_date     2258 non-null   datetime64[ns]\n",
      " 2   propery_name     2258 non-null   string        \n",
      " 3   room_type        2258 non-null   string        \n",
      " 4   room_rate        2258 non-null   string        \n",
      " 5   review_score     2258 non-null   float64       \n",
      " 6   destination_id   2258 non-null   string        \n",
      " 7   location         2258 non-null   string        \n",
      " 8   other            2258 non-null   string        \n",
      " 9   YYYY             2258 non-null   int64         \n",
      " 10  DD               2258 non-null   object        \n",
      " 11  MM               2258 non-null   object        \n",
      " 12  MMM              2258 non-null   object        \n",
      " 13  DOW              2258 non-null   object        \n",
      " 14  MMM-DD           2258 non-null   object        \n",
      " 15  HH-mm            2258 non-null   object        \n",
      "dtypes: datetime64[ns](2), float64(1), int64(1), object(6), string(6)\n",
      "memory usage: 299.9+ KB\n",
      "None\n"
     ]
    }
   ],
   "source": [
    "''' Augment the DateTime columns with listed new columns '''\n",
    "_dict_col_to_aug = {\"DateTime\" :   # type of datetime columns to augment the dataframe\n",
    "                    [\"YYYY\",       # 4 digit year (int)\n",
    "                     \"DD\",         # day as 1 digit and 2 digit if abbreviation = true\n",
    "                     \"MM\",         # month as 1 digit and 2 digit if abbreviation = true\n",
    "                     \"MMM\",        # month as name or 3 letters if abbreviation = True\n",
    "                     \"DOW\",        # day-of-week name or 3 letter if abbreviation = True\n",
    "                     \"MMM-DD\",     # three letter two digit month and two digit day (e.g. [09]Sep-10)\n",
    "                     \"HH-mm\",      # two digit hour and minute\n",
    "                    ]\n",
    "                   }\n",
    "_kwargs = {\"dt_col_name\" : \"search_datetime\",    # identifies the datetime column in the dataframe\n",
    "           \"pad_lead_zeros\" : True,   # truncates the string to give 3 character names for year, month, dow\n",
    "           \"abbreviate\" : True,\n",
    "           \"sorted_by\" : [\"YYYY\",\"MM\",\"DD\"]\n",
    "          }\n",
    "_enriched_df = clsEnrich.get_enriched_data(_distinct_df,\n",
    "                                           col_augment_dict = _dict_col_to_aug,\n",
    "                                           **_kwargs\n",
    "                                          )\n",
    "_aug_cols = _dict_col_to_aug[\"DateTime\"]\n",
    "_distinct_df[_aug_cols] = _enriched_df[_aug_cols]\n",
    "\n",
    "''' sort by date '''\n",
    "_distinct_df = _distinct_df.sort_values(by=[\"YYYY\",\"MM\",\"DD\"],kind='quicksort')\n",
    "#print(_distinct_df.head())\n",
    "print(\"\\nEnrichment Complete!\")\n",
    "print(_distinct_df.shape)\n",
    "print(_distinct_df.info())"
   ]
  },
  {
   "cell_type": "code",
   "execution_count": 9,
   "id": "cbc75200",
   "metadata": {},
   "outputs": [
    {
     "data": {
      "text/plain": [
       "<StringArray>\n",
       "[  'US$629',   'US$409',   'US$659',   'US$599',   'US$589',   'US$524',\n",
       "   'US$665',   'US$749',   'US$469',   'US$559',\n",
       " ...\n",
       " 'US$2,960',   'US$223',    'US$40',   'US$232',   'US$280', 'US$1,051',\n",
       "   'US$430',   'US$112',   'US$300',   'US$310']\n",
       "Length: 451, dtype: string"
      ]
     },
     "execution_count": 9,
     "metadata": {},
     "output_type": "execute_result"
    }
   ],
   "source": [
    "_distinct_df['room_rate'].unique()\n",
    "#_distinct_df['search_datetime'].unique()"
   ]
  },
  {
   "cell_type": "markdown",
   "id": "3c7e455e",
   "metadata": {},
   "source": [
    "* [Consider clustering with SOM](https://www.kaggle.com/code/izzettunc/introduction-to-time-series-clustering/notebook)\n",
    "* [Time-series segmentation](https://www.kaggle.com/code/zonnalobo/timeseries-segmentation-and-forecasting/notebook)"
   ]
  },
  {
   "cell_type": "code",
   "execution_count": 8,
   "id": "ee4f2085",
   "metadata": {},
   "outputs": [
    {
     "data": {
      "image/png": "[encoded data removed]",
      "text/plain": [
       "<Figure size 640x480 with 1 Axes>"
      ]
     },
     "metadata": {},
     "output_type": "display_data"
    }
   ],
   "source": [
    "import matplotlib.pyplot as plt\n",
    "\n",
    "plt.scatter(_distinct_df['room_rate'],_distinct_df['HH-mm'])\n",
    "plt.ylabel('rating')\n",
    "plt.show()"
   ]
  },
  {
   "cell_type": "code",
   "execution_count": null,
   "id": "c201eec1",
   "metadata": {},
   "outputs": [],
   "source": []
  }
 ],
 "metadata": {
  "kernelspec": {
   "display_name": "Python 3 (ipykernel)",
   "language": "python",
   "name": "python3"
  },
  "language_info": {
   "codemirror_mode": {
    "name": "ipython",
    "version": 3
   },
   "file_extension": ".py",
   "mimetype": "text/x-python",
   "name": "python",
   "nbconvert_exporter": "python",
   "pygments_lexer": "ipython3",
   "version": "3.8.10"
  }
 },
 "nbformat": 4,
 "nbformat_minor": 5
}
