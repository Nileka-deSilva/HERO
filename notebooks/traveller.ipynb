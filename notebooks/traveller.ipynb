{
 "cells": [
  {
   "cell_type": "code",
   "execution_count": 1,
   "id": "a0fa3aa7",
   "metadata": {},
   "outputs": [],
   "source": [
    "'''\n",
    "    WARNING CONTROL to display or ignore all warnings\n",
    "'''\n",
    "import warnings; warnings.simplefilter('default')     #switch betweeb 'default' and 'ignore'\n",
    "\n",
    "''' Set debug flag to view extended error messages; else set it to False to turn off debugging mode '''\n",
    "debug = True"
   ]
  },
  {
   "cell_type": "markdown",
   "id": "baa11cd4",
   "metadata": {},
   "source": [
    "# Load Data\n",
    "\n",
    "## Establish DB connection"
   ]
  },
  {
   "cell_type": "code",
   "execution_count": 2,
   "id": "6b592852",
   "metadata": {},
   "outputs": [
    {
     "name": "stderr",
     "output_type": "stream",
     "text": [
      "22/06/05 09:23:31 WARN Utils: Your hostname, AMDFX8520 resolves to a loopback address: 127.0.1.1; using 192.168.1.51 instead (on interface enp2s0)\n",
      "22/06/05 09:23:31 WARN Utils: Set SPARK_LOCAL_IP if you need to bind to another address\n",
      "WARNING: An illegal reflective access operation has occurred\n",
      "WARNING: Illegal reflective access by org.apache.spark.unsafe.Platform (file:/opt/spark/spark-3.2.1-bin-hadoop3.2/jars/spark-unsafe_2.12-3.2.1.jar) to constructor java.nio.DirectByteBuffer(long,int)\n",
      "WARNING: Please consider reporting this to the maintainers of org.apache.spark.unsafe.Platform\n",
      "WARNING: Use --illegal-access=warn to enable warnings of further illegal reflective access operations\n",
      "WARNING: All illegal access operations will be denied in a future release\n",
      "22/06/05 09:23:32 WARN NativeCodeLoader: Unable to load native-hadoop library for your platform... using builtin-java classes where applicable\n",
      "Using Spark's default log4j profile: org/apache/spark/log4j-defaults.properties\n",
      "Setting default log level to \"WARN\".\n",
      "To adjust logging level use sc.setLogLevel(newLevel). For SparkR, use setLogLevel(newLevel).\n"
     ]
    },
    {
     "name": "stdout",
     "output_type": "stream",
     "text": [
      "Connection complete!\n"
     ]
    }
   ],
   "source": [
    "import findspark\n",
    "findspark.init('/opt/spark/spark-3.2.1-bin-hadoop3.2')\n",
    "from pyspark.sql import SparkSession\n",
    "\n",
    "# the Spark session should be instantiated as follows\n",
    "spark = SparkSession \\\n",
    "    .builder \\\n",
    "    .appName(\"Python Spark SQL basic example\") \\\n",
    "    .config(\"spark.jars\", \"/opt/spark/spark-3.2.1-bin-hadoop3.2/jars/postgresql-42.3.5.jar\") \\\n",
    "    .getOrCreate()\n",
    "#    .config(\"spark.jars\", \"postgresql-42.2.10-1.jar\") \\\n",
    "print(\"Connection complete! ready to load data.\")"
   ]
  },
  {
   "cell_type": "markdown",
   "id": "53b21fef",
   "metadata": {},
   "source": [
    "## Load and View Schema"
   ]
  },
  {
   "cell_type": "code",
   "execution_count": 3,
   "id": "f83f4167",
   "metadata": {},
   "outputs": [
    {
     "name": "stdout",
     "output_type": "stream",
     "text": [
      "Wait a moment, retrieving data ...\n",
      "root\n",
      " |-- customer_city: string (nullable = true)\n",
      " |-- customer_state: string (nullable = true)\n",
      " |-- customer_country: string (nullable = true)\n",
      " |-- hotel_name: string (nullable = true)\n",
      " |-- hotel_city: string (nullable = true)\n",
      " |-- hotel_state: string (nullable = true)\n",
      " |-- hotel_country: string (nullable = true)\n",
      " |-- checkin_date: date (nullable = true)\n",
      " |-- checkout_date: date (nullable = true)\n",
      " |-- num_of_nights: integer (nullable = true)\n",
      " |-- booked_date: date (nullable = true)\n",
      " |-- num_of_rooms: integer (nullable = true)\n",
      " |-- daily_rate: double (nullable = true)\n",
      " |-- booked_currency: string (nullable = true)\n",
      "\n",
      "Loading complete!\n"
     ]
    }
   ],
   "source": [
    "print(\"Wait a moment, retrieving data ...\")\n",
    "load_sdf = spark.read.format(\"jdbc\"). \\\n",
    "options(\n",
    "    url='jdbc:postgresql://10.11.34.33:5432/Datascience', # jdbc:postgresql://<host>:<port>/<database>\n",
    "    dbtable='_issuefix_bkdata.customerbookings',\n",
    "    user='postgres',\n",
    "    password='postgres',\n",
    "    driver='org.postgresql.Driver').\\\n",
    "load()\n",
    "load_sdf.printSchema()\n",
    "\n",
    "print(\"Loading complete!\")"
   ]
  },
  {
   "cell_type": "code",
   "execution_count": 4,
   "id": "4c5c8803",
   "metadata": {
    "scrolled": true
   },
   "outputs": [
    {
     "name": "stderr",
     "output_type": "stream",
     "text": [
      "\r",
      "[Stage 0:>                                                          (0 + 1) / 1]\r"
     ]
    },
    {
     "name": "stdout",
     "output_type": "stream",
     "text": [
      "-RECORD 0--------------------------------\n",
      " customer_city    | Palma                \n",
      " customer_state   |                      \n",
      " customer_country | Spain                \n",
      " hotel_name       | Best Western Plus... \n",
      " hotel_city       | Bryce Canyon         \n",
      " hotel_state      | Utah                 \n",
      " hotel_country    | USA                  \n",
      " checkin_date     | 2021-10-07           \n",
      " checkout_date    | 2021-10-09           \n",
      " num_of_nights    | 2                    \n",
      " booked_date      | 2021-09-11           \n",
      " num_of_rooms     | 1                    \n",
      " daily_rate       | 338.32               \n",
      " booked_currency  | USD                  \n",
      "-RECORD 1--------------------------------\n",
      " customer_city    | Aventura             \n",
      " customer_state   |                      \n",
      " customer_country | USA                  \n",
      " hotel_name       | Hilton Fort Laude... \n",
      " hotel_city       | Fort Lauderdale      \n",
      " hotel_state      | Florida              \n",
      " hotel_country    | USA                  \n",
      " checkin_date     | 2021-05-28           \n",
      " checkout_date    | 2021-05-30           \n",
      " num_of_nights    | 2                    \n",
      " booked_date      | 2021-05-06           \n",
      " num_of_rooms     | 1                    \n",
      " daily_rate       | 294.5                \n",
      " booked_currency  | USD                  \n",
      "only showing top 2 rows\n",
      "\n"
     ]
    },
    {
     "name": "stderr",
     "output_type": "stream",
     "text": [
      "\r",
      "                                                                                \r"
     ]
    }
   ],
   "source": [
    "load_sdf.show(n=2, vertical=True)"
   ]
  },
  {
   "cell_type": "markdown",
   "id": "46c2b866",
   "metadata": {},
   "source": [
    "### Convert to Pandas Dataframe"
   ]
  },
  {
   "cell_type": "code",
   "execution_count": 6,
   "id": "8679de4f",
   "metadata": {
    "scrolled": false
   },
   "outputs": [
    {
     "ename": "AttributeError",
     "evalue": "module 'numpy.random' has no attribute 'BitGenerator'",
     "output_type": "error",
     "traceback": [
      "\u001b[0;31m---------------------------------------------------------------------------\u001b[0m",
      "\u001b[0;31mAttributeError\u001b[0m                            Traceback (most recent call last)",
      "Input \u001b[0;32mIn [6]\u001b[0m, in \u001b[0;36m<module>\u001b[0;34m\u001b[0m\n\u001b[0;32m----> 1\u001b[0m \u001b[38;5;28;01mimport\u001b[39;00m \u001b[38;5;21;01mpandas\u001b[39;00m \u001b[38;5;28;01mas\u001b[39;00m \u001b[38;5;21;01mpd\u001b[39;00m\n\u001b[1;32m      2\u001b[0m \u001b[38;5;28;01mimport\u001b[39;00m \u001b[38;5;21;01mnumpy\u001b[39;00m\n\u001b[1;32m      3\u001b[0m numpy\u001b[38;5;241m.\u001b[39mrandom\u001b[38;5;241m.\u001b[39mbit_generator \u001b[38;5;241m=\u001b[39m numpy\u001b[38;5;241m.\u001b[39mrandom\u001b[38;5;241m.\u001b[39m_bit_generator\n",
      "File \u001b[0;32m~/.local/lib/python3.8/site-packages/pandas/__init__.py:22\u001b[0m, in \u001b[0;36m<module>\u001b[0;34m\u001b[0m\n\u001b[1;32m     19\u001b[0m \u001b[38;5;28;01mdel\u001b[39;00m hard_dependencies, dependency, missing_dependencies\n\u001b[1;32m     21\u001b[0m \u001b[38;5;66;03m# numpy compat\u001b[39;00m\n\u001b[0;32m---> 22\u001b[0m \u001b[38;5;28;01mfrom\u001b[39;00m \u001b[38;5;21;01mpandas\u001b[39;00m\u001b[38;5;21;01m.\u001b[39;00m\u001b[38;5;21;01mcompat\u001b[39;00m \u001b[38;5;28;01mimport\u001b[39;00m is_numpy_dev \u001b[38;5;28;01mas\u001b[39;00m _is_numpy_dev\n\u001b[1;32m     24\u001b[0m \u001b[38;5;28;01mtry\u001b[39;00m:\n\u001b[1;32m     25\u001b[0m     \u001b[38;5;28;01mfrom\u001b[39;00m \u001b[38;5;21;01mpandas\u001b[39;00m\u001b[38;5;21;01m.\u001b[39;00m\u001b[38;5;21;01m_libs\u001b[39;00m \u001b[38;5;28;01mimport\u001b[39;00m hashtable \u001b[38;5;28;01mas\u001b[39;00m _hashtable, lib \u001b[38;5;28;01mas\u001b[39;00m _lib, tslib \u001b[38;5;28;01mas\u001b[39;00m _tslib\n",
      "File \u001b[0;32m~/.local/lib/python3.8/site-packages/pandas/compat/__init__.py:14\u001b[0m, in \u001b[0;36m<module>\u001b[0;34m\u001b[0m\n\u001b[1;32m     11\u001b[0m \u001b[38;5;28;01mimport\u001b[39;00m \u001b[38;5;21;01mplatform\u001b[39;00m\n\u001b[1;32m     12\u001b[0m \u001b[38;5;28;01mimport\u001b[39;00m \u001b[38;5;21;01msys\u001b[39;00m\n\u001b[0;32m---> 14\u001b[0m \u001b[38;5;28;01mfrom\u001b[39;00m \u001b[38;5;21;01mpandas\u001b[39;00m\u001b[38;5;21;01m.\u001b[39;00m\u001b[38;5;21;01m_typing\u001b[39;00m \u001b[38;5;28;01mimport\u001b[39;00m F\n\u001b[1;32m     15\u001b[0m \u001b[38;5;28;01mfrom\u001b[39;00m \u001b[38;5;21;01mpandas\u001b[39;00m\u001b[38;5;21;01m.\u001b[39;00m\u001b[38;5;21;01mcompat\u001b[39;00m\u001b[38;5;21;01m.\u001b[39;00m\u001b[38;5;21;01mnumpy\u001b[39;00m \u001b[38;5;28;01mimport\u001b[39;00m (\n\u001b[1;32m     16\u001b[0m     is_numpy_dev,\n\u001b[1;32m     17\u001b[0m     np_version_under1p19,\n\u001b[1;32m     18\u001b[0m     np_version_under1p20,\n\u001b[1;32m     19\u001b[0m )\n\u001b[1;32m     20\u001b[0m \u001b[38;5;28;01mfrom\u001b[39;00m \u001b[38;5;21;01mpandas\u001b[39;00m\u001b[38;5;21;01m.\u001b[39;00m\u001b[38;5;21;01mcompat\u001b[39;00m\u001b[38;5;21;01m.\u001b[39;00m\u001b[38;5;21;01mpyarrow\u001b[39;00m \u001b[38;5;28;01mimport\u001b[39;00m (\n\u001b[1;32m     21\u001b[0m     pa_version_under1p01,\n\u001b[1;32m     22\u001b[0m     pa_version_under2p0,\n\u001b[1;32m     23\u001b[0m     pa_version_under3p0,\n\u001b[1;32m     24\u001b[0m     pa_version_under4p0,\n\u001b[1;32m     25\u001b[0m )\n",
      "File \u001b[0;32m~/.local/lib/python3.8/site-packages/pandas/_typing.py:120\u001b[0m, in \u001b[0;36m<module>\u001b[0;34m\u001b[0m\n\u001b[1;32m    113\u001b[0m Frequency \u001b[38;5;241m=\u001b[39m Union[\u001b[38;5;28mstr\u001b[39m, \u001b[38;5;124m\"\u001b[39m\u001b[38;5;124mDateOffset\u001b[39m\u001b[38;5;124m\"\u001b[39m]\n\u001b[1;32m    114\u001b[0m Axes \u001b[38;5;241m=\u001b[39m Collection[Any]\n\u001b[1;32m    116\u001b[0m RandomState \u001b[38;5;241m=\u001b[39m Union[\n\u001b[1;32m    117\u001b[0m     \u001b[38;5;28mint\u001b[39m,\n\u001b[1;32m    118\u001b[0m     ArrayLike,\n\u001b[1;32m    119\u001b[0m     np\u001b[38;5;241m.\u001b[39mrandom\u001b[38;5;241m.\u001b[39mGenerator,\n\u001b[0;32m--> 120\u001b[0m     \u001b[43mnp\u001b[49m\u001b[38;5;241;43m.\u001b[39;49m\u001b[43mrandom\u001b[49m\u001b[38;5;241;43m.\u001b[39;49m\u001b[43mBitGenerator\u001b[49m,\n\u001b[1;32m    121\u001b[0m     np\u001b[38;5;241m.\u001b[39mrandom\u001b[38;5;241m.\u001b[39mRandomState,\n\u001b[1;32m    122\u001b[0m ]\n\u001b[1;32m    124\u001b[0m \u001b[38;5;66;03m# dtypes\u001b[39;00m\n\u001b[1;32m    125\u001b[0m NpDtype \u001b[38;5;241m=\u001b[39m Union[\u001b[38;5;28mstr\u001b[39m, np\u001b[38;5;241m.\u001b[39mdtype, type_t[Union[\u001b[38;5;28mstr\u001b[39m, \u001b[38;5;28mfloat\u001b[39m, \u001b[38;5;28mint\u001b[39m, \u001b[38;5;28mcomplex\u001b[39m, \u001b[38;5;28mbool\u001b[39m, \u001b[38;5;28mobject\u001b[39m]]]\n",
      "\u001b[0;31mAttributeError\u001b[0m: module 'numpy.random' has no attribute 'BitGenerator'"
     ]
    }
   ],
   "source": [
    "import pandas as pd\n",
    "\n",
    "print(\"Wait a moment while convert loaded data to a dataframe ...\")\n",
    "to_load_pdf = load_sdf.toPandas()\n",
    "print(to_load_pdf.info())\n",
    "print(to_load_pdf.head(2))"
   ]
  },
  {
   "cell_type": "markdown",
   "id": "ad53ed54",
   "metadata": {},
   "source": [
    "### Analyse Stats"
   ]
  },
  {
   "cell_type": "code",
   "execution_count": 97,
   "id": "01801deb",
   "metadata": {
    "scrolled": true
   },
   "outputs": [
    {
     "name": "stdout",
     "output_type": "stream",
     "text": [
      "['__class__', '__delattr__', '__dict__', '__dir__', '__doc__', '__eq__', '__format__', '__ge__', '__getattribute__', '__gt__', '__hash__', '__init__', '__init_subclass__', '__le__', '__lt__', '__module__', '__ne__', '__new__', '__reduce__', '__reduce_ex__', '__repr__', '__setattr__', '__sizeof__', '__str__', '__subclasshook__', '__weakref__', '_dist_types', '_distributions', '_dup_method', '_l_dup_methods', 'count_duplicates', 'count_nulls', 'fit_distributions', 'get_central_tendency', 'get_data_types', 'name', 'test_uniformity']\n"
     ]
    }
   ],
   "source": [
    "import sys\n",
    "sys.path.insert(1, '../wrangler')\n",
    "import pandas as pd\n",
    "import stats as ds\n",
    "import json\n",
    "\n",
    "#import importlib\n",
    "\n",
    "if debug:\n",
    "    import importlib\n",
    "    ds = importlib.reload(ds)\n",
    "\n",
    "data_name = \"traveller\"\n",
    "cls_stats = ds.DataStatistics(name=data_name)\n",
    "print(dir(cls_stats))"
   ]
  },
  {
   "cell_type": "code",
   "execution_count": 45,
   "id": "210a80c4",
   "metadata": {},
   "outputs": [],
   "source": [
    "%%capture\n",
    "import pandas as pd\n",
    "\n",
    "stat_summary_df = pd.DataFrame([])\n",
    "stat_summary_df = cls_stats.fit_distributions(to_load_pdf,[\"popular\"])"
   ]
  },
  {
   "cell_type": "code",
   "execution_count": 47,
   "id": "f24815a1",
   "metadata": {
    "scrolled": true
   },
   "outputs": [
    {
     "name": "stdout",
     "output_type": "stream",
     "text": [
      "         distr      score  LLE            loc          scale  \\\n",
      "0   genextreme   0.127618  NaN       1.617076       0.907597   \n",
      "1        expon   0.129034  NaN            1.0       1.838296   \n",
      "2       pareto   0.151473  NaN      -0.304145       1.304145   \n",
      "3        gamma   0.162114  NaN            1.0       4.019531   \n",
      "4         beta   0.199609  NaN            1.0     176.565283   \n",
      "5     dweibull   0.243212  NaN       2.527018        1.58273   \n",
      "6            t   0.264159  NaN       2.404165        1.33507   \n",
      "7         norm   0.294027  NaN       2.838296       2.092641   \n",
      "8     loggamma   0.297136  NaN    -551.251433      77.332164   \n",
      "9      lognorm   0.524361  NaN            1.0       0.000046   \n",
      "10     uniform   0.542994  NaN            1.0           29.0   \n",
      "0        expon  13.461062  NaN            1.0       0.030854   \n",
      "1     dweibull  14.121208  NaN            1.0       0.164265   \n",
      "2         norm  14.702736  NaN       1.030854       0.221947   \n",
      "3     loggamma  17.032895  NaN     -76.910342      10.613321   \n",
      "4         beta  23.335485  NaN            1.0      16.862444   \n",
      "5        gamma  25.388889  NaN            1.0       1.115995   \n",
      "6      uniform  28.777471  NaN            1.0            9.0   \n",
      "7       pareto  29.394755  NaN            1.0            0.0   \n",
      "8            t  29.394755  NaN            1.0            0.0   \n",
      "9   genextreme  29.394755  NaN            1.0            0.0   \n",
      "10     lognorm  29.394755  NaN            1.0            0.0   \n",
      "0        expon        0.0  NaN            0.0     649.739122   \n",
      "1         beta        0.0  NaN           -0.0  449630.222524   \n",
      "2      lognorm        0.0  NaN      -1.844585     366.937736   \n",
      "3            t        0.0  NaN     304.333852      211.95877   \n",
      "4         norm        0.0  NaN     649.739122    1092.546031   \n",
      "5     dweibull        0.0  NaN         252.86     360.197541   \n",
      "6     loggamma        0.0  NaN -656536.256788   87148.041125   \n",
      "7       pareto        0.0  NaN      -2.570962       2.570962   \n",
      "8   genextreme        0.0  NaN       2.894392      10.971266   \n",
      "9      uniform        0.0  NaN            0.0        68244.0   \n",
      "10       gamma        0.0  NaN           -0.0       4.326486   \n",
      "\n",
      "                                         arg    column name  \n",
      "0                     (-0.6480443845680068,)  num_of_nights  \n",
      "1                                         ()  num_of_nights  \n",
      "2                      (1.3990338123512078,)  num_of_nights  \n",
      "3                     (0.31109028491709667,)  num_of_nights  \n",
      "4   (0.25560789600035005, 94.43590981507666)  num_of_nights  \n",
      "5                      (1.2182418180430254,)  num_of_nights  \n",
      "6                       (3.373155527698314,)  num_of_nights  \n",
      "7                                         ()  num_of_nights  \n",
      "8                       (1293.864502210351,)  num_of_nights  \n",
      "9                       (5.209896549743613,)  num_of_nights  \n",
      "10                                        ()  num_of_nights  \n",
      "0                                         ()   num_of_rooms  \n",
      "1                      (0.9651441154106835,)   num_of_rooms  \n",
      "2                                         ()   num_of_rooms  \n",
      "3                      (1545.8642704975646,)   num_of_rooms  \n",
      "4   (0.39822820574364637, 467.4444175043534)   num_of_rooms  \n",
      "5                     (0.04065007033180057,)   num_of_rooms  \n",
      "6                                         ()   num_of_rooms  \n",
      "7                      (2.1319460409781357,)   num_of_rooms  \n",
      "8                       (8.407657360080044,)   num_of_rooms  \n",
      "9                     (-0.8536966930107539,)   num_of_rooms  \n",
      "10                     (1.2249700238767254,)   num_of_rooms  \n",
      "0                                         ()     daily_rate  \n",
      "1    (0.9922839501865615, 684.9952905103146)     daily_rate  \n",
      "2                      (1.0270552640281205,)     daily_rate  \n",
      "3                      (1.2673875370365342,)     daily_rate  \n",
      "4                                         ()     daily_rate  \n",
      "5                       (0.719215501601276,)     daily_rate  \n",
      "6                      (1884.5870890438973,)     daily_rate  \n",
      "7                      (0.2003938006029888,)     daily_rate  \n",
      "8                       (-3.78351816241599,)     daily_rate  \n",
      "9                                         ()     daily_rate  \n",
      "10                  (0.0005545119159495245,)     daily_rate  \n"
     ]
    }
   ],
   "source": [
    "print(stat_summary_df)"
   ]
  },
  {
   "cell_type": "markdown",
   "id": "29324c4d",
   "metadata": {},
   "source": [
    "## Drop columns"
   ]
  },
  {
   "cell_type": "code",
   "execution_count": null,
   "id": "26cb01e4",
   "metadata": {},
   "outputs": [],
   "source": [
    "to_load_pdf = to_load_pdf.drop('customer_state',axis=1)"
   ]
  },
  {
   "cell_type": "markdown",
   "id": "22dc2f6a",
   "metadata": {},
   "source": [
    "## Set data types"
   ]
  },
  {
   "cell_type": "code",
   "execution_count": 14,
   "id": "5ceb14c9",
   "metadata": {},
   "outputs": [
    {
     "name": "stdout",
     "output_type": "stream",
     "text": [
      "Wait a moment while we polish the dataframe ...\n",
      "<class 'pandas.core.frame.DataFrame'>\n",
      "RangeIndex: 259418 entries, 0 to 259417\n",
      "Data columns (total 14 columns):\n",
      " #   Column            Non-Null Count   Dtype         \n",
      "---  ------            --------------   -----         \n",
      " 0   customer_city     259418 non-null  string        \n",
      " 1   customer_country  259418 non-null  string        \n",
      " 2   hotel_name        259418 non-null  string        \n",
      " 3   hotel_city        259418 non-null  string        \n",
      " 4   hotel_state       259418 non-null  string        \n",
      " 5   hotel_country     259418 non-null  object        \n",
      " 6   checkin_date      259418 non-null  datetime64[ns]\n",
      " 7   checkout_date     259418 non-null  datetime64[ns]\n",
      " 8   num_of_nights     259418 non-null  int64         \n",
      " 9   booked_date       259418 non-null  datetime64[ns]\n",
      " 10  num_of_rooms      259418 non-null  int64         \n",
      " 11  daily_rate        259418 non-null  float64       \n",
      " 12  booked_currency   259418 non-null  string        \n",
      " 13  booked_value      259418 non-null  float64       \n",
      "dtypes: datetime64[ns](3), float64(2), int64(2), object(1), string(6)\n",
      "memory usage: 27.7+ MB\n"
     ]
    }
   ],
   "source": [
    "print(\"Wait a moment while we polish the dataframe ...\")\n",
    "#to_load_pdf = pd.DataFrame(list(zip(*_grp_book_collect))).T\n",
    "#to_load_pdf = to_load_pdf.rename(columns={0 : 'Date', 1 : 'Nights', 2 : 'Rooms', 3 : 'AgentCost'})\n",
    "to_load_pdf['customer_city'] = to_load_pdf['customer_city'].astype('string')\n",
    "to_load_pdf['customer_country'] = to_load_pdf['customer_country'].astype('string')\n",
    "to_load_pdf['hotel_name'] = to_load_pdf['hotel_name'].astype('string')\n",
    "to_load_pdf['hotel_city'] = to_load_pdf['hotel_city'].astype('string')\n",
    "to_load_pdf['hotel_state'] = to_load_pdf['hotel_state'].astype('string')\n",
    "to_load_pdf['booked_date'] = to_load_pdf['booked_date'].astype('datetime64[ns]')\n",
    "to_load_pdf['checkin_date'] = to_load_pdf['checkin_date'].astype('datetime64[ns]')\n",
    "to_load_pdf['checkout_date'] = to_load_pdf['checkout_date'].astype('datetime64[ns]')\n",
    "to_load_pdf['num_of_nights'] = to_load_pdf['num_of_nights'].astype('int64')\n",
    "to_load_pdf['num_of_rooms'] = to_load_pdf['num_of_rooms'].astype('int64')\n",
    "to_load_pdf['daily_rate'] = to_load_pdf['daily_rate'].astype('float64')\n",
    "to_load_pdf['booked_value'] = round(to_load_pdf['num_of_nights']* \\\n",
    "                                to_load_pdf['num_of_rooms']* \\\n",
    "                                to_load_pdf['daily_rate'].astype('float64'),2)\n",
    "to_load_pdf['booked_currency'] = to_load_pdf['booked_currency'].astype('string')\n",
    "to_load_pdf.info()\n"
   ]
  },
  {
   "cell_type": "markdown",
   "id": "81e4666c",
   "metadata": {},
   "source": [
    "## Group the data"
   ]
  },
  {
   "cell_type": "code",
   "execution_count": 49,
   "id": "d7b57720",
   "metadata": {},
   "outputs": [
    {
     "name": "stdout",
     "output_type": "stream",
     "text": [
      "       checkin_date customer_city        hotel_city  value_mean  value_min  \\\n",
      "0        2021-01-01        Dorset         Las Vegas      733.42     620.84   \n",
      "1        2021-01-01        Dorset          Portland      436.16     436.16   \n",
      "2        2021-01-01     Grapevine            Austin      154.98     154.98   \n",
      "3        2021-01-01     Grapevine      Coral Gables      148.37     148.37   \n",
      "4        2021-01-01     Grapevine         Las Vegas      341.96     240.74   \n",
      "...             ...           ...               ...         ...        ...   \n",
      "142119   2023-10-08      Aventura  Lake Buena Vista    12346.20   12346.20   \n",
      "142120   2023-10-19        Dublin           Orlando    40431.16   40431.16   \n",
      "142121   2023-10-26   West Sussex           Orlando     8888.64    8888.64   \n",
      "142122   2023-11-03         Essex           Orlando     1229.52    1229.52   \n",
      "142123   2023-11-06        Dublin  Lake Buena Vista    31658.00   31658.00   \n",
      "\n",
      "        value_max  value_stdv  customer_city_lat  customer_city_lon  \\\n",
      "0          846.00      159.21                NaN                NaN   \n",
      "1          436.16        0.00                NaN                NaN   \n",
      "2          154.98        0.00                NaN                NaN   \n",
      "3          148.37        0.00                NaN                NaN   \n",
      "4          527.32       84.75                NaN                NaN   \n",
      "...           ...         ...                ...                ...   \n",
      "142119   12346.20        0.00                NaN                NaN   \n",
      "142120   40431.16        0.00                NaN                NaN   \n",
      "142121    8888.64        0.00                NaN                NaN   \n",
      "142122    1229.52        0.00                NaN                NaN   \n",
      "142123   31658.00        0.00                NaN                NaN   \n",
      "\n",
      "        hotel_city_lat  hotel_city_lon  \n",
      "0                  NaN             NaN  \n",
      "1                  NaN             NaN  \n",
      "2                  NaN             NaN  \n",
      "3                  NaN             NaN  \n",
      "4                  NaN             NaN  \n",
      "...                ...             ...  \n",
      "142119             NaN             NaN  \n",
      "142120             NaN             NaN  \n",
      "142121             NaN             NaN  \n",
      "142122             NaN             NaN  \n",
      "142123             NaN             NaN  \n",
      "\n",
      "[142124 rows x 11 columns]\n"
     ]
    }
   ],
   "source": [
    "import numpy as np\n",
    "\n",
    "grp_by_dt = to_load_pdf.groupby(['checkin_date',\n",
    "                                 'customer_city',\n",
    "                                 'customer_country',\n",
    "                                 'hotel_city',\n",
    "                                 'hotel_country']). \\\n",
    "                agg({'booked_value': ['sum', 'mean', 'min', 'max', 'std']})\n",
    "grp_by_dt = grp_by_dt.round(2)\n",
    "grp_by_dt.columns = ['value_mean', 'value_min', 'value_max', 'value_stdv']\n",
    "grp_by_dt['value_stdv'] = grp_by_dt['value_stdv'].fillna(0)\n",
    "grp_by_dt['customer_city_lat'] = np.nan\n",
    "grp_by_dt['customer_city_lon'] = np.nan\n",
    "grp_by_dt['hotel_city_lat'] = np.nan\n",
    "grp_by_dt['hotel_city_lon'] = np.nan\n",
    "grp_by_dt = grp_by_dt.reset_index()\n",
    "print(grp_by_dt)"
   ]
  },
  {
   "cell_type": "markdown",
   "id": "6579b18c",
   "metadata": {},
   "source": [
    "## Add lat/lon to cities"
   ]
  },
  {
   "cell_type": "code",
   "execution_count": 40,
   "id": "0b6b31c2",
   "metadata": {
    "scrolled": true
   },
   "outputs": [
    {
     "name": "stderr",
     "output_type": "stream",
     "text": [
      "/usr/lib/python3.8/socket.py:740: ResourceWarning: unclosed <socket.socket fd=63, family=AddressFamily.AF_INET, type=SocketKind.SOCK_STREAM, proto=6, laddr=('192.168.235.83', 42154), raddr=('140.211.167.100', 443)>\n",
      "  self._sock = None\n",
      "ResourceWarning: Enable tracemalloc to get the object allocation traceback\n"
     ]
    }
   ],
   "source": [
    "''' Import the required library '''\n",
    "from geopy.geocoders import Nominatim\n",
    "\n",
    "customer_city = grp_by_dt[\"customer_city\"].unique()\n",
    "hotel_city = grp_by_dt[\"hotel_city\"].unique()\n",
    "_l_cities = list(set().union(customer_city, hotel_city))\n",
    "\n",
    "''' Initialize Nominatim API '''\n",
    "geolocator = Nominatim(user_agent=\"Traveller\")\n",
    "''' loop through list to allocate lat/lon pairs '''\n",
    "_l_city_loc = []\n",
    "_l_city_err = []\n",
    "for city in _l_cities:\n",
    "    try:\n",
    "#        print(city)\n",
    "        location = geolocator.geocode(city)\n",
    "        if location != None:\n",
    "            _l_city_loc.append([city,location.latitude,location.longitude])\n",
    "        else:\n",
    "            _l_city_err.append(city)\n",
    "            raise ValueError(\"Error: geocode failed on input %s with message\" % city)\n",
    "    except ValueError as error_message:\n",
    "#        print(\"Error: geocode failed on input %s with message %s\"%(city, error_message))\n",
    "        print(error_message)\n",
    "        pass\n",
    "#print(\"The latitude of the location is: \", location.latitude)\n",
    "#print(\"The longitude of the location is: \", location.longitude)\n"
   ]
  },
  {
   "cell_type": "code",
   "execution_count": 44,
   "id": "91210acc",
   "metadata": {},
   "outputs": [],
   "source": [
    "import csv\n",
    "\n",
    "fields = ['City', 'Latitude', 'Longitude'] \n",
    "with open('../data/city_locations.csv', 'w') as f:\n",
    "      \n",
    "    # using csv.writer method from CSV package\n",
    "    write = csv.writer(f)\n",
    "    write.writerow(fields)\n",
    "    write.writerows(_l_city_loc)"
   ]
  },
  {
   "cell_type": "code",
   "execution_count": 77,
   "id": "f2f8cdbb",
   "metadata": {
    "scrolled": false
   },
   "outputs": [
    {
     "name": "stdout",
     "output_type": "stream",
     "text": [
      "Attempt to assign lat/lon to 142122\n",
      "Successfully assigned lat/lon to 142122\n"
     ]
    }
   ],
   "source": [
    "city_loc_df = pd.read_csv(\"../data/city_locations.csv\")\n",
    "for rowIdx in city_loc_df.index:\n",
    "    ''' match and assign lat/lon for customer cities '''\n",
    "    mask = grp_by_dt['customer_city'] == city_loc_df[\"City\"][rowIdx]\n",
    "    grp_by_dt['customer_city_lat'][mask] = city_loc_df[\"Latitude\"][rowIdx]\n",
    "    grp_by_dt['customer_city_lon'][mask] = city_loc_df[\"Longitude\"][rowIdx]\n",
    "    ''' match and assign lat/lon for hotel cities '''\n",
    "    mask = grp_by_dt['hotel_city'] == city_loc_df[\"City\"][rowIdx]\n",
    "    grp_by_dt['hotel_city_lat'][mask] = city_loc_df[\"Latitude\"][rowIdx]\n",
    "    grp_by_dt['hotel_city_lon'][mask] = city_loc_df[\"Longitude\"][rowIdx]\n",
    "\n",
    "print(\"Attempt to assign lat/lon to %d\" % grp_by_dt.shape[0])\n",
    "\n",
    "''' drop all cells without lat/lon pairs; i.e; NaN '''\n",
    "mask = (grp_by_dt['customer_city_lat'].notna() | grp_by_dt['customer_city_lat'])\n",
    "grp_by_dt = grp_by_dt[mask]\n",
    "mask = (grp_by_dt['hotel_city_lat'].notna() | grp_by_dt['hotel_city_lon'])\n",
    "grp_by_dt = grp_by_dt[mask]\n",
    "\n",
    "print(\"Successfully assigned lat/lon to %d\" % grp_by_dt.shape[0])\n",
    "\n",
    "''' write to a csv '''\n",
    "grp_by_dt.to_csv('../data/travel_from_to.csv',sep=',')"
   ]
  },
  {
   "cell_type": "markdown",
   "id": "c0317622",
   "metadata": {},
   "source": [
    "## Where are they from where are they going"
   ]
  },
  {
   "cell_type": "code",
   "execution_count": null,
   "id": "e36569ff",
   "metadata": {},
   "outputs": [],
   "source": [
    "grp_by_dt.read_csv(\"../data/travel_from_to.csv\")"
   ]
  },
  {
   "cell_type": "code",
   "execution_count": 84,
   "id": "4efca1bc",
   "metadata": {},
   "outputs": [],
   "source": [
    "import networkx as nx\n",
    "\n",
    "g_travel = nx.Graph(name='Travel_from_to_destination') # Simple Digraph\n",
    "for rowIdx in grp_by_dt.index:\n",
    "    ''' customer nodes '''\n",
    "#    g_travel.add_node(grp_by_dt.loc[rowIdx,'customer_city'],\n",
    "    g_travel.add_node('CC'+str(rowIdx),\n",
    "                      pos=(grp_by_dt.loc[rowIdx,'customer_city_lat'],\n",
    "                           grp_by_dt.loc[rowIdx,'customer_city_lon']),\n",
    "                      city=grp_by_dt.loc[rowIdx,'customer_city'])\n",
    "    ''' hotel nodes '''\n",
    "#    g_travel.add_node(grp_by_dt.loc[rowIdx,'hotel_city'],\n",
    "    g_travel.add_node('HC'+str(rowIdx),\n",
    "                      pos=(grp_by_dt.loc[rowIdx,'hotel_city_lat'],\n",
    "                           grp_by_dt.loc[rowIdx,'hotel_city_lon']),\n",
    "#                      checkin_date=grp_by_dt.loc[rowIdx,'checkin_date'],\n",
    "                      city=grp_by_dt.loc[rowIdx,'hotel_city'])\n",
    "    g_travel.add_edge('CC'+str(rowIdx),\n",
    "                      'HC'+str(rowIdx),\n",
    "                      checkin_date=grp_by_dt.loc[rowIdx,'checkin_date'],\n",
    "                      value_min=grp_by_dt.loc[rowIdx,'value_min'],\n",
    "                      value_max=grp_by_dt.loc[rowIdx,'value_max'],\n",
    "                      value_stdv=grp_by_dt.loc[rowIdx,'value_stdv'],\n",
    "                      value_mean=grp_by_dt.loc[rowIdx,'value_mean'],\n",
    "                     )"
   ]
  },
  {
   "cell_type": "code",
   "execution_count": 101,
   "id": "c574f6f2",
   "metadata": {},
   "outputs": [
    {
     "ename": "KeyboardInterrupt",
     "evalue": "",
     "output_type": "error",
     "traceback": [
      "\u001b[0;31m---------------------------------------------------------------------------\u001b[0m",
      "\u001b[0;31mKeyboardInterrupt\u001b[0m                         Traceback (most recent call last)",
      "Input \u001b[0;32mIn [101]\u001b[0m, in \u001b[0;36m<module>\u001b[0;34m\u001b[0m\n\u001b[1;32m     11\u001b[0m nx\u001b[38;5;241m.\u001b[39mdraw_networkx(g_travel, node_pos,node_size\u001b[38;5;241m=\u001b[39m\u001b[38;5;241m900\u001b[39m, node_color\u001b[38;5;241m=\u001b[39m\u001b[38;5;124m\"\u001b[39m\u001b[38;5;124my\u001b[39m\u001b[38;5;124m\"\u001b[39m, node_shape\u001b[38;5;241m=\u001b[39m\u001b[38;5;124m'\u001b[39m\u001b[38;5;124mo\u001b[39m\u001b[38;5;124m'\u001b[39m)\n\u001b[1;32m     12\u001b[0m \u001b[38;5;66;03m#plt.savefig(\"./images/map_0.png\", format = \"png\", dpi = 300)\u001b[39;00m\n\u001b[0;32m---> 13\u001b[0m \u001b[43mplt\u001b[49m\u001b[38;5;241;43m.\u001b[39;49m\u001b[43mshow\u001b[49m\u001b[43m(\u001b[49m\u001b[43m)\u001b[49m\n",
      "File \u001b[0;32m~/.local/lib/python3.8/site-packages/matplotlib/pyplot.py:353\u001b[0m, in \u001b[0;36mshow\u001b[0;34m(*args, **kwargs)\u001b[0m\n\u001b[1;32m    325\u001b[0m \u001b[38;5;124;03m\"\"\"\u001b[39;00m\n\u001b[1;32m    326\u001b[0m \u001b[38;5;124;03mDisplay all open figures.\u001b[39;00m\n\u001b[1;32m    327\u001b[0m \n\u001b[0;32m   (...)\u001b[0m\n\u001b[1;32m    350\u001b[0m \n\u001b[1;32m    351\u001b[0m \u001b[38;5;124;03m\"\"\"\u001b[39;00m\n\u001b[1;32m    352\u001b[0m _warn_if_gui_out_of_main_thread()\n\u001b[0;32m--> 353\u001b[0m \u001b[38;5;28;01mreturn\u001b[39;00m \u001b[43m_backend_mod\u001b[49m\u001b[38;5;241;43m.\u001b[39;49m\u001b[43mshow\u001b[49m\u001b[43m(\u001b[49m\u001b[38;5;241;43m*\u001b[39;49m\u001b[43margs\u001b[49m\u001b[43m,\u001b[49m\u001b[43m \u001b[49m\u001b[38;5;241;43m*\u001b[39;49m\u001b[38;5;241;43m*\u001b[39;49m\u001b[43mkwargs\u001b[49m\u001b[43m)\u001b[49m\n",
      "File \u001b[0;32m~/.local/lib/python3.8/site-packages/matplotlib_inline/backend_inline.py:41\u001b[0m, in \u001b[0;36mshow\u001b[0;34m(close, block)\u001b[0m\n\u001b[1;32m     39\u001b[0m \u001b[38;5;28;01mtry\u001b[39;00m:\n\u001b[1;32m     40\u001b[0m     \u001b[38;5;28;01mfor\u001b[39;00m figure_manager \u001b[38;5;129;01min\u001b[39;00m Gcf\u001b[38;5;241m.\u001b[39mget_all_fig_managers():\n\u001b[0;32m---> 41\u001b[0m         \u001b[43mdisplay\u001b[49m\u001b[43m(\u001b[49m\n\u001b[1;32m     42\u001b[0m \u001b[43m            \u001b[49m\u001b[43mfigure_manager\u001b[49m\u001b[38;5;241;43m.\u001b[39;49m\u001b[43mcanvas\u001b[49m\u001b[38;5;241;43m.\u001b[39;49m\u001b[43mfigure\u001b[49m\u001b[43m,\u001b[49m\n\u001b[1;32m     43\u001b[0m \u001b[43m            \u001b[49m\u001b[43mmetadata\u001b[49m\u001b[38;5;241;43m=\u001b[39;49m\u001b[43m_fetch_figure_metadata\u001b[49m\u001b[43m(\u001b[49m\u001b[43mfigure_manager\u001b[49m\u001b[38;5;241;43m.\u001b[39;49m\u001b[43mcanvas\u001b[49m\u001b[38;5;241;43m.\u001b[39;49m\u001b[43mfigure\u001b[49m\u001b[43m)\u001b[49m\n\u001b[1;32m     44\u001b[0m \u001b[43m        \u001b[49m\u001b[43m)\u001b[49m\n\u001b[1;32m     45\u001b[0m \u001b[38;5;28;01mfinally\u001b[39;00m:\n\u001b[1;32m     46\u001b[0m     show\u001b[38;5;241m.\u001b[39m_to_draw \u001b[38;5;241m=\u001b[39m []\n",
      "File \u001b[0;32m~/.local/lib/python3.8/site-packages/IPython/core/display_functions.py:298\u001b[0m, in \u001b[0;36mdisplay\u001b[0;34m(include, exclude, metadata, transient, display_id, raw, clear, *objs, **kwargs)\u001b[0m\n\u001b[1;32m    296\u001b[0m     publish_display_data(data\u001b[38;5;241m=\u001b[39mobj, metadata\u001b[38;5;241m=\u001b[39mmetadata, \u001b[38;5;241m*\u001b[39m\u001b[38;5;241m*\u001b[39mkwargs)\n\u001b[1;32m    297\u001b[0m \u001b[38;5;28;01melse\u001b[39;00m:\n\u001b[0;32m--> 298\u001b[0m     format_dict, md_dict \u001b[38;5;241m=\u001b[39m \u001b[38;5;28;43mformat\u001b[39;49m\u001b[43m(\u001b[49m\u001b[43mobj\u001b[49m\u001b[43m,\u001b[49m\u001b[43m \u001b[49m\u001b[43minclude\u001b[49m\u001b[38;5;241;43m=\u001b[39;49m\u001b[43minclude\u001b[49m\u001b[43m,\u001b[49m\u001b[43m \u001b[49m\u001b[43mexclude\u001b[49m\u001b[38;5;241;43m=\u001b[39;49m\u001b[43mexclude\u001b[49m\u001b[43m)\u001b[49m\n\u001b[1;32m    299\u001b[0m     \u001b[38;5;28;01mif\u001b[39;00m \u001b[38;5;129;01mnot\u001b[39;00m format_dict:\n\u001b[1;32m    300\u001b[0m         \u001b[38;5;66;03m# nothing to display (e.g. _ipython_display_ took over)\u001b[39;00m\n\u001b[1;32m    301\u001b[0m         \u001b[38;5;28;01mcontinue\u001b[39;00m\n",
      "File \u001b[0;32m~/.local/lib/python3.8/site-packages/IPython/core/formatters.py:178\u001b[0m, in \u001b[0;36mDisplayFormatter.format\u001b[0;34m(self, obj, include, exclude)\u001b[0m\n\u001b[1;32m    176\u001b[0m md \u001b[38;5;241m=\u001b[39m \u001b[38;5;28;01mNone\u001b[39;00m\n\u001b[1;32m    177\u001b[0m \u001b[38;5;28;01mtry\u001b[39;00m:\n\u001b[0;32m--> 178\u001b[0m     data \u001b[38;5;241m=\u001b[39m \u001b[43mformatter\u001b[49m\u001b[43m(\u001b[49m\u001b[43mobj\u001b[49m\u001b[43m)\u001b[49m\n\u001b[1;32m    179\u001b[0m \u001b[38;5;28;01mexcept\u001b[39;00m:\n\u001b[1;32m    180\u001b[0m     \u001b[38;5;66;03m# FIXME: log the exception\u001b[39;00m\n\u001b[1;32m    181\u001b[0m     \u001b[38;5;28;01mraise\u001b[39;00m\n",
      "File \u001b[0;32m<decorator-gen-2>:2\u001b[0m, in \u001b[0;36m__call__\u001b[0;34m(self, obj)\u001b[0m\n",
      "File \u001b[0;32m~/.local/lib/python3.8/site-packages/IPython/core/formatters.py:222\u001b[0m, in \u001b[0;36mcatch_format_error\u001b[0;34m(method, self, *args, **kwargs)\u001b[0m\n\u001b[1;32m    220\u001b[0m \u001b[38;5;124;03m\"\"\"show traceback on failed format call\"\"\"\u001b[39;00m\n\u001b[1;32m    221\u001b[0m \u001b[38;5;28;01mtry\u001b[39;00m:\n\u001b[0;32m--> 222\u001b[0m     r \u001b[38;5;241m=\u001b[39m \u001b[43mmethod\u001b[49m\u001b[43m(\u001b[49m\u001b[38;5;28;43mself\u001b[39;49m\u001b[43m,\u001b[49m\u001b[43m \u001b[49m\u001b[38;5;241;43m*\u001b[39;49m\u001b[43margs\u001b[49m\u001b[43m,\u001b[49m\u001b[43m \u001b[49m\u001b[38;5;241;43m*\u001b[39;49m\u001b[38;5;241;43m*\u001b[39;49m\u001b[43mkwargs\u001b[49m\u001b[43m)\u001b[49m\n\u001b[1;32m    223\u001b[0m \u001b[38;5;28;01mexcept\u001b[39;00m \u001b[38;5;167;01mNotImplementedError\u001b[39;00m:\n\u001b[1;32m    224\u001b[0m     \u001b[38;5;66;03m# don't warn on NotImplementedErrors\u001b[39;00m\n\u001b[1;32m    225\u001b[0m     \u001b[38;5;28;01mreturn\u001b[39;00m \u001b[38;5;28mself\u001b[39m\u001b[38;5;241m.\u001b[39m_check_return(\u001b[38;5;28;01mNone\u001b[39;00m, args[\u001b[38;5;241m0\u001b[39m])\n",
      "File \u001b[0;32m~/.local/lib/python3.8/site-packages/IPython/core/formatters.py:339\u001b[0m, in \u001b[0;36mBaseFormatter.__call__\u001b[0;34m(self, obj)\u001b[0m\n\u001b[1;32m    337\u001b[0m     \u001b[38;5;28;01mpass\u001b[39;00m\n\u001b[1;32m    338\u001b[0m \u001b[38;5;28;01melse\u001b[39;00m:\n\u001b[0;32m--> 339\u001b[0m     \u001b[38;5;28;01mreturn\u001b[39;00m \u001b[43mprinter\u001b[49m\u001b[43m(\u001b[49m\u001b[43mobj\u001b[49m\u001b[43m)\u001b[49m\n\u001b[1;32m    340\u001b[0m \u001b[38;5;66;03m# Finally look for special method names\u001b[39;00m\n\u001b[1;32m    341\u001b[0m method \u001b[38;5;241m=\u001b[39m get_real_method(obj, \u001b[38;5;28mself\u001b[39m\u001b[38;5;241m.\u001b[39mprint_method)\n",
      "File \u001b[0;32m~/.local/lib/python3.8/site-packages/IPython/core/pylabtools.py:151\u001b[0m, in \u001b[0;36mprint_figure\u001b[0;34m(fig, fmt, bbox_inches, base64, **kwargs)\u001b[0m\n\u001b[1;32m    148\u001b[0m     \u001b[38;5;28;01mfrom\u001b[39;00m \u001b[38;5;21;01mmatplotlib\u001b[39;00m\u001b[38;5;21;01m.\u001b[39;00m\u001b[38;5;21;01mbackend_bases\u001b[39;00m \u001b[38;5;28;01mimport\u001b[39;00m FigureCanvasBase\n\u001b[1;32m    149\u001b[0m     FigureCanvasBase(fig)\n\u001b[0;32m--> 151\u001b[0m \u001b[43mfig\u001b[49m\u001b[38;5;241;43m.\u001b[39;49m\u001b[43mcanvas\u001b[49m\u001b[38;5;241;43m.\u001b[39;49m\u001b[43mprint_figure\u001b[49m\u001b[43m(\u001b[49m\u001b[43mbytes_io\u001b[49m\u001b[43m,\u001b[49m\u001b[43m \u001b[49m\u001b[38;5;241;43m*\u001b[39;49m\u001b[38;5;241;43m*\u001b[39;49m\u001b[43mkw\u001b[49m\u001b[43m)\u001b[49m\n\u001b[1;32m    152\u001b[0m data \u001b[38;5;241m=\u001b[39m bytes_io\u001b[38;5;241m.\u001b[39mgetvalue()\n\u001b[1;32m    153\u001b[0m \u001b[38;5;28;01mif\u001b[39;00m fmt \u001b[38;5;241m==\u001b[39m \u001b[38;5;124m'\u001b[39m\u001b[38;5;124msvg\u001b[39m\u001b[38;5;124m'\u001b[39m:\n",
      "File \u001b[0;32m~/.local/lib/python3.8/site-packages/matplotlib/backend_bases.py:2210\u001b[0m, in \u001b[0;36mFigureCanvasBase.print_figure\u001b[0;34m(self, filename, dpi, facecolor, edgecolor, orientation, format, bbox_inches, pad_inches, bbox_extra_artists, backend, **kwargs)\u001b[0m\n\u001b[1;32m   2207\u001b[0m     _bbox_inches_restore \u001b[38;5;241m=\u001b[39m \u001b[38;5;28;01mNone\u001b[39;00m\n\u001b[1;32m   2209\u001b[0m \u001b[38;5;28;01mtry\u001b[39;00m:\n\u001b[0;32m-> 2210\u001b[0m     result \u001b[38;5;241m=\u001b[39m \u001b[43mprint_method\u001b[49m\u001b[43m(\u001b[49m\n\u001b[1;32m   2211\u001b[0m \u001b[43m        \u001b[49m\u001b[43mfilename\u001b[49m\u001b[43m,\u001b[49m\n\u001b[1;32m   2212\u001b[0m \u001b[43m        \u001b[49m\u001b[43mdpi\u001b[49m\u001b[38;5;241;43m=\u001b[39;49m\u001b[43mdpi\u001b[49m\u001b[43m,\u001b[49m\n\u001b[1;32m   2213\u001b[0m \u001b[43m        \u001b[49m\u001b[43mfacecolor\u001b[49m\u001b[38;5;241;43m=\u001b[39;49m\u001b[43mfacecolor\u001b[49m\u001b[43m,\u001b[49m\n\u001b[1;32m   2214\u001b[0m \u001b[43m        \u001b[49m\u001b[43medgecolor\u001b[49m\u001b[38;5;241;43m=\u001b[39;49m\u001b[43medgecolor\u001b[49m\u001b[43m,\u001b[49m\n\u001b[1;32m   2215\u001b[0m \u001b[43m        \u001b[49m\u001b[43morientation\u001b[49m\u001b[38;5;241;43m=\u001b[39;49m\u001b[43morientation\u001b[49m\u001b[43m,\u001b[49m\n\u001b[1;32m   2216\u001b[0m \u001b[43m        \u001b[49m\u001b[43mbbox_inches_restore\u001b[49m\u001b[38;5;241;43m=\u001b[39;49m\u001b[43m_bbox_inches_restore\u001b[49m\u001b[43m,\u001b[49m\n\u001b[1;32m   2217\u001b[0m \u001b[43m        \u001b[49m\u001b[38;5;241;43m*\u001b[39;49m\u001b[38;5;241;43m*\u001b[39;49m\u001b[43mkwargs\u001b[49m\u001b[43m)\u001b[49m\n\u001b[1;32m   2218\u001b[0m \u001b[38;5;28;01mfinally\u001b[39;00m:\n\u001b[1;32m   2219\u001b[0m     \u001b[38;5;28;01mif\u001b[39;00m bbox_inches \u001b[38;5;129;01mand\u001b[39;00m restore_bbox:\n",
      "File \u001b[0;32m~/.local/lib/python3.8/site-packages/matplotlib/backend_bases.py:1639\u001b[0m, in \u001b[0;36m_check_savefig_extra_args.<locals>.wrapper\u001b[0;34m(*args, **kwargs)\u001b[0m\n\u001b[1;32m   1631\u001b[0m     cbook\u001b[38;5;241m.\u001b[39mwarn_deprecated(\n\u001b[1;32m   1632\u001b[0m         \u001b[38;5;124m'\u001b[39m\u001b[38;5;124m3.3\u001b[39m\u001b[38;5;124m'\u001b[39m, name\u001b[38;5;241m=\u001b[39mname,\n\u001b[1;32m   1633\u001b[0m         message\u001b[38;5;241m=\u001b[39m\u001b[38;5;124m'\u001b[39m\u001b[38;5;132;01m%(name)s\u001b[39;00m\u001b[38;5;124m() got unexpected keyword argument \u001b[39m\u001b[38;5;124m\"\u001b[39m\u001b[38;5;124m'\u001b[39m\n\u001b[1;32m   1634\u001b[0m                 \u001b[38;5;241m+\u001b[39m arg \u001b[38;5;241m+\u001b[39m \u001b[38;5;124m'\u001b[39m\u001b[38;5;124m\"\u001b[39m\u001b[38;5;124m which is no longer supported as of \u001b[39m\u001b[38;5;124m'\u001b[39m\n\u001b[1;32m   1635\u001b[0m                 \u001b[38;5;124m'\u001b[39m\u001b[38;5;132;01m%(since)s\u001b[39;00m\u001b[38;5;124m and will become an error \u001b[39m\u001b[38;5;124m'\u001b[39m\n\u001b[1;32m   1636\u001b[0m                 \u001b[38;5;124m'\u001b[39m\u001b[38;5;132;01m%(removal)s\u001b[39;00m\u001b[38;5;124m'\u001b[39m)\n\u001b[1;32m   1637\u001b[0m     kwargs\u001b[38;5;241m.\u001b[39mpop(arg)\n\u001b[0;32m-> 1639\u001b[0m \u001b[38;5;28;01mreturn\u001b[39;00m \u001b[43mfunc\u001b[49m\u001b[43m(\u001b[49m\u001b[38;5;241;43m*\u001b[39;49m\u001b[43margs\u001b[49m\u001b[43m,\u001b[49m\u001b[43m \u001b[49m\u001b[38;5;241;43m*\u001b[39;49m\u001b[38;5;241;43m*\u001b[39;49m\u001b[43mkwargs\u001b[49m\u001b[43m)\u001b[49m\n",
      "File \u001b[0;32m~/.local/lib/python3.8/site-packages/matplotlib/backends/backend_agg.py:509\u001b[0m, in \u001b[0;36mFigureCanvasAgg.print_png\u001b[0;34m(self, filename_or_obj, metadata, pil_kwargs, *args)\u001b[0m\n\u001b[1;32m    460\u001b[0m \u001b[38;5;129m@_check_savefig_extra_args\u001b[39m\n\u001b[1;32m    461\u001b[0m \u001b[38;5;28;01mdef\u001b[39;00m \u001b[38;5;21mprint_png\u001b[39m(\u001b[38;5;28mself\u001b[39m, filename_or_obj, \u001b[38;5;241m*\u001b[39margs,\n\u001b[1;32m    462\u001b[0m               metadata\u001b[38;5;241m=\u001b[39m\u001b[38;5;28;01mNone\u001b[39;00m, pil_kwargs\u001b[38;5;241m=\u001b[39m\u001b[38;5;28;01mNone\u001b[39;00m):\n\u001b[1;32m    463\u001b[0m     \u001b[38;5;124;03m\"\"\"\u001b[39;00m\n\u001b[1;32m    464\u001b[0m \u001b[38;5;124;03m    Write the figure to a PNG file.\u001b[39;00m\n\u001b[1;32m    465\u001b[0m \n\u001b[0;32m   (...)\u001b[0m\n\u001b[1;32m    507\u001b[0m \u001b[38;5;124;03m        *metadata*, including the default 'Software' key.\u001b[39;00m\n\u001b[1;32m    508\u001b[0m \u001b[38;5;124;03m    \"\"\"\u001b[39;00m\n\u001b[0;32m--> 509\u001b[0m     \u001b[43mFigureCanvasAgg\u001b[49m\u001b[38;5;241;43m.\u001b[39;49m\u001b[43mdraw\u001b[49m\u001b[43m(\u001b[49m\u001b[38;5;28;43mself\u001b[39;49m\u001b[43m)\u001b[49m\n\u001b[1;32m    510\u001b[0m     mpl\u001b[38;5;241m.\u001b[39mimage\u001b[38;5;241m.\u001b[39mimsave(\n\u001b[1;32m    511\u001b[0m         filename_or_obj, \u001b[38;5;28mself\u001b[39m\u001b[38;5;241m.\u001b[39mbuffer_rgba(), \u001b[38;5;28mformat\u001b[39m\u001b[38;5;241m=\u001b[39m\u001b[38;5;124m\"\u001b[39m\u001b[38;5;124mpng\u001b[39m\u001b[38;5;124m\"\u001b[39m, origin\u001b[38;5;241m=\u001b[39m\u001b[38;5;124m\"\u001b[39m\u001b[38;5;124mupper\u001b[39m\u001b[38;5;124m\"\u001b[39m,\n\u001b[1;32m    512\u001b[0m         dpi\u001b[38;5;241m=\u001b[39m\u001b[38;5;28mself\u001b[39m\u001b[38;5;241m.\u001b[39mfigure\u001b[38;5;241m.\u001b[39mdpi, metadata\u001b[38;5;241m=\u001b[39mmetadata, pil_kwargs\u001b[38;5;241m=\u001b[39mpil_kwargs)\n",
      "File \u001b[0;32m~/.local/lib/python3.8/site-packages/matplotlib/backends/backend_agg.py:407\u001b[0m, in \u001b[0;36mFigureCanvasAgg.draw\u001b[0;34m(self)\u001b[0m\n\u001b[1;32m    403\u001b[0m \u001b[38;5;66;03m# Acquire a lock on the shared font cache.\u001b[39;00m\n\u001b[1;32m    404\u001b[0m \u001b[38;5;28;01mwith\u001b[39;00m RendererAgg\u001b[38;5;241m.\u001b[39mlock, \\\n\u001b[1;32m    405\u001b[0m      (\u001b[38;5;28mself\u001b[39m\u001b[38;5;241m.\u001b[39mtoolbar\u001b[38;5;241m.\u001b[39m_wait_cursor_for_draw_cm() \u001b[38;5;28;01mif\u001b[39;00m \u001b[38;5;28mself\u001b[39m\u001b[38;5;241m.\u001b[39mtoolbar\n\u001b[1;32m    406\u001b[0m       \u001b[38;5;28;01melse\u001b[39;00m nullcontext()):\n\u001b[0;32m--> 407\u001b[0m     \u001b[38;5;28;43mself\u001b[39;49m\u001b[38;5;241;43m.\u001b[39;49m\u001b[43mfigure\u001b[49m\u001b[38;5;241;43m.\u001b[39;49m\u001b[43mdraw\u001b[49m\u001b[43m(\u001b[49m\u001b[38;5;28;43mself\u001b[39;49m\u001b[38;5;241;43m.\u001b[39;49m\u001b[43mrenderer\u001b[49m\u001b[43m)\u001b[49m\n\u001b[1;32m    408\u001b[0m     \u001b[38;5;66;03m# A GUI class may be need to update a window using this draw, so\u001b[39;00m\n\u001b[1;32m    409\u001b[0m     \u001b[38;5;66;03m# don't forget to call the superclass.\u001b[39;00m\n\u001b[1;32m    410\u001b[0m     \u001b[38;5;28msuper\u001b[39m()\u001b[38;5;241m.\u001b[39mdraw()\n",
      "File \u001b[0;32m~/.local/lib/python3.8/site-packages/matplotlib/artist.py:41\u001b[0m, in \u001b[0;36mallow_rasterization.<locals>.draw_wrapper\u001b[0;34m(artist, renderer, *args, **kwargs)\u001b[0m\n\u001b[1;32m     38\u001b[0m     \u001b[38;5;28;01mif\u001b[39;00m artist\u001b[38;5;241m.\u001b[39mget_agg_filter() \u001b[38;5;129;01mis\u001b[39;00m \u001b[38;5;129;01mnot\u001b[39;00m \u001b[38;5;28;01mNone\u001b[39;00m:\n\u001b[1;32m     39\u001b[0m         renderer\u001b[38;5;241m.\u001b[39mstart_filter()\n\u001b[0;32m---> 41\u001b[0m     \u001b[38;5;28;01mreturn\u001b[39;00m \u001b[43mdraw\u001b[49m\u001b[43m(\u001b[49m\u001b[43martist\u001b[49m\u001b[43m,\u001b[49m\u001b[43m \u001b[49m\u001b[43mrenderer\u001b[49m\u001b[43m,\u001b[49m\u001b[43m \u001b[49m\u001b[38;5;241;43m*\u001b[39;49m\u001b[43margs\u001b[49m\u001b[43m,\u001b[49m\u001b[43m \u001b[49m\u001b[38;5;241;43m*\u001b[39;49m\u001b[38;5;241;43m*\u001b[39;49m\u001b[43mkwargs\u001b[49m\u001b[43m)\u001b[49m\n\u001b[1;32m     42\u001b[0m \u001b[38;5;28;01mfinally\u001b[39;00m:\n\u001b[1;32m     43\u001b[0m     \u001b[38;5;28;01mif\u001b[39;00m artist\u001b[38;5;241m.\u001b[39mget_agg_filter() \u001b[38;5;129;01mis\u001b[39;00m \u001b[38;5;129;01mnot\u001b[39;00m \u001b[38;5;28;01mNone\u001b[39;00m:\n",
      "File \u001b[0;32m~/.local/lib/python3.8/site-packages/matplotlib/figure.py:1863\u001b[0m, in \u001b[0;36mFigure.draw\u001b[0;34m(self, renderer)\u001b[0m\n\u001b[1;32m   1860\u001b[0m             \u001b[38;5;66;03m# ValueError can occur when resizing a window.\u001b[39;00m\n\u001b[1;32m   1862\u001b[0m     \u001b[38;5;28mself\u001b[39m\u001b[38;5;241m.\u001b[39mpatch\u001b[38;5;241m.\u001b[39mdraw(renderer)\n\u001b[0;32m-> 1863\u001b[0m     \u001b[43mmimage\u001b[49m\u001b[38;5;241;43m.\u001b[39;49m\u001b[43m_draw_list_compositing_images\u001b[49m\u001b[43m(\u001b[49m\n\u001b[1;32m   1864\u001b[0m \u001b[43m        \u001b[49m\u001b[43mrenderer\u001b[49m\u001b[43m,\u001b[49m\u001b[43m \u001b[49m\u001b[38;5;28;43mself\u001b[39;49m\u001b[43m,\u001b[49m\u001b[43m \u001b[49m\u001b[43martists\u001b[49m\u001b[43m,\u001b[49m\u001b[43m \u001b[49m\u001b[38;5;28;43mself\u001b[39;49m\u001b[38;5;241;43m.\u001b[39;49m\u001b[43msuppressComposite\u001b[49m\u001b[43m)\u001b[49m\n\u001b[1;32m   1866\u001b[0m     renderer\u001b[38;5;241m.\u001b[39mclose_group(\u001b[38;5;124m'\u001b[39m\u001b[38;5;124mfigure\u001b[39m\u001b[38;5;124m'\u001b[39m)\n\u001b[1;32m   1867\u001b[0m \u001b[38;5;28;01mfinally\u001b[39;00m:\n",
      "File \u001b[0;32m~/.local/lib/python3.8/site-packages/matplotlib/image.py:131\u001b[0m, in \u001b[0;36m_draw_list_compositing_images\u001b[0;34m(renderer, parent, artists, suppress_composite)\u001b[0m\n\u001b[1;32m    129\u001b[0m \u001b[38;5;28;01mif\u001b[39;00m not_composite \u001b[38;5;129;01mor\u001b[39;00m \u001b[38;5;129;01mnot\u001b[39;00m has_images:\n\u001b[1;32m    130\u001b[0m     \u001b[38;5;28;01mfor\u001b[39;00m a \u001b[38;5;129;01min\u001b[39;00m artists:\n\u001b[0;32m--> 131\u001b[0m         \u001b[43ma\u001b[49m\u001b[38;5;241;43m.\u001b[39;49m\u001b[43mdraw\u001b[49m\u001b[43m(\u001b[49m\u001b[43mrenderer\u001b[49m\u001b[43m)\u001b[49m\n\u001b[1;32m    132\u001b[0m \u001b[38;5;28;01melse\u001b[39;00m:\n\u001b[1;32m    133\u001b[0m     \u001b[38;5;66;03m# Composite any adjacent images together\u001b[39;00m\n\u001b[1;32m    134\u001b[0m     image_group \u001b[38;5;241m=\u001b[39m []\n",
      "File \u001b[0;32m~/.local/lib/python3.8/site-packages/matplotlib/artist.py:41\u001b[0m, in \u001b[0;36mallow_rasterization.<locals>.draw_wrapper\u001b[0;34m(artist, renderer, *args, **kwargs)\u001b[0m\n\u001b[1;32m     38\u001b[0m     \u001b[38;5;28;01mif\u001b[39;00m artist\u001b[38;5;241m.\u001b[39mget_agg_filter() \u001b[38;5;129;01mis\u001b[39;00m \u001b[38;5;129;01mnot\u001b[39;00m \u001b[38;5;28;01mNone\u001b[39;00m:\n\u001b[1;32m     39\u001b[0m         renderer\u001b[38;5;241m.\u001b[39mstart_filter()\n\u001b[0;32m---> 41\u001b[0m     \u001b[38;5;28;01mreturn\u001b[39;00m \u001b[43mdraw\u001b[49m\u001b[43m(\u001b[49m\u001b[43martist\u001b[49m\u001b[43m,\u001b[49m\u001b[43m \u001b[49m\u001b[43mrenderer\u001b[49m\u001b[43m,\u001b[49m\u001b[43m \u001b[49m\u001b[38;5;241;43m*\u001b[39;49m\u001b[43margs\u001b[49m\u001b[43m,\u001b[49m\u001b[43m \u001b[49m\u001b[38;5;241;43m*\u001b[39;49m\u001b[38;5;241;43m*\u001b[39;49m\u001b[43mkwargs\u001b[49m\u001b[43m)\u001b[49m\n\u001b[1;32m     42\u001b[0m \u001b[38;5;28;01mfinally\u001b[39;00m:\n\u001b[1;32m     43\u001b[0m     \u001b[38;5;28;01mif\u001b[39;00m artist\u001b[38;5;241m.\u001b[39mget_agg_filter() \u001b[38;5;129;01mis\u001b[39;00m \u001b[38;5;129;01mnot\u001b[39;00m \u001b[38;5;28;01mNone\u001b[39;00m:\n",
      "File \u001b[0;32m~/.local/lib/python3.8/site-packages/matplotlib/cbook/deprecation.py:411\u001b[0m, in \u001b[0;36m_delete_parameter.<locals>.wrapper\u001b[0;34m(*inner_args, **inner_kwargs)\u001b[0m\n\u001b[1;32m    401\u001b[0m     deprecation_addendum \u001b[38;5;241m=\u001b[39m (\n\u001b[1;32m    402\u001b[0m         \u001b[38;5;124mf\u001b[39m\u001b[38;5;124m\"\u001b[39m\u001b[38;5;124mIf any parameter follows \u001b[39m\u001b[38;5;132;01m{\u001b[39;00mname\u001b[38;5;132;01m!r}\u001b[39;00m\u001b[38;5;124m, they should be passed as \u001b[39m\u001b[38;5;124m\"\u001b[39m\n\u001b[1;32m    403\u001b[0m         \u001b[38;5;124mf\u001b[39m\u001b[38;5;124m\"\u001b[39m\u001b[38;5;124mkeyword, not positionally.\u001b[39m\u001b[38;5;124m\"\u001b[39m)\n\u001b[1;32m    404\u001b[0m     warn_deprecated(\n\u001b[1;32m    405\u001b[0m         since,\n\u001b[1;32m    406\u001b[0m         name\u001b[38;5;241m=\u001b[39m\u001b[38;5;28mrepr\u001b[39m(name),\n\u001b[0;32m   (...)\u001b[0m\n\u001b[1;32m    409\u001b[0m                  \u001b[38;5;28;01melse\u001b[39;00m deprecation_addendum,\n\u001b[1;32m    410\u001b[0m         \u001b[38;5;241m*\u001b[39m\u001b[38;5;241m*\u001b[39mkwargs)\n\u001b[0;32m--> 411\u001b[0m \u001b[38;5;28;01mreturn\u001b[39;00m \u001b[43mfunc\u001b[49m\u001b[43m(\u001b[49m\u001b[38;5;241;43m*\u001b[39;49m\u001b[43minner_args\u001b[49m\u001b[43m,\u001b[49m\u001b[43m \u001b[49m\u001b[38;5;241;43m*\u001b[39;49m\u001b[38;5;241;43m*\u001b[39;49m\u001b[43minner_kwargs\u001b[49m\u001b[43m)\u001b[49m\n",
      "File \u001b[0;32m~/.local/lib/python3.8/site-packages/matplotlib/axes/_base.py:2747\u001b[0m, in \u001b[0;36m_AxesBase.draw\u001b[0;34m(self, renderer, inframe)\u001b[0m\n\u001b[1;32m   2744\u001b[0m         a\u001b[38;5;241m.\u001b[39mdraw(renderer)\n\u001b[1;32m   2745\u001b[0m     renderer\u001b[38;5;241m.\u001b[39mstop_rasterizing()\n\u001b[0;32m-> 2747\u001b[0m \u001b[43mmimage\u001b[49m\u001b[38;5;241;43m.\u001b[39;49m\u001b[43m_draw_list_compositing_images\u001b[49m\u001b[43m(\u001b[49m\u001b[43mrenderer\u001b[49m\u001b[43m,\u001b[49m\u001b[43m \u001b[49m\u001b[38;5;28;43mself\u001b[39;49m\u001b[43m,\u001b[49m\u001b[43m \u001b[49m\u001b[43martists\u001b[49m\u001b[43m)\u001b[49m\n\u001b[1;32m   2749\u001b[0m renderer\u001b[38;5;241m.\u001b[39mclose_group(\u001b[38;5;124m'\u001b[39m\u001b[38;5;124maxes\u001b[39m\u001b[38;5;124m'\u001b[39m)\n\u001b[1;32m   2750\u001b[0m \u001b[38;5;28mself\u001b[39m\u001b[38;5;241m.\u001b[39mstale \u001b[38;5;241m=\u001b[39m \u001b[38;5;28;01mFalse\u001b[39;00m\n",
      "File \u001b[0;32m~/.local/lib/python3.8/site-packages/matplotlib/image.py:131\u001b[0m, in \u001b[0;36m_draw_list_compositing_images\u001b[0;34m(renderer, parent, artists, suppress_composite)\u001b[0m\n\u001b[1;32m    129\u001b[0m \u001b[38;5;28;01mif\u001b[39;00m not_composite \u001b[38;5;129;01mor\u001b[39;00m \u001b[38;5;129;01mnot\u001b[39;00m has_images:\n\u001b[1;32m    130\u001b[0m     \u001b[38;5;28;01mfor\u001b[39;00m a \u001b[38;5;129;01min\u001b[39;00m artists:\n\u001b[0;32m--> 131\u001b[0m         \u001b[43ma\u001b[49m\u001b[38;5;241;43m.\u001b[39;49m\u001b[43mdraw\u001b[49m\u001b[43m(\u001b[49m\u001b[43mrenderer\u001b[49m\u001b[43m)\u001b[49m\n\u001b[1;32m    132\u001b[0m \u001b[38;5;28;01melse\u001b[39;00m:\n\u001b[1;32m    133\u001b[0m     \u001b[38;5;66;03m# Composite any adjacent images together\u001b[39;00m\n\u001b[1;32m    134\u001b[0m     image_group \u001b[38;5;241m=\u001b[39m []\n",
      "File \u001b[0;32m~/.local/lib/python3.8/site-packages/matplotlib/artist.py:41\u001b[0m, in \u001b[0;36mallow_rasterization.<locals>.draw_wrapper\u001b[0;34m(artist, renderer, *args, **kwargs)\u001b[0m\n\u001b[1;32m     38\u001b[0m     \u001b[38;5;28;01mif\u001b[39;00m artist\u001b[38;5;241m.\u001b[39mget_agg_filter() \u001b[38;5;129;01mis\u001b[39;00m \u001b[38;5;129;01mnot\u001b[39;00m \u001b[38;5;28;01mNone\u001b[39;00m:\n\u001b[1;32m     39\u001b[0m         renderer\u001b[38;5;241m.\u001b[39mstart_filter()\n\u001b[0;32m---> 41\u001b[0m     \u001b[38;5;28;01mreturn\u001b[39;00m \u001b[43mdraw\u001b[49m\u001b[43m(\u001b[49m\u001b[43martist\u001b[49m\u001b[43m,\u001b[49m\u001b[43m \u001b[49m\u001b[43mrenderer\u001b[49m\u001b[43m,\u001b[49m\u001b[43m \u001b[49m\u001b[38;5;241;43m*\u001b[39;49m\u001b[43margs\u001b[49m\u001b[43m,\u001b[49m\u001b[43m \u001b[49m\u001b[38;5;241;43m*\u001b[39;49m\u001b[38;5;241;43m*\u001b[39;49m\u001b[43mkwargs\u001b[49m\u001b[43m)\u001b[49m\n\u001b[1;32m     42\u001b[0m \u001b[38;5;28;01mfinally\u001b[39;00m:\n\u001b[1;32m     43\u001b[0m     \u001b[38;5;28;01mif\u001b[39;00m artist\u001b[38;5;241m.\u001b[39mget_agg_filter() \u001b[38;5;129;01mis\u001b[39;00m \u001b[38;5;129;01mnot\u001b[39;00m \u001b[38;5;28;01mNone\u001b[39;00m:\n",
      "File \u001b[0;32m~/.local/lib/python3.8/site-packages/matplotlib/text.py:681\u001b[0m, in \u001b[0;36mText.draw\u001b[0;34m(self, renderer)\u001b[0m\n\u001b[1;32m    678\u001b[0m renderer\u001b[38;5;241m.\u001b[39mopen_group(\u001b[38;5;124m'\u001b[39m\u001b[38;5;124mtext\u001b[39m\u001b[38;5;124m'\u001b[39m, \u001b[38;5;28mself\u001b[39m\u001b[38;5;241m.\u001b[39mget_gid())\n\u001b[1;32m    680\u001b[0m \u001b[38;5;28;01mwith\u001b[39;00m _wrap_text(\u001b[38;5;28mself\u001b[39m) \u001b[38;5;28;01mas\u001b[39;00m textobj:\n\u001b[0;32m--> 681\u001b[0m     bbox, info, descent \u001b[38;5;241m=\u001b[39m \u001b[43mtextobj\u001b[49m\u001b[38;5;241;43m.\u001b[39;49m\u001b[43m_get_layout\u001b[49m\u001b[43m(\u001b[49m\u001b[43mrenderer\u001b[49m\u001b[43m)\u001b[49m\n\u001b[1;32m    682\u001b[0m     trans \u001b[38;5;241m=\u001b[39m textobj\u001b[38;5;241m.\u001b[39mget_transform()\n\u001b[1;32m    684\u001b[0m     \u001b[38;5;66;03m# don't use textobj.get_position here, which refers to text\u001b[39;00m\n\u001b[1;32m    685\u001b[0m     \u001b[38;5;66;03m# position in Text:\u001b[39;00m\n",
      "File \u001b[0;32m~/.local/lib/python3.8/site-packages/matplotlib/text.py:295\u001b[0m, in \u001b[0;36mText._get_layout\u001b[0;34m(self, renderer)\u001b[0m\n\u001b[1;32m    293\u001b[0m clean_line, ismath \u001b[38;5;241m=\u001b[39m \u001b[38;5;28mself\u001b[39m\u001b[38;5;241m.\u001b[39m_preprocess_math(line)\n\u001b[1;32m    294\u001b[0m \u001b[38;5;28;01mif\u001b[39;00m clean_line:\n\u001b[0;32m--> 295\u001b[0m     w, h, d \u001b[38;5;241m=\u001b[39m \u001b[43mrenderer\u001b[49m\u001b[38;5;241;43m.\u001b[39;49m\u001b[43mget_text_width_height_descent\u001b[49m\u001b[43m(\u001b[49m\n\u001b[1;32m    296\u001b[0m \u001b[43m        \u001b[49m\u001b[43mclean_line\u001b[49m\u001b[43m,\u001b[49m\u001b[43m \u001b[49m\u001b[38;5;28;43mself\u001b[39;49m\u001b[38;5;241;43m.\u001b[39;49m\u001b[43m_fontproperties\u001b[49m\u001b[43m,\u001b[49m\u001b[43m \u001b[49m\u001b[43mismath\u001b[49m\u001b[38;5;241;43m=\u001b[39;49m\u001b[43mismath\u001b[49m\u001b[43m)\u001b[49m\n\u001b[1;32m    297\u001b[0m \u001b[38;5;28;01melse\u001b[39;00m:\n\u001b[1;32m    298\u001b[0m     w \u001b[38;5;241m=\u001b[39m h \u001b[38;5;241m=\u001b[39m d \u001b[38;5;241m=\u001b[39m \u001b[38;5;241m0\u001b[39m\n",
      "File \u001b[0;32m~/.local/lib/python3.8/site-packages/matplotlib/backends/backend_agg.py:238\u001b[0m, in \u001b[0;36mRendererAgg.get_text_width_height_descent\u001b[0;34m(self, s, prop, ismath)\u001b[0m\n\u001b[1;32m    236\u001b[0m flags \u001b[38;5;241m=\u001b[39m get_hinting_flag()\n\u001b[1;32m    237\u001b[0m font \u001b[38;5;241m=\u001b[39m \u001b[38;5;28mself\u001b[39m\u001b[38;5;241m.\u001b[39m_get_agg_font(prop)\n\u001b[0;32m--> 238\u001b[0m \u001b[43mfont\u001b[49m\u001b[38;5;241;43m.\u001b[39;49m\u001b[43mset_text\u001b[49m\u001b[43m(\u001b[49m\u001b[43ms\u001b[49m\u001b[43m,\u001b[49m\u001b[43m \u001b[49m\u001b[38;5;241;43m0.0\u001b[39;49m\u001b[43m,\u001b[49m\u001b[43m \u001b[49m\u001b[43mflags\u001b[49m\u001b[38;5;241;43m=\u001b[39;49m\u001b[43mflags\u001b[49m\u001b[43m)\u001b[49m\n\u001b[1;32m    239\u001b[0m w, h \u001b[38;5;241m=\u001b[39m font\u001b[38;5;241m.\u001b[39mget_width_height()  \u001b[38;5;66;03m# width and height of unrotated string\u001b[39;00m\n\u001b[1;32m    240\u001b[0m d \u001b[38;5;241m=\u001b[39m font\u001b[38;5;241m.\u001b[39mget_descent()\n",
      "\u001b[0;31mKeyboardInterrupt\u001b[0m: "
     ]
    }
   ],
   "source": [
    "import matplotlib.pyplot as plt\n",
    "#from mpl_toolkits.basemap import Basemap as Basemap\n",
    "import sys\n",
    "sys.path.insert(1, '../')\n",
    "from basemap.packages import basemap as Basemap\n",
    "%matplotlib inline\n",
    "\n",
    "plt.figure(figsize = (20,20))\n",
    "#nx.draw_networkx(g_travel)\n",
    "node_pos=nx.get_node_attributes(g_travel,'pos')\n",
    "nx.draw_networkx(g_travel, node_pos,node_size=900, node_color=\"y\", node_shape='o')\n",
    "#plt.savefig(\"./images/map_0.png\", format = \"png\", dpi = 300)\n",
    "plt.show()"
   ]
  },
  {
   "cell_type": "markdown",
   "id": "1a7b266d",
   "metadata": {},
   "source": [
    "# Redundant (deprecate)"
   ]
  },
  {
   "cell_type": "code",
   "execution_count": 4,
   "id": "85cce800",
   "metadata": {},
   "outputs": [
    {
     "name": "stdout",
     "output_type": "stream",
     "text": [
      "Wait a moment, retrieving data ...\n",
      "Loaded schema\n",
      "root\n",
      " |-- vendor_uuid: string (nullable = true)\n",
      " |-- agent_name: string (nullable = true)\n",
      " |-- hotel_uuid: string (nullable = true)\n",
      " |-- hotel_name: string (nullable = true)\n",
      " |-- reserved_status: string (nullable = true)\n",
      " |-- reserved_datetime: string (nullable = true)\n",
      " |-- booking_for_datetime: date (nullable = true)\n",
      " |-- reserved_for_datetime: date (nullable = true)\n",
      " |-- check_in_date: date (nullable = true)\n",
      " |-- check_out_date: date (nullable = true)\n",
      " |-- number_of_nights: integer (nullable = true)\n",
      " |-- number_of_rooms: integer (nullable = true)\n",
      " |-- booking_type: string (nullable = true)\n",
      " |-- agent_booking_currency: string (nullable = true)\n",
      " |-- agent_daily_rate: double (nullable = true)\n",
      " |-- agent_total_cost: double (nullable = true)\n",
      " |-- hotel_currency: string (nullable = true)\n",
      " |-- hotel_daily_rate: float (nullable = true)\n",
      " |-- group_booking_type: string (nullable = true)\n",
      "\n",
      "Loading complete!\n"
     ]
    }
   ],
   "source": [
    "customSchema = \"_issuefix_bkdata\"\n",
    "print(\"Wait a moment, retrieving data ...\")\n",
    "booking_df = spark.read.format(\"jdbc\") \\\n",
    "    .option(\"url\", \"jdbc:postgresql://10.11.34.33:5432/Datascience\") \\\n",
    "    .option(\"dbtable\", \"_issuefix_bkdata.reservations\") \\\n",
    "    .option(\"user\", \"postgres\") \\\n",
    "    .option(\"password\", \"postgres\") \\\n",
    "    .option(\"driver\", \"org.postgresql.Driver\") \\\n",
    "    .load()\n",
    "print(\"Loaded schema\")\n",
    "booking_df.printSchema()\n",
    "print(\"Loading complete!\")"
   ]
  }
 ],
 "metadata": {
  "kernelspec": {
   "display_name": "Python 3 (ipykernel)",
   "language": "python",
   "name": "python3"
  },
  "language_info": {
   "codemirror_mode": {
    "name": "ipython",
    "version": 3
   },
   "file_extension": ".py",
   "mimetype": "text/x-python",
   "name": "python",
   "nbconvert_exporter": "python",
   "pygments_lexer": "ipython3",
   "version": "3.8.10"
  }
 },
 "nbformat": 4,
 "nbformat_minor": 5
}
