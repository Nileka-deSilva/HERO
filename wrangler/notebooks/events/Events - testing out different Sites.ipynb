{
 "cells": [
  {
   "cell_type": "markdown",
   "id": "f843385b",
   "metadata": {},
   "source": [
    "# 10 times"
   ]
  },
  {
   "cell_type": "code",
   "execution_count": 1,
   "id": "0f6ee36b",
   "metadata": {},
   "outputs": [
    {
     "name": "stdout",
     "output_type": "stream",
     "text": [
      "200\n"
     ]
    }
   ],
   "source": [
    "from bs4 import BeautifulSoup # Import for Beautiful Soup\n",
    "import requests # Import for requests\n",
    "import lxml # Import for lxml parser\n",
    "import datetime\n",
    "\n",
    "main_link = \"https://10times.com/washington-us?month=november\"\n",
    "\n",
    "\n",
    "headers = {'User-Agent':'Mozilla/5.0 (X11; Linux x86_64) AppleWebKit/537.36 (KHTML, like Gecko) Chrome/99.0.4844.82 Safari/537.36'}\n",
    "\n",
    "# Request for the URL\n",
    "page = requests.get(main_link, headers=headers)\n",
    "\n",
    "# We can also check the response code\n",
    "print(page.status_code)\n",
    "\n",
    "# Make it a soup\n",
    "soup = BeautifulSoup(page.text,\"lxml\")\n",
    "\n",
    "\n",
    "lists = soup.find_all('tr',class_='row py-2 mx-0 mb-3 bg-white deep-shadow event-card')\n",
    "lists\n",
    "\n",
    "\n",
    "import csv\n",
    "from csv import writer\n",
    "\n",
    "with open('10timesUSAEvents.csv', 'a', encoding='utf8', newline='') as f:\n",
    "    fieldnames = ['Date', 'Event name', 'Event date', 'Event venue', 'Labels (event type)', 'Number interested']\n",
    "    thewriter = csv.DictWriter(f, fieldnames=fieldnames)\n",
    "    currentDateTime = datetime.datetime.now()\n",
    "    \n",
    "        \n",
    "    \n",
    "    \n",
    "    for list in lists:\n",
    "        event = list.find('span', class_='d-block').text\n",
    "        eventDate = list.find('td', class_='col-12 text-dark').text\n",
    "        venue = list.find('div', class_='small fw-500 venue').text\n",
    "        labels = list.find('td', class_='col-12 small text-muted mb-2').text\n",
    "        interested = list.find('div', class_='small text-center rounded-3 bg-light').text\n",
    "        \n",
    "        \n",
    "        \n",
    "        thewriter.writerow({'Date':currentDateTime, 'Event name':event, 'Event date':eventDate, 'Event venue':venue, 'Labels (event type)':labels, 'Number interested':interested})\n",
    "    \n",
    "           "
   ]
  },
  {
   "cell_type": "markdown",
   "id": "d812b540",
   "metadata": {},
   "source": [
    "# 10times - Events in Niagara Falls"
   ]
  },
  {
   "cell_type": "code",
   "execution_count": 2,
   "id": "1e56b451",
   "metadata": {},
   "outputs": [
    {
     "name": "stdout",
     "output_type": "stream",
     "text": [
      "200\n"
     ]
    }
   ],
   "source": [
    "from bs4 import BeautifulSoup # Import for Beautiful Soup\n",
    "import requests # Import for requests\n",
    "import lxml # Import for lxml parser\n",
    "import datetime\n",
    "\n",
    "main_link = \"https://10times.com/niagarafalls-ca\"\n",
    "\n",
    "\n",
    "headers = {'User-Agent':'Mozilla/5.0 (X11; Linux x86_64) AppleWebKit/537.36 (KHTML, like Gecko) Chrome/99.0.4844.82 Safari/537.36'}\n",
    "\n",
    "# Request for the URL\n",
    "page = requests.get(main_link, headers=headers)\n",
    "\n",
    "# We can also check the response code\n",
    "print(page.status_code)\n",
    "\n",
    "# Make it a soup\n",
    "soup = BeautifulSoup(page.text,\"lxml\")\n",
    "\n",
    "\n",
    "lists = soup.find_all('tr',class_='row py-2 mx-0 mb-3 bg-white deep-shadow event-card')\n",
    "lists\n",
    "\n",
    "\n",
    "import csv\n",
    "from csv import writer\n",
    "\n",
    "with open('10timesEventsNiagaraFallsCanada.csv', 'a', encoding='utf8', newline='') as f:\n",
    "    fieldnames = ['Date', 'Event name', 'Event date', 'Event venue', 'Labels (event type)', 'Number interested']\n",
    "    thewriter = csv.DictWriter(f, fieldnames=fieldnames)\n",
    "    currentDateTime = datetime.datetime.now()\n",
    "    \n",
    "        \n",
    "    \n",
    "    \n",
    "    for list in lists:\n",
    "        event = list.find('span', class_='d-block').text\n",
    "        eventDate = list.find('td', class_='col-12 text-dark').text\n",
    "        venue = list.find('div', class_='small fw-500 venue').text\n",
    "        labels = list.find('td', class_='col-12 small text-muted mb-2').text\n",
    "        interested = list.find('div', class_='small text-center rounded-3 bg-light').text\n",
    "        \n",
    "        \n",
    "        \n",
    "        thewriter.writerow({'Date':currentDateTime, 'Event name':event, 'Event date':eventDate, 'Event venue':venue, 'Labels (event type)':labels, 'Number interested':interested})\n",
    "    \n",
    "           "
   ]
  },
  {
   "cell_type": "markdown",
   "id": "cdd60416",
   "metadata": {},
   "source": [
    "# Ticket Masters - Niagara Falls, Canada"
   ]
  },
  {
   "cell_type": "markdown",
   "id": "946767c0",
   "metadata": {},
   "source": [
    "* NOT WORKING"
   ]
  },
  {
   "cell_type": "code",
   "execution_count": 3,
   "id": "ac280ce4",
   "metadata": {},
   "outputs": [
    {
     "name": "stdout",
     "output_type": "stream",
     "text": [
      "200\n"
     ]
    }
   ],
   "source": [
    "from bs4 import BeautifulSoup # Import for Beautiful Soup\n",
    "import requests # Import for requests\n",
    "import lxml # Import for lxml parser\n",
    "import datetime\n",
    "\n",
    "main_link = \"https://www.ticketmaster.ca/search?sort=date%2Casc&radius=150&unit=km&tab=events&daterange=all\"\n",
    "\n",
    "\n",
    "headers = {'User-Agent':'Mozilla/5.0 (Windows NT 10.0; Win64; x64) AppleWebKit/537.36 (KHTML, like Gecko) Chrome/106.0.0.0 Safari/537.36 Edg/106.0.1370.52'}\n",
    "\n",
    "# Request for the URL\n",
    "page = requests.get(main_link, headers=headers)\n",
    "\n",
    "# We can also check the response code\n",
    "print(page.status_code)\n",
    "\n",
    "# Make it a soup\n",
    "soup = BeautifulSoup(page.text,\"lxml\")\n",
    "\n",
    "\n",
    "lists = soup.find_all('div',class_='sc-fyofxi-0 jDObMe')\n",
    "\n",
    "\n",
    "\n",
    "import csv\n",
    "from csv import writer\n",
    "\n",
    "with open('ticketMastersNiagaraFallsCanada.csv', 'a', encoding='utf8', newline='') as f:\n",
    "    fieldnames = ['Date', 'Event name', 'Event date', 'Event venue', 'Event Time']\n",
    "    thewriter = csv.DictWriter(f, fieldnames=fieldnames)\n",
    "    currentDateTime = datetime.datetime.now()\n",
    "    \n",
    "        \n",
    "    \n",
    "    \n",
    "    for list in lists:\n",
    "        event = list.find('span', class_='sc-fyofxi-5 bZRRFX').text\n",
    "        eventDate = list.find('div', class_='sc-1evs0j0-0 kEBgxI').text\n",
    "        venue = list.find('div', class_='sc-fyofxi-5 bZRRFX').text\n",
    "        time = list.find('span', class_='sc-1idcr5x-0 bYJEwo').text\n",
    "        \n",
    "        \n",
    "        \n",
    "        thewriter.writerow({'Date':currentDateTime, 'Event name':event, 'Event date':eventDate, 'Event venue':venue, 'Event Time':time})\n",
    "    \n",
    "       "
   ]
  },
  {
   "cell_type": "code",
   "execution_count": 17,
   "id": "070882c9",
   "metadata": {},
   "outputs": [
    {
     "name": "stdout",
     "output_type": "stream",
     "text": [
      "401\n"
     ]
    }
   ],
   "source": [
    "main_link = \"https://www.ticketmaster.ca/fallsview-casinos-christmas-on-ice-niagara-falls-ontario-11-27-2022/event/10005D338BBD140E\"\n",
    "\n",
    "\n",
    "headers = {'User-Agent':'Mozilla/5.0 (Windows NT 10.0; Win64; x64) AppleWebKit/537.36 (KHTML, like Gecko) Chrome/106.0.0.0 Safari/537.36 Edg/106.0.1370.52'}\n",
    "\n",
    "# Request for the URL\n",
    "page = requests.get(main_link, headers=headers)\n",
    "\n",
    "# We can also check the response code\n",
    "print(page.status_code)"
   ]
  },
  {
   "cell_type": "markdown",
   "id": "db26e675",
   "metadata": {},
   "source": [
    "# Get your guide.com"
   ]
  },
  {
   "cell_type": "code",
   "execution_count": 25,
   "id": "6448e4fe",
   "metadata": {},
   "outputs": [
    {
     "name": "stdout",
     "output_type": "stream",
     "text": [
      "200\n"
     ]
    }
   ],
   "source": [
    "from bs4 import BeautifulSoup # Import for Beautiful Soup\n",
    "import requests # Import for requests\n",
    "import lxml # Import for lxml parser\n",
    "import datetime\n",
    "\n",
    "main_link = \"https://www.getyourguide.com/s?q=Niagara%20Falls,%20Canadian%20Side&lc=l283&searchSource=4&p=1\"\n",
    "\n",
    "\n",
    "headers = {'User-Agent':'Mozilla/5.0 (X11; Linux x86_64) AppleWebKit/537.36 (KHTML, like Gecko) Chrome/99.0.4844.82 Safari/537.36'}\n",
    "\n",
    "# Request for the URL\n",
    "page = requests.get(main_link, headers=headers)\n",
    "\n",
    "# We can also check the response code\n",
    "print(page.status_code)\n",
    "\n",
    "# Make it a soup\n",
    "soup = BeautifulSoup(page.text,\"lxml\")\n",
    "\n",
    "\n",
    "lists = soup.find_all('div',class_='activity-card__details')\n",
    "\n",
    "\n",
    "\n",
    "import csv\n",
    "from csv import writer\n",
    "\n",
    "with open('getYourGuideNFActivities2.csv', 'a', encoding='utf8', newline='') as f:\n",
    "    fieldnames = ['Date', 'Event name', 'Event attributes', 'Event rate', 'Event popularity', 'Event category', 'All']\n",
    "    thewriter = csv.DictWriter(f, fieldnames=fieldnames)\n",
    "    currentDateTime = datetime.datetime.now()\n",
    "    \n",
    "        \n",
    "    \n",
    "    \n",
    "    for list in lists:\n",
    "        event = list.find('h2', class_='activity-card__title').text\n",
    "        attributes = list.find('div', class_='activity-card__attributes').text\n",
    "        price = list.find('div', class_='baseline-pricing__value').text\n",
    "        popularity = list.find('div', class_='activity-card__details-meta').text\n",
    "        category = list.find('div', class_='activity-card__labels').text\n",
    "        allevents = list.find('div', class_='activity-card__details-left').text\n",
    "        \n",
    "        \n",
    "        \n",
    "        thewriter.writerow({'Date':currentDateTime, 'Event name':event, 'Event attributes':attributes, 'Event rate':price, 'Event popularity':popularity, 'Event category':category, 'All':allevents})\n",
    "    \n",
    "           "
   ]
  },
  {
   "cell_type": "code",
   "execution_count": null,
   "id": "3a5096f4",
   "metadata": {},
   "outputs": [],
   "source": []
  },
  {
   "cell_type": "code",
   "execution_count": null,
   "id": "b750a081",
   "metadata": {},
   "outputs": [],
   "source": []
  }
 ],
 "metadata": {
  "kernelspec": {
   "display_name": "Python 3 (ipykernel)",
   "language": "python",
   "name": "python3"
  },
  "language_info": {
   "codemirror_mode": {
    "name": "ipython",
    "version": 3
   },
   "file_extension": ".py",
   "mimetype": "text/x-python",
   "name": "python",
   "nbconvert_exporter": "python",
   "pygments_lexer": "ipython3",
   "version": "3.10.1"
  }
 },
 "nbformat": 4,
 "nbformat_minor": 5
}
