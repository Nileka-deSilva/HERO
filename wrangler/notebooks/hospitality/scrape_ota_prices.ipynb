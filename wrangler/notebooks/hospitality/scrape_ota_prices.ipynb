{
 "cells": [
  {
   "cell_type": "markdown",
   "metadata": {},
   "source": [
    "# Scrape Online Travel Agent (OTA) Property Prices\n",
    "\n",
    "@Nileka add a description here as to what this notebook offers\n",
    "\n",
    "### Execute the cell below once to turn off debugging"
   ]
  },
  {
   "cell_type": "code",
   "execution_count": 109,
   "metadata": {},
   "outputs": [],
   "source": [
    "'''\n",
    "    WARNING CONTROL to display or ignore all warnings\n",
    "'''\n",
    "import warnings; warnings.simplefilter('ignore')     #switch betweeb 'default' and 'ignore'\n",
    "import traceback\n",
    "\n",
    "''' Set debug flag to view extended error messages; else set it to False to turn off debugging mode '''\n",
    "debug = True"
   ]
  },
  {
   "cell_type": "markdown",
   "metadata": {},
   "source": [
    "## Initialize the OTA scrape class"
   ]
  },
  {
   "cell_type": "code",
   "execution_count": 2,
   "metadata": {},
   "outputs": [
    {
     "name": "stdout",
     "output_type": "stream",
     "text": [
      "All OTAWebScraper software packages loaded successfully!\n",
      "All OTAWebScraper software packages loaded successfully!\n",
      "Initialing OTAWebScraper class for  data\n"
     ]
    }
   ],
   "source": [
    "import os\n",
    "import sys\n",
    "from datetime import datetime, date, timedelta\n",
    "#import configparser\n",
    "\n",
    "ROOT_DIR = \"/home/nuwan/workspace/rezgate/wrangler\"\n",
    "MODULE_PATH = os.path.join(ROOT_DIR, 'modules/ota/')\n",
    "sys.path.insert(1,MODULE_PATH)\n",
    "import otaWebScraper as otaws\n",
    "\n",
    "dataDirPath=\"../../data/hospitality/bookings/scraper\"\n",
    "\n",
    "if debug:\n",
    "    import importlib\n",
    "    otaws = importlib.reload(otaws)\n",
    "    \n",
    "kwargs = {\n",
    "    \"ROOT_DIR\":ROOT_DIR,\n",
    "}\n",
    "clsScraper = otaws.OTAWebScraper(**kwargs)"
   ]
  },
  {
   "cell_type": "markdown",
   "metadata": {},
   "source": [
    "## Initialize the set of OTA URL for Scraping"
   ]
  },
  {
   "cell_type": "code",
   "execution_count": 3,
   "metadata": {},
   "outputs": [
    {
     "name": "stdout",
     "output_type": "stream",
     "text": [
      "Loaded 1 properties to begin scraping OTA data.\n",
      "Processing booking.com ...\n",
      "Data in: /home/nuwan/workspace/rezgate/wrangler/data/tmp/build_scrape_url_list.csv\n",
      "Completed parameterizing urls with 784 instances.\n"
     ]
    }
   ],
   "source": [
    "DATA_PATH = os.path.join(ROOT_DIR, 'data/hospitality/scraper/')\n",
    "path = DATA_PATH\n",
    "file = \"otaInputURLs.json\"\n",
    "start_date = date.today()\n",
    "end_date = start_date + timedelta(days=1)\n",
    "\n",
    "try:\n",
    "    if start_date < date.today():\n",
    "        raise ValueError(\"Start date must be greater than today: %s\" % str(date.today()))\n",
    "    if end_date <= start_date:\n",
    "        raise ValueError(\"End date %s is invalid. It must be greater than Start Date: %s\" % (str(end_date),str(start_date)))\n",
    "    scrape_crietia_dict = {\"pageOffset\":10,\n",
    "                           \"pageUpperLimit\":550,\n",
    "                           \"startDate\": start_date,\n",
    "                           \"endDate\" : end_date,\n",
    "             }\n",
    "\n",
    "    _otaURLfilePath, _ota_url_parameterized_list  = clsScraper.build_scrape_url_list(fileName=file,\n",
    "                                                                       dirPath=None,\n",
    "                                                                       **scrape_crietia_dict,\n",
    "                                                                       **kwargs\n",
    "                                                                      )\n",
    "    if _otaURLfilePath:\n",
    "        print(\"Data in: %s\" % _otaURLfilePath)\n",
    "    if len(_ota_url_parameterized_list)>0:\n",
    "        print(\"Completed parameterizing urls with %d instances.\" \n",
    "              % (len(_ota_url_parameterized_list)))\n",
    "\n",
    "except Exception as err:\n",
    "    _s_fn_id = \"Class <WebScraper> Function <read_folder_csv_to_df>\"\n",
    "    print(\"[Error]\"+_s_fn_id, err)\n",
    "    print(traceback.format_exc())\n"
   ]
  },
  {
   "cell_type": "markdown",
   "metadata": {},
   "source": [
    "## Prepare folder & file structure"
   ]
  },
  {
   "cell_type": "code",
   "execution_count": 107,
   "metadata": {},
   "outputs": [
    {
     "name": "stdout",
     "output_type": "stream",
     "text": [
      "2022-09-16 10:10:00\n",
      "2022-09-16 10:15:00\n"
     ]
    }
   ],
   "source": [
    "_search_dt = datetime(2022, 9, 16, 10, 10, 0)\n",
    "print(_search_dt)\n",
    "_search_dt = _search_dt + (datetime.min - _search_dt) % timedelta(minutes=15)\n",
    "print(_search_dt)"
   ]
  },
  {
   "cell_type": "code",
   "execution_count": 108,
   "metadata": {},
   "outputs": [
    {
     "name": "stdout",
     "output_type": "stream",
     "text": [
      "2022-09-16T11:30:00+00:00\n"
     ]
    }
   ],
   "source": [
    "from datetime import datetime, timezone\n",
    "\n",
    "dirPath = None\n",
    "_search_dt = datetime.now()\n",
    "_search_dt = _search_dt + (datetime.min - _search_dt) % timedelta(minutes=15)\n",
    "kwargs = {'searchDateTime': _search_dt,\n",
    "          'storageLocation': \"local\",   # values can be \"local\" or \"AWS_S3\"\n",
    "         }\n",
    "''' include the timezone '''\n",
    "_search_dt = (_search_dt.replace(tzinfo=timezone.utc)).isoformat()\n",
    "\n",
    "_current_search_data_dir = clsScraper.get_search_data_dir_path(dirPath, **kwargs)\n",
    "print(\"Extracting data into %s for search datetime: %s\" % (_current_search_data_dir,str(_search_dt)))"
   ]
  },
  {
   "cell_type": "markdown",
   "metadata": {},
   "source": [
    "## Scrape data into CSVs\n",
    "___TODO:___ hault if internet connection times out; might be possible with airflow."
   ]
  },
  {
   "cell_type": "code",
   "execution_count": 55,
   "metadata": {},
   "outputs": [
    {
     "name": "stdout",
     "output_type": "stream",
     "text": [
      "loading parameterized urls from list 784 records\n",
      "/home/nuwan/workspace/rezgate/wrangler/data/hospitality/bookings/scraper/rates/2022-9-14-17-30//booking.com.20079110.2022-09-14.000.csv\n",
      "/home/nuwan/workspace/rezgate/wrangler/data/hospitality/bookings/scraper/rates/2022-9-14-17-30//booking.com.20079110.2022-09-14.010.csv\n",
      "/home/nuwan/workspace/rezgate/wrangler/data/hospitality/bookings/scraper/rates/2022-9-14-17-30//booking.com.20079110.2022-09-14.020.csv\n",
      "/home/nuwan/workspace/rezgate/wrangler/data/hospitality/bookings/scraper/rates/2022-9-14-17-30//booking.com.20079110.2022-09-14.030.csv\n",
      "/home/nuwan/workspace/rezgate/wrangler/data/hospitality/bookings/scraper/rates/2022-9-14-17-30//booking.com.20079110.2022-09-14.040.csv\n",
      "/home/nuwan/workspace/rezgate/wrangler/data/hospitality/bookings/scraper/rates/2022-9-14-17-30//booking.com.20079110.2022-09-14.050.csv\n",
      "/home/nuwan/workspace/rezgate/wrangler/data/hospitality/bookings/scraper/rates/2022-9-14-17-30//booking.com.20079110.2022-09-14.060.csv\n",
      "/home/nuwan/workspace/rezgate/wrangler/data/hospitality/bookings/scraper/rates/2022-9-14-17-30//booking.com.20079110.2022-09-14.070.csv\n"
     ]
    },
    {
     "ename": "KeyboardInterrupt",
     "evalue": "",
     "output_type": "error",
     "traceback": [
      "\u001b[0;31m---------------------------------------------------------------------------\u001b[0m",
      "\u001b[0;31mKeyboardInterrupt\u001b[0m                         Traceback (most recent call last)",
      "Input \u001b[0;32mIn [55]\u001b[0m, in \u001b[0;36m<cell line: 7>\u001b[0;34m()\u001b[0m\n\u001b[1;32m      4\u001b[0m     urlDF \u001b[38;5;241m=\u001b[39m pd\u001b[38;5;241m.\u001b[39mread_csv(_otaURLfilePath, sep\u001b[38;5;241m=\u001b[39m\u001b[38;5;124m\"\u001b[39m\u001b[38;5;124m,\u001b[39m\u001b[38;5;124m\"\u001b[39m)\n\u001b[1;32m      5\u001b[0m     _otaURLParamDictList \u001b[38;5;241m=\u001b[39m urlDF\u001b[38;5;241m.\u001b[39mto_dict(\u001b[38;5;124m'\u001b[39m\u001b[38;5;124mrecords\u001b[39m\u001b[38;5;124m'\u001b[39m)\n\u001b[0;32m----> 7\u001b[0m _l_saved_files \u001b[38;5;241m=\u001b[39m \u001b[43mclsScraper\u001b[49m\u001b[38;5;241;43m.\u001b[39;49m\u001b[43mscrape_url_list\u001b[49m\u001b[43m(\u001b[49m\n\u001b[1;32m      8\u001b[0m \u001b[43m    \u001b[49m\u001b[43motaURLlist\u001b[49m\u001b[43m \u001b[49m\u001b[38;5;241;43m=\u001b[39;49m\u001b[43m_otaURLParamDictList\u001b[49m\u001b[43m,\u001b[49m\n\u001b[1;32m      9\u001b[0m \u001b[38;5;66;43;03m#    otaURLfile = None,\u001b[39;49;00m\n\u001b[1;32m     10\u001b[0m \u001b[43m    \u001b[49m\u001b[43msearchDT\u001b[49m\u001b[43m \u001b[49m\u001b[38;5;241;43m=\u001b[39;49m\u001b[43m \u001b[49m\u001b[43m_search_dt\u001b[49m\u001b[43m,\u001b[49m\n\u001b[1;32m     11\u001b[0m \u001b[43m    \u001b[49m\u001b[43mdirPath\u001b[49m\u001b[43m \u001b[49m\u001b[38;5;241;43m=\u001b[39;49m\u001b[43m_current_search_data_dir\u001b[49m\u001b[43m)\u001b[49m\n\u001b[1;32m     12\u001b[0m \u001b[38;5;28mprint\u001b[39m(\u001b[38;5;124m\"\u001b[39m\u001b[38;5;124mScraping completed and data saved in \u001b[39m\u001b[38;5;132;01m%s\u001b[39;00m\u001b[38;5;124m!\u001b[39m\u001b[38;5;124m\"\u001b[39m \u001b[38;5;241m%\u001b[39m _current_search_data_dir)\n",
      "File \u001b[0;32m~/workspace/rezgate/wrangler/modules/ota/otaWebScraper.py:789\u001b[0m, in \u001b[0;36mOTAWebScraper.scrape_url_list\u001b[0;34m(self, otaURLlist, searchDT, dirPath)\u001b[0m\n\u001b[1;32m    787\u001b[0m                 \u001b[38;5;124;03m''' TODO add search_datetime'''\u001b[39;00m\n\u001b[1;32m    788\u001b[0m                 \u001b[38;5;28;01mif\u001b[39;00m ota_dict[\u001b[38;5;124m'\u001b[39m\u001b[38;5;124mota\u001b[39m\u001b[38;5;124m'\u001b[39m] \u001b[38;5;241m==\u001b[39m \u001b[38;5;124m'\u001b[39m\u001b[38;5;124mbooking.com\u001b[39m\u001b[38;5;124m'\u001b[39m:\n\u001b[0;32m--> 789\u001b[0m                     saveTo \u001b[38;5;241m=\u001b[39m \u001b[38;5;28;43mself\u001b[39;49m\u001b[38;5;241;43m.\u001b[39;49m\u001b[43m_scrape_bookings_to_csv\u001b[49m\u001b[43m(\u001b[49m\u001b[43mota_dict\u001b[49m\u001b[43m[\u001b[49m\u001b[38;5;124;43m'\u001b[39;49m\u001b[38;5;124;43murl\u001b[39;49m\u001b[38;5;124;43m'\u001b[39;49m\u001b[43m]\u001b[49m\u001b[43m,\u001b[49m\u001b[43m      \u001b[49m\u001b[38;5;66;43;03m# constructed url with parameters\u001b[39;49;00m\n\u001b[1;32m    790\u001b[0m \u001b[43m                                                          \u001b[49m\u001b[43mota_dict\u001b[49m\u001b[43m[\u001b[49m\u001b[38;5;124;43m'\u001b[39;49m\u001b[38;5;124;43mcheckin\u001b[39;49m\u001b[38;5;124;43m'\u001b[39;49m\u001b[43m]\u001b[49m\u001b[43m,\u001b[49m\u001b[43m  \u001b[49m\u001b[38;5;66;43;03m# booking intended checkin date\u001b[39;49;00m\n\u001b[1;32m    791\u001b[0m \u001b[43m                                                          \u001b[49m\u001b[43msearchDT\u001b[49m\u001b[43m,\u001b[49m\u001b[43m   \u001b[49m\u001b[38;5;66;43;03m# date & time scraping was executed\u001b[39;49;00m\n\u001b[1;32m    792\u001b[0m \u001b[43m                                                          \u001b[49m\u001b[43mota_dict\u001b[49m\u001b[43m[\u001b[49m\u001b[38;5;124;43m'\u001b[39;49m\u001b[38;5;124;43mdestination_id\u001b[39;49m\u001b[38;5;124;43m'\u001b[39;49m\u001b[43m]\u001b[49m\u001b[43m,\u001b[49m\u001b[43m  \u001b[49m\u001b[38;5;66;43;03m# destingation id to lookup the name\u001b[39;49;00m\n\u001b[1;32m    793\u001b[0m \u001b[43m                                                          \u001b[49m\u001b[43m_fname\u001b[49m\u001b[43m,\u001b[49m\u001b[43m       \u001b[49m\u001b[38;5;66;43;03m# csv file name to store in\u001b[39;49;00m\n\u001b[1;32m    794\u001b[0m \u001b[43m                                                          \u001b[49m\u001b[43mdirPath\u001b[49m\u001b[43m     \u001b[49m\u001b[38;5;66;43;03m# folder name to save the files\u001b[39;49;00m\n\u001b[1;32m    795\u001b[0m \u001b[43m                                                         \u001b[49m\u001b[43m)\u001b[49m\n\u001b[1;32m    796\u001b[0m                     _l_saved_files\u001b[38;5;241m.\u001b[39mappend(saveTo)\n\u001b[1;32m    797\u001b[0m \u001b[38;5;66;03m#                    print(\"Data saved to %s\" % saveTo)\u001b[39;00m\n\u001b[1;32m    798\u001b[0m \u001b[38;5;66;03m#                else:\u001b[39;00m\n\u001b[1;32m    799\u001b[0m \u001b[38;5;66;03m#                    print(\"Define a scraper function for %s, no data saved\" % ota_dict['ota'])\u001b[39;00m\n\u001b[1;32m    800\u001b[0m \u001b[38;5;66;03m#    _scraped_data_df = clsScraper.scrape_data_to_csv(ota_dict['url'],_ota_tags_df,_fname, _s3object)\u001b[39;00m\n\u001b[1;32m    801\u001b[0m \u001b[38;5;66;03m#    _scraped_data_df = clsScraper._scrape_data_to_csv(ota_dict['url'],_fname, _s3object)\u001b[39;00m\n\u001b[1;32m    802\u001b[0m \u001b[38;5;66;03m#            print(\"Scraping and data save to csv complete!\")\u001b[39;00m\n",
      "File \u001b[0;32m~/workspace/rezgate/wrangler/modules/ota/otaWebScraper.py:695\u001b[0m, in \u001b[0;36mOTAWebScraper._scrape_bookings_to_csv\u001b[0;34m(self, url, checkin_date, search_dt, destination_id, fileName, path)\u001b[0m\n\u001b[1;32m    693\u001b[0m \u001b[38;5;28;01mtry\u001b[39;00m:\n\u001b[1;32m    694\u001b[0m     headers \u001b[38;5;241m=\u001b[39m {\u001b[38;5;124m'\u001b[39m\u001b[38;5;124mUser-Agent\u001b[39m\u001b[38;5;124m'\u001b[39m:\u001b[38;5;124m'\u001b[39m\u001b[38;5;124mMozilla/5.0 (X11; Linux x86_64) AppleWebKit/537.36 (KHTML, like Gecko) Chrome/99.0.4844.82 Safari/537.36\u001b[39m\u001b[38;5;124m'\u001b[39m}\n\u001b[0;32m--> 695\u001b[0m     response \u001b[38;5;241m=\u001b[39m requests\u001b[38;5;241m.\u001b[39mget(url, headers\u001b[38;5;241m=\u001b[39mheaders)\n\u001b[1;32m    696\u001b[0m     \u001b[38;5;66;03m# Make it a soup\u001b[39;00m\n\u001b[1;32m    697\u001b[0m     soup \u001b[38;5;241m=\u001b[39m BeautifulSoup(response\u001b[38;5;241m.\u001b[39mtext,\u001b[38;5;124m\"\u001b[39m\u001b[38;5;124mlxml\u001b[39m\u001b[38;5;124m\"\u001b[39m)\n",
      "File \u001b[0;32m~/.local/lib/python3.8/site-packages/requests/api.py:73\u001b[0m, in \u001b[0;36mget\u001b[0;34m(url, params, **kwargs)\u001b[0m\n\u001b[1;32m     62\u001b[0m \u001b[38;5;28;01mdef\u001b[39;00m \u001b[38;5;21mget\u001b[39m(url, params\u001b[38;5;241m=\u001b[39m\u001b[38;5;28;01mNone\u001b[39;00m, \u001b[38;5;241m*\u001b[39m\u001b[38;5;241m*\u001b[39mkwargs):\n\u001b[1;32m     63\u001b[0m     \u001b[38;5;124mr\u001b[39m\u001b[38;5;124;03m\"\"\"Sends a GET request.\u001b[39;00m\n\u001b[1;32m     64\u001b[0m \n\u001b[1;32m     65\u001b[0m \u001b[38;5;124;03m    :param url: URL for the new :class:`Request` object.\u001b[39;00m\n\u001b[0;32m   (...)\u001b[0m\n\u001b[1;32m     70\u001b[0m \u001b[38;5;124;03m    :rtype: requests.Response\u001b[39;00m\n\u001b[1;32m     71\u001b[0m \u001b[38;5;124;03m    \"\"\"\u001b[39;00m\n\u001b[0;32m---> 73\u001b[0m     \u001b[38;5;28;01mreturn\u001b[39;00m \u001b[43mrequest\u001b[49m\u001b[43m(\u001b[49m\u001b[38;5;124;43m\"\u001b[39;49m\u001b[38;5;124;43mget\u001b[39;49m\u001b[38;5;124;43m\"\u001b[39;49m\u001b[43m,\u001b[49m\u001b[43m \u001b[49m\u001b[43murl\u001b[49m\u001b[43m,\u001b[49m\u001b[43m \u001b[49m\u001b[43mparams\u001b[49m\u001b[38;5;241;43m=\u001b[39;49m\u001b[43mparams\u001b[49m\u001b[43m,\u001b[49m\u001b[43m \u001b[49m\u001b[38;5;241;43m*\u001b[39;49m\u001b[38;5;241;43m*\u001b[39;49m\u001b[43mkwargs\u001b[49m\u001b[43m)\u001b[49m\n",
      "File \u001b[0;32m~/.local/lib/python3.8/site-packages/requests/api.py:59\u001b[0m, in \u001b[0;36mrequest\u001b[0;34m(method, url, **kwargs)\u001b[0m\n\u001b[1;32m     55\u001b[0m \u001b[38;5;66;03m# By using the 'with' statement we are sure the session is closed, thus we\u001b[39;00m\n\u001b[1;32m     56\u001b[0m \u001b[38;5;66;03m# avoid leaving sockets open which can trigger a ResourceWarning in some\u001b[39;00m\n\u001b[1;32m     57\u001b[0m \u001b[38;5;66;03m# cases, and look like a memory leak in others.\u001b[39;00m\n\u001b[1;32m     58\u001b[0m \u001b[38;5;28;01mwith\u001b[39;00m sessions\u001b[38;5;241m.\u001b[39mSession() \u001b[38;5;28;01mas\u001b[39;00m session:\n\u001b[0;32m---> 59\u001b[0m     \u001b[38;5;28;01mreturn\u001b[39;00m \u001b[43msession\u001b[49m\u001b[38;5;241;43m.\u001b[39;49m\u001b[43mrequest\u001b[49m\u001b[43m(\u001b[49m\u001b[43mmethod\u001b[49m\u001b[38;5;241;43m=\u001b[39;49m\u001b[43mmethod\u001b[49m\u001b[43m,\u001b[49m\u001b[43m \u001b[49m\u001b[43murl\u001b[49m\u001b[38;5;241;43m=\u001b[39;49m\u001b[43murl\u001b[49m\u001b[43m,\u001b[49m\u001b[43m \u001b[49m\u001b[38;5;241;43m*\u001b[39;49m\u001b[38;5;241;43m*\u001b[39;49m\u001b[43mkwargs\u001b[49m\u001b[43m)\u001b[49m\n",
      "File \u001b[0;32m~/.local/lib/python3.8/site-packages/requests/sessions.py:587\u001b[0m, in \u001b[0;36mSession.request\u001b[0;34m(self, method, url, params, data, headers, cookies, files, auth, timeout, allow_redirects, proxies, hooks, stream, verify, cert, json)\u001b[0m\n\u001b[1;32m    582\u001b[0m send_kwargs \u001b[38;5;241m=\u001b[39m {\n\u001b[1;32m    583\u001b[0m     \u001b[38;5;124m\"\u001b[39m\u001b[38;5;124mtimeout\u001b[39m\u001b[38;5;124m\"\u001b[39m: timeout,\n\u001b[1;32m    584\u001b[0m     \u001b[38;5;124m\"\u001b[39m\u001b[38;5;124mallow_redirects\u001b[39m\u001b[38;5;124m\"\u001b[39m: allow_redirects,\n\u001b[1;32m    585\u001b[0m }\n\u001b[1;32m    586\u001b[0m send_kwargs\u001b[38;5;241m.\u001b[39mupdate(settings)\n\u001b[0;32m--> 587\u001b[0m resp \u001b[38;5;241m=\u001b[39m \u001b[38;5;28;43mself\u001b[39;49m\u001b[38;5;241;43m.\u001b[39;49m\u001b[43msend\u001b[49m\u001b[43m(\u001b[49m\u001b[43mprep\u001b[49m\u001b[43m,\u001b[49m\u001b[43m \u001b[49m\u001b[38;5;241;43m*\u001b[39;49m\u001b[38;5;241;43m*\u001b[39;49m\u001b[43msend_kwargs\u001b[49m\u001b[43m)\u001b[49m\n\u001b[1;32m    589\u001b[0m \u001b[38;5;28;01mreturn\u001b[39;00m resp\n",
      "File \u001b[0;32m~/.local/lib/python3.8/site-packages/requests/sessions.py:745\u001b[0m, in \u001b[0;36mSession.send\u001b[0;34m(self, request, **kwargs)\u001b[0m\n\u001b[1;32m    742\u001b[0m         \u001b[38;5;28;01mpass\u001b[39;00m\n\u001b[1;32m    744\u001b[0m \u001b[38;5;28;01mif\u001b[39;00m \u001b[38;5;129;01mnot\u001b[39;00m stream:\n\u001b[0;32m--> 745\u001b[0m     \u001b[43mr\u001b[49m\u001b[38;5;241;43m.\u001b[39;49m\u001b[43mcontent\u001b[49m\n\u001b[1;32m    747\u001b[0m \u001b[38;5;28;01mreturn\u001b[39;00m r\n",
      "File \u001b[0;32m~/.local/lib/python3.8/site-packages/requests/models.py:900\u001b[0m, in \u001b[0;36mResponse.content\u001b[0;34m(self)\u001b[0m\n\u001b[1;32m    898\u001b[0m         \u001b[38;5;28mself\u001b[39m\u001b[38;5;241m.\u001b[39m_content \u001b[38;5;241m=\u001b[39m \u001b[38;5;28;01mNone\u001b[39;00m\n\u001b[1;32m    899\u001b[0m     \u001b[38;5;28;01melse\u001b[39;00m:\n\u001b[0;32m--> 900\u001b[0m         \u001b[38;5;28mself\u001b[39m\u001b[38;5;241m.\u001b[39m_content \u001b[38;5;241m=\u001b[39m \u001b[38;5;124;43mb\u001b[39;49m\u001b[38;5;124;43m\"\u001b[39;49m\u001b[38;5;124;43m\"\u001b[39;49m\u001b[38;5;241;43m.\u001b[39;49m\u001b[43mjoin\u001b[49m\u001b[43m(\u001b[49m\u001b[38;5;28;43mself\u001b[39;49m\u001b[38;5;241;43m.\u001b[39;49m\u001b[43miter_content\u001b[49m\u001b[43m(\u001b[49m\u001b[43mCONTENT_CHUNK_SIZE\u001b[49m\u001b[43m)\u001b[49m\u001b[43m)\u001b[49m \u001b[38;5;129;01mor\u001b[39;00m \u001b[38;5;124mb\u001b[39m\u001b[38;5;124m\"\u001b[39m\u001b[38;5;124m\"\u001b[39m\n\u001b[1;32m    902\u001b[0m \u001b[38;5;28mself\u001b[39m\u001b[38;5;241m.\u001b[39m_content_consumed \u001b[38;5;241m=\u001b[39m \u001b[38;5;28;01mTrue\u001b[39;00m\n\u001b[1;32m    903\u001b[0m \u001b[38;5;66;03m# don't need to release the connection; that's been handled by urllib3\u001b[39;00m\n\u001b[1;32m    904\u001b[0m \u001b[38;5;66;03m# since we exhausted the data.\u001b[39;00m\n",
      "File \u001b[0;32m~/.local/lib/python3.8/site-packages/requests/models.py:816\u001b[0m, in \u001b[0;36mResponse.iter_content.<locals>.generate\u001b[0;34m()\u001b[0m\n\u001b[1;32m    814\u001b[0m \u001b[38;5;28;01mif\u001b[39;00m \u001b[38;5;28mhasattr\u001b[39m(\u001b[38;5;28mself\u001b[39m\u001b[38;5;241m.\u001b[39mraw, \u001b[38;5;124m\"\u001b[39m\u001b[38;5;124mstream\u001b[39m\u001b[38;5;124m\"\u001b[39m):\n\u001b[1;32m    815\u001b[0m     \u001b[38;5;28;01mtry\u001b[39;00m:\n\u001b[0;32m--> 816\u001b[0m         \u001b[38;5;28;01mfor\u001b[39;00m chunk \u001b[38;5;129;01min\u001b[39;00m \u001b[38;5;28mself\u001b[39m\u001b[38;5;241m.\u001b[39mraw\u001b[38;5;241m.\u001b[39mstream(chunk_size, decode_content\u001b[38;5;241m=\u001b[39m\u001b[38;5;28;01mTrue\u001b[39;00m):\n\u001b[1;32m    817\u001b[0m             \u001b[38;5;28;01myield\u001b[39;00m chunk\n\u001b[1;32m    818\u001b[0m     \u001b[38;5;28;01mexcept\u001b[39;00m ProtocolError \u001b[38;5;28;01mas\u001b[39;00m e:\n",
      "File \u001b[0;32m~/.local/lib/python3.8/site-packages/urllib3/response.py:623\u001b[0m, in \u001b[0;36mHTTPResponse.stream\u001b[0;34m(self, amt, decode_content)\u001b[0m\n\u001b[1;32m    607\u001b[0m \u001b[38;5;124;03m\"\"\"\u001b[39;00m\n\u001b[1;32m    608\u001b[0m \u001b[38;5;124;03mA generator wrapper for the read() method. A call will block until\u001b[39;00m\n\u001b[1;32m    609\u001b[0m \u001b[38;5;124;03m``amt`` bytes have been read from the connection or until the\u001b[39;00m\n\u001b[0;32m   (...)\u001b[0m\n\u001b[1;32m    620\u001b[0m \u001b[38;5;124;03m    'content-encoding' header.\u001b[39;00m\n\u001b[1;32m    621\u001b[0m \u001b[38;5;124;03m\"\"\"\u001b[39;00m\n\u001b[1;32m    622\u001b[0m \u001b[38;5;28;01mif\u001b[39;00m \u001b[38;5;28mself\u001b[39m\u001b[38;5;241m.\u001b[39mchunked \u001b[38;5;129;01mand\u001b[39;00m \u001b[38;5;28mself\u001b[39m\u001b[38;5;241m.\u001b[39msupports_chunked_reads():\n\u001b[0;32m--> 623\u001b[0m     \u001b[38;5;28;01mfor\u001b[39;00m line \u001b[38;5;129;01min\u001b[39;00m \u001b[38;5;28mself\u001b[39m\u001b[38;5;241m.\u001b[39mread_chunked(amt, decode_content\u001b[38;5;241m=\u001b[39mdecode_content):\n\u001b[1;32m    624\u001b[0m         \u001b[38;5;28;01myield\u001b[39;00m line\n\u001b[1;32m    625\u001b[0m \u001b[38;5;28;01melse\u001b[39;00m:\n",
      "File \u001b[0;32m~/.local/lib/python3.8/site-packages/urllib3/response.py:815\u001b[0m, in \u001b[0;36mHTTPResponse.read_chunked\u001b[0;34m(self, amt, decode_content)\u001b[0m\n\u001b[1;32m    812\u001b[0m     \u001b[38;5;28;01mreturn\u001b[39;00m\n\u001b[1;32m    814\u001b[0m \u001b[38;5;28;01mwhile\u001b[39;00m \u001b[38;5;28;01mTrue\u001b[39;00m:\n\u001b[0;32m--> 815\u001b[0m     \u001b[38;5;28;43mself\u001b[39;49m\u001b[38;5;241;43m.\u001b[39;49m\u001b[43m_update_chunk_length\u001b[49m\u001b[43m(\u001b[49m\u001b[43m)\u001b[49m\n\u001b[1;32m    816\u001b[0m     \u001b[38;5;28;01mif\u001b[39;00m \u001b[38;5;28mself\u001b[39m\u001b[38;5;241m.\u001b[39mchunk_left \u001b[38;5;241m==\u001b[39m \u001b[38;5;241m0\u001b[39m:\n\u001b[1;32m    817\u001b[0m         \u001b[38;5;28;01mbreak\u001b[39;00m\n",
      "File \u001b[0;32m~/.local/lib/python3.8/site-packages/urllib3/response.py:745\u001b[0m, in \u001b[0;36mHTTPResponse._update_chunk_length\u001b[0;34m(self)\u001b[0m\n\u001b[1;32m    743\u001b[0m \u001b[38;5;28;01mif\u001b[39;00m \u001b[38;5;28mself\u001b[39m\u001b[38;5;241m.\u001b[39mchunk_left \u001b[38;5;129;01mis\u001b[39;00m \u001b[38;5;129;01mnot\u001b[39;00m \u001b[38;5;28;01mNone\u001b[39;00m:\n\u001b[1;32m    744\u001b[0m     \u001b[38;5;28;01mreturn\u001b[39;00m\n\u001b[0;32m--> 745\u001b[0m line \u001b[38;5;241m=\u001b[39m \u001b[38;5;28;43mself\u001b[39;49m\u001b[38;5;241;43m.\u001b[39;49m\u001b[43m_fp\u001b[49m\u001b[38;5;241;43m.\u001b[39;49m\u001b[43mfp\u001b[49m\u001b[38;5;241;43m.\u001b[39;49m\u001b[43mreadline\u001b[49m\u001b[43m(\u001b[49m\u001b[43m)\u001b[49m\n\u001b[1;32m    746\u001b[0m line \u001b[38;5;241m=\u001b[39m line\u001b[38;5;241m.\u001b[39msplit(\u001b[38;5;124mb\u001b[39m\u001b[38;5;124m\"\u001b[39m\u001b[38;5;124m;\u001b[39m\u001b[38;5;124m\"\u001b[39m, \u001b[38;5;241m1\u001b[39m)[\u001b[38;5;241m0\u001b[39m]\n\u001b[1;32m    747\u001b[0m \u001b[38;5;28;01mtry\u001b[39;00m:\n",
      "File \u001b[0;32m/usr/lib/python3.8/socket.py:669\u001b[0m, in \u001b[0;36mSocketIO.readinto\u001b[0;34m(self, b)\u001b[0m\n\u001b[1;32m    667\u001b[0m \u001b[38;5;28;01mwhile\u001b[39;00m \u001b[38;5;28;01mTrue\u001b[39;00m:\n\u001b[1;32m    668\u001b[0m     \u001b[38;5;28;01mtry\u001b[39;00m:\n\u001b[0;32m--> 669\u001b[0m         \u001b[38;5;28;01mreturn\u001b[39;00m \u001b[38;5;28;43mself\u001b[39;49m\u001b[38;5;241;43m.\u001b[39;49m\u001b[43m_sock\u001b[49m\u001b[38;5;241;43m.\u001b[39;49m\u001b[43mrecv_into\u001b[49m\u001b[43m(\u001b[49m\u001b[43mb\u001b[49m\u001b[43m)\u001b[49m\n\u001b[1;32m    670\u001b[0m     \u001b[38;5;28;01mexcept\u001b[39;00m timeout:\n\u001b[1;32m    671\u001b[0m         \u001b[38;5;28mself\u001b[39m\u001b[38;5;241m.\u001b[39m_timeout_occurred \u001b[38;5;241m=\u001b[39m \u001b[38;5;28;01mTrue\u001b[39;00m\n",
      "File \u001b[0;32m/usr/lib/python3.8/ssl.py:1241\u001b[0m, in \u001b[0;36mSSLSocket.recv_into\u001b[0;34m(self, buffer, nbytes, flags)\u001b[0m\n\u001b[1;32m   1237\u001b[0m     \u001b[38;5;28;01mif\u001b[39;00m flags \u001b[38;5;241m!=\u001b[39m \u001b[38;5;241m0\u001b[39m:\n\u001b[1;32m   1238\u001b[0m         \u001b[38;5;28;01mraise\u001b[39;00m \u001b[38;5;167;01mValueError\u001b[39;00m(\n\u001b[1;32m   1239\u001b[0m           \u001b[38;5;124m\"\u001b[39m\u001b[38;5;124mnon-zero flags not allowed in calls to recv_into() on \u001b[39m\u001b[38;5;132;01m%s\u001b[39;00m\u001b[38;5;124m\"\u001b[39m \u001b[38;5;241m%\u001b[39m\n\u001b[1;32m   1240\u001b[0m           \u001b[38;5;28mself\u001b[39m\u001b[38;5;241m.\u001b[39m\u001b[38;5;18m__class__\u001b[39m)\n\u001b[0;32m-> 1241\u001b[0m     \u001b[38;5;28;01mreturn\u001b[39;00m \u001b[38;5;28;43mself\u001b[39;49m\u001b[38;5;241;43m.\u001b[39;49m\u001b[43mread\u001b[49m\u001b[43m(\u001b[49m\u001b[43mnbytes\u001b[49m\u001b[43m,\u001b[49m\u001b[43m \u001b[49m\u001b[43mbuffer\u001b[49m\u001b[43m)\u001b[49m\n\u001b[1;32m   1242\u001b[0m \u001b[38;5;28;01melse\u001b[39;00m:\n\u001b[1;32m   1243\u001b[0m     \u001b[38;5;28;01mreturn\u001b[39;00m \u001b[38;5;28msuper\u001b[39m()\u001b[38;5;241m.\u001b[39mrecv_into(buffer, nbytes, flags)\n",
      "File \u001b[0;32m/usr/lib/python3.8/ssl.py:1099\u001b[0m, in \u001b[0;36mSSLSocket.read\u001b[0;34m(self, len, buffer)\u001b[0m\n\u001b[1;32m   1097\u001b[0m \u001b[38;5;28;01mtry\u001b[39;00m:\n\u001b[1;32m   1098\u001b[0m     \u001b[38;5;28;01mif\u001b[39;00m buffer \u001b[38;5;129;01mis\u001b[39;00m \u001b[38;5;129;01mnot\u001b[39;00m \u001b[38;5;28;01mNone\u001b[39;00m:\n\u001b[0;32m-> 1099\u001b[0m         \u001b[38;5;28;01mreturn\u001b[39;00m \u001b[38;5;28;43mself\u001b[39;49m\u001b[38;5;241;43m.\u001b[39;49m\u001b[43m_sslobj\u001b[49m\u001b[38;5;241;43m.\u001b[39;49m\u001b[43mread\u001b[49m\u001b[43m(\u001b[49m\u001b[38;5;28;43mlen\u001b[39;49m\u001b[43m,\u001b[49m\u001b[43m \u001b[49m\u001b[43mbuffer\u001b[49m\u001b[43m)\u001b[49m\n\u001b[1;32m   1100\u001b[0m     \u001b[38;5;28;01melse\u001b[39;00m:\n\u001b[1;32m   1101\u001b[0m         \u001b[38;5;28;01mreturn\u001b[39;00m \u001b[38;5;28mself\u001b[39m\u001b[38;5;241m.\u001b[39m_sslobj\u001b[38;5;241m.\u001b[39mread(\u001b[38;5;28mlen\u001b[39m)\n",
      "\u001b[0;31mKeyboardInterrupt\u001b[0m: "
     ]
    }
   ],
   "source": [
    "import pandas as pd\n",
    "\n",
    "if _otaURLfilePath:\n",
    "    urlDF = pd.read_csv(_otaURLfilePath, sep=\",\")\n",
    "    _otaURLParamDictList = urlDF.to_dict('records')\n",
    "\n",
    "_l_saved_files = clsScraper.scrape_url_list(\n",
    "    otaURLlist =_otaURLParamDictList,\n",
    "#    otaURLfile = None,\n",
    "    searchDT = _search_dt,\n",
    "    dirPath =_current_search_data_dir)\n",
    "print(\"Scraping completed and data saved in %s!\" % _current_search_data_dir)"
   ]
  },
  {
   "cell_type": "markdown",
   "metadata": {},
   "source": [
    "## Use Spark to Load Data into Database\n",
    "\n",
    "### Declare sparkworkload class"
   ]
  },
  {
   "cell_type": "code",
   "execution_count": 110,
   "metadata": {},
   "outputs": [
    {
     "name": "stdout",
     "output_type": "stream",
     "text": [
      "All packages in SparkWorkLoads loaded successfully!\n"
     ]
    }
   ],
   "source": [
    "import os\n",
    "import sys\n",
    "from datetime import datetime, date, timedelta\n",
    "\n",
    "ROOT_DIR = \"/home/nuwan/workspace/rezgate/wrangler/\"\n",
    "UTILS_PATH = os.path.join(ROOT_DIR, 'utils/')\n",
    "sys.path.insert(1, UTILS_PATH)\n",
    "import sparkWorkLoads as spark\n",
    "\n",
    "if debug:\n",
    "    import importlib\n",
    "    spark = importlib.reload(spark)\n",
    "\n",
    "kwargs = {\n",
    "    \"ROOT_DIR\":ROOT_DIR,\n",
    "}\n",
    "\n",
    "clsSparkWL = spark.SparkWorkLoads(name=\"ota prices\", **kwargs)\n",
    "#_session = clsSparkWL.get_spark_session()"
   ]
  },
  {
   "cell_type": "markdown",
   "metadata": {},
   "source": [
    "### Read CSV into spark dataframe"
   ]
  },
  {
   "cell_type": "code",
   "execution_count": 92,
   "metadata": {},
   "outputs": [
    {
     "name": "stderr",
     "output_type": "stream",
     "text": [
      "[Stage 709:=============================================>           (4 + 1) / 5]\r"
     ]
    },
    {
     "name": "stdout",
     "output_type": "stream",
     "text": [
      "Spark loaded 589 rows\n"
     ]
    },
    {
     "name": "stderr",
     "output_type": "stream",
     "text": [
      "\r",
      "                                                                                \r"
     ]
    }
   ],
   "source": [
    "#dirPath = _current_search_data_dir\n",
    "dirPath = \"../../data/hospitality/bookings/scraper/rates/2022-9-15-19-30/\"\n",
    "_search_sdf = clsSparkWL.read_csv_to_sdf(filesPath=dirPath)\n",
    "_search_sdf = _search_sdf.distinct()\n",
    "print(\"Spark loaded %d rows\" % _search_sdf.count())"
   ]
  },
  {
   "cell_type": "code",
   "execution_count": 93,
   "metadata": {},
   "outputs": [
    {
     "name": "stderr",
     "output_type": "stream",
     "text": [
      "[Stage 715:=============================================>           (4 + 1) / 5]\r"
     ]
    },
    {
     "name": "stdout",
     "output_type": "stream",
     "text": [
      "+--------------------+\n",
      "|           search_dt|\n",
      "+--------------------+\n",
      "|2022-09-16 03:40:...|\n",
      "|2022-09-16 03:49:...|\n",
      "+--------------------+\n",
      "\n"
     ]
    },
    {
     "name": "stderr",
     "output_type": "stream",
     "text": [
      "\r",
      "                                                                                \r"
     ]
    }
   ],
   "source": [
    "_search_sdf.select(\"search_dt\").distinct().sort(\"search_dt\").show(30)"
   ]
  },
  {
   "cell_type": "markdown",
   "metadata": {},
   "source": [
    "### Extract room rate decimal value"
   ]
  },
  {
   "cell_type": "code",
   "execution_count": 87,
   "metadata": {},
   "outputs": [
    {
     "name": "stdout",
     "output_type": "stream",
     "text": [
      "root\n",
      " |-- search_dt: timestamp (nullable = true)\n",
      " |-- checkin_date: timestamp (nullable = true)\n",
      " |-- property_name: string (nullable = true)\n",
      " |-- room_type: string (nullable = true)\n",
      " |-- room_rate: float (nullable = true)\n",
      " |-- review_score: double (nullable = true)\n",
      " |-- destination_id: string (nullable = true)\n",
      " |-- location_desc: string (nullable = true)\n",
      " |-- other_info: string (nullable = true)\n",
      " |-- currency: string (nullable = false)\n",
      "\n",
      "Split and Extraction complete!\n"
     ]
    }
   ],
   "source": [
    "from pyspark.sql.functions import substring,lit,col\n",
    "from pyspark.sql.types import StringType,BooleanType,DateType,DecimalType,FloatType, IntegerType,LongType, ShortType, TimestampType\n",
    "\n",
    "_search_sdf=_search_sdf.withColumn(\"currency\", lit(\"US$\"))\n",
    "_search_sdf=_search_sdf.withColumn('room_rate', substring('room_rate', 4,10))\n",
    "\n",
    "''' reset data types to match table '''\n",
    "_search_sdf = _search_sdf.withColumn(\"destination_id\",col(\"destination_id\").cast(StringType())) \\\n",
    "    .withColumn(\"room_rate\",col(\"room_rate\").cast(FloatType()))\n",
    "#    .withColumn(\"search_datetime\",col(\"search_datetime\").cast(DateType()))\n",
    "\n",
    "_search_sdf.printSchema()\n",
    "#_search_sdf.show(n=2, vertical=True, truncate=False)\n",
    "print(\"Split and Extraction complete!\")"
   ]
  },
  {
   "cell_type": "markdown",
   "metadata": {},
   "source": [
    "## Cleanup and Save data to table"
   ]
  },
  {
   "cell_type": "code",
   "execution_count": 88,
   "metadata": {},
   "outputs": [
    {
     "name": "stdout",
     "output_type": "stream",
     "text": [
      "root\n",
      " |-- destination_name: string (nullable = true)\n",
      " |-- destination_id: string (nullable = true)\n",
      "\n",
      "Destination dictionary loarded!\n",
      "Destination names augmented to dataframe!\n"
     ]
    }
   ],
   "source": [
    "''' Get destination id dictionary '''\n",
    "destfilesPath = \"../../data/hospitality/bookings/scraper/destinations/\"\n",
    "destinations_sdf = clsSparkWL.read_csv_to_sdf(filesPath=destfilesPath)\n",
    "destinations_sdf = destinations_sdf.selectExpr(\"city as destination_name\", \\\n",
    "                                               \"destinationID as destination_id\")\n",
    "destinations_sdf = destinations_sdf.withColumn(\"destination_name\",col(\"destination_name\").cast(StringType())) \\\n",
    "                                .withColumn(\"destination_id\",col(\"destination_id\").cast(StringType()))\n",
    "\n",
    "destinations_sdf.printSchema()\n",
    "#destinations_sdf.show(n=2, vertical=True, truncate=False)\n",
    "print(\"Destination dictionary loarded!\")\n",
    "\n",
    "''' Lookup & augment destination name '''\n",
    "aug_search_sdf = destinations_sdf.join(_search_sdf,\"destination_id\")\n",
    "#aug_search_sdf.show(n=2, vertical=True, truncate=False)\n",
    "print(\"Destination names augmented to dataframe!\")"
   ]
  },
  {
   "cell_type": "markdown",
   "metadata": {},
   "source": [
    "## Save cleaned SDF to Tmp File"
   ]
  },
  {
   "cell_type": "code",
   "execution_count": 89,
   "metadata": {},
   "outputs": [
    {
     "name": "stderr",
     "output_type": "stream",
     "text": [
      "                                                                                \r"
     ]
    },
    {
     "name": "stdout",
     "output_type": "stream",
     "text": [
      "542 rows saved to /home/nuwan/workspace/rezgate/wrangler/data/tmp/save_sdf_to_csv.csv\n"
     ]
    }
   ],
   "source": [
    "_tmp_fname = clsSparkWL.save_sdf_to_csv(aug_search_sdf)\n",
    "print(\"%d rows saved to %s\" % (aug_search_sdf.count(), _tmp_fname))"
   ]
  },
  {
   "cell_type": "markdown",
   "metadata": {},
   "source": [
    "## Read CSV from Tmp and Save to DB Table"
   ]
  },
  {
   "cell_type": "code",
   "execution_count": 90,
   "metadata": {},
   "outputs": [
    {
     "name": "stdout",
     "output_type": "stream",
     "text": [
      "root\n",
      " |-- destination_id: integer (nullable = true)\n",
      " |-- destination_name: string (nullable = true)\n",
      " |-- search_dt: timestamp (nullable = true)\n",
      " |-- checkin_date: timestamp (nullable = true)\n",
      " |-- property_name: string (nullable = true)\n",
      " |-- room_type: string (nullable = true)\n",
      " |-- room_rate: double (nullable = true)\n",
      " |-- review_score: double (nullable = true)\n",
      " |-- location_desc: string (nullable = true)\n",
      " |-- other_info: string (nullable = true)\n",
      " |-- currency: string (nullable = true)\n",
      "\n",
      "Wait a moment while we insert data int ota_property_prices\n",
      "Save to ota_property_prices complete!\n",
      "542 Data saved to ota_property_prices\n"
     ]
    }
   ],
   "source": [
    "''' Save dataframe to table '''\n",
    "_s_tbl_name = \"ota_property_prices\"\n",
    "_get_tmp_sdf = clsSparkWL.read_csv_to_sdf(filesPath=_tmp_fname)\n",
    "_get_tmp_sdf.printSchema()\n",
    "count = clsSparkWL.insert_sdf_into_table(save_sdf=_get_tmp_sdf, dbTable=_s_tbl_name)\n",
    "print(\"%d Data saved to %s\" % (count,_s_tbl_name))"
   ]
  },
  {
   "cell_type": "markdown",
   "metadata": {},
   "source": [
    "## Read data from table"
   ]
  },
  {
   "cell_type": "code",
   "execution_count": 112,
   "metadata": {
    "scrolled": true
   },
   "outputs": [
    {
     "name": "stdout",
     "output_type": "stream",
     "text": [
      "Wait a moment, retrieving data ...\n",
      "Loading complete!\n",
      "88858 records loaded from ota_property_prices\n"
     ]
    },
    {
     "name": "stderr",
     "output_type": "stream",
     "text": [
      "\r",
      "[Stage 727:>                                                        (0 + 1) / 1]\r"
     ]
    },
    {
     "name": "stdout",
     "output_type": "stream",
     "text": [
      "+----+--------+--------------------+--------------------+-------------------+-------------+--------------------+---------+--------+------------+--------------+----------------+--------------------+--------------------+-----------+----------+--------------------+----------+------------+-----------+-----------+-------------+-------------+\n",
      "|uuid|ota_name|           search_dt|       property_name|       checkin_date|checkout_date|           room_type|room_rate|currency|review_score|destination_id|destination_name|       location_desc|          other_info|data_source|data_owner|          created_dt|created_by|created_proc|modified_dt|modified_by|modified_proc|deactivate_dt|\n",
      "+----+--------+--------------------+--------------------+-------------------+-------------+--------------------+---------+--------+------------+--------------+----------------+--------------------+--------------------+-----------+----------+--------------------+----------+------------+-----------+-----------+-------------+-------------+\n",
      "|null|    null|2022-09-10 08:15:...|The LINQ Hotel an...|2022-09-10 00:00:00|         null|Deluxe Room, 2 Do...|    179.0|     US$|         7.2|      20079110|       Las Vegas|Las Vegas Strip, ...|Deluxe Room, 2 Do...|       null|      null|2022-09-16 10:25:...|  postgres|     Unknown|       null|       null|         null|         null|\n",
      "|null|    null|2022-09-10 08:15:...|Fairfield Inn & S...|2022-09-10 00:00:00|         null|Guest room, 1 Kin...|    164.0|     US$|         8.6|      20079110|       Las Vegas|South of the Las ...|Guest room, 1 Kin...|       null|      null|2022-09-16 10:25:...|  postgres|     Unknown|       null|       null|         null|         null|\n",
      "|null|    null|2022-09-10 08:15:...|La Quinta by Wynd...|2022-09-10 00:00:00|         null|    Deluxe King Room|    149.0|     US$|         7.6|      20079110|       Las Vegas|Summerlin, Las Ve...|Deluxe King Room1...|       null|      null|2022-09-16 10:25:...|  postgres|     Unknown|       null|       null|         null|         null|\n",
      "|null|    null|2022-09-10 08:15:...|Hampton Inn Tropi...|2022-09-10 00:00:00|         null|King Room - Non-S...|    169.0|     US$|         8.7|      20079110|       Las Vegas|West of the Las V...|King Room - Non-S...|       null|      null|2022-09-16 10:25:...|  postgres|     Unknown|       null|       null|         null|         null|\n",
      "|null|    null|2022-09-10 08:15:...|Polo Towers By Di...|2022-09-10 00:00:00|         null|              Studio|    249.0|     US$|         8.4|      20079110|       Las Vegas|Las Vegas Strip, ...|StudioPrivate stu...|       null|      null|2022-09-16 10:25:...|  postgres|     Unknown|       null|       null|         null|         null|\n",
      "|null|    null|2022-09-10 08:15:...|Candlewood Suites...|2022-09-10 00:00:00|         null|King Studio Suite...|    194.0|     US$|         9.2|      20079110|       Las Vegas|Las Vegas Strip, ...|King Studio Suite...|       null|      null|2022-09-16 10:25:...|  postgres|     Unknown|       null|       null|         null|         null|\n",
      "|null|    null|2022-09-10 08:15:...|DoubleTree by Hil...|2022-09-10 00:00:00|         null|King Room with Ro...|    189.0|     US$|         7.4|      20079110|       Las Vegas|East of the Las V...|King Room with Ro...|       null|      null|2022-09-16 10:25:...|  postgres|     Unknown|       null|       null|         null|         null|\n",
      "|null|    null|2022-09-10 08:15:...|Howard Johnson by...|2022-09-10 00:00:00|         null|Deluxe Business D...|    118.0|     US$|         5.6|      20079110|       Las Vegas|Las Vegas Strip, ...|Deluxe Business D...|       null|      null|2022-09-16 10:25:...|  postgres|     Unknown|       null|       null|         null|         null|\n",
      "|null|    null|2022-09-10 08:15:...|Courtyard by Marr...|2022-09-10 00:00:00|         null|King Room with So...|    169.0|     US$|         7.8|      20079110|       Las Vegas|Henderson, Las Ve...|King Room with So...|       null|      null|2022-09-16 10:25:...|  postgres|     Unknown|       null|       null|         null|         null|\n",
      "|null|    null|2022-09-10 08:15:...|Siegel Select Las...|2022-09-10 00:00:00|         null|         Queen Suite|    159.0|     US$|         7.7|      20079110|       Las Vegas|South of the Las ...|Queen SuitePrivat...|       null|      null|2022-09-16 10:25:...|  postgres|     Unknown|       null|       null|         null|         null|\n",
      "|null|    null|2022-09-10 08:15:...|Motel 6-Las Vegas...|2022-09-10 00:00:00|         null|Deluxe King Room ...|    135.0|     US$|         8.1|      20079110|       Las Vegas|North Las Vegas, ...|Deluxe King Room ...|       null|      null|2022-09-16 10:25:...|  postgres|     Unknown|       null|       null|         null|         null|\n",
      "|null|    null|2022-09-10 08:15:...|Circus Circus Hot...|2022-09-10 00:00:00|         null|Casino Tower Doub...|     70.0|     US$|         6.5|      20079110|       Las Vegas|Las Vegas Strip, ...|Casino Tower Doub...|       null|      null|2022-09-16 10:25:...|  postgres|     Unknown|       null|       null|         null|         null|\n",
      "|null|    null|2022-09-10 08:15:...|Hilton Grand Vaca...|2022-09-10 00:00:00|         null|Studio King bed w...|    243.0|     US$|         8.9|      20079110|       Las Vegas|Las Vegas Strip, ...|Studio King bed w...|       null|      null|2022-09-16 10:25:...|  postgres|     Unknown|       null|       null|         null|         null|\n",
      "|null|    null|2022-09-10 08:15:...|Rio All-Suite Hot...|2022-09-10 00:00:00|         null|Deluxe Masquerade...|    189.0|     US$|         6.7|      20079110|       Las Vegas|West of the Las V...|Deluxe Masquerade...|       null|      null|2022-09-16 10:25:...|  postgres|     Unknown|       null|       null|         null|         null|\n",
      "|null|    null|2022-09-10 08:15:...|Home2 Suites By H...|2022-09-10 00:00:00|         null|Queen Studio with...|    154.0|     US$|         8.8|      20079110|       Las Vegas|Las VegasShow on ...|Queen Studio with...|       null|      null|2022-09-16 10:25:...|  postgres|     Unknown|       null|       null|         null|         null|\n",
      "|null|    null|2022-09-10 08:15:...|   New York New York|2022-09-10 00:00:00|         null|Park Avenue Two Q...|    259.0|     US$|         7.9|      20079110|       Las Vegas|Las Vegas Strip, ...|Park Avenue Two Q...|       null|      null|2022-09-16 10:25:...|  postgres|     Unknown|       null|       null|         null|         null|\n",
      "|null|    null|2022-09-10 08:15:...|Skyline Hotel and...|2022-09-10 00:00:00|         null|        Classic Full|    150.0|     US$|         8.6|      20079110|       Las Vegas|Henderson, Las Ve...|Classic Full 2 do...|       null|      null|2022-09-16 10:25:...|  postgres|     Unknown|       null|       null|         null|         null|\n",
      "|null|    null|2022-09-10 08:15:...|Sonesta Select La...|2022-09-10 00:00:00|         null|Hearing Accessibl...|    166.0|     US$|         7.9|      20079110|       Las Vegas|Las VegasShow on ...|Hearing Accessibl...|       null|      null|2022-09-16 10:25:...|  postgres|     Unknown|       null|       null|         null|         null|\n",
      "|null|    null|2022-09-10 08:15:...|Plaza Hotel & Casino|2022-09-10 00:00:00|         null|         Deluxe Room|    169.0|     US$|         7.5|      20079110|       Las Vegas|Downtown Las Vega...|Deluxe RoomMultip...|       null|      null|2022-09-16 10:25:...|  postgres|     Unknown|       null|       null|         null|         null|\n",
      "|null|    null|2022-09-10 08:15:...|Silver Sevens Hot...|2022-09-10 00:00:00|         null| Deluxe Double Queen|     89.0|     US$|         6.7|      20079110|       Las Vegas|East of the Las V...|Deluxe Double Que...|       null|      null|2022-09-16 10:25:...|  postgres|     Unknown|       null|       null|         null|         null|\n",
      "|null|    null|2022-09-10 08:15:...|DoubleTree by Hil...|2022-09-10 00:00:00|         null|Double Room - Non...|    186.0|     US$|         8.0|      20079110|       Las Vegas|South of the Las ...|Double Room - Non...|       null|      null|2022-09-16 10:25:...|  postgres|     Unknown|       null|       null|         null|         null|\n",
      "|null|    null|2022-09-10 08:15:...|Best Western Plus...|2022-09-10 00:00:00|         null|Queen Room with T...|    183.0|     US$|         8.8|      20079110|       Las Vegas|Henderson, Las Ve...|Queen Room with T...|       null|      null|2022-09-16 10:25:...|  postgres|     Unknown|       null|       null|         null|         null|\n",
      "|null|    null|2022-09-10 08:15:...|Downtowner Boutiq...|2022-09-10 00:00:00|         null|       Fairway Queen|    139.0|     US$|         7.0|      20079110|       Las Vegas|Downtown Las Vega...|Fairway Queen1 la...|       null|      null|2022-09-16 10:25:...|  postgres|     Unknown|       null|       null|         null|         null|\n",
      "|null|    null|2022-09-10 08:15:...|Renaissance Las V...|2022-09-10 00:00:00|         null|           King Room|    249.0|     US$|         8.2|      20079110|       Las Vegas|East of the Las V...|King Room2 beds (...|       null|      null|2022-09-16 10:25:...|  postgres|     Unknown|       null|       null|         null|         null|\n",
      "|null|    null|2022-09-10 08:15:...|Bally's Las Vegas...|2022-09-10 00:00:00|         null|Resort Room, 1 Ki...|    165.0|     US$|         7.9|      20079110|       Las Vegas|Las Vegas Strip, ...|Resort Room, 1 Ki...|       null|      null|2022-09-16 10:25:...|  postgres|     Unknown|       null|       null|         null|         null|\n",
      "|null|    null|2022-09-10 08:15:...|           Excalibur|2022-09-10 00:00:00|         null|   Resort Tower King|    132.0|     US$|         7.5|      20079110|       Las Vegas|Las Vegas Strip, ...|Resort Tower King...|       null|      null|2022-09-16 10:25:...|  postgres|     Unknown|       null|       null|         null|         null|\n",
      "|null|    null|2022-09-10 08:15:...|  Park MGM Las Vegas|2022-09-10 00:00:00|         null|  Park MGM Two Queen|    329.0|     US$|         8.2|      20079110|       Las Vegas|Las Vegas Strip, ...|Park MGM Two Quee...|       null|      null|2022-09-16 10:25:...|  postgres|     Unknown|       null|       null|         null|         null|\n",
      "|null|    null|2022-09-10 08:15:...|Ellis Island Hote...|2022-09-10 00:00:00|         null|Deluxe King Room ...|    109.0|     US$|         7.9|      20079110|       Las Vegas|Las Vegas Strip, ...|Deluxe King Room ...|       null|      null|2022-09-16 10:25:...|  postgres|     Unknown|       null|       null|         null|         null|\n",
      "|null|    null|2022-09-10 08:15:...|Planet Hollywood ...|2022-09-10 00:00:00|         null|Ultra Hip, 2 Quee...|    229.0|     US$|         7.8|      20079110|       Las Vegas|Las Vegas Strip, ...|Ultra Hip, 2 Quee...|       null|      null|2022-09-16 10:25:...|  postgres|     Unknown|       null|       null|         null|         null|\n",
      "|null|    null|2022-09-10 08:15:...|Home2 Suites By H...|2022-09-10 00:00:00|         null|King Studio Suite...|    179.0|     US$|         9.0|      20079110|       Las Vegas|South of the Las ...|King Studio Suite...|       null|      null|2022-09-16 10:25:...|  postgres|     Unknown|       null|       null|         null|         null|\n",
      "+----+--------+--------------------+--------------------+-------------------+-------------+--------------------+---------+--------+------------+--------------+----------------+--------------------+--------------------+-----------+----------+--------------------+----------+------------+-----------+-----------+-------------+-------------+\n",
      "only showing top 30 rows\n",
      "\n"
     ]
    },
    {
     "name": "stderr",
     "output_type": "stream",
     "text": [
      "\r",
      "[Stage 729:>                                                        (0 + 2) / 2]\r",
      "\r",
      "                                                                                \r"
     ]
    }
   ],
   "source": [
    "_s_tbl_name = \"ota_property_prices\"\n",
    "data = clsSparkWL.get_data_from_table(dbTable=_s_tbl_name)\n",
    "print(\"%d records loaded from %s\" %(data.count(),_s_tbl_name))\n",
    "data.select(\"*\").distinct().sort(\"search_dt\").show(30)"
   ]
  },
  {
   "cell_type": "code",
   "execution_count": 115,
   "metadata": {},
   "outputs": [
    {
     "name": "stderr",
     "output_type": "stream",
     "text": [
      "[Stage 756:>                                                        (0 + 1) / 1]\r"
     ]
    },
    {
     "name": "stdout",
     "output_type": "stream",
     "text": [
      "/tmp/ota_prices.csv\n"
     ]
    },
    {
     "name": "stderr",
     "output_type": "stream",
     "text": [
      "\r",
      "                                                                                \r"
     ]
    }
   ],
   "source": [
    "_tmp_sdf = data.select(\"*\").distinct().sort(\"search_dt\")\n",
    "_tmp_fname = clsSparkWL.save_sdf_to_csv(_tmp_sdf, filesPath='/tmp/ota_prices.csv')\n",
    "print(_tmp_fname)"
   ]
  },
  {
   "cell_type": "code",
   "execution_count": 4,
   "metadata": {},
   "outputs": [
    {
     "name": "stdout",
     "output_type": "stream",
     "text": [
      "        variable   tag                   code          ota\n",
      "0  content_block   div            .d20f4628d0  booking.com\n",
      "0  property_name  span  fcab3ed991 a23c043802  booking.com\n",
      "0      room_type  span             df597226dd  booking.com\n",
      "0      room_rate   div  fcab3ed991 bd73d13072  booking.com\n",
      "0   review_score   div  b5cd09854e d10a6220b4  booking.com\n",
      "0       location   div             a1fbd102d9  booking.com\n",
      "0          Other   div             d22a7c133b  booking.com\n"
     ]
    }
   ],
   "source": [
    "#path = dataDirPath\n",
    "file = \"otaInputURLs.json\"\n",
    "property_dict = clsScraper.load_ota_list(dirPath=dataDirPath, fileName=file)\n",
    "_scrape_tags_df = clsScraper.get_scrape_html_tags(property_dict)\n",
    "print(_scrape_tags_df)"
   ]
  }
 ],
 "metadata": {
  "kernelspec": {
   "display_name": "Python 3 (ipykernel)",
   "language": "python",
   "name": "python3"
  },
  "language_info": {
   "codemirror_mode": {
    "name": "ipython",
    "version": 3
   },
   "file_extension": ".py",
   "mimetype": "text/x-python",
   "name": "python",
   "nbconvert_exporter": "python",
   "pygments_lexer": "ipython3",
   "version": "3.8.10"
  },
  "vscode": {
   "interpreter": {
    "hash": "31f2aee4e71d21fbe5cf8b01ff0e069b9275f58929596ceb00d14d90e3e16cd6"
   }
  }
 },
 "nbformat": 4,
 "nbformat_minor": 2
}
