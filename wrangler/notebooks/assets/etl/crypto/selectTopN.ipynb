{
 "cells": [
  {
   "cell_type": "markdown",
   "id": "91de3ea5",
   "metadata": {},
   "source": [
    "# Select top-N assets with good indicators"
   ]
  },
  {
   "cell_type": "code",
   "execution_count": 2,
   "id": "a3215d5d",
   "metadata": {},
   "outputs": [],
   "source": [
    "'''\n",
    "    WARNING CONTROL to display or ignore all warnings\n",
    "'''\n",
    "import warnings; warnings.simplefilter('ignore') #switch betweeb 'default' and 'ignore'\n",
    "import traceback\n",
    "\n",
    "''' Set debug flag to view extended error messages; \n",
    "    else set it to False to turn off debugging mode '''\n",
    "debug = True"
   ]
  },
  {
   "cell_type": "code",
   "execution_count": 72,
   "id": "f67d1a6e",
   "metadata": {},
   "outputs": [
    {
     "name": "stdout",
     "output_type": "stream",
     "text": [
      "All functional APP-libraries in REZAWARE-package of REZAWARE-module imported successfully!\n",
      "All functional PERFORMINDEX-libraries in ETP-package of ASSETS-module imported successfully!\n",
      "All packages in utils ml timeseries RollingStats imported successfully!\n",
      "All functional SPARKNOSQLWLS-libraries in LOAD-package of ETL-module imported successfully!\n",
      "All functional EXECSESSION-libraries in SPARK-package of LIB-module imported successfully!\n",
      "All functional SPARKDBWLS-libraries in LOAD-package of ETL-module imported successfully!\n",
      "sparkNoSQLwls Class initialization complete\n",
      "execSession Class initialization complete\n",
      "sparkNoSQLwls Class initialization complete\n",
      "dailyTopN Class initialization complete\n",
      "performIndex Class initialization complete\n",
      "sparkNoSQLwls Class initialization complete\n",
      "\n",
      "Class initialization and load complete!\n"
     ]
    }
   ],
   "source": [
    "import os\n",
    "import sys\n",
    "from datetime import datetime, date, timedelta\n",
    "from pyspark.sql import functions as F\n",
    "\n",
    "sys.path.insert(1,\"/home/nuwan/workspace/rezaware/\")\n",
    "import rezaware as reza\n",
    "from mining.modules.assets.etp import performIndex as indx\n",
    "from utils.modules.etl.load import sparkDBwls as sdb\n",
    "from utils.modules.ml.timeseries import rollingstats as stats\n",
    "from utils.modules.etl.load import sparkNoSQLwls as nosql\n",
    "from utils.modules.lib.spark import execSession as spark\n",
    "\n",
    "''' restart initiate classes '''\n",
    "if debug:\n",
    "    import importlib\n",
    "    reza = importlib.reload(reza)\n",
    "    indx = importlib.reload(indx)\n",
    "    stats= importlib.reload(stats)\n",
    "    nosql= importlib.reload(nosql)\n",
    "    spark= importlib.reload(spark)\n",
    "    sdb = importlib.reload(sdb)\n",
    "    \n",
    "__desc__ = \"analyze crypto market capitalization time series data\"\n",
    "clsIndx =indx.Portfolio(desc=__desc__)\n",
    "# clsStat=stats.RollingStats(desc=__desc__)\n",
    "clsSDB = sdb.SQLWorkLoads(desc=__desc__)\n",
    "clsNoSQL=nosql.NoSQLWorkLoads(desc=__desc__)\n",
    "print(\"\\nClass initialization and load complete!\")"
   ]
  },
  {
   "cell_type": "markdown",
   "id": "608794f1",
   "metadata": {},
   "source": [
    "## Read top N mcap assets from tip sql db"
   ]
  },
  {
   "cell_type": "code",
   "execution_count": 54,
   "id": "518c74b7",
   "metadata": {},
   "outputs": [
    {
     "name": "stdout",
     "output_type": "stream",
     "text": [
      "Wait a moment, retrieving data ...\n",
      "-RECORD 0-----------------------------\n",
      " mcap_past_pk  | 75850                \n",
      " uuid          | 639753007cc473c58... \n",
      " data_source   | coingecko            \n",
      " asset_name    | munt                 \n",
      " asset_symbol  | munt                 \n",
      " mcap_date     | 2022-01-30 00:00:00  \n",
      " mcap_value    | 4281638.502348270... \n",
      " mcap_rank     | null                 \n",
      " created_dt    | 2023-02-14 12:22:... \n",
      " created_by    | farmraider           \n",
      " created_proc  | wrangler_assets_e... \n",
      " modified_dt   | 2023-02-21 14:45:... \n",
      " modified_by   | farmraider           \n",
      " modified_proc | utils_etl_load_sp... \n",
      " deactivate_dt | null                 \n",
      " log_ror       | 0.6602938723884690   \n",
      " simp_ror      | -0.0691060000000000  \n",
      "only showing top 1 row\n",
      "\n"
     ]
    }
   ],
   "source": [
    "_num_assets='3'\n",
    "_date=datetime.strftime(date(2022,1,30),'%Y-%m-%dT00:00:00')\n",
    "kwargs={}\n",
    "_table='warehouse.mcap_past'\n",
    "_query =f\"select * from {_table} wmp where wmp.mcap_date = '{_date}' \"+\\\n",
    "        f\"and wmp.mcap_value > 10000 limit {_num_assets} \"\n",
    "\n",
    "_data = clsSDB.read_data_from_table(select=_query, **kwargs)\n",
    "_data.show(n=1,vertical=True)"
   ]
  },
  {
   "cell_type": "code",
   "execution_count": 65,
   "id": "87832e3d",
   "metadata": {},
   "outputs": [
    {
     "data": {
      "text/plain": [
       "[{'date': '2022-01-30T00:00:00',\n",
       "  'asset': 'munt',\n",
       "  'mcap.weight': 1.0,\n",
       "  'mcap.value': 4281638.50234827},\n",
       " {'date': '2022-01-30T00:00:00',\n",
       "  'asset': 'aidoc',\n",
       "  'mcap.weight': 1.0,\n",
       "  'mcap.value': 50330.0135154841},\n",
       " {'date': '2022-01-30T00:00:00',\n",
       "  'asset': 'mx',\n",
       "  'mcap.weight': 1.0,\n",
       "  'mcap.value': 178326244.574034}]"
      ]
     },
     "execution_count": 65,
     "metadata": {},
     "output_type": "execute_result"
    }
   ],
   "source": [
    "from pyspark.sql import functions as F\n",
    "_assets=_data.select(F.col('mcap_date'),\n",
    "                     F.col('asset_name'),\n",
    "                     F.col('mcap_value'))\\\n",
    "                .distinct()\n",
    "_portf=[]\n",
    "for _asset in _assets.collect():\n",
    "    _asset_dict={}\n",
    "    _asset_dict={\"date\" : datetime.strftime(_asset[0],'%Y-%m-%dT00:00:00'),\n",
    "                 \"asset\": _asset[1],\n",
    "                 'mcap.weight': 1.0,\n",
    "                 'mcap.value' : float(_asset[2]),\n",
    "                }\n",
    "    _portf.append(_asset_dict)\n",
    "_portf"
   ]
  },
  {
   "cell_type": "code",
   "execution_count": 73,
   "id": "f3f93a9d",
   "metadata": {},
   "outputs": [
    {
     "name": "stdout",
     "output_type": "stream",
     "text": [
      "Wait a moment, retrieving data ...\n",
      "Wait a moment, retrieving data ...\n"
     ]
    },
    {
     "name": "stderr",
     "output_type": "stream",
     "text": [
      "                                                                                \r"
     ]
    },
    {
     "name": "stdout",
     "output_type": "stream",
     "text": [
      "Wait a moment, retrieving data ...\n",
      "Wait a moment, retrieving data ...\n"
     ]
    },
    {
     "name": "stderr",
     "output_type": "stream",
     "text": [
      "                                                                                \r"
     ]
    },
    {
     "name": "stdout",
     "output_type": "stream",
     "text": [
      "Wait a moment, retrieving data ...\n",
      "Wait a moment, retrieving data ...\n"
     ]
    },
    {
     "name": "stderr",
     "output_type": "stream",
     "text": [
      "                                                                                \r"
     ]
    },
    {
     "data": {
      "text/plain": [
       "[{'munt': {'sharp': -0.28348463831217335,\n",
       "   'rsi': 1.0,\n",
       "   'mfi': 1.0,\n",
       "   'beta': -0.011394158192188886}},\n",
       " {'aidoc': {'sharp': 0.0113246408660233,\n",
       "   'rsi': 1.0,\n",
       "   'mfi': 1.0,\n",
       "   'beta': 0.5857630438657931}},\n",
       " {'mx': {'sharp': 0.13875244455853572,\n",
       "   'rsi': 1.0,\n",
       "   'mfi': 1.0,\n",
       "   'beta': 0.6915669539793301}}]"
      ]
     },
     "execution_count": 73,
     "metadata": {},
     "output_type": "execute_result"
    }
   ],
   "source": [
    "__idx_type__=['adx','sharp','rsi','mfi','beta']\n",
    "_coll_dt=date(2022,1,30)\n",
    "__val_col__=\"log_ror\"\n",
    "__name_col__='asset_name'\n",
    "__date_col__='mcap_date'\n",
    "__rf_assets__=['btc']\n",
    "__rf_val_col__=\"simp_ror\"\n",
    "__rf_name_col__='asset_name'\n",
    "__rf_date_col__='mcap_date'\n",
    "_kwargs={\n",
    "    \"WINLENGTH\":7,\n",
    "    \"WINUNIT\":'DAY',\n",
    "}\n",
    "_results=[]\n",
    "for asset_portf in _portf:\n",
    "    _idx_dict = clsIndx.get_index(\n",
    "        portfolio=[asset_portf],\n",
    "        asset_eval_date=_coll_dt,\n",
    "        asset_name_col=__name_col__,\n",
    "        asset_val_col =__val_col__,\n",
    "        asset_date_col=__date_col__,\n",
    "        index_type=__idx_type__,\n",
    "        risk_free_assets=__rf_assets__,\n",
    "        risk_free_name_col=__rf_name_col__,\n",
    "        risk_free_val_col=__rf_val_col__,\n",
    "        risk_free_date_col=__rf_date_col__,\n",
    "        **_kwargs,\n",
    "    )\n",
    "    _results.append({asset_portf['asset']:_idx_dict})\n",
    "# print(\"Completed index computation for %s\"\n",
    "#       % (str(_idx_dict)))\n",
    "_results"
   ]
  },
  {
   "cell_type": "code",
   "execution_count": null,
   "id": "44fc9d7e",
   "metadata": {},
   "outputs": [],
   "source": []
  }
 ],
 "metadata": {
  "kernelspec": {
   "display_name": "Python 3 (ipykernel)",
   "language": "python",
   "name": "python3"
  },
  "language_info": {
   "codemirror_mode": {
    "name": "ipython",
    "version": 3
   },
   "file_extension": ".py",
   "mimetype": "text/x-python",
   "name": "python",
   "nbconvert_exporter": "python",
   "pygments_lexer": "ipython3",
   "version": "3.8.10"
  }
 },
 "nbformat": 4,
 "nbformat_minor": 5
}
