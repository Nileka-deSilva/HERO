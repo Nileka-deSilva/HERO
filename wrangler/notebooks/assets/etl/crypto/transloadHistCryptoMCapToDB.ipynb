{
 "cells": [
  {
   "cell_type": "markdown",
   "id": "72dbb7dd",
   "metadata": {},
   "source": [
    "# Document the Data Sources\n",
    "* [Coingecko python code](https://github.com/man-c/pycoingecko)"
   ]
  },
  {
   "cell_type": "code",
   "execution_count": 1,
   "id": "20d8f07e",
   "metadata": {},
   "outputs": [],
   "source": [
    "'''\n",
    "    WARNING CONTROL to display or ignore all warnings\n",
    "'''\n",
    "import warnings; warnings.simplefilter('ignore')     #switch betweeb 'default' and 'ignore'\n",
    "import traceback\n",
    "\n",
    "''' Set debug flag to view extended error messages; else set it to False to turn off debugging mode '''\n",
    "debug = True"
   ]
  },
  {
   "cell_type": "markdown",
   "id": "f13e7aeb",
   "metadata": {},
   "source": [
    "## Initialize classes"
   ]
  },
  {
   "cell_type": "code",
   "execution_count": 46,
   "id": "c0b673c0",
   "metadata": {},
   "outputs": [
    {
     "name": "stdout",
     "output_type": "stream",
     "text": [
      "All python packages in rezaware loaded successfully!\n",
      "All assets-module etl-packages in function-CryptoMarket imported successfully!\n",
      "All etl-module load-packages in function-mongodbwls imported successfully!\n",
      "mongodbwls Class initialization complete\n",
      "mongodbwls Class initialization complete\n",
      "CryptoMarket Class initialization complete\n",
      "\n",
      "Class initialization and load complete!\n"
     ]
    }
   ],
   "source": [
    "import os\n",
    "import sys\n",
    "import configparser\n",
    "from datetime import datetime, date, timedelta\n",
    "\n",
    "sys.path.insert(1,\"/home/nuwan/workspace/rezaware/\")\n",
    "import rezaware as reza\n",
    "from wrangler.modules.assets.etl import cryptoMCExtractor as crypto\n",
    "# from utils.modules.etl.load import noSQLwls as nosql\n",
    "from utils.modules.etl.load import sparkNoSQLwls as nosql\n",
    "\n",
    "''' restart initiate classes '''\n",
    "if debug:\n",
    "    import importlib\n",
    "    reza = importlib.reload(reza)\n",
    "    crypto = importlib.reload(crypto)\n",
    "    nosql = importlib.reload(nosql)\n",
    "\n",
    "clsNoSQL = nosql.NoSQLWorkLoads(desc=\"get crypto macket capitalization data\")\n",
    "''' optional - if not specified class will use the default values '''\n",
    "prop_kwargs = {\"WRITE_TO_TMP\":True,   # necessary to emulate the etl dag\n",
    "              }\n",
    "clsMC = crypto.CryptoMarkets(\n",
    "    desc='get crypto macket capitalization data', **prop_kwargs)\n",
    "print(\"\\nClass initialization and load complete!\")"
   ]
  },
  {
   "cell_type": "markdown",
   "id": "e8e9e6be",
   "metadata": {},
   "source": [
    "## Transform & Load into Postgresql"
   ]
  },
  {
   "cell_type": "code",
   "execution_count": 138,
   "id": "7120f115",
   "metadata": {},
   "outputs": [
    {
     "ename": "KeyboardInterrupt",
     "evalue": "",
     "output_type": "error",
     "traceback": [
      "\u001b[0;31m---------------------------------------------------------------------------\u001b[0m",
      "\u001b[0;31mKeyboardInterrupt\u001b[0m                         Traceback (most recent call last)",
      "Input \u001b[0;32mIn [138]\u001b[0m, in \u001b[0;36m<cell line: 5>\u001b[0;34m()\u001b[0m\n\u001b[1;32m      2\u001b[0m _from_dt\u001b[38;5;241m=\u001b[39mdate(\u001b[38;5;241m2022\u001b[39m,\u001b[38;5;241m4\u001b[39m,\u001b[38;5;241m1\u001b[39m)\n\u001b[1;32m      3\u001b[0m _to_dt\u001b[38;5;241m=\u001b[39mdate(\u001b[38;5;241m2022\u001b[39m,\u001b[38;5;241m6\u001b[39m,\u001b[38;5;241m30\u001b[39m)\n\u001b[0;32m----> 5\u001b[0m _data \u001b[38;5;241m=\u001b[39m \u001b[43mclsMC\u001b[49m\u001b[38;5;241;43m.\u001b[39;49m\u001b[43mtrasnform_mcap\u001b[49m\u001b[43m(\u001b[49m\n\u001b[1;32m      6\u001b[0m \u001b[43m    \u001b[49m\u001b[43mdata_owner\u001b[49m\u001b[38;5;241;43m=\u001b[39;49m\u001b[43m_data_owner\u001b[49m\u001b[43m,\u001b[49m\n\u001b[1;32m      7\u001b[0m \u001b[43m    \u001b[49m\u001b[43mfrom_date\u001b[49m\u001b[38;5;241;43m=\u001b[39;49m\u001b[43m_from_dt\u001b[49m\u001b[43m,\u001b[49m\n\u001b[1;32m      8\u001b[0m \u001b[43m    \u001b[49m\u001b[43mto_date\u001b[49m\u001b[38;5;241;43m=\u001b[39;49m\u001b[43m_to_dt\u001b[49m\u001b[43m,\u001b[49m\n\u001b[1;32m      9\u001b[0m \u001b[43m)\u001b[49m\n\u001b[1;32m     10\u001b[0m \u001b[38;5;28mprint\u001b[39m(\u001b[38;5;28mtype\u001b[39m(_data))\n",
      "File \u001b[0;32m~/workspace/rezaware/wrangler/modules/assets/etl/cryptoMCExtractor.py:962\u001b[0m, in \u001b[0;36mCryptoMarkets.trasnform_mcap\u001b[0;34m(self, data_owner, from_date, to_date, **kwargs)\u001b[0m\n\u001b[1;32m    955\u001b[0m         tmp_df \u001b[38;5;241m=\u001b[39m pd\u001b[38;5;241m.\u001b[39mDataFrame()\n\u001b[1;32m    956\u001b[0m         tmp_df \u001b[38;5;241m=\u001b[39m clsNoSQL\u001b[38;5;241m.\u001b[39mread_documents(\n\u001b[1;32m    957\u001b[0m             as_type \u001b[38;5;241m=\u001b[39m __as_type__,\n\u001b[1;32m    958\u001b[0m             db_name \u001b[38;5;241m=\u001b[39m _source_db,\n\u001b[1;32m    959\u001b[0m             db_coll \u001b[38;5;241m=\u001b[39m _coll_name, \n\u001b[1;32m    960\u001b[0m             doc_find \u001b[38;5;241m=\u001b[39m {}\n\u001b[1;32m    961\u001b[0m         )\n\u001b[0;32m--> 962\u001b[0m         _hist_mcap_df \u001b[38;5;241m=\u001b[39m pd\u001b[38;5;241m.\u001b[39mconcat([_hist_mcap_df,tmp_df])\n\u001b[1;32m    963\u001b[0m     \u001b[38;5;28mself\u001b[39m\u001b[38;5;241m.\u001b[39m_data \u001b[38;5;241m=\u001b[39m _hist_mcap_df\u001b[38;5;241m.\u001b[39mdrop_duplicates()\n\u001b[1;32m    965\u001b[0m \u001b[38;5;28;01mexcept\u001b[39;00m \u001b[38;5;167;01mException\u001b[39;00m \u001b[38;5;28;01mas\u001b[39;00m err:\n",
      "\u001b[0;31mKeyboardInterrupt\u001b[0m: "
     ]
    }
   ],
   "source": [
    "_data_owner='coingecko'\n",
    "_from_dt=date(2022,1,1)\n",
    "_to_dt=date(2022,3,31)\n",
    "\n",
    "_data = clsMC.trasnform_mcap(\n",
    "    data_owner=_data_owner,\n",
    "    from_date=_from_dt,\n",
    "    to_date=_to_dt,\n",
    ")\n",
    "print(type(_data))"
   ]
  },
  {
   "cell_type": "code",
   "execution_count": 128,
   "id": "db0b5c3c",
   "metadata": {},
   "outputs": [
    {
     "name": "stdout",
     "output_type": "stream",
     "text": [
      "<class 'pandas.core.frame.DataFrame'>\n",
      "Int64Index: 1126940 entries, 0 to 90\n",
      "Data columns (total 10 columns):\n",
      " #   Column       Non-Null Count    Dtype  \n",
      "---  ------       --------------    -----  \n",
      " 0   _id          1126940 non-null  object \n",
      " 1   source       1126940 non-null  object \n",
      " 2   symbol       1126940 non-null  object \n",
      " 3   date         1126940 non-null  object \n",
      " 4   marketcap    1126940 non-null  float64\n",
      " 5   id           14 non-null       object \n",
      " 6   name         14 non-null       object \n",
      " 7   price        14 non-null       float64\n",
      " 8   totalvolume  14 non-null       float64\n",
      " 9   unit         14 non-null       object \n",
      "dtypes: float64(3), object(7)\n",
      "memory usage: 94.6+ MB\n"
     ]
    }
   ],
   "source": [
    "_data.info()"
   ]
  },
  {
   "cell_type": "markdown",
   "id": "23055593",
   "metadata": {},
   "source": [
    "## Direct DB update datasource"
   ]
  },
  {
   "cell_type": "code",
   "execution_count": 49,
   "id": "42f78198",
   "metadata": {},
   "outputs": [
    {
     "name": "stdout",
     "output_type": "stream",
     "text": [
      "['coingecko.2022-01-01.wbtc', 'coingecko.2022-07-01.obt', 'coingecko.2022-07-01.btcmt', 'coingecko.2022-04-01.nsbt', 'coingecko.2022-01-01.nsbt', 'coingecko.2022-07-01.btc2', 'coingecko.2022-01-01.bto', 'coingecko.2022-07-01.ibbtc', 'coingecko.2022-01-01.btcred', 'coingecko.2022-01-01.btse', 'coingecko.2022-01-01.btcz', 'coingecko.2022-07-01.btrfly', 'coingecko.2022-01-01.btc', 'coingecko.2022-04-01.btg', 'coingecko.2022-04-01.renbtc', 'coingecko.2022-01-01.btu', 'coingecko.2022-04-01.btx', 'coingecko.2022-04-01.btl', 'coingecko.2022-07-01.wbtc', 'coingecko.2022-04-01.obtc', 'coingecko.2022-07-01.btnt', 'coingecko.2022-07-01.xbtx', 'coingecko.2022-01-01.btcp', 'coingecko.2022-04-01.wbtc', 'coingecko.2022-01-01.hbtc', 'coingecko.2022-07-01.btc', 'coingecko.2022-04-01.xbtx', 'coingecko.2022-01-01.hbt', 'coingecko.2022-04-01.0xbtc', 'coingecko.2022-07-01.btc2x-fli', 'coingecko.2022-01-01.obt', 'coingecko.2022-01-01.yfbt', 'coingecko.2022-07-01.btb', 'coingecko.2022-07-01.btcst', 'coingecko.2022-04-01.btr', 'coingecko.2022-01-01.btg', 'coingecko.2022-07-01.nsbt', 'coingecko.2022-01-01.obtc', 'coingecko.2022-04-01.btcst', 'coingecko.2022-07-01.obtc', 'coingecko.2022-07-01.hbt', 'coingecko.2022-07-01.bta', 'coingecko.2022-04-01.ibbtc', 'coingecko.2022-01-01.btx', 'coingecko.2022-01-01.bts', 'coingecko.2022-07-01.btcz', 'coingecko.2022-04-01.bta', 'coingecko.2022-07-01.btr', 'coingecko.2022-01-01.albt', 'coingecko.2022-04-01.bto', 'coingecko.2022-01-01.btcs', 'coingecko.2022-01-01.bta', 'coingecko.2022-07-01.btc2x-fli-p', 'coingecko.2022-07-01.tbtc', 'coingecko.2022-04-01.btc', 'coingecko.2022-04-01.btu', 'coingecko.2022-04-01.btt', 'coingecko.2022-07-01.iwbtc', 'coingecko.2022-01-01.abt', 'coingecko.2022-01-01.btcone', 'coingecko.2022-04-01.btm', 'coingecko.2022-04-01.btcone', 'coingecko.2022-07-01.btcs', 'coingecko.2022-07-01.yfbt', 'coingecko.2022-07-01.btg', 'coingecko.2022-07-01.sbtc', 'coingecko.2022-04-01.nbt', 'coingecko.2022-01-01.ubt', 'coingecko.2022-07-01.btu', 'coingecko.2022-01-01.pbtc35a', 'coingecko.2022-04-01.btcred', 'coingecko.2022-07-01.btm', 'coingecko.2022-07-01.btsg', 'coingecko.2022-07-01.btcred', 'coingecko.2022-04-01.albt', 'coingecko.2022-01-01.btb', 'coingecko.2022-01-01.0xbtc', 'coingecko.2022-07-01.rbt', 'coingecko.2022-04-01.btb', 'coingecko.2022-07-01.btl', 'coingecko.2022-07-01.btcp', 'coingecko.2022-07-01.albt', 'coingecko.2022-04-01.btsg', 'coingecko.2022-07-01.bto', 'coingecko.2022-01-01.btm', 'coingecko.2022-07-01.renbtc', 'coingecko.2022-07-01.abt', 'coingecko.2022-07-01.pbtc35a', 'coingecko.2022-01-01.btc++', 'coingecko.2022-07-01.nbt', 'coingecko.2022-01-01.cwbtc', 'coingecko.2022-04-01.cwbtc', 'coingecko.2022-07-01.bts', 'coingecko.2022-07-01.0xbtc', 'coingecko.2022-04-01.btcp', 'coingecko.2022-04-01.btcmt', 'coingecko.2022-04-01.btcs', 'coingecko.2022-04-01.pbtc35a', 'coingecko.2022-04-01.obt', 'coingecko.2022-07-01.btc++', 'coingecko.2022-07-01.bkbt', 'coingecko.2022-01-01.renbtc', 'coingecko.2022-07-01.btse', 'coingecko.2022-07-01.btt', 'coingecko.2022-07-01.ibtc-fli-p', 'coingecko.2022-01-01.btc2', 'coingecko.2022-04-01.hbt', 'coingecko.2022-01-01.btcst', 'coingecko.2022-04-01.btc2', 'coingecko.2022-04-01.btc++', 'coingecko.2022-04-01.bkbt', 'coingecko.2022-07-01.ubt', 'coingecko.2022-07-01.btw', 'coingecko.2022-07-01.pbtc', 'coingecko.2022-04-01.btse', 'coingecko.2022-04-01.abt', 'coingecko.2022-07-01.hbtc', 'coingecko.2022-01-01.ibbtc', 'coingecko.2022-01-01.btl', 'coingecko.2022-07-01.btcone', 'coingecko.2022-07-01.cwbtc', 'coingecko.2022-04-01.bts', 'coingecko.2022-01-01.btc2x-fli', 'coingecko.2022-04-01.btc2x-fli', 'coingecko.2022-04-01.btw', 'coingecko.2022-01-01.xbtx', 'coingecko.2022-04-01.ubt', 'coingecko.2022-01-01.bkbt', 'coingecko.2022-04-01.btcz', 'coingecko.2022-04-01.yfbt', 'coingecko.2022-01-01.btw', 'coingecko.2022-07-01.qbt', 'coingecko.2022-04-01.btnt', 'coingecko.2022-07-01.btx', 'coingecko.2022-04-01.hbtc', 'coingecko.2022-01-01.btcmt']\n"
     ]
    }
   ],
   "source": [
    "clsNoSQL.dbType = 'mongodb'\n",
    "clsNoSQL.dbName = 'tip-historic-marketcap'\n",
    "clsNoSQL.collections = {\"HASINNAME\":'btc'}\n",
    "print(clsNoSQL.collections)"
   ]
  },
  {
   "cell_type": "code",
   "execution_count": null,
   "id": "33eda850",
   "metadata": {},
   "outputs": [],
   "source": []
  }
 ],
 "metadata": {
  "kernelspec": {
   "display_name": "Python 3 (ipykernel)",
   "language": "python",
   "name": "python3"
  },
  "language_info": {
   "codemirror_mode": {
    "name": "ipython",
    "version": 3
   },
   "file_extension": ".py",
   "mimetype": "text/x-python",
   "name": "python",
   "nbconvert_exporter": "python",
   "pygments_lexer": "ipython3",
   "version": "3.8.10"
  }
 },
 "nbformat": 4,
 "nbformat_minor": 5
}
