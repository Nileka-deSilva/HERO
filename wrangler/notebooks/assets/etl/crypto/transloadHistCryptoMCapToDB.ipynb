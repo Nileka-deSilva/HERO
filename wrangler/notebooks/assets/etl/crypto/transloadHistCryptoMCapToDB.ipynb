{
 "cells": [
  {
   "cell_type": "markdown",
   "id": "72dbb7dd",
   "metadata": {},
   "source": [
    "# Document the Data Sources\n",
    "* [Coingecko python code](https://github.com/man-c/pycoingecko)"
   ]
  },
  {
   "cell_type": "code",
   "execution_count": 58,
   "id": "20d8f07e",
   "metadata": {},
   "outputs": [],
   "source": [
    "'''\n",
    "    WARNING CONTROL to display or ignore all warnings\n",
    "'''\n",
    "import warnings; warnings.simplefilter('ignore')     #switch betweeb 'default' and 'ignore'\n",
    "import traceback\n",
    "\n",
    "''' Set debug flag to view extended error messages; else set it to False to turn off debugging mode '''\n",
    "debug = True"
   ]
  },
  {
   "cell_type": "markdown",
   "id": "f13e7aeb",
   "metadata": {},
   "source": [
    "## Initialize classes"
   ]
  },
  {
   "cell_type": "code",
   "execution_count": 59,
   "id": "c0b673c0",
   "metadata": {},
   "outputs": [
    {
     "name": "stdout",
     "output_type": "stream",
     "text": [
      "All python packages in rezaware loaded successfully!\n",
      "All assets-module etl-packages in function-CryptoMarket imported successfully!\n",
      "All etl-module load-packages in function-sparkNoSQLwls imported successfully!\n",
      "All packages in utils etl load sparkdbwls imported successfully!\n",
      "sparkNoSQLwls Class initialization complete\n",
      "sparkNoSQLwls Class initialization complete\n",
      "CryptoMarket Class initialization complete\n",
      "\n",
      "Class initialization and load complete!\n"
     ]
    }
   ],
   "source": [
    "import os\n",
    "import sys\n",
    "import configparser\n",
    "from datetime import datetime, date, timedelta\n",
    "\n",
    "sys.path.insert(1,\"/home/nuwan/workspace/rezaware/\")\n",
    "import rezaware as reza\n",
    "from wrangler.modules.assets.etl import cryptoMCExtractor as mcap\n",
    "from utils.modules.etl.load import sparkDBwls as spark\n",
    "from utils.modules.etl.load import sparkNoSQLwls as nosql\n",
    "\n",
    "''' restart initiate classes '''\n",
    "if debug:\n",
    "    import importlib\n",
    "    reza = importlib.reload(reza)\n",
    "    mcap = importlib.reload(mcap)\n",
    "    nosql = importlib.reload(nosql)\n",
    "    spark = importlib.reload(spark)\n",
    "    \n",
    "__desc__ = \"get crypto macket capitalization data\"\n",
    "clsNoSQL = nosql.NoSQLWorkLoads(desc=__desc__)\n",
    "clsSpark = spark.SQLWorkLoads(desc=__desc__)\n",
    "''' optional - if not specified class will use the default values '''\n",
    "prop_kwargs = {\"WRITE_TO_TMP\":True,   # necessary to emulate the etl dag\n",
    "              }\n",
    "clsMC = mcap.CryptoMarkets(desc=__desc__, **prop_kwargs)\n",
    "print(\"\\nClass initialization and load complete!\")"
   ]
  },
  {
   "cell_type": "markdown",
   "id": "23055593",
   "metadata": {},
   "source": [
    "## Transform collections into Spark DataFrame"
   ]
  },
  {
   "cell_type": "code",
   "execution_count": 60,
   "id": "8dddb199",
   "metadata": {},
   "outputs": [],
   "source": [
    "# _data_owner='coingecko'\n",
    "__SOURCEDBNAME__ = 'tip-historic-marketcap'\n",
    "__DESTINDBNAME__ = 'tip'\n",
    "__DESTINTABLE__ = 'mcap_past'\n",
    "\n",
    "_from_dt=date(2022,1,1)\n",
    "_to_dt=date(2022,3,31)\n",
    "_kwargs = {\n",
    "#     \"SOURCEDBNAME\":'tip-historic-marketcap',\n",
    "    \"DBAUTHSOURCE\":'tip-historic-marketcap',\n",
    "   \"HASINNAME\":'coingecko.2022-04-01.btc',\n",
    "#     \"COLLLIST\":['coingecko.2022-04-01.btc','coingecko.2022-04-01.etc'],\n",
    "#     \"COLLLIST\":['coingecko.2022-04-01.btc'],\n",
    "    \"DESTINTBLNAME\":'mcap_past',\n",
    "    \"FIND\":{'symbol':{'$eq':'btc'}},   # use the find key to define a filter\n",
    "    \"COLUMNSMAP\":{'_id':'uuid',\n",
    "                 'source':'data_source',\n",
    "                 'symbol':'asset_symbol',\n",
    "                 'date':'mcap_date',\n",
    "                 'marketcap':'mcap_value'\n",
    "                }\n",
    "}\n",
    "_data = clsMC.nosql_to_sql(\n",
    "    source_db=__SOURCEDBNAME__,\n",
    "    coll_list=[],\n",
    "    destin_db=__DESTINDBNAME__,\n",
    "    table_name=__DESTINTABLE__,\n",
    "    **_kwargs,\n",
    ")"
   ]
  },
  {
   "cell_type": "code",
   "execution_count": 83,
   "id": "36b9d9c1",
   "metadata": {},
   "outputs": [
    {
     "name": "stdout",
     "output_type": "stream",
     "text": [
      "<pyspark.sql.session.SparkSession object at 0x7feba0750400>\n"
     ]
    }
   ],
   "source": [
    "# print(clsSpark.dbConnURL)\n",
    "print(clsSpark.session)"
   ]
  },
  {
   "cell_type": "code",
   "execution_count": 61,
   "id": "7cef7462",
   "metadata": {
    "scrolled": false
   },
   "outputs": [
    {
     "name": "stdout",
     "output_type": "stream",
     "text": [
      "(2155, 5)\n"
     ]
    },
    {
     "data": {
      "text/html": [
       "<div>\n",
       "<style scoped>\n",
       "    .dataframe tbody tr th:only-of-type {\n",
       "        vertical-align: middle;\n",
       "    }\n",
       "\n",
       "    .dataframe tbody tr th {\n",
       "        vertical-align: top;\n",
       "    }\n",
       "\n",
       "    .dataframe thead th {\n",
       "        text-align: right;\n",
       "    }\n",
       "</style>\n",
       "<table border=\"1\" class=\"dataframe\">\n",
       "  <thead>\n",
       "    <tr style=\"text-align: right;\">\n",
       "      <th></th>\n",
       "      <th>uuid</th>\n",
       "      <th>data_source</th>\n",
       "      <th>asset_symbol</th>\n",
       "      <th>mcap_date</th>\n",
       "      <th>mcap_value</th>\n",
       "    </tr>\n",
       "  </thead>\n",
       "  <tbody>\n",
       "    <tr>\n",
       "      <th>0</th>\n",
       "      <td>63957c2b9d51d344925eb63d</td>\n",
       "      <td>coingecko</td>\n",
       "      <td>btc</td>\n",
       "      <td>2022-04-01 00:01:18.562</td>\n",
       "      <td>8.837488e+11</td>\n",
       "    </tr>\n",
       "    <tr>\n",
       "      <th>1</th>\n",
       "      <td>63957c2b9d51d344925eb63e</td>\n",
       "      <td>coingecko</td>\n",
       "      <td>btc</td>\n",
       "      <td>2022-04-01 01:01:32.205</td>\n",
       "      <td>8.727383e+11</td>\n",
       "    </tr>\n",
       "    <tr>\n",
       "      <th>2</th>\n",
       "      <td>63957c2b9d51d344925eb63f</td>\n",
       "      <td>coingecko</td>\n",
       "      <td>btc</td>\n",
       "      <td>2022-04-01 02:02:19.255</td>\n",
       "      <td>8.698273e+11</td>\n",
       "    </tr>\n",
       "    <tr>\n",
       "      <th>3</th>\n",
       "      <td>63957c2b9d51d344925eb640</td>\n",
       "      <td>coingecko</td>\n",
       "      <td>btc</td>\n",
       "      <td>2022-04-01 03:02:05.569</td>\n",
       "      <td>8.728794e+11</td>\n",
       "    </tr>\n",
       "    <tr>\n",
       "      <th>4</th>\n",
       "      <td>63957c2b9d51d344925eb641</td>\n",
       "      <td>coingecko</td>\n",
       "      <td>btc</td>\n",
       "      <td>2022-04-01 04:01:42.978</td>\n",
       "      <td>8.659717e+11</td>\n",
       "    </tr>\n",
       "    <tr>\n",
       "      <th>...</th>\n",
       "      <td>...</td>\n",
       "      <td>...</td>\n",
       "      <td>...</td>\n",
       "      <td>...</td>\n",
       "      <td>...</td>\n",
       "    </tr>\n",
       "    <tr>\n",
       "      <th>2150</th>\n",
       "      <td>63957c2b9d51d344925ebea3</td>\n",
       "      <td>coingecko</td>\n",
       "      <td>btc</td>\n",
       "      <td>2022-06-29 19:02:05.966</td>\n",
       "      <td>3.836757e+11</td>\n",
       "    </tr>\n",
       "    <tr>\n",
       "      <th>2151</th>\n",
       "      <td>63957c2b9d51d344925ebea4</td>\n",
       "      <td>coingecko</td>\n",
       "      <td>btc</td>\n",
       "      <td>2022-06-29 20:02:13.167</td>\n",
       "      <td>3.834211e+11</td>\n",
       "    </tr>\n",
       "    <tr>\n",
       "      <th>2152</th>\n",
       "      <td>63957c2b9d51d344925ebea5</td>\n",
       "      <td>coingecko</td>\n",
       "      <td>btc</td>\n",
       "      <td>2022-06-29 21:01:46.179</td>\n",
       "      <td>3.820171e+11</td>\n",
       "    </tr>\n",
       "    <tr>\n",
       "      <th>2153</th>\n",
       "      <td>63957c2b9d51d344925ebea6</td>\n",
       "      <td>coingecko</td>\n",
       "      <td>btc</td>\n",
       "      <td>2022-06-29 22:03:34.850</td>\n",
       "      <td>3.802612e+11</td>\n",
       "    </tr>\n",
       "    <tr>\n",
       "      <th>2154</th>\n",
       "      <td>63957c2b9d51d344925ebea7</td>\n",
       "      <td>coingecko</td>\n",
       "      <td>btc</td>\n",
       "      <td>2022-06-29 23:02:44.424</td>\n",
       "      <td>3.846578e+11</td>\n",
       "    </tr>\n",
       "  </tbody>\n",
       "</table>\n",
       "<p>2155 rows × 5 columns</p>\n",
       "</div>"
      ],
      "text/plain": [
       "                          uuid data_source asset_symbol  \\\n",
       "0     63957c2b9d51d344925eb63d   coingecko          btc   \n",
       "1     63957c2b9d51d344925eb63e   coingecko          btc   \n",
       "2     63957c2b9d51d344925eb63f   coingecko          btc   \n",
       "3     63957c2b9d51d344925eb640   coingecko          btc   \n",
       "4     63957c2b9d51d344925eb641   coingecko          btc   \n",
       "...                        ...         ...          ...   \n",
       "2150  63957c2b9d51d344925ebea3   coingecko          btc   \n",
       "2151  63957c2b9d51d344925ebea4   coingecko          btc   \n",
       "2152  63957c2b9d51d344925ebea5   coingecko          btc   \n",
       "2153  63957c2b9d51d344925ebea6   coingecko          btc   \n",
       "2154  63957c2b9d51d344925ebea7   coingecko          btc   \n",
       "\n",
       "                   mcap_date    mcap_value  \n",
       "0    2022-04-01 00:01:18.562  8.837488e+11  \n",
       "1    2022-04-01 01:01:32.205  8.727383e+11  \n",
       "2    2022-04-01 02:02:19.255  8.698273e+11  \n",
       "3    2022-04-01 03:02:05.569  8.728794e+11  \n",
       "4    2022-04-01 04:01:42.978  8.659717e+11  \n",
       "...                      ...           ...  \n",
       "2150 2022-06-29 19:02:05.966  3.836757e+11  \n",
       "2151 2022-06-29 20:02:13.167  3.834211e+11  \n",
       "2152 2022-06-29 21:01:46.179  3.820171e+11  \n",
       "2153 2022-06-29 22:03:34.850  3.802612e+11  \n",
       "2154 2022-06-29 23:02:44.424  3.846578e+11  \n",
       "\n",
       "[2155 rows x 5 columns]"
      ]
     },
     "execution_count": 61,
     "metadata": {},
     "output_type": "execute_result"
    }
   ],
   "source": [
    "print(_data.shape)\n",
    "_data"
   ]
  },
  {
   "cell_type": "markdown",
   "id": "e9d6c601",
   "metadata": {},
   "source": [
    "## Spark MongoDB experiment"
   ]
  },
  {
   "cell_type": "code",
   "execution_count": 55,
   "id": "37625d6f",
   "metadata": {},
   "outputs": [
    {
     "name": "stdout",
     "output_type": "stream",
     "text": [
      "mongodb 127.0.0.1 27017 mongo tip-asset-metadata farmraider spirittribe tip-asset-metadata SCRAM-SHA-256 local[1]\n"
     ]
    }
   ],
   "source": [
    "print(clsNoSQL.dbType,\n",
    "      clsNoSQL.dbHostIP,\n",
    "      clsNoSQL.dbPort,\n",
    "      clsNoSQL.dbFormat,\n",
    "      clsNoSQL.dbName,\n",
    "      clsNoSQL.dbUser,\n",
    "      clsNoSQL.dbPswd,\n",
    "      clsNoSQL.dbAuthSource,\n",
    "      clsNoSQL.dbAuthMechanism,\n",
    "      clsNoSQL.sparkMaster,\n",
    "     )"
   ]
  },
  {
   "cell_type": "code",
   "execution_count": 51,
   "id": "33eda850",
   "metadata": {},
   "outputs": [
    {
     "name": "stdout",
     "output_type": "stream",
     "text": [
      "22/12/16 15:15:19 WARN SparkSession: Using an existing Spark session; only runtime SQL configurations will take effect.\n",
      "root\n",
      " |-- _id: struct (nullable = true)\n",
      " |    |-- oid: string (nullable = true)\n",
      " |-- date: timestamp (nullable = true)\n",
      " |-- marketcap: double (nullable = true)\n",
      " |-- source: string (nullable = true)\n",
      " |-- symbol: string (nullable = true)\n",
      "\n",
      "+--------------------+-------------------+--------------------+---------+------+\n",
      "|                 _id|               date|           marketcap|   source|symbol|\n",
      "+--------------------+-------------------+--------------------+---------+------+\n",
      "|{6390a3bf9d51d344...|2022-07-01 16:00:00|3.659842243234527...|coingecko|   btc|\n",
      "|{6390a3bf9d51d344...|2022-07-02 16:00:00|3.709165299187163E11|coingecko|   btc|\n",
      "|{6390a3bf9d51d344...|2022-07-03 16:00:00| 3.67706689137568E11|coingecko|   btc|\n",
      "|{6390a3bf9d51d344...|2022-07-04 16:00:00|3.685493641350522...|coingecko|   btc|\n",
      "|{6390a3bf9d51d344...|2022-07-05 16:00:00|3.864251762627784...|coingecko|   btc|\n",
      "|{6390a3bf9d51d344...|2022-07-06 16:00:00|3.853017830657297...|coingecko|   btc|\n",
      "|{6390a3bf9d51d344...|2022-07-07 16:00:00|3.924798330706018E11|coingecko|   btc|\n",
      "|{6390a3bf9d51d344...|2022-07-08 16:00:00|4.140556385738548E11|coingecko|   btc|\n",
      "|{6390a3bf9d51d344...|2022-07-09 16:00:00|4.176902865045072...|coingecko|   btc|\n",
      "|{6390a3bf9d51d344...|2022-07-10 16:00:00|4.124598387382113E11|coingecko|   btc|\n",
      "|{6390a3bf9d51d344...|2022-07-11 16:00:00|3.982495458886735E11|coingecko|   btc|\n",
      "|{6390a3bf9d51d344...|2022-07-12 16:00:00|3.820002903223988...|coingecko|   btc|\n",
      "|{6390a3bf9d51d344...|2022-07-13 16:00:00|3.701917672905106E11|coingecko|   btc|\n",
      "|{6390a3bf9d51d344...|2022-07-14 16:00:00|3.854625665489708E11|coingecko|   btc|\n",
      "|{6390a3bf9d51d344...|2022-07-15 16:00:00|3.931043467027113...|coingecko|   btc|\n",
      "|{6390a3bf9d51d344...|2022-07-16 16:00:00|3.972852330656553...|coingecko|   btc|\n",
      "|{6390a3bf9d51d344...|2022-07-17 16:00:00|4.047056425808907...|coingecko|   btc|\n",
      "|{6390a3bf9d51d344...|2022-07-18 16:00:00|3.976606105605498E11|coingecko|   btc|\n",
      "|{6390a3bf9d51d344...|2022-07-19 16:00:00|4.257567366606174E11|coingecko|   btc|\n",
      "|{6390a3bf9d51d344...|2022-07-20 16:00:00|4.458890132511064E11|coingecko|   btc|\n",
      "+--------------------+-------------------+--------------------+---------+------+\n",
      "only showing top 20 rows\n",
      "\n"
     ]
    }
   ],
   "source": [
    "from pyspark.sql import SparkSession\n",
    "_appName = \" \".join(\n",
    "    [clsNoSQL.__app__,\n",
    "     clsNoSQL.__name__,\n",
    "     clsNoSQL.__package__,\n",
    "     clsNoSQL.__module__\n",
    "    ])   #\"PySpark MongoDB Examples\"\n",
    "_master = clsNoSQL.sparkMaster  # \"local[1]\"\n",
    "_h_ip = clsNoSQL.dbHostIP #\"127.0.0.1\"\n",
    "_type = clsNoSQL.dbType   # mongodb\n",
    "_port = clsNoSQL.dbPort   # 27017\n",
    "_format = clsNoSQL.dbFormat # mongo\n",
    "_user = clsNoSQL.dbUser   # \"farmraider\"\n",
    "_pswd = clsNoSQL.dbPswd   # \"spirittribe\"\n",
    "_auth = clsNoSQL.dbAuthSource   #\"tip-historic-marketcap\"\n",
    "_db = clsNoSQL.dbName     # \"tip-historic-marketcap\"\n",
    "_coll = 'coingecko.2022-07-01.btc'\n",
    "\n",
    "_inp_uri = f\"{_type}://{_user}:{_pswd}@{_h_ip}/{_db}.{_coll}?authSource={_auth}\"\n",
    "_out_uri = f\"{_type}://{_user}:{_pswd}@{_h_ip}/{_db}.{_coll}?authSource={_auth}\"\n",
    "\n",
    "# Create Spark session\n",
    "spark = SparkSession.builder \\\n",
    "    .appName(_appName) \\\n",
    "    .master(_master) \\\n",
    "    .config(\"spark.mongodb.input.uri\", _inp_uri) \\\n",
    "    .config(\"spark.mongodb.output.uri\", _out_uri) \\\n",
    "    .getOrCreate()\n",
    "\n",
    "# Read data from MongoDB\n",
    "df = spark.read.format(_format).load()\n",
    "df.printSchema()\n",
    "df.show()"
   ]
  },
  {
   "cell_type": "markdown",
   "id": "e8e9e6be",
   "metadata": {},
   "source": [
    "## Transform & Load into Postgresql"
   ]
  },
  {
   "cell_type": "code",
   "execution_count": 138,
   "id": "7120f115",
   "metadata": {},
   "outputs": [
    {
     "ename": "KeyboardInterrupt",
     "evalue": "",
     "output_type": "error",
     "traceback": [
      "\u001b[0;31m---------------------------------------------------------------------------\u001b[0m",
      "\u001b[0;31mKeyboardInterrupt\u001b[0m                         Traceback (most recent call last)",
      "Input \u001b[0;32mIn [138]\u001b[0m, in \u001b[0;36m<cell line: 5>\u001b[0;34m()\u001b[0m\n\u001b[1;32m      2\u001b[0m _from_dt\u001b[38;5;241m=\u001b[39mdate(\u001b[38;5;241m2022\u001b[39m,\u001b[38;5;241m4\u001b[39m,\u001b[38;5;241m1\u001b[39m)\n\u001b[1;32m      3\u001b[0m _to_dt\u001b[38;5;241m=\u001b[39mdate(\u001b[38;5;241m2022\u001b[39m,\u001b[38;5;241m6\u001b[39m,\u001b[38;5;241m30\u001b[39m)\n\u001b[0;32m----> 5\u001b[0m _data \u001b[38;5;241m=\u001b[39m \u001b[43mclsMC\u001b[49m\u001b[38;5;241;43m.\u001b[39;49m\u001b[43mtrasnform_mcap\u001b[49m\u001b[43m(\u001b[49m\n\u001b[1;32m      6\u001b[0m \u001b[43m    \u001b[49m\u001b[43mdata_owner\u001b[49m\u001b[38;5;241;43m=\u001b[39;49m\u001b[43m_data_owner\u001b[49m\u001b[43m,\u001b[49m\n\u001b[1;32m      7\u001b[0m \u001b[43m    \u001b[49m\u001b[43mfrom_date\u001b[49m\u001b[38;5;241;43m=\u001b[39;49m\u001b[43m_from_dt\u001b[49m\u001b[43m,\u001b[49m\n\u001b[1;32m      8\u001b[0m \u001b[43m    \u001b[49m\u001b[43mto_date\u001b[49m\u001b[38;5;241;43m=\u001b[39;49m\u001b[43m_to_dt\u001b[49m\u001b[43m,\u001b[49m\n\u001b[1;32m      9\u001b[0m \u001b[43m)\u001b[49m\n\u001b[1;32m     10\u001b[0m \u001b[38;5;28mprint\u001b[39m(\u001b[38;5;28mtype\u001b[39m(_data))\n",
      "File \u001b[0;32m~/workspace/rezaware/wrangler/modules/assets/etl/cryptoMCExtractor.py:962\u001b[0m, in \u001b[0;36mCryptoMarkets.trasnform_mcap\u001b[0;34m(self, data_owner, from_date, to_date, **kwargs)\u001b[0m\n\u001b[1;32m    955\u001b[0m         tmp_df \u001b[38;5;241m=\u001b[39m pd\u001b[38;5;241m.\u001b[39mDataFrame()\n\u001b[1;32m    956\u001b[0m         tmp_df \u001b[38;5;241m=\u001b[39m clsNoSQL\u001b[38;5;241m.\u001b[39mread_documents(\n\u001b[1;32m    957\u001b[0m             as_type \u001b[38;5;241m=\u001b[39m __as_type__,\n\u001b[1;32m    958\u001b[0m             db_name \u001b[38;5;241m=\u001b[39m _source_db,\n\u001b[1;32m    959\u001b[0m             db_coll \u001b[38;5;241m=\u001b[39m _coll_name, \n\u001b[1;32m    960\u001b[0m             doc_find \u001b[38;5;241m=\u001b[39m {}\n\u001b[1;32m    961\u001b[0m         )\n\u001b[0;32m--> 962\u001b[0m         _hist_mcap_df \u001b[38;5;241m=\u001b[39m pd\u001b[38;5;241m.\u001b[39mconcat([_hist_mcap_df,tmp_df])\n\u001b[1;32m    963\u001b[0m     \u001b[38;5;28mself\u001b[39m\u001b[38;5;241m.\u001b[39m_data \u001b[38;5;241m=\u001b[39m _hist_mcap_df\u001b[38;5;241m.\u001b[39mdrop_duplicates()\n\u001b[1;32m    965\u001b[0m \u001b[38;5;28;01mexcept\u001b[39;00m \u001b[38;5;167;01mException\u001b[39;00m \u001b[38;5;28;01mas\u001b[39;00m err:\n",
      "\u001b[0;31mKeyboardInterrupt\u001b[0m: "
     ]
    }
   ],
   "source": [
    "_data_owner='coingecko'\n",
    "_from_dt=date(2022,1,1)\n",
    "_to_dt=date(2022,3,31)\n",
    "\n",
    "_data = clsMC.trasnform_mcap(\n",
    "    data_owner=_data_owner,\n",
    "    from_date=_from_dt,\n",
    "    to_date=_to_dt,\n",
    ")\n",
    "print(type(_data))"
   ]
  },
  {
   "cell_type": "code",
   "execution_count": null,
   "id": "3fda3821",
   "metadata": {},
   "outputs": [],
   "source": []
  }
 ],
 "metadata": {
  "kernelspec": {
   "display_name": "Python 3 (ipykernel)",
   "language": "python",
   "name": "python3"
  },
  "language_info": {
   "codemirror_mode": {
    "name": "ipython",
    "version": 3
   },
   "file_extension": ".py",
   "mimetype": "text/x-python",
   "name": "python",
   "nbconvert_exporter": "python",
   "pygments_lexer": "ipython3",
   "version": "3.8.10"
  }
 },
 "nbformat": 4,
 "nbformat_minor": 5
}
