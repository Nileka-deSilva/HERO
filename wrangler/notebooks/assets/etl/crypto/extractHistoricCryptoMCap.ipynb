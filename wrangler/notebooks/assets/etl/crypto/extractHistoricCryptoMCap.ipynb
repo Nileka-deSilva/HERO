{
 "cells": [
  {
   "cell_type": "markdown",
   "id": "72dbb7dd",
   "metadata": {},
   "source": [
    "# Exctract Historic Market Cap data\n",
    "* [Coingecko python code](https://github.com/man-c/pycoingecko)"
   ]
  },
  {
   "cell_type": "code",
   "execution_count": 4,
   "id": "20d8f07e",
   "metadata": {},
   "outputs": [],
   "source": [
    "'''\n",
    "    WARNING CONTROL to display or ignore all warnings\n",
    "'''\n",
    "import warnings; warnings.simplefilter('ignore')     #switch betweeb 'default' and 'ignore'\n",
    "import traceback\n",
    "\n",
    "''' Set debug flag to view extended error messages; else set it to False to turn off debugging mode '''\n",
    "debug = True"
   ]
  },
  {
   "cell_type": "markdown",
   "id": "f13e7aeb",
   "metadata": {},
   "source": [
    "## Initialize classes"
   ]
  },
  {
   "cell_type": "code",
   "execution_count": 104,
   "id": "c0b673c0",
   "metadata": {},
   "outputs": [
    {
     "name": "stdout",
     "output_type": "stream",
     "text": [
      "All python packages in rezaware loaded successfully!\n",
      "All assets-module etl-packages in function-CryptoMarket imported successfully!\n",
      "All etl-module load-packages in function-mongodbwls imported successfully!\n",
      "mongodbwls Class initialization complete\n",
      "mongodbwls Class initialization complete\n",
      "CryptoMarket Class initialization complete\n",
      "\n",
      "Class initialization and load complete!\n"
     ]
    }
   ],
   "source": [
    "import os\n",
    "import sys\n",
    "import configparser\n",
    "from datetime import datetime, date, timedelta\n",
    "\n",
    "sys.path.insert(1,\"/home/nuwan/workspace/rezaware/\")\n",
    "import rezaware as reza\n",
    "from wrangler.modules.assets.etl import cryptoMCExtractor as crypto\n",
    "# from utils.modules.etl.load import noSQLwls as nosql\n",
    "from utils.modules.etl.load import sparkNoSQLwls as nosql\n",
    "\n",
    "''' restart initiate classes '''\n",
    "if debug:\n",
    "    import importlib\n",
    "    reza = importlib.reload(reza)\n",
    "    crypto = importlib.reload(crypto)\n",
    "    nosql = importlib.reload(nosql)\n",
    "\n",
    "clsNoSQL = nosql.NoSQLWorkLoads(desc=\"get crypto macket capitalization data\")\n",
    "''' optional - if not specified class will use the default values '''\n",
    "prop_kwargs = {\"WRITE_TO_TMP\":True,   # necessary to emulate the etl dag\n",
    "              }\n",
    "clsMC = crypto.CryptoMarkets(\n",
    "    desc='get crypto macket capitalization data', **prop_kwargs)\n",
    "print(\"\\nClass initialization and load complete!\")"
   ]
  },
  {
   "cell_type": "markdown",
   "id": "51b88589",
   "metadata": {},
   "source": [
    "## Read catalog data\n",
    "* Distinct API categories: \"asset.metadata\", \"historic.prices\", \"latest.prices\""
   ]
  },
  {
   "cell_type": "code",
   "execution_count": 107,
   "id": "a2125062",
   "metadata": {
    "scrolled": true
   },
   "outputs": [
    {
     "name": "stdout",
     "output_type": "stream",
     "text": [
      "[\n",
      "  {\n",
      "    \"_id\": {\n",
      "      \"$oid\": \"6395617a6c7ec3fa7086e2cf\"\n",
      "    },\n",
      "    \"source\": \"coingecko\",\n",
      "    \"asset\": {\n",
      "      \"isactive\": 0.0\n",
      "    }\n",
      "  },\n",
      "  {\n",
      "    \"_id\": {\n",
      "      \"$oid\": \"639561926c7ec3fa7086e2d7\"\n",
      "    },\n",
      "    \"source\": \"coingecko\",\n",
      "    \"asset\": {\n",
      "      \"isactive\": 0.0\n",
      "    }\n",
      "  }\n",
      "]\n"
     ]
    }
   ],
   "source": [
    "from datetime import datetime\n",
    "from bson.json_util import dumps\n",
    "\n",
    "__now_dt__ = str(datetime.utcnow().isoformat())\n",
    "__as_type__ = 'dict'\n",
    "__database__ = \"tip-historic-marketcap\"\n",
    "__collection__ = \"coingecko.asset.list\"\n",
    "__find__ = {\"asset.id\":{\"$in\":['01coin']},\n",
    "             \"source\":{\"$eq\":\"coingecko\"},\n",
    "           }\n",
    "\n",
    "clsNoSQL.connect={'DBAUTHSOURCE':__database__}\n",
    "_data = clsNoSQL.read_documents(\n",
    "    as_type=__as_type__,\n",
    "    db_name = __database__,\n",
    "    db_coll=__collection__,\n",
    "    doc_find=None#__find__\n",
    ")\n",
    "print(dumps(_data, indent=2))"
   ]
  },
  {
   "cell_type": "markdown",
   "id": "305e6a05",
   "metadata": {},
   "source": [
    "## Extract Historic Marketcap"
   ]
  },
  {
   "cell_type": "code",
   "execution_count": 14,
   "id": "430622bb",
   "metadata": {
    "scrolled": true
   },
   "outputs": [
    {
     "name": "stdout",
     "output_type": "stream",
     "text": [
      "Now processing COINGECKO from 2021-10-01 to 2021-12-31\n"
     ]
    },
    {
     "ename": "KeyboardInterrupt",
     "evalue": "",
     "output_type": "error",
     "traceback": [
      "\u001b[0;31m---------------------------------------------------------------------------\u001b[0m",
      "\u001b[0;31mKeyboardInterrupt\u001b[0m                         Traceback (most recent call last)",
      "Input \u001b[0;32mIn [14]\u001b[0m, in \u001b[0;36m<cell line: 34>\u001b[0;34m()\u001b[0m\n\u001b[1;32m     31\u001b[0m _to_dt\u001b[38;5;241m=\u001b[39mdate(\u001b[38;5;241m2021\u001b[39m,\u001b[38;5;241m12\u001b[39m,\u001b[38;5;241m31\u001b[39m)\n\u001b[1;32m     33\u001b[0m _results\u001b[38;5;241m=\u001b[39m\u001b[38;5;28;01mNone\u001b[39;00m\n\u001b[0;32m---> 34\u001b[0m _results, _failed \u001b[38;5;241m=\u001b[39m \u001b[43mclsMC\u001b[49m\u001b[38;5;241;43m.\u001b[39;49m\u001b[43mextract_historic_mcap\u001b[49m\u001b[43m(\u001b[49m\n\u001b[1;32m     35\u001b[0m \u001b[43m    \u001b[49m\u001b[43mdata_owner\u001b[49m\u001b[38;5;241;43m=\u001b[39;49m\u001b[43m_data_owner\u001b[49m\u001b[43m,\u001b[49m\n\u001b[1;32m     36\u001b[0m \u001b[43m    \u001b[49m\u001b[43mfrom_date\u001b[49m\u001b[43m \u001b[49m\u001b[38;5;241;43m=\u001b[39;49m\u001b[43m \u001b[49m\u001b[43m_from_dt\u001b[49m\u001b[43m,\u001b[49m\n\u001b[1;32m     37\u001b[0m \u001b[43m    \u001b[49m\u001b[43mto_date\u001b[49m\u001b[43m \u001b[49m\u001b[38;5;241;43m=\u001b[39;49m\u001b[43m \u001b[49m\u001b[43m_to_dt\u001b[49m\u001b[43m,\u001b[49m\n\u001b[1;32m     38\u001b[0m \u001b[43m    \u001b[49m\u001b[38;5;241;43m*\u001b[39;49m\u001b[38;5;241;43m*\u001b[39;49m\u001b[43mkwargs\u001b[49m\u001b[43m,\u001b[49m\n\u001b[1;32m     39\u001b[0m \u001b[43m)\u001b[49m\n\u001b[1;32m     40\u001b[0m \u001b[38;5;28;01mif\u001b[39;00m _results \u001b[38;5;129;01mis\u001b[39;00m \u001b[38;5;28;01mNone\u001b[39;00m:\n\u001b[1;32m     41\u001b[0m     \u001b[38;5;28mprint\u001b[39m(\u001b[38;5;124m\"\u001b[39m\u001b[38;5;124mNo results but process completed\u001b[39m\u001b[38;5;124m\"\u001b[39m)\n",
      "File \u001b[0;32m~/workspace/rezaware/wrangler/modules/assets/etl/cryptoMCExtractor.py:411\u001b[0m, in \u001b[0;36mCryptoMarkets.historic_extractor.<locals>.extractor\u001b[0;34m(self, data_owner, from_date, to_date, **kwargs)\u001b[0m\n\u001b[1;32m    406\u001b[0m \u001b[38;5;66;03m#                 if data_owner == 'coinmarketcap':\u001b[39;00m\n\u001b[1;32m    407\u001b[0m \u001b[38;5;66;03m#                     print(\"%s historic data is not free. API to be done\")\u001b[39;00m\n\u001b[1;32m    408\u001b[0m \n\u001b[1;32m    409\u001b[0m \u001b[38;5;66;03m#                 elif data_owner == 'coingecko':\u001b[39;00m\n\u001b[1;32m    410\u001b[0m                 \u001b[38;5;28;01mfor\u001b[39;00m _api \u001b[38;5;129;01min\u001b[39;00m _proc_api_list:\n\u001b[0;32m--> 411\u001b[0m                     \u001b[43mtime\u001b[49m\u001b[38;5;241;43m.\u001b[39;49m\u001b[43msleep\u001b[49m\u001b[43m(\u001b[49m\u001b[43mrandint\u001b[49m\u001b[43m(\u001b[49m\u001b[38;5;241;43m5\u001b[39;49m\u001b[43m,\u001b[49m\u001b[38;5;241;43m10\u001b[39;49m\u001b[43m)\u001b[49m\u001b[43m)\u001b[49m\n\u001b[1;32m    412\u001b[0m                     session \u001b[38;5;241m=\u001b[39m Session()\n\u001b[1;32m    413\u001b[0m                     session\u001b[38;5;241m.\u001b[39mheaders\u001b[38;5;241m.\u001b[39mupdate(_api[\u001b[38;5;124m'\u001b[39m\u001b[38;5;124mheaders\u001b[39m\u001b[38;5;124m'\u001b[39m])\n",
      "\u001b[0;31mKeyboardInterrupt\u001b[0m: "
     ]
    }
   ],
   "source": [
    "import time\n",
    "\n",
    "_data_owner='coingecko'\n",
    "kwargs = {}\n",
    "\n",
    "# kwargs = {\"ASSETS\":[\n",
    "#     {\n",
    "#     \"_id\": {\n",
    "#       \"$oid\": \"638740c7d8ab1a48899bf0a5\"\n",
    "#     },\n",
    "#     \"source\": \"coingecko\",\n",
    "#     \"name\": \"Bitcoin\",\n",
    "#     \"symbol\": \"btc\",\n",
    "#     \"lastupdated\": {\n",
    "#       \"$date\": \"2022-11-30T19:43:19.855Z\"\n",
    "#     },\n",
    "#     \"asset.id\": \"bitcoin\",\n",
    "#     \"asset.isactive\": 0,\n",
    "#     \"asset.tokenaddress\": '',\n",
    "#     \"asset.platforms\": {},\n",
    "#     \"asset\": {\n",
    "#       \"id\": \"bitcoin\",\n",
    "#       \"isactive\": 1.0,\n",
    "#       \"platforms\": {},\n",
    "#       \"tokenaddress\": ''\n",
    "#     }\n",
    "#   }]\n",
    "#          }\n",
    "\n",
    "_from_dt=date(2021,10,1)\n",
    "_to_dt=date(2021,12,31)\n",
    "\n",
    "_results=None\n",
    "_results, _failed = clsMC.extract_historic_mcap(\n",
    "    data_owner=_data_owner,\n",
    "    from_date = _from_dt,\n",
    "    to_date = _to_dt,\n",
    "    **kwargs,\n",
    ")\n",
    "if _results is None:\n",
    "    print(\"No results but process completed\")\n",
    "else:\n",
    "    print(\"Process completed with %d historic extractions\" %len(_results))"
   ]
  },
  {
   "cell_type": "markdown",
   "id": "23055593",
   "metadata": {},
   "source": [
    "## Direct DB update datasource"
   ]
  },
  {
   "cell_type": "code",
   "execution_count": null,
   "id": "f85b8441",
   "metadata": {},
   "outputs": [],
   "source": [
    "db.coingecko.asset.list.updateMany(\n",
    "   {\n",
    "       \"source\" :  {\"$eq\":'coingecko'},\n",
    "       \"asset.id\":{\"$in\":['safemoon-2', 'safutitano', 'samsunspor-fan-token', 'santos-fc-fan-token', 'sao-paulo-fc-fan-token', 'savage', 'savanna', 'save-baby-doge', 'scarecrow', 's-c-corinthians-fan-token', 'seba', 'seeds', 'sekuya', 'shibamax', 'shoot', 'shuey-rhon-inu', 'silva-token', 'smartlink', 'snovio', 'solana-ecosystem-index', 'solape-token', 'solcial', 'solidex', 'solootbox-dao', 'songbird', 'spacecowboy', 'spacerat', 'sphere-finance', 'spiritdao-ghost', 'sporkdao', 'stacktical', 'stader', 'starbots', 'stargaze', 'stobox-token', 'ston', 'straitsx-indonesia-rupiah', 'streamr', 'sugarbounce', 'swapxi-token', 'talecraft', 'team-vitality-fan-token', 'tectonic', 'temple', 'tethys-finance', 'the-crypto-you', 'the-dynasty', 'thetan-coin', 'thorus', 'timeleap-finance', 'tip-blue', 'tokenplace', 'toko', 'toucan-protocol-base-carbon-tonne', 'tradao', 'transhuman-coin', 'transient', 'travel-care-2', 'treasure-sl', 'tzbtc', 'ufc-fan-token', 'unbound-finance', 'unique-utility-token', 'unitedcrowd', 'universidad-de-chile-fan-token', 'uxd-stablecoin', 'value-finance', 'varen', 'vcgamers', 'vedao', 'vee-finance', 'veraone', 'verve', 'vesta-finance', 'vicewrld', 'visor', 'vitall-markets', 'wagmi', 'wagmi-on-solana', 'wam', 'wasder', 'weentar', 'wegro', 'we-love-gm', 'whole-network', 'wicrypt', 'world-of-defish', 'wrapped-usdt', 'xbn-community-token', 'x-consoles', 'xmooney', 'xp-network', 'xtblock-token', 'xy-finance', 'yoshi-exchange', 'zenlink-network-token', 'zignaly', 'ziot', 'zone']},\n",
    "   },\n",
    "   [\n",
    "     { \"$set\": \n",
    "      { \"asset.isactive\": 0.0 },\n",
    "     }\n",
    "   ],\n",
    "    {\n",
    "        \"upsert\":true\n",
    "    }\n",
    ")"
   ]
  },
  {
   "cell_type": "code",
   "execution_count": null,
   "id": "7a74da17",
   "metadata": {},
   "outputs": [],
   "source": [
    "db.coingecko.asset.list.updateMany(\n",
    "   {\n",
    "       \"source\" :  {\"$eq\":'coingecko'},\n",
    "       \"asset.isactive\": {\"$eq\":-1.0},\n",
    "   },\n",
    "   [\n",
    "     { \"$set\": \n",
    "      { \"asset.isactive\": 1.0 },\n",
    "     }\n",
    "   ],\n",
    "    {\n",
    "        \"upsert\":true\n",
    "    }\n",
    ")"
   ]
  },
  {
   "cell_type": "code",
   "execution_count": null,
   "id": "3a507388",
   "metadata": {},
   "outputs": [],
   "source": [
    "db.marketcap.api.update(\n",
    "   { \"category\" :  'crypto.metadata'},\n",
    "   [\n",
    "     { \"$set\": \n",
    "      { \"api.parameters.localization\": \"\" },\n",
    "     }\n",
    "   ],\n",
    "    {\n",
    "        \"upsert\":true\n",
    "    }\n",
    ")"
   ]
  },
  {
   "cell_type": "markdown",
   "id": "9dbef5fe",
   "metadata": {},
   "source": [
    "## Insert/Update new datasource"
   ]
  },
  {
   "cell_type": "code",
   "execution_count": 47,
   "id": "afdb9e0d",
   "metadata": {},
   "outputs": [
    {
     "name": "stdout",
     "output_type": "stream",
     "text": [
      "Total 1 documents, duccessful insert count = 0 & modify count = 1\n"
     ]
    }
   ],
   "source": [
    "__data__ = [\n",
    "## CMC\n",
    "#     {\n",
    "#         \"owner\":'coinmarketcap',\n",
    "#         \"category\":'historic.prices',\n",
    "#         \"resource.info\":'https://coinmarketcap.com/api/documentation/v1/#tag/cryptocurrency',\n",
    "#         \"api.url\":'https://pro-api.coinmarketcap.com/v1/cryptocurrency/quotes/historical',\n",
    "#         \"api.endpoint\":'/cryptocurrency/quotes/historical',\n",
    "#         \"api.headers.accepts\":'application/json',\n",
    "#         \"api.headers.method\":'',\n",
    "#         \"api.headers.key\":'',\n",
    "#         \"api.headers.X-CMC_PRO_API_KEY\":'2f2845f0-581b-46f7-9a27-51d507826675',\n",
    "#         \"api.parameters.localization\" :'false',\n",
    "#         \"api.parameters.date\" :'{date}',\n",
    "#         \"api.parameters.cryptocurrency_type\" :'all',\n",
    "#         \"api.parameters.start\" :'1',\n",
    "#         \"api.parameters.limit\":'5000',\n",
    "#         \"api.parameters.convert\":'USD',\n",
    "#         \"api.parameters.sort\":'symbol',\n",
    "#     },\n",
    "#     {\n",
    "#         \"owner\":'coinmarketcap',\n",
    "#         \"category\":'latest.prices',\n",
    "#         \"resource.info\":'https://coinmarketcap.com/api/documentation/v1/#tag/cryptocurrency',\n",
    "#         \"api.url\":'https://pro-api.coinmarketcap.com/v1/cryptocurrency/listings/latest',\n",
    "#         \"api.endpoint\":'/cryptocurrency/*',\n",
    "#         \"api.headers.accepts\":'application/json',\n",
    "#         \"api.headers.method\":'',\n",
    "#         \"api.headers.key\":'',\n",
    "#         \"api.headers.X-CMC_PRO_API_KEY\":'2f2845f0-581b-46f7-9a27-51d507826675',\n",
    "#         \"api.parameters.localization\" :'false',\n",
    "#         \"api.parameters.start\" :'1',\n",
    "#         \"api.parameters.limit\":'5000',\n",
    "#         \"api.parameters.convert\":'USD',\n",
    "#         \"api.parameters.sort\":'symbol',\n",
    "#     },\n",
    "#     {\n",
    "#         \"owner\":'coinmarketcap',\n",
    "#         \"category\":'asset.metadata',\n",
    "#         \"resource.info\":'https://coinmarketcap.com/api/documentation/v1/#tag/cryptocurrency',\n",
    "#         \"api.url\":'https://pro-api.coinmarketcap.com/v1/cryptocurrency/map',\n",
    "#         \"api.endpoint\":'/api/v3/coins/list',\n",
    "#         \"api.headers.accepts\":'application/json',\n",
    "#         \"api.headers.method\":'',\n",
    "#         \"api.headers.X-CMC_PRO_API_KEY\":'2f2845f0-581b-46f7-9a27-51d507826675',\n",
    "#         \"api.parameters.localization\" :'',\n",
    "#         \"api.parameters.listing_status\" :'active',\n",
    "#         \"api.parameters.start\" :'1',\n",
    "#         \"api.parameters.limit\":'5000',\n",
    "#         \"api.parameters.sort\":'cmc_rank',\n",
    "#     },\n",
    "## COINGEKO\n",
    "#     {\n",
    "#         \"owner\":'coingecko',\n",
    "#         \"category\":'historic.prices',\n",
    "#         \"resource.info\":'https://www.coingecko.com/en/api/documentation',\n",
    "#         \"api.url\":'https://api.coingecko.com/api/v3/coins/{id}/market_chart/range',\n",
    "#         \"api.endpoint\":'/coins/{id}/history',\n",
    "#         \"api.headers.accepts\":'application/json',\n",
    "#         \"api.headers.method\":'',\n",
    "#         \"api.headers.key\":'',\n",
    "#         \"api.parameters.localization\" :'false',\n",
    "#         \"api.parameters.id\" :'',\n",
    "#         \"api.parameters.days\":'',\n",
    "#         \"api.parameters.vs_currency\":'usd',\n",
    "#         \"api.parameters.interval\" :'',\n",
    "#     },\n",
    "#     {\n",
    "#         \"owner\":'coingecko',\n",
    "#         \"category\":'latest.prices',\n",
    "#         \"resource.info\":'https://www.coingecko.com/en/api/documentation',\n",
    "#         \"api.url\":'https://api.coingecko.com/api/v3/coins/markets',\n",
    "#         \"api.endpoint\":'/coins/markets',\n",
    "#         \"api.headers.accepts\":'application/json',\n",
    "#         \"api.headers.method\":'',\n",
    "#         \"api.headers.key\":'',\n",
    "#         \"api.parameters.localization\" :'false',\n",
    "#         \"api.parameters.per_page\" :'250',\n",
    "#         \"api.parameters.page\" :'1',\n",
    "#         \"api.parameters.price_change_percentage\" :'1h,24h,7d,14d,30d',\n",
    "#         \"api.parameters.order\":'market_cap_desc',\n",
    "#         \"api.parameters.vs_currency\":'USD',\n",
    "#         \"api.parameters.sparkline\" :'false',\n",
    "#         \"api.parameters.sort\":'symbol',\n",
    "#     },\n",
    "#     {\n",
    "#         \"owner\":'coingecko',\n",
    "#         \"category\":'asset.metadata',\n",
    "#         \"resource.info\":'https://www.coingecko.com/en/api/documentation',\n",
    "#         \"api.url\":'https://api.coingecko.com/api/v3/coins/list',\n",
    "#         \"api.endpoint\":'/coins/list',\n",
    "#         \"api.headers.accepts\":'application/json',\n",
    "#         \"api.headers.method\":'',\n",
    "#         \"api.headers.key\":'',\n",
    "#         \"api.parameters.include_platform\" :'true',\n",
    "#     },\n",
    "]\n",
    "_uids = ['owner','category']\n",
    "_database = \"tip-data-sources\"\n",
    "_collection = \"marketcap.api\"\n",
    "\n",
    "# __keys__ = []\n",
    "clsNoSQL.connect={'DBAUTHSOURCE':_database}\n",
    "_collection = clsNoSQL.write_documents(\n",
    "    db_name=_database,\n",
    "    db_coll=_collection,\n",
    "    data=__data__,\n",
    "    uuid_list=_uids\n",
    ")\n",
    "# print([x for x in _collection])"
   ]
  },
  {
   "cell_type": "code",
   "execution_count": 45,
   "id": "15fe2815",
   "metadata": {},
   "outputs": [
    {
     "name": "stdout",
     "output_type": "stream",
     "text": [
      "['blocksport', 'bobatama', 'bologna-fc-fan-token', 'bomb-money', 'bone-shibaswap', 'boneswap', 'bone-token', 'bontecoin', 'boost', 'brazil-fan-token', 'brick', 'brig-finance', 'bright-token', 'btmiracles', 'btrips', 'bulldog-billionaires', 'burningmoon', 'buying', 'c2x-2', 'caashcow', 'caietf-finance', 'capital-dao-starter-token', 'carbon-credit', 'care-coin', 'cash-tech', 'castweet', 'catbonk', 'ccomp', 'centurion', 'centurion-inu', 'chainlink-wormhole', 'chainpay', 'channels', 'checkdot', 'cherryswap', 'chickenlegs', 'cirus', 'cleardao', 'clover', 'cockapoo', 'cocktailbar', 'codi-finance', 'cogiverse', 'coinary-token', 'coin-fast-alert', 'coinmerge', 'coinweb', 'coinwind', 'collector-coin', 'comfy', 'community-coin-2', 'community-vote-power', 'compound-chainlink-token', 'concertvr', 'constitutiondao-wormhole', 'coreum', 'corgidoge', 'corgi-inu', 'corginftgame', 'corn', 'cosplay-token-2', 'cougar-token', 'covicoin', 'cowry', 'cpucoin', 'cre8r-dao', 'credefi', 'creditcoin-2', 'cronosphere', 'cropbytes', 'cro-predict', 'crown-token', 'crunchy-dao', 'cry-coin', 'cryptobosscoin', 'cryptoclans', 'crypto-classic', 'crypto-development-services', 'crypto-gladiator-shards', 'crypto-inu', 'cryptoperformance-coin', 'cryptoplants', 'crypto-royale', 'cryptowar-xblade', 'cryptyk', 'cult-dao', 'cure-token-v2', 'curio-governance', 'cybertronchain', 'cybervein', 'dairy-money-milk', 'dao-farmer-dfg', 'darkbuild-v2', 'darkcrypto', 'darkcrypto-share', 'dark-energy-crystals', 'dark-frontiers', 'darkmatter', 'dark-matter-defi', 'darkness-share', 'darleygo-essence', 'data-enterprise-chain', 'davis-cup-fan-token', 'deblox', 'decentraland-wormhole', 'decentralized-autonomous-organization', 'decentralized-nations', 'defiato', 'defibox', 'defil', 'defily', 'degate', 'degen-finance', 'dei-token', 'delta-financial', 'deracoin', 'deus-finance-2', 'devour', 'dexira', 'dhabicoin', 'diamond-coin', 'diamond-dnd', 'digital-standard-unit', 'digital-ticks', 'digits-dao', 'dinamo-zagreb-fan-token', 'dingo-token', 'dino', 'dmd', 'dmt-token', 'dogecola', 'dogedi', 'dogelon-mars-wormhole', 'dogemon-go', 'dogeon', 'dogewhale', 'donkey-token', 'donnie-finance', 'dopple-finance', 'dotarcade', 'doubloon', 'dragonsea', 'drc-mobility', 'duckduck-token', 'duckrocket', 'duck-vault-nftx', 'dydx-wormhole', 'dyor', 'ecoin-finance', 'ekta-2', 'elvantis', 'enjinstarter', 'enterdao', 'etherean-socks', 'ethersocks', 'ethtez', 'eve-exchange', 'everdome', 'evrice', 'exponential-capital', 'fabwelt', 'fbomb', 'feg-token-bsc', 'fief', 'filecoin-standard-full-hashrate', 'flamengo-fan-token', 'flamingo-finance', 'floordao', 'florida-man', 'fndz-token', 'forcecowboy', 'forexcoin', 'fortuna-sittard-fan-token', 'fractionalized-wave-999', 'french-digital-reserve', 'friesdao', 'fringe-finance', 'froyo-games', 'frozentomb-lot', 'ftmlaunch', 'ftribe-fighters', 'ftx-wormhole', 'fungie-dao', 'futurecoin', 'fxt-token', 'gains-network', 'galaxy-fight-club', 'game', 'gamecredits', 'gamedao', 'gamefi-token', 'gamer', 'gamerse', 'gamex', 'gami', 'gamifi', 'gami-world', 'gamma', 'gamma-strategies', 'garlic', 'garlicoin', 'gaur-money', 'gear', 'gemlink', 'gencoin-capital', 'gene', 'genesis-mana', 'genesysgo-shadow', 'genopets', 'geocoin', 'geyser', 'ghostmarket', 'gimmer', 'global-aex-token', 'globalcoin', 'global-social-chain', 'global-trust-coin', 'gmcoin', 'goal-token', 'golden-roots', 'goldfinch', 'goldminer', 'good-fire', 'goztepe-s-k-fan-token', 'grain-token', 'grape-2', 'grape-finance', 'grape-token', 'graphene', 'graviton-zero', 'greenair', 'green-chart', 'green-flow', 'green-planet', 'gro-vault-token', 'gunstar-metaverse-currency', 'hakuswap', 'heco-peg-bnb', 'herbalist-token', 'heroeschained', 'hero-inu', 'hierocoin', 'hnk-orijent-1919-token', 'honor-token', 'hubble', 'hummingbot', 'hush', 'hymnode', 'icecream-finance', 'ideas', 'imperium-empires', 'infinitygaming', 'innovaminex', 'integritee', 'inter-milan-fan-token', 'intervalue', 'investdex', 'invox-finance', 'iron-bank', 'iron-finance', 'islander', 'isotopec', 'jetoken', 'joincoin', 'jones-dao', 'jpeg-d', 'juggernaut', 'jumptoken', 'juno-network', 'jurassic_nodes', 'kalissa', 'kanpeki', 'kassandra', 'katana-inu', 'ki', 'kintsugi', 'kirobo', 'kishu-inu', 'kitty', 'kitty-coin-solana', 'kitty-vault-nftx', 'kollect', 'krypto-kitty', 'kuramainu', 'lance-coin', 'lazio-fan-token', 'league-of-ancients', 'league-of-kingdoms', 'leeds-united-fan-token', 'legia-warsaw-fan-token', 'leon-token', 'lepasa', 'levante-ud-fan-token', 'liquiddriver', 'localtrade', 'looksrare', 'loot', 'lords', 'lovelace-world', 'luna-rush', 'lyra-finance', 'mad-meerkat-optimizer', 'market-ledger', 'matic-aave-link', 'matic-aave-tusd', 'matrixswap', 'mcontent', 'meerkat-shares', 'meliora', 'meme-inu', 'meme-lordz', 'mercor-finance', 'meso', 'meta-bsc', 'metadrace', 'metafluence', 'metagear', 'metakombat', 'metasoccer', 'metastrike', 'metavault-dao', 'milk2', 'mimas-finance', 'mmfinance', 'monster-adventure-token', 'moola-market', 'moonbeam', 'more-token', 'morpher', 'muesliswap-milk', 'multichain', 'multiverse-capital', 'myth-token', 'nanobyte', 'napoli-fan-token', 'natus-vincere-fan-token', 'neftipedia', 'nerian-network', 'netcoincapital', 'netswap', 'netvrk', 'nfteyez', 'nft-soccer-games', 'nfty-token', 'niftify', 'niob', 'nunet', 'nurifootball', 'nvl-project', 'nycccoin', 'obsidium', 'oec-binance-coin', 'ok-lets-go', 'one', 'onering', 'oni-token', 'online-expo', 'open-platform', 'orclands-metaverse', 'oxbull-solana', 'panicswap', 'paper-fantom', 'paradisefi', 'paragonsdao', 'parallelcoin', 'parex', 'paul-token', 'peace-token', 'peardao', 'peculium-2', 'pgov', 'phoenix', 'phonon-dao', 'pie-share', 'pist-trust', 'pkt', 'plastiks', 'plato-farm', 'platypus-finance', 'play-it-forward-dao', 'plutos-network', 'pocket-arena', 'pocket-network', 'pocket-node', 'pog-coin', 'pointpay', 'polyalpha-finance', 'polybeta-finance', 'polycake-finance', 'polygamma', 'polygen', 'polygold', 'polysage', 'polyyork', 'poollotto-finance', 'popcorn', 'portify', 'portugal-national-team-fan-token', 'projectx', 'pstake-finance', 'puli-inu', 'qiswap', 'quidd', 'radio-caca', 'rebel-bots', 'recast1', 'ref-finance', 'revuto', 'rich', 'richochet', 'ring', 'ring-financial', 'rise', 'risehero', 'rise-of-defenders', 'rocket-bunny', 'roco-finance', 'roush-fenway-racing-fan-token', 'royal-protocol', 'rss3', 'rublix', 'safedollar-shares', 'safemoon-2', 'safutitano', 'samsunspor-fan-token', 'santos-fc-fan-token', 'sao-paulo-fc-fan-token', 'savage', 'savanna', 'save-baby-doge', 'scarecrow', 's-c-corinthians-fan-token', 'seba', 'seeds', 'sekuya', 'shibamax', 'shoot', 'shuey-rhon-inu', 'silva-token', 'smartlink', 'snovio', 'solana-ecosystem-index', 'solape-token', 'solcial', 'solidex', 'solootbox-dao', 'songbird', 'spacecowboy', 'spacerat', 'sphere-finance', 'spiritdao-ghost', 'sporkdao', 'stacktical', 'stader', 'starbots', 'stargaze', 'stobox-token', 'ston', 'straitsx-indonesia-rupiah', 'streamr', 'sugarbounce', 'swapxi-token', 'talecraft', 'team-vitality-fan-token', 'tectonic', 'temple', 'tethys-finance', 'the-crypto-you', 'the-dynasty', 'thetan-coin', 'thorus', 'timeleap-finance', 'tip-blue', 'tokenplace', 'toko', 'toucan-protocol-base-carbon-tonne', 'tradao', 'transhuman-coin', 'transient', 'travel-care-2', 'treasure-sl', 'tzbtc', 'ufc-fan-token', 'unbound-finance', 'unique-utility-token', 'unitedcrowd', 'universidad-de-chile-fan-token', 'uxd-stablecoin', 'value-finance', 'varen', 'vcgamers', 'vedao', 'vee-finance', 'veraone', 'verve', 'vesta-finance', 'vicewrld', 'visor', 'vitall-markets', 'wagmi', 'wagmi-on-solana', 'wam', 'wasder', 'weentar', 'wegro', 'we-love-gm', 'whole-network', 'wicrypt', 'world-of-defish', 'wrapped-usdt', 'xbn-community-token', 'x-consoles', 'xmooney', 'xp-network', 'xtblock-token', 'xy-finance', 'yoshi-exchange', 'zenlink-network-token', 'zignaly', 'ziot', 'zone']\n"
     ]
    }
   ],
   "source": [
    "import re\n",
    "logpath = os.path.join(\"/home/nuwan/workspace/rezaware/\",\n",
    "                     \"wrangler/logs/assets/etl/app.log\")\n",
    "with open(logpath,'r') as f:\n",
    "    symbol_list=[]\n",
    "    for line in f:\n",
    "        if line.startswith(\"[WARNING]\"):\n",
    "            m = re.search(\"etl - (.+?) marketcap\", line)\n",
    "            if m:\n",
    "                found = m.group(1)\n",
    "                symbol_list.append(found.replace(\"'\",\"\"))\n",
    "print(symbol_list)"
   ]
  },
  {
   "cell_type": "code",
   "execution_count": 35,
   "id": "b46f06e6",
   "metadata": {},
   "outputs": [
    {
     "name": "stdout",
     "output_type": "stream",
     "text": [
      "['KONGZ', 'MZ', 'SYL', 'GAIA', 'SYL', 'BOMUL', 'MIYA', 'SYL', 'SW', 'GAIA', 'BELLYGOM', 'SNKRZ', 'etnah', 'MTDZ', 'DOD', 'Puuvilla', 'GAIA', 'SWC', 'kongz', 'MATE', 'K3K', 'COGO', 'UKKIKKI', 'ArcheWorld_Land', 'SMILEMIYA', 'KDGE', 'VGN', 'TREASURES', 'ArcheWorld_FandomCard', 'SE7EN', 'HT', 'MTM', 'DHB', 'RBL', 'CELPI', 'GAIA', 'GRA', 'chikn', 'BIRDIE CC', 'NRS', 'KROCK', 'LCV1', 'MTG', 'APB', 'BUMZ', 'AOZHEROES', 'KLND', 'TXP', 'FOOTAGE', 'LPV1', 'KLTW', 'UKIDS', 'CT', 'PXL', 'LEMONG 3D', 'BIRDIE', 'bayc', 'SGS', 'PUNK', 'TPC', 'larva', 'KING-KINGS', 'SNKRZ OPEN BOX', '7', 'Puuvillafriends', 'NAC', 'Born Kongz', 'WTBL', 'BK', 'DMONG', 'MEE', 'LIITA', 'DUK', 'KENOME', 'KRBC', 'ROAZ', 'EMATES', 'MAC', 'KLAPES', 'MTDZPET', 'CYECV0', 'EV', 'PG', 'psd', 'CATTP', 'Roostr', 'DHBSRP', 'TMH', 'HDEC75', 'GTU', 'SLIME', 'MAYC', 'MT', 'CMPZPFP', 'RDK', 'ALAP', 'STORKS', 'KONGZ', 'BUMZ', 'MA']\n"
     ]
    }
   ],
   "source": [
    "import json\n",
    "\n",
    "logpath = os.path.join(\"/home/nuwan/workspace/rezaware/\",\n",
    "                     \"wrangler/notebooks/assets/etl/crypto/nft_list.json\")\n",
    "nft_dict=[]\n",
    "with open(logpath,'r') as f:\n",
    "    nft_list = json.load(f)\n",
    "nft_symb_list = [x['symbol'] for x in nft_list]\n",
    "print(nft_symb_list)"
   ]
  },
  {
   "cell_type": "code",
   "execution_count": 49,
   "id": "42f78198",
   "metadata": {},
   "outputs": [
    {
     "name": "stdout",
     "output_type": "stream",
     "text": [
      "['coingecko.2022-01-01.wbtc', 'coingecko.2022-07-01.obt', 'coingecko.2022-07-01.btcmt', 'coingecko.2022-04-01.nsbt', 'coingecko.2022-01-01.nsbt', 'coingecko.2022-07-01.btc2', 'coingecko.2022-01-01.bto', 'coingecko.2022-07-01.ibbtc', 'coingecko.2022-01-01.btcred', 'coingecko.2022-01-01.btse', 'coingecko.2022-01-01.btcz', 'coingecko.2022-07-01.btrfly', 'coingecko.2022-01-01.btc', 'coingecko.2022-04-01.btg', 'coingecko.2022-04-01.renbtc', 'coingecko.2022-01-01.btu', 'coingecko.2022-04-01.btx', 'coingecko.2022-04-01.btl', 'coingecko.2022-07-01.wbtc', 'coingecko.2022-04-01.obtc', 'coingecko.2022-07-01.btnt', 'coingecko.2022-07-01.xbtx', 'coingecko.2022-01-01.btcp', 'coingecko.2022-04-01.wbtc', 'coingecko.2022-01-01.hbtc', 'coingecko.2022-07-01.btc', 'coingecko.2022-04-01.xbtx', 'coingecko.2022-01-01.hbt', 'coingecko.2022-04-01.0xbtc', 'coingecko.2022-07-01.btc2x-fli', 'coingecko.2022-01-01.obt', 'coingecko.2022-01-01.yfbt', 'coingecko.2022-07-01.btb', 'coingecko.2022-07-01.btcst', 'coingecko.2022-04-01.btr', 'coingecko.2022-01-01.btg', 'coingecko.2022-07-01.nsbt', 'coingecko.2022-01-01.obtc', 'coingecko.2022-04-01.btcst', 'coingecko.2022-07-01.obtc', 'coingecko.2022-07-01.hbt', 'coingecko.2022-07-01.bta', 'coingecko.2022-04-01.ibbtc', 'coingecko.2022-01-01.btx', 'coingecko.2022-01-01.bts', 'coingecko.2022-07-01.btcz', 'coingecko.2022-04-01.bta', 'coingecko.2022-07-01.btr', 'coingecko.2022-01-01.albt', 'coingecko.2022-04-01.bto', 'coingecko.2022-01-01.btcs', 'coingecko.2022-01-01.bta', 'coingecko.2022-07-01.btc2x-fli-p', 'coingecko.2022-07-01.tbtc', 'coingecko.2022-04-01.btc', 'coingecko.2022-04-01.btu', 'coingecko.2022-04-01.btt', 'coingecko.2022-07-01.iwbtc', 'coingecko.2022-01-01.abt', 'coingecko.2022-01-01.btcone', 'coingecko.2022-04-01.btm', 'coingecko.2022-04-01.btcone', 'coingecko.2022-07-01.btcs', 'coingecko.2022-07-01.yfbt', 'coingecko.2022-07-01.btg', 'coingecko.2022-07-01.sbtc', 'coingecko.2022-04-01.nbt', 'coingecko.2022-01-01.ubt', 'coingecko.2022-07-01.btu', 'coingecko.2022-01-01.pbtc35a', 'coingecko.2022-04-01.btcred', 'coingecko.2022-07-01.btm', 'coingecko.2022-07-01.btsg', 'coingecko.2022-07-01.btcred', 'coingecko.2022-04-01.albt', 'coingecko.2022-01-01.btb', 'coingecko.2022-01-01.0xbtc', 'coingecko.2022-07-01.rbt', 'coingecko.2022-04-01.btb', 'coingecko.2022-07-01.btl', 'coingecko.2022-07-01.btcp', 'coingecko.2022-07-01.albt', 'coingecko.2022-04-01.btsg', 'coingecko.2022-07-01.bto', 'coingecko.2022-01-01.btm', 'coingecko.2022-07-01.renbtc', 'coingecko.2022-07-01.abt', 'coingecko.2022-07-01.pbtc35a', 'coingecko.2022-01-01.btc++', 'coingecko.2022-07-01.nbt', 'coingecko.2022-01-01.cwbtc', 'coingecko.2022-04-01.cwbtc', 'coingecko.2022-07-01.bts', 'coingecko.2022-07-01.0xbtc', 'coingecko.2022-04-01.btcp', 'coingecko.2022-04-01.btcmt', 'coingecko.2022-04-01.btcs', 'coingecko.2022-04-01.pbtc35a', 'coingecko.2022-04-01.obt', 'coingecko.2022-07-01.btc++', 'coingecko.2022-07-01.bkbt', 'coingecko.2022-01-01.renbtc', 'coingecko.2022-07-01.btse', 'coingecko.2022-07-01.btt', 'coingecko.2022-07-01.ibtc-fli-p', 'coingecko.2022-01-01.btc2', 'coingecko.2022-04-01.hbt', 'coingecko.2022-01-01.btcst', 'coingecko.2022-04-01.btc2', 'coingecko.2022-04-01.btc++', 'coingecko.2022-04-01.bkbt', 'coingecko.2022-07-01.ubt', 'coingecko.2022-07-01.btw', 'coingecko.2022-07-01.pbtc', 'coingecko.2022-04-01.btse', 'coingecko.2022-04-01.abt', 'coingecko.2022-07-01.hbtc', 'coingecko.2022-01-01.ibbtc', 'coingecko.2022-01-01.btl', 'coingecko.2022-07-01.btcone', 'coingecko.2022-07-01.cwbtc', 'coingecko.2022-04-01.bts', 'coingecko.2022-01-01.btc2x-fli', 'coingecko.2022-04-01.btc2x-fli', 'coingecko.2022-04-01.btw', 'coingecko.2022-01-01.xbtx', 'coingecko.2022-04-01.ubt', 'coingecko.2022-01-01.bkbt', 'coingecko.2022-04-01.btcz', 'coingecko.2022-04-01.yfbt', 'coingecko.2022-01-01.btw', 'coingecko.2022-07-01.qbt', 'coingecko.2022-04-01.btnt', 'coingecko.2022-07-01.btx', 'coingecko.2022-04-01.hbtc', 'coingecko.2022-01-01.btcmt']\n"
     ]
    }
   ],
   "source": [
    "clsNoSQL.dbType = 'mongodb'\n",
    "clsNoSQL.dbName = 'tip-historic-marketcap'\n",
    "clsNoSQL.collections = {\"HASINNAME\":'btc'}\n",
    "print(clsNoSQL.collections)"
   ]
  },
  {
   "cell_type": "code",
   "execution_count": null,
   "id": "33eda850",
   "metadata": {},
   "outputs": [],
   "source": []
  }
 ],
 "metadata": {
  "kernelspec": {
   "display_name": "Python 3 (ipykernel)",
   "language": "python",
   "name": "python3"
  },
  "language_info": {
   "codemirror_mode": {
    "name": "ipython",
    "version": 3
   },
   "file_extension": ".py",
   "mimetype": "text/x-python",
   "name": "python",
   "nbconvert_exporter": "python",
   "pygments_lexer": "ipython3",
   "version": "3.8.10"
  }
 },
 "nbformat": 4,
 "nbformat_minor": 5
}
