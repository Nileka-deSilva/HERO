{
 "cells": [
  {
   "cell_type": "code",
   "execution_count": 3,
   "id": "412d3358",
   "metadata": {},
   "outputs": [],
   "source": [
    "'''\n",
    "    WARNING CONTROL to display or ignore all warnings\n",
    "'''\n",
    "import warnings; warnings.simplefilter('ignore')     #switch betweeb 'default' and 'ignore'\n",
    "import traceback\n",
    "\n",
    "''' Set debug flag to view extended error messages; else set it to False to turn off debugging mode '''\n",
    "debug = True"
   ]
  },
  {
   "cell_type": "code",
   "execution_count": 5,
   "id": "d0e884b1",
   "metadata": {},
   "outputs": [
    {
     "name": "stdout",
     "output_type": "stream",
     "text": [
      "All python packages in rezaware loaded successfully!\n",
      "All python packages in rezaware loaded successfully!\n"
     ]
    }
   ],
   "source": [
    "import sys\n",
    "sys.path.insert(1,\"/home/nuwan/workspace/rezgate/\")\n",
    "import rezaware as rez\n",
    "import json\n",
    "\n",
    "if debug:\n",
    "    import importlib\n",
    "    importlib.reload(rez)"
   ]
  },
  {
   "cell_type": "code",
   "execution_count": 6,
   "id": "9ae68499",
   "metadata": {},
   "outputs": [
    {
     "name": "stdout",
     "output_type": "stream",
     "text": [
      "Initializing rezaware\n"
     ]
    }
   ],
   "source": [
    "_rezApp = rez.App(container=\"wrangler\")"
   ]
  },
  {
   "cell_type": "code",
   "execution_count": 7,
   "id": "ef375aa1",
   "metadata": {
    "scrolled": true
   },
   "outputs": [
    {
     "name": "stdout",
     "output_type": "stream",
     "text": [
      "wrangler modules \n",
      "[\n",
      "  \"/home/nuwan/workspace/rezgate/wrangler/modules/ota/scraper/app.ini\"\n",
      "]\n"
     ]
    }
   ],
   "source": [
    "app_list, ini_file_list = _rezApp.make_ini_files()\n",
    "if app_list or ini_file_list:\n",
    "    print(\"%s modules \" % (_rezApp.container))\n",
    "#     print(json.dumps(app_list,indent=2))\n",
    "    print(json.dumps(ini_file_list,indent=2))"
   ]
  },
  {
   "cell_type": "code",
   "execution_count": 14,
   "id": "fbaa8650",
   "metadata": {},
   "outputs": [],
   "source": [
    "__module__ = \"ota\"\n",
    "__package__ = \"scraper\"\n",
    "_rezApp.module = __module__\n",
    "_rezApp.package = __package__\n",
    "logger = _rezApp.get_package_logger()\n",
    "logger.info(\"test\")"
   ]
  },
  {
   "cell_type": "code",
   "execution_count": 15,
   "id": "42449f5e",
   "metadata": {},
   "outputs": [],
   "source": [
    "logger.info(\"another test\")"
   ]
  },
  {
   "cell_type": "code",
   "execution_count": null,
   "id": "5374620d",
   "metadata": {},
   "outputs": [],
   "source": []
  }
 ],
 "metadata": {
  "kernelspec": {
   "display_name": "Python 3 (ipykernel)",
   "language": "python",
   "name": "python3"
  },
  "language_info": {
   "codemirror_mode": {
    "name": "ipython",
    "version": 3
   },
   "file_extension": ".py",
   "mimetype": "text/x-python",
   "name": "python",
   "nbconvert_exporter": "python",
   "pygments_lexer": "ipython3",
   "version": "3.8.10"
  }
 },
 "nbformat": 4,
 "nbformat_minor": 5
}
