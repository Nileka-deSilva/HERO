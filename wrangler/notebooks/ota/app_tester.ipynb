{
 "cells": [
  {
   "cell_type": "code",
   "execution_count": 1,
   "id": "412d3358",
   "metadata": {},
   "outputs": [],
   "source": [
    "'''\n",
    "    WARNING CONTROL to display or ignore all warnings\n",
    "'''\n",
    "import warnings; warnings.simplefilter('ignore')     #switch betweeb 'default' and 'ignore'\n",
    "import traceback\n",
    "\n",
    "''' Set debug flag to view extended error messages; else set it to False to turn off debugging mode '''\n",
    "debug = True"
   ]
  },
  {
   "cell_type": "code",
   "execution_count": 125,
   "id": "9ae68499",
   "metadata": {},
   "outputs": [
    {
     "name": "stdout",
     "output_type": "stream",
     "text": [
      "All python packages in rezaware loaded successfully!\n",
      "Initializing rezaware\n"
     ]
    }
   ],
   "source": [
    "import sys\n",
    "sys.path.insert(1,\"/home/nuwan/workspace/rezgate/\")\n",
    "import rezaware as rez\n",
    "import json\n",
    "\n",
    "if debug:\n",
    "    import importlib\n",
    "    importlib.reload(rez)\n",
    "\n",
    "_rezApp = rez.App(container=\"utils\")"
   ]
  },
  {
   "cell_type": "code",
   "execution_count": 126,
   "id": "ef375aa1",
   "metadata": {
    "scrolled": true
   },
   "outputs": [
    {
     "name": "stdout",
     "output_type": "stream",
     "text": [
      "Error set_conf_ini_conf rezaware with error:\n",
      "expected str, bytes or os.PathLike object, not ConfigParser\n",
      "Traceback (most recent call last):\n",
      "  File \"/home/nuwan/workspace/rezgate/rezaware.py\", line 211, in set_conf_ini_conf\n",
      "    os.path.join(conf_data))\n",
      "  File \"/usr/lib/python3.8/posixpath.py\", line 76, in join\n",
      "    a = os.fspath(a)\n",
      "TypeError: expected str, bytes or os.PathLike object, not ConfigParser\n",
      "\n"
     ]
    },
    {
     "ename": "UnboundLocalError",
     "evalue": "local variable '_config_list' referenced before assignment",
     "output_type": "error",
     "traceback": [
      "\u001b[0;31m---------------------------------------------------------------------------\u001b[0m",
      "\u001b[0;31mUnboundLocalError\u001b[0m                         Traceback (most recent call last)",
      "Input \u001b[0;32mIn [126]\u001b[0m, in \u001b[0;36m<cell line: 1>\u001b[0;34m()\u001b[0m\n\u001b[0;32m----> 1\u001b[0m app_list, ini_file_list \u001b[38;5;241m=\u001b[39m \u001b[43m_rezApp\u001b[49m\u001b[38;5;241;43m.\u001b[39;49m\u001b[43mmake_ini_files\u001b[49m\u001b[43m(\u001b[49m\u001b[43m)\u001b[49m\n\u001b[1;32m      2\u001b[0m \u001b[38;5;28;01mif\u001b[39;00m app_list:\n\u001b[1;32m      3\u001b[0m     \u001b[38;5;28mprint\u001b[39m(\u001b[38;5;124m\"\u001b[39m\u001b[38;5;132;01m%s\u001b[39;00m\u001b[38;5;124m modules \u001b[39m\u001b[38;5;124m\"\u001b[39m \u001b[38;5;241m%\u001b[39m (_rezApp\u001b[38;5;241m.\u001b[39mcontainer))\n",
      "File \u001b[0;32m~/workspace/rezgate/rezaware.py:114\u001b[0m, in \u001b[0;36mApp.make_ini_files\u001b[0;34m(self)\u001b[0m\n\u001b[1;32m    111\u001b[0m     \u001b[38;5;28;01mdef\u001b[39;00m \u001b[38;5;21mmake_ini_files\u001b[39m(\u001b[38;5;28mself\u001b[39m) \u001b[38;5;241m-\u001b[39m\u001b[38;5;241m>\u001b[39m \u001b[38;5;28mstr\u001b[39m:\n\u001b[1;32m    112\u001b[0m \u001b[38;5;66;03m#         self.get_ini_data()\u001b[39;00m\n\u001b[1;32m    113\u001b[0m         \u001b[38;5;28mself\u001b[39m\u001b[38;5;241m.\u001b[39mcontainer_path \u001b[38;5;241m=\u001b[39m os\u001b[38;5;241m.\u001b[39mpath\u001b[38;5;241m.\u001b[39mjoin(\u001b[38;5;28mself\u001b[39m\u001b[38;5;241m.\u001b[39mcwd,\u001b[38;5;28mself\u001b[39m\u001b[38;5;241m.\u001b[39mcontainer)\n\u001b[0;32m--> 114\u001b[0m         \u001b[38;5;28mself\u001b[39m\u001b[38;5;241m.\u001b[39mconfData,\u001b[38;5;28mself\u001b[39m\u001b[38;5;241m.\u001b[39mini_file_list \u001b[38;5;241m=\u001b[39m \u001b[43mConfig\u001b[49m\u001b[38;5;241;43m.\u001b[39;49m\u001b[43mset_conf_ini_conf\u001b[49m\u001b[43m(\u001b[49m\n\u001b[1;32m    115\u001b[0m \u001b[43m            \u001b[49m\u001b[43mreza_cwd\u001b[49m\u001b[38;5;241;43m=\u001b[39;49m\u001b[38;5;28;43mself\u001b[39;49m\u001b[38;5;241;43m.\u001b[39;49m\u001b[43mcwd\u001b[49m\u001b[43m,\u001b[49m\n\u001b[1;32m    116\u001b[0m \u001b[43m            \u001b[49m\u001b[43mcontainer\u001b[49m\u001b[38;5;241;43m=\u001b[39;49m\u001b[38;5;28;43mself\u001b[39;49m\u001b[38;5;241;43m.\u001b[39;49m\u001b[43mcontainer\u001b[49m\u001b[43m,\u001b[49m\n\u001b[1;32m    117\u001b[0m \u001b[43m            \u001b[49m\u001b[43mcontainer_path\u001b[49m\u001b[38;5;241;43m=\u001b[39;49m\u001b[38;5;28;43mself\u001b[39;49m\u001b[38;5;241;43m.\u001b[39;49m\u001b[43mcontainer_path\u001b[49m\u001b[43m,\u001b[49m\n\u001b[1;32m    118\u001b[0m \u001b[43m            \u001b[49m\u001b[43mconf_file\u001b[49m\u001b[38;5;241;43m=\u001b[39;49m\u001b[38;5;28;43mself\u001b[39;49m\u001b[38;5;241;43m.\u001b[39;49m\u001b[43mconfFile\u001b[49m\u001b[43m)\u001b[49m\n\u001b[1;32m    119\u001b[0m         \u001b[38;5;28;01mreturn\u001b[39;00m \u001b[38;5;28mself\u001b[39m\u001b[38;5;241m.\u001b[39mconfData,\u001b[38;5;28mself\u001b[39m\u001b[38;5;241m.\u001b[39mini_file_list\n",
      "File \u001b[0;32m~/workspace/rezgate/rezaware.py:304\u001b[0m, in \u001b[0;36mConfig.set_conf_ini_conf\u001b[0;34m(reza_cwd, container, container_path, conf_file)\u001b[0m\n\u001b[1;32m    301\u001b[0m     \u001b[38;5;28mprint\u001b[39m(\u001b[38;5;124m\"\u001b[39m\u001b[38;5;124mError set_conf_ini_conf \u001b[39m\u001b[38;5;132;01m{0}\u001b[39;00m\u001b[38;5;124m with error:\u001b[39m\u001b[38;5;130;01m\\n\u001b[39;00m\u001b[38;5;132;01m{1}\u001b[39;00m\u001b[38;5;124m\"\u001b[39m\u001b[38;5;241m.\u001b[39mformat(__package__,e))\n\u001b[1;32m    302\u001b[0m     \u001b[38;5;28mprint\u001b[39m(traceback\u001b[38;5;241m.\u001b[39mformat_exc())\n\u001b[0;32m--> 304\u001b[0m \u001b[38;5;28;01mreturn\u001b[39;00m \u001b[43m_config_list\u001b[49m, [\u001b[38;5;241m*\u001b[39m\u001b[38;5;28mset\u001b[39m(_ini_conf_file_list)]\n",
      "\u001b[0;31mUnboundLocalError\u001b[0m: local variable '_config_list' referenced before assignment"
     ]
    }
   ],
   "source": [
    "app_list, ini_file_list = _rezApp.make_ini_files()\n",
    "if app_list:\n",
    "    print(\"%s modules \" % (_rezApp.container))\n",
    "#     print(json.dumps(app_list,indent=2))\n",
    "    print(json.dumps(ini_file_list,indent=2))"
   ]
  },
  {
   "cell_type": "code",
   "execution_count": 124,
   "id": "fbaa8650",
   "metadata": {},
   "outputs": [],
   "source": [
    "__module__ = \"ota\"\n",
    "__package__ = \"scraper\"\n",
    "_rezApp.module = __module__\n",
    "_rezApp.package = __package__\n",
    "logger = _rezApp.get_package_logger()\n",
    "logger.info(\"test again\")"
   ]
  },
  {
   "cell_type": "code",
   "execution_count": null,
   "id": "42449f5e",
   "metadata": {},
   "outputs": [],
   "source": []
  }
 ],
 "metadata": {
  "kernelspec": {
   "display_name": "Python 3 (ipykernel)",
   "language": "python",
   "name": "python3"
  },
  "language_info": {
   "codemirror_mode": {
    "name": "ipython",
    "version": 3
   },
   "file_extension": ".py",
   "mimetype": "text/x-python",
   "name": "python",
   "nbconvert_exporter": "python",
   "pygments_lexer": "ipython3",
   "version": "3.8.10"
  }
 },
 "nbformat": 4,
 "nbformat_minor": 5
}
