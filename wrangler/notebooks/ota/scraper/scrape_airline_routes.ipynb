{
 "cells": [
  {
   "cell_type": "markdown",
   "metadata": {},
   "source": [
    "# Scrape Airline Routes and Times from OTAs\n",
    "\n",
    "@Nileka add a description here as to what this notebook offers\n",
    "\n",
    "### Execute the cell below once to turn off debugging"
   ]
  },
  {
   "cell_type": "code",
   "execution_count": 12,
   "metadata": {},
   "outputs": [],
   "source": [
    "'''\n",
    "    WARNING CONTROL to display or ignore all warnings\n",
    "'''\n",
    "import warnings; warnings.simplefilter('ignore')     #switch betweeb 'default' and 'ignore'\n",
    "import traceback\n",
    "\n",
    "''' Set debug flag to view extended error messages; else set it to False to turn off debugging mode '''\n",
    "debug = True"
   ]
  },
  {
   "cell_type": "markdown",
   "metadata": {},
   "source": [
    "## Initialize the OTA scrape class"
   ]
  },
  {
   "cell_type": "code",
   "execution_count": 59,
   "metadata": {},
   "outputs": [
    {
     "name": "stdout",
     "output_type": "stream",
     "text": [
      "All python packages in rezaware loaded successfully!\n",
      "All packages in load loaded successfully!\n",
      "All scraper in ota software packages loaded successfully!\n",
      "All scraper software packages loaded successfully!\n",
      "Initialing scraper class for scraperUtils with instance Inheriting Utilities class for airline itinerary scraping\n",
      "Initialing scraper class for airlineScrapers with instance data\n",
      "Data path set to /home/nuwan/workspace/rezaware/wrangler/data/ota/scraper/transport/airlines/\n"
     ]
    },
    {
     "name": "stderr",
     "output_type": "stream",
     "text": [
      "--- Logging error ---\n",
      "Traceback (most recent call last):\n",
      "  File \"/usr/lib/python3.8/logging/__init__.py\", line 1085, in emit\n",
      "    msg = self.format(record)\n",
      "  File \"/usr/lib/python3.8/logging/__init__.py\", line 929, in format\n",
      "    return fmt.format(record)\n",
      "  File \"/usr/lib/python3.8/logging/__init__.py\", line 668, in format\n",
      "    record.message = record.getMessage()\n",
      "  File \"/usr/lib/python3.8/logging/__init__.py\", line 373, in getMessage\n",
      "    msg = msg % self.args\n",
      "TypeError: not all arguments converted during string formatting\n",
      "Call stack:\n",
      "  File \"/usr/lib/python3.8/runpy.py\", line 194, in _run_module_as_main\n",
      "    return _run_code(code, main_globals, None,\n",
      "  File \"/usr/lib/python3.8/runpy.py\", line 87, in _run_code\n",
      "    exec(code, run_globals)\n",
      "  File \"/home/nuwan/.local/lib/python3.8/site-packages/ipykernel_launcher.py\", line 17, in <module>\n",
      "    app.launch_new_instance()\n",
      "  File \"/home/nuwan/.local/lib/python3.8/site-packages/traitlets/config/application.py\", line 976, in launch_instance\n",
      "    app.start()\n",
      "  File \"/home/nuwan/.local/lib/python3.8/site-packages/ipykernel/kernelapp.py\", line 712, in start\n",
      "    self.io_loop.start()\n",
      "  File \"/home/nuwan/.local/lib/python3.8/site-packages/tornado/platform/asyncio.py\", line 199, in start\n",
      "    self.asyncio_loop.run_forever()\n",
      "  File \"/usr/lib/python3.8/asyncio/base_events.py\", line 570, in run_forever\n",
      "    self._run_once()\n",
      "  File \"/usr/lib/python3.8/asyncio/base_events.py\", line 1859, in _run_once\n",
      "    handle._run()\n",
      "  File \"/usr/lib/python3.8/asyncio/events.py\", line 81, in _run\n",
      "    self._context.run(self._callback, *self._args)\n",
      "  File \"/home/nuwan/.local/lib/python3.8/site-packages/ipykernel/kernelbase.py\", line 510, in dispatch_queue\n",
      "    await self.process_one()\n",
      "  File \"/home/nuwan/.local/lib/python3.8/site-packages/ipykernel/kernelbase.py\", line 499, in process_one\n",
      "    await dispatch(*args)\n",
      "  File \"/home/nuwan/.local/lib/python3.8/site-packages/ipykernel/kernelbase.py\", line 406, in dispatch_shell\n",
      "    await result\n",
      "  File \"/home/nuwan/.local/lib/python3.8/site-packages/ipykernel/kernelbase.py\", line 730, in execute_request\n",
      "    reply_content = await reply_content\n",
      "  File \"/home/nuwan/.local/lib/python3.8/site-packages/ipykernel/ipkernel.py\", line 383, in do_execute\n",
      "    res = shell.run_cell(\n",
      "  File \"/home/nuwan/.local/lib/python3.8/site-packages/ipykernel/zmqshell.py\", line 528, in run_cell\n",
      "    return super().run_cell(*args, **kwargs)\n",
      "  File \"/home/nuwan/.local/lib/python3.8/site-packages/IPython/core/interactiveshell.py\", line 2881, in run_cell\n",
      "    result = self._run_cell(\n",
      "  File \"/home/nuwan/.local/lib/python3.8/site-packages/IPython/core/interactiveshell.py\", line 2936, in _run_cell\n",
      "    return runner(coro)\n",
      "  File \"/home/nuwan/.local/lib/python3.8/site-packages/IPython/core/async_helpers.py\", line 129, in _pseudo_sync_runner\n",
      "    coro.send(None)\n",
      "  File \"/home/nuwan/.local/lib/python3.8/site-packages/IPython/core/interactiveshell.py\", line 3135, in run_cell_async\n",
      "    has_raised = await self.run_ast_nodes(code_ast.body, cell_name,\n",
      "  File \"/home/nuwan/.local/lib/python3.8/site-packages/IPython/core/interactiveshell.py\", line 3338, in run_ast_nodes\n",
      "    if await self.run_code(code, result, async_=asy):\n",
      "  File \"/home/nuwan/.local/lib/python3.8/site-packages/IPython/core/interactiveshell.py\", line 3398, in run_code\n",
      "    exec(code_obj, self.user_global_ns, self.user_ns)\n",
      "  File \"/tmp/ipykernel_21295/3634690070.py\", line 31, in <cell line: 31>\n",
      "    clsScraper = air.AirlineScraper(name=\"kayak and momondo ota scrapes\",**prop_kwargs)\n",
      "  File \"/home/nuwan/workspace/rezaware/wrangler/modules/ota/scraper/airlineScrapers.py\", line 89, in __init__\n",
      "    logger.info(self.__name__,self.__package__)\n",
      "Message: 'airlineScrapers'\n",
      "Arguments: ('scraper',)\n",
      "--- Logging error ---\n",
      "Traceback (most recent call last):\n",
      "  File \"/usr/lib/python3.8/logging/__init__.py\", line 1085, in emit\n",
      "    msg = self.format(record)\n",
      "  File \"/usr/lib/python3.8/logging/__init__.py\", line 929, in format\n",
      "    return fmt.format(record)\n",
      "  File \"/usr/lib/python3.8/logging/__init__.py\", line 668, in format\n",
      "    record.message = record.getMessage()\n",
      "  File \"/usr/lib/python3.8/logging/__init__.py\", line 373, in getMessage\n",
      "    msg = msg % self.args\n",
      "TypeError: not all arguments converted during string formatting\n",
      "Call stack:\n",
      "  File \"/usr/lib/python3.8/runpy.py\", line 194, in _run_module_as_main\n",
      "    return _run_code(code, main_globals, None,\n",
      "  File \"/usr/lib/python3.8/runpy.py\", line 87, in _run_code\n",
      "    exec(code, run_globals)\n",
      "  File \"/home/nuwan/.local/lib/python3.8/site-packages/ipykernel_launcher.py\", line 17, in <module>\n",
      "    app.launch_new_instance()\n",
      "  File \"/home/nuwan/.local/lib/python3.8/site-packages/traitlets/config/application.py\", line 976, in launch_instance\n",
      "    app.start()\n",
      "  File \"/home/nuwan/.local/lib/python3.8/site-packages/ipykernel/kernelapp.py\", line 712, in start\n",
      "    self.io_loop.start()\n",
      "  File \"/home/nuwan/.local/lib/python3.8/site-packages/tornado/platform/asyncio.py\", line 199, in start\n",
      "    self.asyncio_loop.run_forever()\n",
      "  File \"/usr/lib/python3.8/asyncio/base_events.py\", line 570, in run_forever\n",
      "    self._run_once()\n",
      "  File \"/usr/lib/python3.8/asyncio/base_events.py\", line 1859, in _run_once\n",
      "    handle._run()\n",
      "  File \"/usr/lib/python3.8/asyncio/events.py\", line 81, in _run\n",
      "    self._context.run(self._callback, *self._args)\n",
      "  File \"/home/nuwan/.local/lib/python3.8/site-packages/ipykernel/kernelbase.py\", line 510, in dispatch_queue\n",
      "    await self.process_one()\n",
      "  File \"/home/nuwan/.local/lib/python3.8/site-packages/ipykernel/kernelbase.py\", line 499, in process_one\n",
      "    await dispatch(*args)\n",
      "  File \"/home/nuwan/.local/lib/python3.8/site-packages/ipykernel/kernelbase.py\", line 406, in dispatch_shell\n",
      "    await result\n",
      "  File \"/home/nuwan/.local/lib/python3.8/site-packages/ipykernel/kernelbase.py\", line 730, in execute_request\n",
      "    reply_content = await reply_content\n",
      "  File \"/home/nuwan/.local/lib/python3.8/site-packages/ipykernel/ipkernel.py\", line 383, in do_execute\n",
      "    res = shell.run_cell(\n",
      "  File \"/home/nuwan/.local/lib/python3.8/site-packages/ipykernel/zmqshell.py\", line 528, in run_cell\n",
      "    return super().run_cell(*args, **kwargs)\n",
      "  File \"/home/nuwan/.local/lib/python3.8/site-packages/IPython/core/interactiveshell.py\", line 2881, in run_cell\n",
      "    result = self._run_cell(\n",
      "  File \"/home/nuwan/.local/lib/python3.8/site-packages/IPython/core/interactiveshell.py\", line 2936, in _run_cell\n",
      "    return runner(coro)\n",
      "  File \"/home/nuwan/.local/lib/python3.8/site-packages/IPython/core/async_helpers.py\", line 129, in _pseudo_sync_runner\n",
      "    coro.send(None)\n",
      "  File \"/home/nuwan/.local/lib/python3.8/site-packages/IPython/core/interactiveshell.py\", line 3135, in run_cell_async\n",
      "    has_raised = await self.run_ast_nodes(code_ast.body, cell_name,\n",
      "  File \"/home/nuwan/.local/lib/python3.8/site-packages/IPython/core/interactiveshell.py\", line 3338, in run_ast_nodes\n",
      "    if await self.run_code(code, result, async_=asy):\n",
      "  File \"/home/nuwan/.local/lib/python3.8/site-packages/IPython/core/interactiveshell.py\", line 3398, in run_code\n",
      "    exec(code_obj, self.user_global_ns, self.user_ns)\n",
      "  File \"/tmp/ipykernel_21295/3634690070.py\", line 31, in <cell line: 31>\n",
      "    clsScraper = air.AirlineScraper(name=\"kayak and momondo ota scrapes\",**prop_kwargs)\n",
      "  File \"/home/nuwan/workspace/rezaware/wrangler/modules/ota/scraper/airlineScrapers.py\", line 92, in __init__\n",
      "    clsSparkWL = spark.SparkWorkLoads(desc=\"ota property price scraper\")\n",
      "  File \"/home/nuwan/workspace/rezaware/utils/modules/etl/load/sparkwls.py\", line 130, in __init__\n",
      "    logger.info(self.__name__,self.__package__)\n",
      "Message: 'sparkwls'\n",
      "Arguments: ('load',)\n",
      "--- Logging error ---\n",
      "Traceback (most recent call last):\n",
      "  File \"/usr/lib/python3.8/logging/__init__.py\", line 1085, in emit\n",
      "    msg = self.format(record)\n",
      "  File \"/usr/lib/python3.8/logging/__init__.py\", line 929, in format\n",
      "    return fmt.format(record)\n",
      "  File \"/usr/lib/python3.8/logging/__init__.py\", line 668, in format\n",
      "    record.message = record.getMessage()\n",
      "  File \"/usr/lib/python3.8/logging/__init__.py\", line 373, in getMessage\n",
      "    msg = msg % self.args\n",
      "TypeError: not all arguments converted during string formatting\n",
      "Call stack:\n",
      "  File \"/usr/lib/python3.8/runpy.py\", line 194, in _run_module_as_main\n",
      "    return _run_code(code, main_globals, None,\n",
      "  File \"/usr/lib/python3.8/runpy.py\", line 87, in _run_code\n",
      "    exec(code, run_globals)\n",
      "  File \"/home/nuwan/.local/lib/python3.8/site-packages/ipykernel_launcher.py\", line 17, in <module>\n",
      "    app.launch_new_instance()\n",
      "  File \"/home/nuwan/.local/lib/python3.8/site-packages/traitlets/config/application.py\", line 976, in launch_instance\n",
      "    app.start()\n",
      "  File \"/home/nuwan/.local/lib/python3.8/site-packages/ipykernel/kernelapp.py\", line 712, in start\n",
      "    self.io_loop.start()\n",
      "  File \"/home/nuwan/.local/lib/python3.8/site-packages/tornado/platform/asyncio.py\", line 199, in start\n",
      "    self.asyncio_loop.run_forever()\n",
      "  File \"/usr/lib/python3.8/asyncio/base_events.py\", line 570, in run_forever\n",
      "    self._run_once()\n",
      "  File \"/usr/lib/python3.8/asyncio/base_events.py\", line 1859, in _run_once\n",
      "    handle._run()\n",
      "  File \"/usr/lib/python3.8/asyncio/events.py\", line 81, in _run\n",
      "    self._context.run(self._callback, *self._args)\n",
      "  File \"/home/nuwan/.local/lib/python3.8/site-packages/ipykernel/kernelbase.py\", line 510, in dispatch_queue\n",
      "    await self.process_one()\n",
      "  File \"/home/nuwan/.local/lib/python3.8/site-packages/ipykernel/kernelbase.py\", line 499, in process_one\n",
      "    await dispatch(*args)\n",
      "  File \"/home/nuwan/.local/lib/python3.8/site-packages/ipykernel/kernelbase.py\", line 406, in dispatch_shell\n",
      "    await result\n",
      "  File \"/home/nuwan/.local/lib/python3.8/site-packages/ipykernel/kernelbase.py\", line 730, in execute_request\n",
      "    reply_content = await reply_content\n",
      "  File \"/home/nuwan/.local/lib/python3.8/site-packages/ipykernel/ipkernel.py\", line 383, in do_execute\n",
      "    res = shell.run_cell(\n",
      "  File \"/home/nuwan/.local/lib/python3.8/site-packages/ipykernel/zmqshell.py\", line 528, in run_cell\n",
      "    return super().run_cell(*args, **kwargs)\n",
      "  File \"/home/nuwan/.local/lib/python3.8/site-packages/IPython/core/interactiveshell.py\", line 2881, in run_cell\n",
      "    result = self._run_cell(\n",
      "  File \"/home/nuwan/.local/lib/python3.8/site-packages/IPython/core/interactiveshell.py\", line 2936, in _run_cell\n",
      "    return runner(coro)\n",
      "  File \"/home/nuwan/.local/lib/python3.8/site-packages/IPython/core/async_helpers.py\", line 129, in _pseudo_sync_runner\n",
      "    coro.send(None)\n",
      "  File \"/home/nuwan/.local/lib/python3.8/site-packages/IPython/core/interactiveshell.py\", line 3135, in run_cell_async\n",
      "    has_raised = await self.run_ast_nodes(code_ast.body, cell_name,\n",
      "  File \"/home/nuwan/.local/lib/python3.8/site-packages/IPython/core/interactiveshell.py\", line 3338, in run_ast_nodes\n",
      "    if await self.run_code(code, result, async_=asy):\n",
      "  File \"/home/nuwan/.local/lib/python3.8/site-packages/IPython/core/interactiveshell.py\", line 3398, in run_code\n",
      "    exec(code_obj, self.user_global_ns, self.user_ns)\n",
      "  File \"/tmp/ipykernel_21295/3634690070.py\", line 32, in <cell line: 32>\n",
      "    clsSparkWL = spark.SparkWorkLoads(desc=\"ota airline segments\", **prop_kwargs)\n",
      "  File \"/home/nuwan/workspace/rezaware/utils/modules/etl/load/sparkwls.py\", line 130, in __init__\n",
      "    logger.info(self.__name__,self.__package__)\n",
      "Message: 'sparkwls'\n",
      "Arguments: ('load',)\n"
     ]
    }
   ],
   "source": [
    "import os\n",
    "import sys\n",
    "from datetime import datetime, date, timedelta\n",
    "#import configparser\n",
    "\n",
    "# ROOT_DIR = \"/home/nuwan/workspace/rezgate/wrangler\"\n",
    "# MODULE_DIR = os.path.join(ROOT_DIR, 'modules/ota/')\n",
    "# DATA_DIR = os.path.join(ROOT_DIR, 'data/transport/airlines/scraper/')\n",
    "# sys.path.insert(1,MODULE_DIR)\n",
    "# import otaUtils as otau\n",
    "sys.path.insert(1,\"/home/nuwan/workspace/rezaware/\")\n",
    "import rezaware as reza\n",
    "from wrangler.modules.ota.scraper import airlineScrapers as air, scraperUtils as otasu\n",
    "from utils.modules.etl.load import sparkwls as spark\n",
    "\n",
    "if debug:\n",
    "    import importlib\n",
    "    reza = importlib.reload(reza)\n",
    "    spark = importlib.reload(spark)\n",
    "    otasu = importlib.reload(otasu)\n",
    "    air = importlib.reload(air)\n",
    "    \n",
    "# kwargs = {\n",
    "#     \"ROOT_DIR\":ROOT_DIR,   # absolute path to the wrangler dir\n",
    "#     \"MODULE_DIR\":MODULE_DIR,   # absolute path to the ota module\n",
    "#     \"DATA_DIR\":DATA_DIR, # absolute path to the scraper data dir\n",
    "# }\n",
    "''' optional - if not specified class will use the default values '''\n",
    "prop_kwargs = {\"WRITE_TO_FILE\":True,   # necessary to emulate the etl dag\n",
    "              }\n",
    "clsScraper = air.AirlineScraper(name=\"kayak and momondo ota scrapes\",**prop_kwargs)\n",
    "clsSparkWL = spark.SparkWorkLoads(desc=\"ota airline segments\", **prop_kwargs)"
   ]
  },
  {
   "cell_type": "markdown",
   "metadata": {},
   "source": [
    "## Initialize the set of OTA URL for Scraping"
   ]
  },
  {
   "cell_type": "code",
   "execution_count": 14,
   "metadata": {},
   "outputs": [
    {
     "name": "stdout",
     "output_type": "stream",
     "text": [
      "Loaded 2 airline agencies to begin scraping OTA data.\n",
      "Processing kayak.com ...\n",
      "['LAX', 'NYC', 'BOS'] ['LAS']\n",
      "Processing momondo.com ...\n",
      "['LAX', 'NYC', 'BOS'] ['LAS']\n",
      "Data in: /home/nuwan/workspace/rezaware/wrangler/data/ota/scraper/transport/airlines/tmp/scraper-build-scrape-url-list.csv\n",
      "Completed parameterizing urls with 6 instances.\n"
     ]
    }
   ],
   "source": [
    "#path = DATA_PATH\n",
    "file = \"airOTAInputURLs.json\"\n",
    "start_date = date.today()\n",
    "end_date = start_date + timedelta(days=1)\n",
    "airportCodefile = \"airportUSACities.csv\"\n",
    "# filePath=os.path.join(DATA_DIR, airportCodefile)\n",
    "\n",
    "try:\n",
    "    if start_date < date.today():\n",
    "        raise ValueError(\"Start date must be greater than today: %s\" % str(date.today()))\n",
    "    if end_date <= start_date:\n",
    "        raise ValueError(\"End date %s is invalid. It must be greater than Start Date: %s\" % (str(end_date),str(start_date)))\n",
    "\n",
    "    urls_kwargs = {\n",
    "        \"startDate\": start_date,\n",
    "        \"endDate\" : end_date,\n",
    "#        'airportsFile' : airportCodefile,\n",
    "        'codeColName' : 'airportCode',\n",
    "        'departAirportCode': ['LAX','NYC','BOS'],\n",
    "        'arriveAirportCode': ['LAS'],\n",
    "    }\n",
    "\n",
    "    _otaURLfilePath, _ota_url_parameterized_list  = clsScraper.build_scrape_url_info(\n",
    "        file_name=file,\n",
    "        dirPath=None,\n",
    "        **urls_kwargs,\n",
    "    )\n",
    "    if _otaURLfilePath:\n",
    "        print(\"Data in: %s\" % _otaURLfilePath)\n",
    "    if len(_ota_url_parameterized_list)>0:\n",
    "        print(\"Completed parameterizing urls with %d instances.\" \n",
    "              % (len(_ota_url_parameterized_list)))\n",
    "\n",
    "except Exception as err:\n",
    "    _s_fn_id = \"Class <WebScraper> Function <read_folder_csv_to_df>\"\n",
    "    print(\"[Error]\"+_s_fn_id, err)\n",
    "    print(traceback.format_exc())\n"
   ]
  },
  {
   "cell_type": "markdown",
   "metadata": {},
   "source": [
    "## Prepare folder & file structure"
   ]
  },
  {
   "cell_type": "code",
   "execution_count": 9,
   "metadata": {},
   "outputs": [
    {
     "name": "stdout",
     "output_type": "stream",
     "text": [
      "Extracting data into /home/nuwan/workspace/rezaware/wrangler/data/ota/scraper/transport/airlines/itinerary/2022-10-25-11-30/ for search datetime: 2022-10-25T11:30:00+00:00\n"
     ]
    }
   ],
   "source": [
    "from datetime import datetime, timezone\n",
    "\n",
    "dirPath = None\n",
    "# dirPath=os.path.join(DATA_PATH, \"itinerary/\")\n",
    "_search_dt = datetime.now()\n",
    "_search_dt = _search_dt + (datetime.min - _search_dt) % timedelta(minutes=15)\n",
    "''' include the timezone '''\n",
    "_search_dt = (_search_dt.replace(tzinfo=timezone.utc)).isoformat()\n",
    "# kwargs = {'searchDateTime': _search_dt,\n",
    "#           'storageLocation': \"local\",   # values can be \"local\" or \"AWS_S3\"\n",
    "#          }\n",
    "search_kwargs = {\n",
    "#    'SEARCH_DATETIME': _search_dt,\n",
    "    'PARENT_DIR': \"itinerary/\",\n",
    "    'STORAGE_METHOD': \"local\",   # values can be \"local\" or \"AWS_S3\"\n",
    "}\n",
    "\n",
    "_current_search_data_dir = clsScraper.make_storage_dir(**search_kwargs)\n",
    "print(\"Extracting data into %s for search datetime: %s\" % (_current_search_data_dir,str(_search_dt)))"
   ]
  },
  {
   "cell_type": "markdown",
   "metadata": {},
   "source": [
    "## Scrape data into CSVs\n",
    "___TODO:___ pause if internet connection times out; might be possible with airflow."
   ]
  },
  {
   "cell_type": "code",
   "execution_count": 16,
   "metadata": {},
   "outputs": [
    {
     "name": "stdout",
     "output_type": "stream",
     "text": [
      "loading parameterized urls from list 6 records\n",
      "[Error]function <_scrape_kayak_to_csv> No data received for https://www.momondo.com/flight-search/LAS-NYC/2022-10-25?a&fs=cfc=1;bfc=1;transportation=transportation_plane\n",
      "Traceback (most recent call last):\n",
      "  File \"/home/nuwan/workspace/rezaware/wrangler/modules/ota/scraper/airlineScrapers.py\", line 555, in _scrape_kayak_to_csv\n",
      "    raise ValueError(\"No data received for %s\" % (url))\n",
      "ValueError: No data received for https://www.momondo.com/flight-search/LAS-NYC/2022-10-25?a&fs=cfc=1;bfc=1;transportation=transportation_plane\n",
      "\n",
      "[Error]function <_scrape_kayak_to_csv> No data received for https://www.momondo.com/flight-search/LAS-BOS/2022-10-25?a&fs=cfc=1;bfc=1;transportation=transportation_plane\n",
      "Traceback (most recent call last):\n",
      "  File \"/home/nuwan/workspace/rezaware/wrangler/modules/ota/scraper/airlineScrapers.py\", line 555, in _scrape_kayak_to_csv\n",
      "    raise ValueError(\"No data received for %s\" % (url))\n",
      "ValueError: No data received for https://www.momondo.com/flight-search/LAS-BOS/2022-10-25?a&fs=cfc=1;bfc=1;transportation=transportation_plane\n",
      "\n",
      "Scraping completed and data saved in /home/nuwan/workspace/rezaware/wrangler/data/ota/scraper/transport/airlines/itinerary/2022-10-25-11-30/!\n"
     ]
    }
   ],
   "source": [
    "import pandas as pd\n",
    "\n",
    "if _otaURLfilePath:\n",
    "    urlDF = pd.read_csv(_otaURLfilePath, sep=\",\")\n",
    "    _otaURLParamDictList = urlDF.to_dict('records')\n",
    "\n",
    "_l_saved_files = clsScraper.scrape_url_info(\n",
    "    otaURLlist =_otaURLParamDictList,\n",
    "#    otaURLfile = None,\n",
    "    searchDT = _search_dt,\n",
    "    data_store_dir =_current_search_data_dir)\n",
    "print(\"Scraping completed and data saved in %s!\" % _current_search_data_dir)"
   ]
  },
  {
   "cell_type": "markdown",
   "metadata": {},
   "source": [
    "### Read CSV into spark dataframe"
   ]
  },
  {
   "cell_type": "code",
   "execution_count": 25,
   "metadata": {},
   "outputs": [
    {
     "name": "stdout",
     "output_type": "stream",
     "text": [
      "Spark loaded 65 rows\n"
     ]
    }
   ],
   "source": [
    "# dirPath = _current_search_data_dir\n",
    "# dirPath = \"/home/nuwan/workspace/rezgate/wrangler/data/transport/airlines/scraper/itinerary/2022-9-19-22-30/\"\n",
    "spark_kwargs = {\"TO_PANDAS\":True,   # change spark dataframe to pandas\n",
    "                \"IS_FOLDER\":True,   # if folder then check if folder is empty\n",
    "               }\n",
    "_search_sdf, traceback = clsSparkWL.read_csv_to_sdf(\n",
    "    filesPath=_current_search_data_dir,\n",
    "    **spark_kwargs)\n",
    "if not traceback:\n",
    "    print(\"Spark loaded %d rows\" % _search_sdf.shape[0])\n",
    "else:\n",
    "    print(\"No data loaded by spark; process failed!\")\n",
    "# _search_sdf = _search_sdf.distinct()"
   ]
  },
  {
   "cell_type": "markdown",
   "metadata": {},
   "source": [
    "## Assign airpport city names"
   ]
  },
  {
   "cell_type": "code",
   "execution_count": 61,
   "metadata": {},
   "outputs": [
    {
     "data": {
      "text/html": [
       "<div>\n",
       "<style scoped>\n",
       "    .dataframe tbody tr th:only-of-type {\n",
       "        vertical-align: middle;\n",
       "    }\n",
       "\n",
       "    .dataframe tbody tr th {\n",
       "        vertical-align: top;\n",
       "    }\n",
       "\n",
       "    .dataframe thead th {\n",
       "        text-align: right;\n",
       "    }\n",
       "</style>\n",
       "<table border=\"1\" class=\"dataframe\">\n",
       "  <thead>\n",
       "    <tr style=\"text-align: right;\">\n",
       "      <th></th>\n",
       "      <th>ota_name</th>\n",
       "      <th>search_dt</th>\n",
       "      <th>depart_port_code</th>\n",
       "      <th>arrive_port_code</th>\n",
       "      <th>flight_times</th>\n",
       "      <th>num_stops</th>\n",
       "      <th>duration</th>\n",
       "      <th>booking_rate</th>\n",
       "      <th>num_passengers</th>\n",
       "      <th>cabin_type</th>\n",
       "      <th>airline_name</th>\n",
       "      <th>depart_time</th>\n",
       "      <th>arrive_time</th>\n",
       "      <th>booking_price</th>\n",
       "      <th>currency</th>\n",
       "      <th>depart_port_name</th>\n",
       "      <th>depart_lx_type</th>\n",
       "      <th>arrive_port_name</th>\n",
       "      <th>arrive_lx_type</th>\n",
       "    </tr>\n",
       "  </thead>\n",
       "  <tbody>\n",
       "    <tr>\n",
       "      <th>0</th>\n",
       "      <td>kayak.com</td>\n",
       "      <td>2022-10-25 19:30:00</td>\n",
       "      <td>BOS</td>\n",
       "      <td>LAS</td>\n",
       "      <td>9:43 am – 7:36 pm Delta</td>\n",
       "      <td>1 stop  MSP</td>\n",
       "      <td>6h 53m  LAS &amp;dash; BOS</td>\n",
       "      <td>$503</td>\n",
       "      <td>1</td>\n",
       "      <td>$503</td>\n",
       "      <td>Delta</td>\n",
       "      <td>2022-10-25 09:43:00</td>\n",
       "      <td>2022-10-25 19:36:00</td>\n",
       "      <td>503</td>\n",
       "      <td>US$</td>\n",
       "      <td>Boston</td>\n",
       "      <td>city</td>\n",
       "      <td>NaN</td>\n",
       "      <td>city</td>\n",
       "    </tr>\n",
       "    <tr>\n",
       "      <th>1</th>\n",
       "      <td>kayak.com</td>\n",
       "      <td>2022-10-25 19:30:00</td>\n",
       "      <td>BOS</td>\n",
       "      <td>LAS</td>\n",
       "      <td>8:59 pm – 5:00 am +1 JetBlue</td>\n",
       "      <td>nonstop</td>\n",
       "      <td>5h 01m  LAS &amp;dash; BOS</td>\n",
       "      <td>$599</td>\n",
       "      <td>1</td>\n",
       "      <td>$599</td>\n",
       "      <td>JetBlue</td>\n",
       "      <td>2022-10-25 20:59:00</td>\n",
       "      <td>2022-10-25 05:00:00</td>\n",
       "      <td>599</td>\n",
       "      <td>US$</td>\n",
       "      <td>Boston</td>\n",
       "      <td>city</td>\n",
       "      <td>NaN</td>\n",
       "      <td>city</td>\n",
       "    </tr>\n",
       "  </tbody>\n",
       "</table>\n",
       "</div>"
      ],
      "text/plain": [
       "    ota_name           search_dt depart_port_code arrive_port_code  \\\n",
       "0  kayak.com 2022-10-25 19:30:00              BOS              LAS   \n",
       "1  kayak.com 2022-10-25 19:30:00              BOS              LAS   \n",
       "\n",
       "                   flight_times    num_stops                duration  \\\n",
       "0       9:43 am – 7:36 pm Delta  1 stop  MSP  6h 53m  LAS &dash; BOS   \n",
       "1  8:59 pm – 5:00 am +1 JetBlue      nonstop  5h 01m  LAS &dash; BOS   \n",
       "\n",
       "  booking_rate  num_passengers cabin_type airline_name         depart_time  \\\n",
       "0         $503               1       $503        Delta 2022-10-25 09:43:00   \n",
       "1         $599               1       $599      JetBlue 2022-10-25 20:59:00   \n",
       "\n",
       "          arrive_time  booking_price currency depart_port_name depart_lx_type  \\\n",
       "0 2022-10-25 19:36:00            503      US$           Boston           city   \n",
       "1 2022-10-25 05:00:00            599      US$           Boston           city   \n",
       "\n",
       "  arrive_port_name arrive_lx_type  \n",
       "0              NaN           city  \n",
       "1              NaN           city  "
      ]
     },
     "execution_count": 61,
     "metadata": {},
     "output_type": "execute_result"
    }
   ],
   "source": [
    "_aug_port_name_sdf = clsScraper.assign_lx_name(_search_sdf)\n",
    "# columns_to_drop = ['flight_times','flight_type','booking_rate','airline']\n",
    "# _aug_port_name_sdf=_aug_port_name_sdf.drop(*columns_to_drop)\n",
    "_aug_port_name_sdf[:2]"
   ]
  },
  {
   "cell_type": "markdown",
   "metadata": {},
   "source": [
    "## Save cleaned SDF to Tmp File"
   ]
  },
  {
   "cell_type": "code",
   "execution_count": 62,
   "metadata": {},
   "outputs": [
    {
     "name": "stdout",
     "output_type": "stream",
     "text": [
      "97 rows saved to /home/nuwan/workspace/rezaware/utils/data/etl/load/tmp/load_save_sdf_to.csv\n"
     ]
    }
   ],
   "source": [
    "_tmp_fname = clsSparkWL.save_sdf_to_csv(_aug_port_name_sdf)\n",
    "print(\"%d rows saved to %s\" % (_aug_port_name_sdf.shape[0], _tmp_fname))"
   ]
  },
  {
   "cell_type": "markdown",
   "metadata": {},
   "source": [
    "## Read CSV from Tmp and Save to DB Table"
   ]
  },
  {
   "cell_type": "code",
   "execution_count": 64,
   "metadata": {},
   "outputs": [
    {
     "name": "stdout",
     "output_type": "stream",
     "text": [
      "root\n",
      " |-- ota_name: string (nullable = true)\n",
      " |-- search_dt: timestamp (nullable = true)\n",
      " |-- depart_port_code: string (nullable = true)\n",
      " |-- arrive_port_code: string (nullable = true)\n",
      " |-- flight_times: string (nullable = true)\n",
      " |-- num_stops: string (nullable = true)\n",
      " |-- duration: string (nullable = true)\n",
      " |-- booking_rate: string (nullable = true)\n",
      " |-- num_passengers: integer (nullable = true)\n",
      " |-- cabin_type: string (nullable = true)\n",
      " |-- airline_name: string (nullable = true)\n",
      " |-- depart_time: timestamp (nullable = true)\n",
      " |-- arrive_time: timestamp (nullable = true)\n",
      " |-- booking_price: integer (nullable = true)\n",
      " |-- currency: string (nullable = true)\n",
      " |-- depart_port_name: string (nullable = true)\n",
      " |-- depart_lx_type: string (nullable = true)\n",
      " |-- arrive_port_name: double (nullable = true)\n",
      " |-- arrive_lx_type: string (nullable = true)\n",
      "\n",
      "Wait a moment while we insert data int ota_airline_routes\n"
     ]
    },
    {
     "name": "stderr",
     "output_type": "stream",
     "text": [
      "                                                                                \r"
     ]
    },
    {
     "name": "stdout",
     "output_type": "stream",
     "text": [
      "Save to ota_airline_routes complete!\n",
      "97 Data saved to ota_airline_routes\n"
     ]
    }
   ],
   "source": [
    "''' Save dataframe to table '''\n",
    "_s_tbl_name = \"ota_airline_routes\"\n",
    "_get_tmp_sdf, traceback = clsSparkWL.read_csv_to_sdf(filesPath=_tmp_fname)\n",
    "_get_tmp_sdf.printSchema()\n",
    "count = clsSparkWL.insert_sdf_into_table(save_sdf=_get_tmp_sdf, dbTable=_s_tbl_name)\n",
    "print(\"%d Data saved to %s\" % (count,_s_tbl_name))"
   ]
  },
  {
   "cell_type": "markdown",
   "metadata": {},
   "source": [
    "## Read data from table"
   ]
  },
  {
   "cell_type": "code",
   "execution_count": 65,
   "metadata": {
    "scrolled": true
   },
   "outputs": [
    {
     "name": "stdout",
     "output_type": "stream",
     "text": [
      "Wait a moment, retrieving data ...\n",
      "Loading complete!\n",
      "97 records loaded from ota_airline_routes\n",
      "22/10/25 15:14:51 WARN package: Truncated the string representation of a plan since it was too large. This behavior can be adjusted by setting 'spark.sql.debug.maxToStringFields'.\n",
      "-RECORD 0-----------------------------------------------\n",
      " uuid             | null                                \n",
      " ota_name         | kayak.com                           \n",
      " search_dt        | 2022-10-25 19:30:00                 \n",
      " agent_name       | null                                \n",
      " depart_port_name | Boston                              \n",
      " depart_port_code | BOS                                 \n",
      " depart_lx_type   | city                                \n",
      " arrive_port_name | NaN                                 \n",
      " arrive_port_code | LAS                                 \n",
      " arrive_lx_type   | city                                \n",
      " flight_times     | 6:00 am – 5:11 pm United Airlines   \n",
      " depart_time      | 2022-10-25 06:00:00                 \n",
      " arrive_time      | 2022-10-25 17:11:00                 \n",
      " num_stops        | 1 stop  SFO                         \n",
      " duration         | 8h 11m  LAS &dash; BOS              \n",
      " cabin_type       | $435                                \n",
      " booking_rate     | $435                                \n",
      " booking_price    | 435.0                               \n",
      " currency         | US$                                 \n",
      " num_passengers   | 1                                   \n",
      " airline_name     | United Airlines                     \n",
      " data_source      | null                                \n",
      " data_owner       | null                                \n",
      " created_dt       | 2022-10-25 15:14:37.670344          \n",
      " created_by       | postgres                            \n",
      " created_proc     | Unknown                             \n",
      " modified_dt      | null                                \n",
      " modified_by      | null                                \n",
      " modified_proc    | null                                \n",
      " deactivate_dt    | null                                \n",
      "-RECORD 1-----------------------------------------------\n",
      " uuid             | null                                \n",
      " ota_name         | momondo.com                         \n",
      " search_dt        | 2022-10-25 19:30:00                 \n",
      " agent_name       | null                                \n",
      " depart_port_name | Los Angeles                         \n",
      " depart_port_code | LAX                                 \n",
      " depart_lx_type   | city                                \n",
      " arrive_port_name | NaN                                 \n",
      " arrive_port_code | LAS                                 \n",
      " arrive_lx_type   | city                                \n",
      " flight_times     | 7:00 am – 8:13 am American Airlines \n",
      " depart_time      | 2022-10-25 07:00:00                 \n",
      " arrive_time      | 2022-10-25 08:13:00                 \n",
      " num_stops        | nonstop                             \n",
      " duration         | 1h 13m  LAS &dash; LAX              \n",
      " cabin_type       | $189                                \n",
      " booking_rate     | $189                                \n",
      " booking_price    | 189.0                               \n",
      " currency         | US$                                 \n",
      " num_passengers   | 1                                   \n",
      " airline_name     | American Airlines                   \n",
      " data_source      | null                                \n",
      " data_owner       | null                                \n",
      " created_dt       | 2022-10-25 15:14:37.670344          \n",
      " created_by       | postgres                            \n",
      " created_proc     | Unknown                             \n",
      " modified_dt      | null                                \n",
      " modified_by      | null                                \n",
      " modified_proc    | null                                \n",
      " deactivate_dt    | null                                \n",
      "-RECORD 2-----------------------------------------------\n",
      " uuid             | null                                \n",
      " ota_name         | momondo.com                         \n",
      " search_dt        | 2022-10-25 19:30:00                 \n",
      " agent_name       | null                                \n",
      " depart_port_name | Los Angeles                         \n",
      " depart_port_code | LAX                                 \n",
      " depart_lx_type   | city                                \n",
      " arrive_port_name | NaN                                 \n",
      " arrive_port_code | LAS                                 \n",
      " arrive_lx_type   | city                                \n",
      " flight_times     | 6:20 pm – 7:36 pm Spirit Airlines   \n",
      " depart_time      | 2022-10-25 18:20:00                 \n",
      " arrive_time      | 2022-10-25 19:36:00                 \n",
      " num_stops        | nonstop                             \n",
      " duration         | 1h 16m  LAS &dash; LAX              \n",
      " cabin_type       | $240                                \n",
      " booking_rate     | $240                                \n",
      " booking_price    | 240.0                               \n",
      " currency         | US$                                 \n",
      " num_passengers   | 1                                   \n",
      " airline_name     | mytrip.com                          \n",
      " data_source      | null                                \n",
      " data_owner       | null                                \n",
      " created_dt       | 2022-10-25 15:14:37.670344          \n",
      " created_by       | postgres                            \n",
      " created_proc     | Unknown                             \n",
      " modified_dt      | null                                \n",
      " modified_by      | null                                \n",
      " modified_proc    | null                                \n",
      " deactivate_dt    | null                                \n",
      "only showing top 3 rows\n",
      "\n"
     ]
    }
   ],
   "source": [
    "_s_tbl_name = \"ota_airline_routes\"\n",
    "data = clsSparkWL.get_data_from_table(dbTable=_s_tbl_name)\n",
    "print(\"%d records loaded from %s\" %(data.count(),_s_tbl_name))\n",
    "data.select(\"*\").distinct().sort(\"search_dt\").show(3, vertical=True, truncate=False)"
   ]
  },
  {
   "cell_type": "code",
   "execution_count": 115,
   "metadata": {},
   "outputs": [
    {
     "name": "stderr",
     "output_type": "stream",
     "text": [
      "[Stage 756:>                                                        (0 + 1) / 1]\r"
     ]
    },
    {
     "name": "stdout",
     "output_type": "stream",
     "text": [
      "/tmp/ota_prices.csv\n"
     ]
    },
    {
     "name": "stderr",
     "output_type": "stream",
     "text": [
      "\r",
      "                                                                                \r"
     ]
    }
   ],
   "source": [
    "_tmp_sdf = data.select(\"*\").distinct().sort(\"search_dt\")\n",
    "_tmp_fname = clsSparkWL.save_sdf_to_csv(_tmp_sdf, filesPath='/tmp/ota_prices.csv')\n",
    "print(_tmp_fname)"
   ]
  },
  {
   "cell_type": "code",
   "execution_count": 278,
   "metadata": {},
   "outputs": [
    {
     "name": "stdout",
     "output_type": "stream",
     "text": [
      "root\n",
      " |-- arrive_port_name: string (nullable = true)\n",
      " |-- arrive_port_code: string (nullable = true)\n",
      "\n",
      "airports dictionary loarded!\n",
      "Destination names augmented to dataframe!\n"
     ]
    }
   ],
   "source": [
    "'''DEPRECATED moved to function in airlineScraper'''\n",
    "import os\n",
    "''' Get airport codes dictionary '''\n",
    "airportCodefile = \"airportUSACities.csv\"\n",
    "airportsPath = os.path.join(DATA_PATH,'airports/')\n",
    "airports_sdf = clsSparkWL.read_csv_to_sdf(filesPath=airportsPath)\n",
    "airports_sdf = airports_sdf.withColumn(\"airportCode\", trim(airports_sdf.airportCode))\n",
    "\n",
    "_search_sdf = _search_sdf.withColumn(\"arrive_port_code\", trim(_search_sdf.arrive_port_code)) \\\n",
    "                        .withColumn(\"depart_port_code\", trim(_search_sdf.depart_port_code))\\\n",
    "\n",
    "''' first do the departure codes and names '''\n",
    "dep_airports_sdf = airports_sdf.selectExpr(\"city as depart_port_name\", \\\n",
    "                                       \"airportCode as depart_port_code\", \\\n",
    "                                      )\n",
    "''' Lookup & augment departure name '''\n",
    "aug_depart_sdf = dep_airports_sdf.join(_search_sdf,\"depart_port_code\")\n",
    "\n",
    "''' next do the same for arrival codes and names '''\n",
    "arr_airports_sdf = airports_sdf.selectExpr(\"city as arrive_port_name\", \\\n",
    "                                       \"airportCode as arrive_port_code\", \\\n",
    "                                      )\n",
    "''' Lookup & augment arrival name '''\n",
    "aug_arr_sdf = arr_airports_sdf.join(aug_depart_sdf,on=\"arrive_port_code\")\n",
    "\n",
    "# aug_arr_sdf = _search_sdf.join(arr_airports_sdf,\n",
    "#                                     trim(arr_airports_sdf['arrive_port_code']) == trim(_search_sdf['arrive_port_code'])\n",
    "#                        ,'inner')\n",
    "#                                    ).select(_search_sdf['arrive_port_name'].alias('arrive_port_name')\n",
    "#                    ,arr_airports_sdf['users_count'])\n",
    "\n",
    "arr_airports_sdf.printSchema()\n",
    "#destinations_sdf.show(n=2, vertical=True, truncate=False)\n",
    "print(\"airports dictionary loaded!\")\n",
    "\n",
    "#aug_search_sdf = airports_sdf.join(_search_sdf,\"arrive_port_code\")\n",
    "#aug_search_sdf.show(n=2, vertical=True, truncate=False)\n",
    "print(\"Destination names augmented to dataframe!\")"
   ]
  }
 ],
 "metadata": {
  "kernelspec": {
   "display_name": "Python 3 (ipykernel)",
   "language": "python",
   "name": "python3"
  },
  "language_info": {
   "codemirror_mode": {
    "name": "ipython",
    "version": 3
   },
   "file_extension": ".py",
   "mimetype": "text/x-python",
   "name": "python",
   "nbconvert_exporter": "python",
   "pygments_lexer": "ipython3",
   "version": "3.8.10"
  },
  "vscode": {
   "interpreter": {
    "hash": "31f2aee4e71d21fbe5cf8b01ff0e069b9275f58929596ceb00d14d90e3e16cd6"
   }
  }
 },
 "nbformat": 4,
 "nbformat_minor": 2
}
