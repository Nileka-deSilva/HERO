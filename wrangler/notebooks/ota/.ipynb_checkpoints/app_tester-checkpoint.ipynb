{
 "cells": [
  {
   "cell_type": "code",
   "execution_count": 1,
   "id": "412d3358",
   "metadata": {},
   "outputs": [],
   "source": [
    "'''\n",
    "    WARNING CONTROL to display or ignore all warnings\n",
    "'''\n",
    "import warnings; warnings.simplefilter('ignore')     #switch betweeb 'default' and 'ignore'\n",
    "import traceback\n",
    "\n",
    "''' Set debug flag to view extended error messages; else set it to False to turn off debugging mode '''\n",
    "debug = True"
   ]
  },
  {
   "cell_type": "code",
   "execution_count": 114,
   "id": "ef375aa1",
   "metadata": {
    "scrolled": true
   },
   "outputs": [
    {
     "name": "stdout",
     "output_type": "stream",
     "text": [
      "All python packages in rezaware loaded successfully!\n",
      "Initializing rezaware\n",
      "wrangler modules \n",
      "[\n",
      "  {\n",
      "    \"ota\": [\n",
      "      {\n",
      "        \"scraper\": [\n",
      "          {\n",
      "            \"data\": {\n",
      "              \"dataPath\": \"/home/nuwan/workspace/rezgate/wrangler/data/ota/scraper\"\n",
      "            },\n",
      "            \"logs\": {\n",
      "              \"logPath\": \"/home/nuwan/workspace/rezgate/wrangler/logs/ota/scraper/app.log\",\n",
      "              \"logLevel\": \"debug\",\n",
      "              \"logMode\": \"w+\",\n",
      "              \"logFormat\": \"%(asctime)s - %(name)s - %(levelname)s - %(message)s\"\n",
      "            },\n",
      "            \"packages\": [\n",
      "              \"__init__\"\n",
      "            ]\n",
      "          }\n",
      "        ]\n",
      "      }\n",
      "    ]\n",
      "  },\n",
      "  {\n",
      "    \"events\": []\n",
      "  }\n",
      "]\n",
      "[\n",
      "  \"/home/nuwan/workspace/rezgate/wrangler/modules/ota/scraper/app.ini\"\n",
      "]\n"
     ]
    }
   ],
   "source": [
    "import sys\n",
    "sys.path.insert(1,\"/home/nuwan/workspace/rezgate/\")\n",
    "import rezaware as rez\n",
    "import json\n",
    "\n",
    "if debug:\n",
    "    import importlib\n",
    "    importlib.reload(rez)\n",
    "\n",
    "_rezApp = rez.App(container=\"wrangler\")\n",
    "app_list, ini_file_list = _rezApp.make_ini_files()\n",
    "if app_list:\n",
    "    print(\"%s modules \" % (_rezApp.container))\n",
    "#     print(json.dumps(app_list,indent=2))\n",
    "#     print(json.dumps(ini_file_list,indent=2))"
   ]
  },
  {
   "cell_type": "code",
   "execution_count": 39,
   "id": "bb5008d3",
   "metadata": {},
   "outputs": [
    {
     "name": "stdout",
     "output_type": "stream",
     "text": [
      "{'ota': [{'scraper': [{'data': {'dataPath': '/home/nuwan/workspace/rezgate/wrangler/data/ota/scraper'}, 'logs': {'logPath': '/home/nuwan/workspace/rezgate/wrangler/logs/ota/scraper/app.log', 'logLevel': 'debug', 'logMode': 'w+', 'logFormat': '%(asctime)s - %(name)s - %(levelname)s - %(message)s'}, 'packages': ['airlineScrapers', '__ini__', 'scraperUtils', 'propertyScrapers']}]}]}\n",
      "{'events': [{'scraper': [{'data': {'dataPath': '/home/nuwan/workspace/rezgate/wrangler/data/events/scraper'}, 'logs': {'logPath': '/home/nuwan/workspace/rezgate/wrangler/logs/events/scraper/app.log', 'logLevel': 'debug', 'logMode': 'w+', 'logFormat': '%(asctime)s - %(name)s - %(levelname)s - %(message)s'}, 'packages': []}]}]}\n",
      "None\n"
     ]
    }
   ],
   "source": [
    "_app_ini = _rezApp.set_ini_files()\n",
    "print(_app_ini)"
   ]
  },
  {
   "cell_type": "code",
   "execution_count": null,
   "id": "483ade2f",
   "metadata": {},
   "outputs": [],
   "source": []
  }
 ],
 "metadata": {
  "kernelspec": {
   "display_name": "Python 3 (ipykernel)",
   "language": "python",
   "name": "python3"
  },
  "language_info": {
   "codemirror_mode": {
    "name": "ipython",
    "version": 3
   },
   "file_extension": ".py",
   "mimetype": "text/x-python",
   "name": "python",
   "nbconvert_exporter": "python",
   "pygments_lexer": "ipython3",
   "version": "3.8.10"
  }
 },
 "nbformat": 4,
 "nbformat_minor": 5
}
